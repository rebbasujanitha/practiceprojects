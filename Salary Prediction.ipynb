{
 "cells": [
  {
   "cell_type": "code",
   "execution_count": 1,
   "id": "f95cf98b",
   "metadata": {},
   "outputs": [],
   "source": [
    "import numpy as np\n",
    "import pandas as pd\n",
    "import sklearn\n",
    "import seaborn as sns\n",
    "import matplotlib as mlt\n",
    "import matplotlib.pyplot as plt\n",
    "from sklearn.linear_model import LinearRegression\n",
    "from sklearn.preprocessing import OrdinalEncoder\n",
    "from sklearn.metrics import mean_squared_error,mean_absolute_error\n",
    "from sklearn.model_selection import train_test_split\n",
    "from scipy import stats\n",
    "import warnings\n",
    "warnings.filterwarnings('ignore')\n",
    "from scipy.stats import skew"
   ]
  },
  {
   "cell_type": "code",
   "execution_count": 2,
   "id": "c9ecaa5c",
   "metadata": {},
   "outputs": [
    {
     "data": {
      "text/html": [
       "<div>\n",
       "<style scoped>\n",
       "    .dataframe tbody tr th:only-of-type {\n",
       "        vertical-align: middle;\n",
       "    }\n",
       "\n",
       "    .dataframe tbody tr th {\n",
       "        vertical-align: top;\n",
       "    }\n",
       "\n",
       "    .dataframe thead th {\n",
       "        text-align: right;\n",
       "    }\n",
       "</style>\n",
       "<table border=\"1\" class=\"dataframe\">\n",
       "  <thead>\n",
       "    <tr style=\"text-align: right;\">\n",
       "      <th></th>\n",
       "      <th>rank</th>\n",
       "      <th>discipline</th>\n",
       "      <th>yrs.since.phd</th>\n",
       "      <th>yrs.service</th>\n",
       "      <th>sex</th>\n",
       "      <th>salary</th>\n",
       "    </tr>\n",
       "  </thead>\n",
       "  <tbody>\n",
       "    <tr>\n",
       "      <th>0</th>\n",
       "      <td>Prof</td>\n",
       "      <td>B</td>\n",
       "      <td>19</td>\n",
       "      <td>18</td>\n",
       "      <td>Male</td>\n",
       "      <td>139750</td>\n",
       "    </tr>\n",
       "    <tr>\n",
       "      <th>1</th>\n",
       "      <td>Prof</td>\n",
       "      <td>B</td>\n",
       "      <td>20</td>\n",
       "      <td>16</td>\n",
       "      <td>Male</td>\n",
       "      <td>173200</td>\n",
       "    </tr>\n",
       "    <tr>\n",
       "      <th>2</th>\n",
       "      <td>AsstProf</td>\n",
       "      <td>B</td>\n",
       "      <td>4</td>\n",
       "      <td>3</td>\n",
       "      <td>Male</td>\n",
       "      <td>79750</td>\n",
       "    </tr>\n",
       "    <tr>\n",
       "      <th>3</th>\n",
       "      <td>Prof</td>\n",
       "      <td>B</td>\n",
       "      <td>45</td>\n",
       "      <td>39</td>\n",
       "      <td>Male</td>\n",
       "      <td>115000</td>\n",
       "    </tr>\n",
       "    <tr>\n",
       "      <th>4</th>\n",
       "      <td>Prof</td>\n",
       "      <td>B</td>\n",
       "      <td>40</td>\n",
       "      <td>41</td>\n",
       "      <td>Male</td>\n",
       "      <td>141500</td>\n",
       "    </tr>\n",
       "    <tr>\n",
       "      <th>...</th>\n",
       "      <td>...</td>\n",
       "      <td>...</td>\n",
       "      <td>...</td>\n",
       "      <td>...</td>\n",
       "      <td>...</td>\n",
       "      <td>...</td>\n",
       "    </tr>\n",
       "    <tr>\n",
       "      <th>392</th>\n",
       "      <td>Prof</td>\n",
       "      <td>A</td>\n",
       "      <td>33</td>\n",
       "      <td>30</td>\n",
       "      <td>Male</td>\n",
       "      <td>103106</td>\n",
       "    </tr>\n",
       "    <tr>\n",
       "      <th>393</th>\n",
       "      <td>Prof</td>\n",
       "      <td>A</td>\n",
       "      <td>31</td>\n",
       "      <td>19</td>\n",
       "      <td>Male</td>\n",
       "      <td>150564</td>\n",
       "    </tr>\n",
       "    <tr>\n",
       "      <th>394</th>\n",
       "      <td>Prof</td>\n",
       "      <td>A</td>\n",
       "      <td>42</td>\n",
       "      <td>25</td>\n",
       "      <td>Male</td>\n",
       "      <td>101738</td>\n",
       "    </tr>\n",
       "    <tr>\n",
       "      <th>395</th>\n",
       "      <td>Prof</td>\n",
       "      <td>A</td>\n",
       "      <td>25</td>\n",
       "      <td>15</td>\n",
       "      <td>Male</td>\n",
       "      <td>95329</td>\n",
       "    </tr>\n",
       "    <tr>\n",
       "      <th>396</th>\n",
       "      <td>AsstProf</td>\n",
       "      <td>A</td>\n",
       "      <td>8</td>\n",
       "      <td>4</td>\n",
       "      <td>Male</td>\n",
       "      <td>81035</td>\n",
       "    </tr>\n",
       "  </tbody>\n",
       "</table>\n",
       "<p>397 rows × 6 columns</p>\n",
       "</div>"
      ],
      "text/plain": [
       "         rank discipline  yrs.since.phd  yrs.service   sex  salary\n",
       "0        Prof          B             19           18  Male  139750\n",
       "1        Prof          B             20           16  Male  173200\n",
       "2    AsstProf          B              4            3  Male   79750\n",
       "3        Prof          B             45           39  Male  115000\n",
       "4        Prof          B             40           41  Male  141500\n",
       "..        ...        ...            ...          ...   ...     ...\n",
       "392      Prof          A             33           30  Male  103106\n",
       "393      Prof          A             31           19  Male  150564\n",
       "394      Prof          A             42           25  Male  101738\n",
       "395      Prof          A             25           15  Male   95329\n",
       "396  AsstProf          A              8            4  Male   81035\n",
       "\n",
       "[397 rows x 6 columns]"
      ]
     },
     "execution_count": 2,
     "metadata": {},
     "output_type": "execute_result"
    }
   ],
   "source": [
    "df=pd.read_csv(r\"C:\\Users\\polasasuresh\\pythonfiles\\Salaries.csv\")\n",
    "df"
   ]
  },
  {
   "cell_type": "code",
   "execution_count": 3,
   "id": "2b086c3a",
   "metadata": {},
   "outputs": [
    {
     "data": {
      "text/plain": [
       "Index(['rank', 'discipline', 'yrs.since.phd', 'yrs.service', 'sex', 'salary'], dtype='object')"
      ]
     },
     "execution_count": 3,
     "metadata": {},
     "output_type": "execute_result"
    }
   ],
   "source": [
    "df.columns"
   ]
  },
  {
   "cell_type": "code",
   "execution_count": 4,
   "id": "3d951dc7",
   "metadata": {},
   "outputs": [
    {
     "data": {
      "text/plain": [
       "rank             object\n",
       "discipline       object\n",
       "yrs.since.phd     int64\n",
       "yrs.service       int64\n",
       "sex              object\n",
       "salary            int64\n",
       "dtype: object"
      ]
     },
     "execution_count": 4,
     "metadata": {},
     "output_type": "execute_result"
    }
   ],
   "source": [
    "df.dtypes"
   ]
  },
  {
   "cell_type": "code",
   "execution_count": 5,
   "id": "b45d0e43",
   "metadata": {},
   "outputs": [
    {
     "data": {
      "text/plain": [
       "rank             0\n",
       "discipline       0\n",
       "yrs.since.phd    0\n",
       "yrs.service      0\n",
       "sex              0\n",
       "salary           0\n",
       "dtype: int64"
      ]
     },
     "execution_count": 5,
     "metadata": {},
     "output_type": "execute_result"
    }
   ],
   "source": [
    "df.isnull().sum()"
   ]
  },
  {
   "cell_type": "code",
   "execution_count": 6,
   "id": "d518876b",
   "metadata": {},
   "outputs": [
    {
     "data": {
      "text/plain": [
       "<AxesSubplot:>"
      ]
     },
     "execution_count": 6,
     "metadata": {},
     "output_type": "execute_result"
    },
    {
     "data": {
      "image/png": "[encoded data removed]",
      "text/plain": [
       "<Figure size 432x288 with 2 Axes>"
      ]
     },
     "metadata": {
      "needs_background": "light"
     },
     "output_type": "display_data"
    }
   ],
   "source": [
    "sns.heatmap(df.isnull())"
   ]
  },
  {
   "cell_type": "markdown",
   "id": "4db0cb2e",
   "metadata": {},
   "source": [
    "# Data Visualiztion"
   ]
  },
  {
   "cell_type": "code",
   "execution_count": 7,
   "id": "cdef78bf",
   "metadata": {},
   "outputs": [
    {
     "data": {
      "text/plain": [
       "<AxesSubplot:title={'center':'Rank Vs Salary'}, xlabel='rank', ylabel='salary'>"
      ]
     },
     "execution_count": 7,
     "metadata": {},
     "output_type": "execute_result"
    },
    {
     "data": {
      "image/png": "[encoded data removed]",
      "text/plain": [
       "<Figure size 936x504 with 1 Axes>"
      ]
     },
     "metadata": {
      "needs_background": "light"
     },
     "output_type": "display_data"
    }
   ],
   "source": [
    "plt.figure(figsize=(13,7))\n",
    "plt.title(\"Rank Vs Salary\")\n",
    "sns.scatterplot(x='rank',y=\"salary\",data=df)"
   ]
  },
  {
   "cell_type": "code",
   "execution_count": 8,
   "id": "b9816079",
   "metadata": {},
   "outputs": [
    {
     "data": {
      "text/plain": [
       "<AxesSubplot:title={'center':'DisciplineVs Salary'}, xlabel='discipline', ylabel='salary'>"
      ]
     },
     "execution_count": 8,
     "metadata": {},
     "output_type": "execute_result"
    },
    {
     "data": {
      "image/png": "[encoded data removed]",
      "text/plain": [
       "<Figure size 936x504 with 1 Axes>"
      ]
     },
     "metadata": {
      "needs_background": "light"
     },
     "output_type": "display_data"
    }
   ],
   "source": [
    "plt.figure(figsize=(13,7))\n",
    "plt.title(\"DisciplineVs Salary\")\n",
    "sns.scatterplot(x='discipline',y=\"salary\",data=df)"
   ]
  },
  {
   "cell_type": "code",
   "execution_count": 9,
   "id": "0c968221",
   "metadata": {},
   "outputs": [
    {
     "data": {
      "text/plain": [
       "<AxesSubplot:title={'center':'Yrs.since.phd Vs Salary'}, xlabel='yrs.since.phd', ylabel='salary'>"
      ]
     },
     "execution_count": 9,
     "metadata": {},
     "output_type": "execute_result"
    },
    {
     "data": {
      "image/png": "[encoded data removed]",
      "text/plain": [
       "<Figure size 936x504 with 1 Axes>"
      ]
     },
     "metadata": {
      "needs_background": "light"
     },
     "output_type": "display_data"
    }
   ],
   "source": [
    "plt.figure(figsize=(13,7))\n",
    "plt.title(\"Yrs.since.phd Vs Salary\")\n",
    "sns.scatterplot(x='yrs.since.phd',y=\"salary\",data=df)"
   ]
  },
  {
   "cell_type": "code",
   "execution_count": 10,
   "id": "5e700254",
   "metadata": {},
   "outputs": [
    {
     "data": {
      "text/plain": [
       "<AxesSubplot:title={'center':'Yrs.service Vs Salary'}, xlabel='yrs.service', ylabel='salary'>"
      ]
     },
     "execution_count": 10,
     "metadata": {},
     "output_type": "execute_result"
    },
    {
     "data": {
      "image/png": "[encoded data removed]",
      "text/plain": [
       "<Figure size 936x504 with 1 Axes>"
      ]
     },
     "metadata": {
      "needs_background": "light"
     },
     "output_type": "display_data"
    }
   ],
   "source": [
    "plt.figure(figsize=(13,7))\n",
    "plt.title(\"Yrs.service Vs Salary\")\n",
    "sns.scatterplot(x='yrs.service',y=\"salary\",data=df)"
   ]
  },
  {
   "cell_type": "code",
   "execution_count": null,
   "id": "94a1e98b",
   "metadata": {},
   "outputs": [],
   "source": []
  },
  {
   "cell_type": "code",
   "execution_count": null,
   "id": "46271d46",
   "metadata": {},
   "outputs": [],
   "source": []
  },
  {
   "cell_type": "code",
   "execution_count": 11,
   "id": "5860b42e",
   "metadata": {},
   "outputs": [
    {
     "data": {
      "text/html": [
       "<div>\n",
       "<style scoped>\n",
       "    .dataframe tbody tr th:only-of-type {\n",
       "        vertical-align: middle;\n",
       "    }\n",
       "\n",
       "    .dataframe tbody tr th {\n",
       "        vertical-align: top;\n",
       "    }\n",
       "\n",
       "    .dataframe thead th {\n",
       "        text-align: right;\n",
       "    }\n",
       "</style>\n",
       "<table border=\"1\" class=\"dataframe\">\n",
       "  <thead>\n",
       "    <tr style=\"text-align: right;\">\n",
       "      <th></th>\n",
       "      <th>yrs.since.phd</th>\n",
       "      <th>yrs.service</th>\n",
       "      <th>salary</th>\n",
       "    </tr>\n",
       "  </thead>\n",
       "  <tbody>\n",
       "    <tr>\n",
       "      <th>count</th>\n",
       "      <td>397.000000</td>\n",
       "      <td>397.000000</td>\n",
       "      <td>397.000000</td>\n",
       "    </tr>\n",
       "    <tr>\n",
       "      <th>mean</th>\n",
       "      <td>22.314861</td>\n",
       "      <td>17.614610</td>\n",
       "      <td>113706.458438</td>\n",
       "    </tr>\n",
       "    <tr>\n",
       "      <th>std</th>\n",
       "      <td>12.887003</td>\n",
       "      <td>13.006024</td>\n",
       "      <td>30289.038695</td>\n",
       "    </tr>\n",
       "    <tr>\n",
       "      <th>min</th>\n",
       "      <td>1.000000</td>\n",
       "      <td>0.000000</td>\n",
       "      <td>57800.000000</td>\n",
       "    </tr>\n",
       "    <tr>\n",
       "      <th>25%</th>\n",
       "      <td>12.000000</td>\n",
       "      <td>7.000000</td>\n",
       "      <td>91000.000000</td>\n",
       "    </tr>\n",
       "    <tr>\n",
       "      <th>50%</th>\n",
       "      <td>21.000000</td>\n",
       "      <td>16.000000</td>\n",
       "      <td>107300.000000</td>\n",
       "    </tr>\n",
       "    <tr>\n",
       "      <th>75%</th>\n",
       "      <td>32.000000</td>\n",
       "      <td>27.000000</td>\n",
       "      <td>134185.000000</td>\n",
       "    </tr>\n",
       "    <tr>\n",
       "      <th>max</th>\n",
       "      <td>56.000000</td>\n",
       "      <td>60.000000</td>\n",
       "      <td>231545.000000</td>\n",
       "    </tr>\n",
       "  </tbody>\n",
       "</table>\n",
       "</div>"
      ],
      "text/plain": [
       "       yrs.since.phd  yrs.service         salary\n",
       "count     397.000000   397.000000     397.000000\n",
       "mean       22.314861    17.614610  113706.458438\n",
       "std        12.887003    13.006024   30289.038695\n",
       "min         1.000000     0.000000   57800.000000\n",
       "25%        12.000000     7.000000   91000.000000\n",
       "50%        21.000000    16.000000  107300.000000\n",
       "75%        32.000000    27.000000  134185.000000\n",
       "max        56.000000    60.000000  231545.000000"
      ]
     },
     "execution_count": 11,
     "metadata": {},
     "output_type": "execute_result"
    }
   ],
   "source": [
    "df.describe()"
   ]
  },
  {
   "cell_type": "markdown",
   "id": "58bba6f9",
   "metadata": {},
   "source": [
    "# Finding Correlation"
   ]
  },
  {
   "cell_type": "code",
   "execution_count": 12,
   "id": "2e74c35f",
   "metadata": {},
   "outputs": [
    {
     "data": {
      "text/html": [
       "<div>\n",
       "<style scoped>\n",
       "    .dataframe tbody tr th:only-of-type {\n",
       "        vertical-align: middle;\n",
       "    }\n",
       "\n",
       "    .dataframe tbody tr th {\n",
       "        vertical-align: top;\n",
       "    }\n",
       "\n",
       "    .dataframe thead th {\n",
       "        text-align: right;\n",
       "    }\n",
       "</style>\n",
       "<table border=\"1\" class=\"dataframe\">\n",
       "  <thead>\n",
       "    <tr style=\"text-align: right;\">\n",
       "      <th></th>\n",
       "      <th>yrs.since.phd</th>\n",
       "      <th>yrs.service</th>\n",
       "      <th>salary</th>\n",
       "    </tr>\n",
       "  </thead>\n",
       "  <tbody>\n",
       "    <tr>\n",
       "      <th>yrs.since.phd</th>\n",
       "      <td>1.000000</td>\n",
       "      <td>0.909649</td>\n",
       "      <td>0.419231</td>\n",
       "    </tr>\n",
       "    <tr>\n",
       "      <th>yrs.service</th>\n",
       "      <td>0.909649</td>\n",
       "      <td>1.000000</td>\n",
       "      <td>0.334745</td>\n",
       "    </tr>\n",
       "    <tr>\n",
       "      <th>salary</th>\n",
       "      <td>0.419231</td>\n",
       "      <td>0.334745</td>\n",
       "      <td>1.000000</td>\n",
       "    </tr>\n",
       "  </tbody>\n",
       "</table>\n",
       "</div>"
      ],
      "text/plain": [
       "               yrs.since.phd  yrs.service    salary\n",
       "yrs.since.phd       1.000000     0.909649  0.419231\n",
       "yrs.service         0.909649     1.000000  0.334745\n",
       "salary              0.419231     0.334745  1.000000"
      ]
     },
     "execution_count": 12,
     "metadata": {},
     "output_type": "execute_result"
    }
   ],
   "source": [
    "df.corr()"
   ]
  },
  {
   "cell_type": "code",
   "execution_count": 13,
   "id": "ccbbe02b",
   "metadata": {},
   "outputs": [
    {
     "data": {
      "text/plain": [
       "yrs.service      0.334745\n",
       "yrs.since.phd    0.419231\n",
       "salary           1.000000\n",
       "Name: salary, dtype: float64"
      ]
     },
     "execution_count": 13,
     "metadata": {},
     "output_type": "execute_result"
    }
   ],
   "source": [
    "df.corr()['salary'].sort_values()"
   ]
  },
  {
   "cell_type": "markdown",
   "id": "f1aeb92e",
   "metadata": {},
   "source": [
    "yrs.since.phd is 42 percent correlated with salary\n",
    "yrs.service is 33 percent correlated with salary"
   ]
  },
  {
   "cell_type": "code",
   "execution_count": 14,
   "id": "f10db1b2",
   "metadata": {},
   "outputs": [
    {
     "data": {
      "text/plain": [
       "<AxesSubplot:>"
      ]
     },
     "execution_count": 14,
     "metadata": {},
     "output_type": "execute_result"
    },
    {
     "data": {
      "image/png": "[encoded data removed]",
      "text/plain": [
       "<Figure size 1080x504 with 2 Axes>"
      ]
     },
     "metadata": {
      "needs_background": "light"
     },
     "output_type": "display_data"
    }
   ],
   "source": [
    "plt.figure(figsize=(15,7))\n",
    "sns.heatmap(df.corr(),annot=True,linewidth=0.5,linecolor='black',fmt=\"0.2f\")"
   ]
  },
  {
   "cell_type": "code",
   "execution_count": 15,
   "id": "15aa5c83",
   "metadata": {},
   "outputs": [
    {
     "name": "stdout",
     "output_type": "stream",
     "text": [
      "<class 'pandas.core.frame.DataFrame'>\n",
      "RangeIndex: 397 entries, 0 to 396\n",
      "Data columns (total 6 columns):\n",
      " #   Column         Non-Null Count  Dtype \n",
      "---  ------         --------------  ----- \n",
      " 0   rank           397 non-null    object\n",
      " 1   discipline     397 non-null    object\n",
      " 2   yrs.since.phd  397 non-null    int64 \n",
      " 3   yrs.service    397 non-null    int64 \n",
      " 4   sex            397 non-null    object\n",
      " 5   salary         397 non-null    int64 \n",
      "dtypes: int64(3), object(3)\n",
      "memory usage: 14.0+ KB\n"
     ]
    }
   ],
   "source": [
    "df.info()"
   ]
  },
  {
   "cell_type": "markdown",
   "id": "30b5c520",
   "metadata": {},
   "source": [
    "# skewness"
   ]
  },
  {
   "cell_type": "code",
   "execution_count": 16,
   "id": "f6873b85",
   "metadata": {},
   "outputs": [
    {
     "data": {
      "text/plain": [
       "yrs.since.phd    0.300880\n",
       "yrs.service      0.650569\n",
       "salary           0.714568\n",
       "dtype: float64"
      ]
     },
     "execution_count": 16,
     "metadata": {},
     "output_type": "execute_result"
    }
   ],
   "source": [
    "df.skew()"
   ]
  },
  {
   "cell_type": "markdown",
   "id": "a05b08df",
   "metadata": {},
   "source": [
    "# Outliers Checking"
   ]
  },
  {
   "cell_type": "code",
   "execution_count": 17,
   "id": "a083f92f",
   "metadata": {},
   "outputs": [
    {
     "data": {
      "text/plain": [
       "<AxesSubplot:>"
      ]
     },
     "execution_count": 17,
     "metadata": {},
     "output_type": "execute_result"
    },
    {
     "data": {
      "image/png": "[encoded data removed]",
      "text/plain": [
       "<Figure size 432x288 with 1 Axes>"
      ]
     },
     "metadata": {
      "needs_background": "light"
     },
     "output_type": "display_data"
    }
   ],
   "source": [
    "df['yrs.since.phd'].plot.box()"
   ]
  },
  {
   "cell_type": "code",
   "execution_count": 18,
   "id": "2b47ef60",
   "metadata": {},
   "outputs": [
    {
     "data": {
      "text/plain": [
       "<AxesSubplot:>"
      ]
     },
     "execution_count": 18,
     "metadata": {},
     "output_type": "execute_result"
    },
    {
     "data": {
      "image/png": "[encoded data removed]",
      "text/plain": [
       "<Figure size 432x288 with 1 Axes>"
      ]
     },
     "metadata": {
      "needs_background": "light"
     },
     "output_type": "display_data"
    }
   ],
   "source": [
    "df['yrs.service'].plot.box()"
   ]
  },
  {
   "cell_type": "code",
   "execution_count": 19,
   "id": "bf3f1c21",
   "metadata": {},
   "outputs": [
    {
     "data": {
      "text/plain": [
       "<AxesSubplot:>"
      ]
     },
     "execution_count": 19,
     "metadata": {},
     "output_type": "execute_result"
    },
    {
     "data": {
      "image/png": "[encoded data removed]",
      "text/plain": [
       "<Figure size 432x288 with 1 Axes>"
      ]
     },
     "metadata": {
      "needs_background": "light"
     },
     "output_type": "display_data"
    }
   ],
   "source": [
    "df['salary'].plot.box()"
   ]
  },
  {
   "cell_type": "code",
   "execution_count": 20,
   "id": "af1e810b",
   "metadata": {},
   "outputs": [
    {
     "data": {
      "text/plain": [
       "yrs.since.phd       AxesSubplot(0.125,0.657941;0.110714x0.222059)\n",
       "yrs.service      AxesSubplot(0.257857,0.657941;0.110714x0.222059)\n",
       "salary           AxesSubplot(0.390714,0.657941;0.110714x0.222059)\n",
       "dtype: object"
      ]
     },
     "execution_count": 20,
     "metadata": {},
     "output_type": "execute_result"
    },
    {
     "data": {
      "image/png": "[encoded data removed]",
      "text/plain": [
       "<Figure size 1080x1080 with 18 Axes>"
      ]
     },
     "metadata": {
      "needs_background": "light"
     },
     "output_type": "display_data"
    }
   ],
   "source": [
    "df.plot(kind='box',subplots=True,layout=(3,6),figsize=(15,15))"
   ]
  },
  {
   "cell_type": "markdown",
   "id": "8ae15579",
   "metadata": {},
   "source": [
    "from the above outcome we can see that columns yrs.service has less outliers and yrs.since.phd has no outliers"
   ]
  },
  {
   "cell_type": "code",
   "execution_count": 21,
   "id": "59432595",
   "metadata": {},
   "outputs": [
    {
     "data": {
      "text/plain": [
       "<AxesSubplot:xlabel='yrs.service', ylabel='Density'>"
      ]
     },
     "execution_count": 21,
     "metadata": {},
     "output_type": "execute_result"
    },
    {
     "data": {
      "image/png": "[encoded data removed]",
      "text/plain": [
       "<Figure size 432x288 with 1 Axes>"
      ]
     },
     "metadata": {
      "needs_background": "light"
     },
     "output_type": "display_data"
    }
   ],
   "source": [
    "sns.distplot(df['yrs.service'])"
   ]
  },
  {
   "cell_type": "code",
   "execution_count": 22,
   "id": "caa46ee6",
   "metadata": {},
   "outputs": [
    {
     "data": {
      "text/plain": [
       "<AxesSubplot:xlabel='yrs.since.phd', ylabel='Density'>"
      ]
     },
     "execution_count": 22,
     "metadata": {},
     "output_type": "execute_result"
    },
    {
     "data": {
      "image/png": "[encoded data removed]",
      "text/plain": [
       "<Figure size 432x288 with 1 Axes>"
      ]
     },
     "metadata": {
      "needs_background": "light"
     },
     "output_type": "display_data"
    }
   ],
   "source": [
    "sns.distplot(df['yrs.since.phd'])"
   ]
  },
  {
   "cell_type": "markdown",
   "id": "3d34383c",
   "metadata": {},
   "source": [
    "\n",
    "# Changing categeorical data into numerical data"
   ]
  },
  {
   "cell_type": "code",
   "execution_count": 23,
   "id": "c9906a8c",
   "metadata": {},
   "outputs": [
    {
     "data": {
      "text/html": [
       "<div>\n",
       "<style scoped>\n",
       "    .dataframe tbody tr th:only-of-type {\n",
       "        vertical-align: middle;\n",
       "    }\n",
       "\n",
       "    .dataframe tbody tr th {\n",
       "        vertical-align: top;\n",
       "    }\n",
       "\n",
       "    .dataframe thead th {\n",
       "        text-align: right;\n",
       "    }\n",
       "</style>\n",
       "<table border=\"1\" class=\"dataframe\">\n",
       "  <thead>\n",
       "    <tr style=\"text-align: right;\">\n",
       "      <th></th>\n",
       "      <th>rank</th>\n",
       "      <th>discipline</th>\n",
       "      <th>yrs.since.phd</th>\n",
       "      <th>yrs.service</th>\n",
       "      <th>sex</th>\n",
       "      <th>salary</th>\n",
       "    </tr>\n",
       "  </thead>\n",
       "  <tbody>\n",
       "    <tr>\n",
       "      <th>0</th>\n",
       "      <td>2.0</td>\n",
       "      <td>1.0</td>\n",
       "      <td>19</td>\n",
       "      <td>18</td>\n",
       "      <td>1.0</td>\n",
       "      <td>139750</td>\n",
       "    </tr>\n",
       "    <tr>\n",
       "      <th>1</th>\n",
       "      <td>2.0</td>\n",
       "      <td>1.0</td>\n",
       "      <td>20</td>\n",
       "      <td>16</td>\n",
       "      <td>1.0</td>\n",
       "      <td>173200</td>\n",
       "    </tr>\n",
       "    <tr>\n",
       "      <th>2</th>\n",
       "      <td>1.0</td>\n",
       "      <td>1.0</td>\n",
       "      <td>4</td>\n",
       "      <td>3</td>\n",
       "      <td>1.0</td>\n",
       "      <td>79750</td>\n",
       "    </tr>\n",
       "    <tr>\n",
       "      <th>3</th>\n",
       "      <td>2.0</td>\n",
       "      <td>1.0</td>\n",
       "      <td>45</td>\n",
       "      <td>39</td>\n",
       "      <td>1.0</td>\n",
       "      <td>115000</td>\n",
       "    </tr>\n",
       "    <tr>\n",
       "      <th>4</th>\n",
       "      <td>2.0</td>\n",
       "      <td>1.0</td>\n",
       "      <td>40</td>\n",
       "      <td>41</td>\n",
       "      <td>1.0</td>\n",
       "      <td>141500</td>\n",
       "    </tr>\n",
       "    <tr>\n",
       "      <th>...</th>\n",
       "      <td>...</td>\n",
       "      <td>...</td>\n",
       "      <td>...</td>\n",
       "      <td>...</td>\n",
       "      <td>...</td>\n",
       "      <td>...</td>\n",
       "    </tr>\n",
       "    <tr>\n",
       "      <th>392</th>\n",
       "      <td>2.0</td>\n",
       "      <td>0.0</td>\n",
       "      <td>33</td>\n",
       "      <td>30</td>\n",
       "      <td>1.0</td>\n",
       "      <td>103106</td>\n",
       "    </tr>\n",
       "    <tr>\n",
       "      <th>393</th>\n",
       "      <td>2.0</td>\n",
       "      <td>0.0</td>\n",
       "      <td>31</td>\n",
       "      <td>19</td>\n",
       "      <td>1.0</td>\n",
       "      <td>150564</td>\n",
       "    </tr>\n",
       "    <tr>\n",
       "      <th>394</th>\n",
       "      <td>2.0</td>\n",
       "      <td>0.0</td>\n",
       "      <td>42</td>\n",
       "      <td>25</td>\n",
       "      <td>1.0</td>\n",
       "      <td>101738</td>\n",
       "    </tr>\n",
       "    <tr>\n",
       "      <th>395</th>\n",
       "      <td>2.0</td>\n",
       "      <td>0.0</td>\n",
       "      <td>25</td>\n",
       "      <td>15</td>\n",
       "      <td>1.0</td>\n",
       "      <td>95329</td>\n",
       "    </tr>\n",
       "    <tr>\n",
       "      <th>396</th>\n",
       "      <td>1.0</td>\n",
       "      <td>0.0</td>\n",
       "      <td>8</td>\n",
       "      <td>4</td>\n",
       "      <td>1.0</td>\n",
       "      <td>81035</td>\n",
       "    </tr>\n",
       "  </tbody>\n",
       "</table>\n",
       "<p>397 rows × 6 columns</p>\n",
       "</div>"
      ],
      "text/plain": [
       "     rank  discipline  yrs.since.phd  yrs.service  sex  salary\n",
       "0     2.0         1.0             19           18  1.0  139750\n",
       "1     2.0         1.0             20           16  1.0  173200\n",
       "2     1.0         1.0              4            3  1.0   79750\n",
       "3     2.0         1.0             45           39  1.0  115000\n",
       "4     2.0         1.0             40           41  1.0  141500\n",
       "..    ...         ...            ...          ...  ...     ...\n",
       "392   2.0         0.0             33           30  1.0  103106\n",
       "393   2.0         0.0             31           19  1.0  150564\n",
       "394   2.0         0.0             42           25  1.0  101738\n",
       "395   2.0         0.0             25           15  1.0   95329\n",
       "396   1.0         0.0              8            4  1.0   81035\n",
       "\n",
       "[397 rows x 6 columns]"
      ]
     },
     "execution_count": 23,
     "metadata": {},
     "output_type": "execute_result"
    }
   ],
   "source": [
    "oe=OrdinalEncoder()\n",
    "list1=['rank','discipline','sex']\n",
    "for val in list1:\n",
    "    df[val]=oe.fit_transform(df[val].values.reshape(-1,1))\n",
    "df"
   ]
  },
  {
   "cell_type": "markdown",
   "id": "7267a764",
   "metadata": {},
   "source": [
    "# removig outliers"
   ]
  },
  {
   "cell_type": "code",
   "execution_count": 24,
   "id": "7a8d086f",
   "metadata": {},
   "outputs": [
    {
     "data": {
      "text/plain": [
       "array([[0.64925739, 0.91540317, 0.25754973, 0.02966908, 0.3300584 ,\n",
       "        0.86091884],\n",
       "       [0.64925739, 0.91540317, 0.17985426, 0.12429986, 0.3300584 ,\n",
       "        1.96667226],\n",
       "       [0.67256406, 0.91540317, 1.42298184, 1.12509795, 0.3300584 ,\n",
       "        1.12249537],\n",
       "       ...,\n",
       "       [0.64925739, 1.09241483, 1.52944617, 0.56856036, 0.3300584 ,\n",
       "        0.39564018],\n",
       "       [0.64925739, 1.09241483, 0.20862311, 0.20128433, 0.3300584 ,\n",
       "        0.60750187],\n",
       "       [0.67256406, 1.09241483, 1.11219995, 1.04811348, 0.3300584 ,\n",
       "        1.08001725]])"
      ]
     },
     "execution_count": 24,
     "metadata": {},
     "output_type": "execute_result"
    }
   ],
   "source": [
    "\n",
    "from scipy.stats import zscore\n",
    "z=np.abs(zscore(df))\n",
    "z"
   ]
  },
  {
   "cell_type": "code",
   "execution_count": 25,
   "id": "f473b053",
   "metadata": {},
   "outputs": [
    {
     "name": "stdout",
     "output_type": "stream",
     "text": [
      "(array([  9,  19,  24,  34,  35,  43,  47,  48,  52,  63,  68,  84,  90,\n",
      "       103, 114, 119, 123, 127, 131, 132, 133, 148, 153, 179, 186, 218,\n",
      "       230, 231, 233, 237, 245, 253, 254, 274, 316, 323, 330, 332, 334,\n",
      "       341, 358, 361, 364], dtype=int32), array([4, 4, 4, 4, 4, 5, 4, 4, 4, 4, 4, 4, 4, 4, 4, 4, 4, 4, 3, 4, 4, 4,\n",
      "       4, 4, 4, 4, 4, 4, 4, 4, 4, 4, 4, 4, 4, 4, 3, 4, 4, 4, 4, 4, 5],\n",
      "      dtype=int32))\n"
     ]
    }
   ],
   "source": [
    "threshold=3\n",
    "print(np.where(z>3))\n"
   ]
  },
  {
   "cell_type": "code",
   "execution_count": 26,
   "id": "57967c47",
   "metadata": {},
   "outputs": [
    {
     "data": {
      "text/plain": [
       "3.0297668523315746"
      ]
     },
     "execution_count": 26,
     "metadata": {},
     "output_type": "execute_result"
    }
   ],
   "source": [
    "z[9][4]"
   ]
  },
  {
   "cell_type": "code",
   "execution_count": 27,
   "id": "23289ab4",
   "metadata": {},
   "outputs": [
    {
     "data": {
      "text/plain": [
       "3.0297668523315746"
      ]
     },
     "execution_count": 27,
     "metadata": {},
     "output_type": "execute_result"
    }
   ],
   "source": [
    "z[103][4]"
   ]
  },
  {
   "cell_type": "code",
   "execution_count": 28,
   "id": "ee5ad211",
   "metadata": {},
   "outputs": [
    {
     "data": {
      "text/html": [
       "<div>\n",
       "<style scoped>\n",
       "    .dataframe tbody tr th:only-of-type {\n",
       "        vertical-align: middle;\n",
       "    }\n",
       "\n",
       "    .dataframe tbody tr th {\n",
       "        vertical-align: top;\n",
       "    }\n",
       "\n",
       "    .dataframe thead th {\n",
       "        text-align: right;\n",
       "    }\n",
       "</style>\n",
       "<table border=\"1\" class=\"dataframe\">\n",
       "  <thead>\n",
       "    <tr style=\"text-align: right;\">\n",
       "      <th></th>\n",
       "      <th>rank</th>\n",
       "      <th>discipline</th>\n",
       "      <th>yrs.since.phd</th>\n",
       "      <th>yrs.service</th>\n",
       "      <th>sex</th>\n",
       "      <th>salary</th>\n",
       "    </tr>\n",
       "  </thead>\n",
       "  <tbody>\n",
       "    <tr>\n",
       "      <th>0</th>\n",
       "      <td>2.0</td>\n",
       "      <td>1.0</td>\n",
       "      <td>19</td>\n",
       "      <td>18</td>\n",
       "      <td>1.0</td>\n",
       "      <td>139750</td>\n",
       "    </tr>\n",
       "    <tr>\n",
       "      <th>1</th>\n",
       "      <td>2.0</td>\n",
       "      <td>1.0</td>\n",
       "      <td>20</td>\n",
       "      <td>16</td>\n",
       "      <td>1.0</td>\n",
       "      <td>173200</td>\n",
       "    </tr>\n",
       "    <tr>\n",
       "      <th>2</th>\n",
       "      <td>1.0</td>\n",
       "      <td>1.0</td>\n",
       "      <td>4</td>\n",
       "      <td>3</td>\n",
       "      <td>1.0</td>\n",
       "      <td>79750</td>\n",
       "    </tr>\n",
       "    <tr>\n",
       "      <th>3</th>\n",
       "      <td>2.0</td>\n",
       "      <td>1.0</td>\n",
       "      <td>45</td>\n",
       "      <td>39</td>\n",
       "      <td>1.0</td>\n",
       "      <td>115000</td>\n",
       "    </tr>\n",
       "    <tr>\n",
       "      <th>4</th>\n",
       "      <td>2.0</td>\n",
       "      <td>1.0</td>\n",
       "      <td>40</td>\n",
       "      <td>41</td>\n",
       "      <td>1.0</td>\n",
       "      <td>141500</td>\n",
       "    </tr>\n",
       "    <tr>\n",
       "      <th>...</th>\n",
       "      <td>...</td>\n",
       "      <td>...</td>\n",
       "      <td>...</td>\n",
       "      <td>...</td>\n",
       "      <td>...</td>\n",
       "      <td>...</td>\n",
       "    </tr>\n",
       "    <tr>\n",
       "      <th>392</th>\n",
       "      <td>2.0</td>\n",
       "      <td>0.0</td>\n",
       "      <td>33</td>\n",
       "      <td>30</td>\n",
       "      <td>1.0</td>\n",
       "      <td>103106</td>\n",
       "    </tr>\n",
       "    <tr>\n",
       "      <th>393</th>\n",
       "      <td>2.0</td>\n",
       "      <td>0.0</td>\n",
       "      <td>31</td>\n",
       "      <td>19</td>\n",
       "      <td>1.0</td>\n",
       "      <td>150564</td>\n",
       "    </tr>\n",
       "    <tr>\n",
       "      <th>394</th>\n",
       "      <td>2.0</td>\n",
       "      <td>0.0</td>\n",
       "      <td>42</td>\n",
       "      <td>25</td>\n",
       "      <td>1.0</td>\n",
       "      <td>101738</td>\n",
       "    </tr>\n",
       "    <tr>\n",
       "      <th>395</th>\n",
       "      <td>2.0</td>\n",
       "      <td>0.0</td>\n",
       "      <td>25</td>\n",
       "      <td>15</td>\n",
       "      <td>1.0</td>\n",
       "      <td>95329</td>\n",
       "    </tr>\n",
       "    <tr>\n",
       "      <th>396</th>\n",
       "      <td>1.0</td>\n",
       "      <td>0.0</td>\n",
       "      <td>8</td>\n",
       "      <td>4</td>\n",
       "      <td>1.0</td>\n",
       "      <td>81035</td>\n",
       "    </tr>\n",
       "  </tbody>\n",
       "</table>\n",
       "<p>354 rows × 6 columns</p>\n",
       "</div>"
      ],
      "text/plain": [
       "     rank  discipline  yrs.since.phd  yrs.service  sex  salary\n",
       "0     2.0         1.0             19           18  1.0  139750\n",
       "1     2.0         1.0             20           16  1.0  173200\n",
       "2     1.0         1.0              4            3  1.0   79750\n",
       "3     2.0         1.0             45           39  1.0  115000\n",
       "4     2.0         1.0             40           41  1.0  141500\n",
       "..    ...         ...            ...          ...  ...     ...\n",
       "392   2.0         0.0             33           30  1.0  103106\n",
       "393   2.0         0.0             31           19  1.0  150564\n",
       "394   2.0         0.0             42           25  1.0  101738\n",
       "395   2.0         0.0             25           15  1.0   95329\n",
       "396   1.0         0.0              8            4  1.0   81035\n",
       "\n",
       "[354 rows x 6 columns]"
      ]
     },
     "execution_count": 28,
     "metadata": {},
     "output_type": "execute_result"
    }
   ],
   "source": [
    "df_new=df[(z<3).all(axis=1)]\n",
    "df_new"
   ]
  },
  {
   "cell_type": "code",
   "execution_count": 29,
   "id": "159baac6",
   "metadata": {},
   "outputs": [
    {
     "data": {
      "text/plain": [
       "(397, 6)"
      ]
     },
     "execution_count": 29,
     "metadata": {},
     "output_type": "execute_result"
    }
   ],
   "source": [
    "df.shape"
   ]
  },
  {
   "cell_type": "code",
   "execution_count": 30,
   "id": "40983e5c",
   "metadata": {},
   "outputs": [
    {
     "data": {
      "text/plain": [
       "(354, 6)"
      ]
     },
     "execution_count": 30,
     "metadata": {},
     "output_type": "execute_result"
    }
   ],
   "source": [
    "df_new.shape"
   ]
  },
  {
   "cell_type": "code",
   "execution_count": 31,
   "id": "aad52a29",
   "metadata": {},
   "outputs": [
    {
     "data": {
      "text/plain": [
       "rank            -1.241757\n",
       "discipline      -0.182308\n",
       "yrs.since.phd    0.234156\n",
       "yrs.service      0.529464\n",
       "sex              0.000000\n",
       "salary           0.584912\n",
       "dtype: float64"
      ]
     },
     "execution_count": 31,
     "metadata": {},
     "output_type": "execute_result"
    }
   ],
   "source": [
    "df_new.skew()"
   ]
  },
  {
   "cell_type": "code",
   "execution_count": 32,
   "id": "07bcb772",
   "metadata": {},
   "outputs": [
    {
     "data": {
      "text/plain": [
       "<seaborn.axisgrid.PairGrid at 0x11b50340>"
      ]
     },
     "execution_count": 32,
     "metadata": {},
     "output_type": "execute_result"
    },
    {
     "data": {
      "image/png": "[encoded data removed]",
      "text/plain": [
       "<Figure size 1080x1080 with 42 Axes>"
      ]
     },
     "metadata": {
      "needs_background": "light"
     },
     "output_type": "display_data"
    }
   ],
   "source": [
    "sns.pairplot(df_new)"
   ]
  },
  {
   "cell_type": "markdown",
   "id": "e35056a3",
   "metadata": {},
   "source": [
    " Finding Correlation"
   ]
  },
  {
   "cell_type": "code",
   "execution_count": 33,
   "id": "8240ae6a",
   "metadata": {},
   "outputs": [],
   "source": [
    "corr_map=df_new.corr()"
   ]
  },
  {
   "cell_type": "code",
   "execution_count": 34,
   "id": "aa762a00",
   "metadata": {},
   "outputs": [
    {
     "data": {
      "image/png": "[encoded data removed]",
      "text/plain": [
       "<Figure size 576x504 with 2 Axes>"
      ]
     },
     "metadata": {
      "needs_background": "light"
     },
     "output_type": "display_data"
    }
   ],
   "source": [
    "plt.figure(figsize=(8,7))\n",
    "sns.heatmap(corr_map,annot=True,linewidth=0.5,linecolor='black',fmt='.2f')\n",
    "plt.show()"
   ]
  },
  {
   "cell_type": "markdown",
   "id": "dfa3ac3e",
   "metadata": {},
   "source": [
    "yrs since phd is 39 percet correlated with salary\n",
    "yrs.service is 28 percent correlated with salary\n"
   ]
  },
  {
   "cell_type": "code",
   "execution_count": 35,
   "id": "2930b21d",
   "metadata": {},
   "outputs": [
    {
     "data": {
      "text/plain": [
       "discipline       0.127542\n",
       "yrs.service      0.284771\n",
       "yrs.since.phd    0.386818\n",
       "rank             0.515398\n",
       "salary           1.000000\n",
       "sex                   NaN\n",
       "Name: salary, dtype: float64"
      ]
     },
     "execution_count": 35,
     "metadata": {},
     "output_type": "execute_result"
    }
   ],
   "source": [
    "df_new.corr()['salary'].sort_values()"
   ]
  },
  {
   "cell_type": "code",
   "execution_count": 36,
   "id": "ea2280ae",
   "metadata": {},
   "outputs": [
    {
     "data": {
      "image/png": "[encoded data removed]",
      "text/plain": [
       "<Figure size 432x288 with 1 Axes>"
      ]
     },
     "metadata": {
      "needs_background": "light"
     },
     "output_type": "display_data"
    }
   ],
   "source": [
    "plt.scatter(df_new['yrs.service'],df_new['yrs.since.phd'])\n",
    "plt.show()"
   ]
  },
  {
   "cell_type": "code",
   "execution_count": 37,
   "id": "20dd8801",
   "metadata": {},
   "outputs": [
    {
     "data": {
      "text/html": [
       "<div>\n",
       "<style scoped>\n",
       "    .dataframe tbody tr th:only-of-type {\n",
       "        vertical-align: middle;\n",
       "    }\n",
       "\n",
       "    .dataframe tbody tr th {\n",
       "        vertical-align: top;\n",
       "    }\n",
       "\n",
       "    .dataframe thead th {\n",
       "        text-align: right;\n",
       "    }\n",
       "</style>\n",
       "<table border=\"1\" class=\"dataframe\">\n",
       "  <thead>\n",
       "    <tr style=\"text-align: right;\">\n",
       "      <th></th>\n",
       "      <th>rank</th>\n",
       "      <th>discipline</th>\n",
       "      <th>yrs.since.phd</th>\n",
       "      <th>yrs.service</th>\n",
       "      <th>sex</th>\n",
       "      <th>salary</th>\n",
       "    </tr>\n",
       "  </thead>\n",
       "  <tbody>\n",
       "    <tr>\n",
       "      <th>count</th>\n",
       "      <td>354.000000</td>\n",
       "      <td>354.000000</td>\n",
       "      <td>354.000000</td>\n",
       "      <td>354.000000</td>\n",
       "      <td>354.0</td>\n",
       "      <td>354.000000</td>\n",
       "    </tr>\n",
       "    <tr>\n",
       "      <th>mean</th>\n",
       "      <td>1.536723</td>\n",
       "      <td>0.545198</td>\n",
       "      <td>22.680791</td>\n",
       "      <td>17.920904</td>\n",
       "      <td>1.0</td>\n",
       "      <td>114396.135593</td>\n",
       "    </tr>\n",
       "    <tr>\n",
       "      <th>std</th>\n",
       "      <td>0.745188</td>\n",
       "      <td>0.498658</td>\n",
       "      <td>12.845445</td>\n",
       "      <td>12.836495</td>\n",
       "      <td>0.0</td>\n",
       "      <td>29220.456294</td>\n",
       "    </tr>\n",
       "    <tr>\n",
       "      <th>min</th>\n",
       "      <td>0.000000</td>\n",
       "      <td>0.000000</td>\n",
       "      <td>1.000000</td>\n",
       "      <td>0.000000</td>\n",
       "      <td>1.0</td>\n",
       "      <td>57800.000000</td>\n",
       "    </tr>\n",
       "    <tr>\n",
       "      <th>25%</th>\n",
       "      <td>1.000000</td>\n",
       "      <td>0.000000</td>\n",
       "      <td>12.000000</td>\n",
       "      <td>7.000000</td>\n",
       "      <td>1.0</td>\n",
       "      <td>92000.000000</td>\n",
       "    </tr>\n",
       "    <tr>\n",
       "      <th>50%</th>\n",
       "      <td>2.000000</td>\n",
       "      <td>1.000000</td>\n",
       "      <td>21.500000</td>\n",
       "      <td>17.500000</td>\n",
       "      <td>1.0</td>\n",
       "      <td>107768.000000</td>\n",
       "    </tr>\n",
       "    <tr>\n",
       "      <th>75%</th>\n",
       "      <td>2.000000</td>\n",
       "      <td>1.000000</td>\n",
       "      <td>32.000000</td>\n",
       "      <td>27.000000</td>\n",
       "      <td>1.0</td>\n",
       "      <td>134756.000000</td>\n",
       "    </tr>\n",
       "    <tr>\n",
       "      <th>max</th>\n",
       "      <td>2.000000</td>\n",
       "      <td>1.000000</td>\n",
       "      <td>56.000000</td>\n",
       "      <td>53.000000</td>\n",
       "      <td>1.0</td>\n",
       "      <td>204000.000000</td>\n",
       "    </tr>\n",
       "  </tbody>\n",
       "</table>\n",
       "</div>"
      ],
      "text/plain": [
       "             rank  discipline  yrs.since.phd  yrs.service    sex  \\\n",
       "count  354.000000  354.000000     354.000000   354.000000  354.0   \n",
       "mean     1.536723    0.545198      22.680791    17.920904    1.0   \n",
       "std      0.745188    0.498658      12.845445    12.836495    0.0   \n",
       "min      0.000000    0.000000       1.000000     0.000000    1.0   \n",
       "25%      1.000000    0.000000      12.000000     7.000000    1.0   \n",
       "50%      2.000000    1.000000      21.500000    17.500000    1.0   \n",
       "75%      2.000000    1.000000      32.000000    27.000000    1.0   \n",
       "max      2.000000    1.000000      56.000000    53.000000    1.0   \n",
       "\n",
       "              salary  \n",
       "count     354.000000  \n",
       "mean   114396.135593  \n",
       "std     29220.456294  \n",
       "min     57800.000000  \n",
       "25%     92000.000000  \n",
       "50%    107768.000000  \n",
       "75%    134756.000000  \n",
       "max    204000.000000  "
      ]
     },
     "execution_count": 37,
     "metadata": {},
     "output_type": "execute_result"
    }
   ],
   "source": [
    "df_new.describe()"
   ]
  },
  {
   "cell_type": "markdown",
   "id": "0ef6d28c",
   "metadata": {},
   "source": [
    "# Data Cleaning"
   ]
  },
  {
   "cell_type": "code",
   "execution_count": 38,
   "id": "a98b2b30",
   "metadata": {},
   "outputs": [],
   "source": [
    "df_new.drop(['discipline','sex'],inplace=True,axis=1)\n",
    "#df.drop('sex',axis=True,inplace=True)\n"
   ]
  },
  {
   "cell_type": "code",
   "execution_count": 39,
   "id": "1365f045",
   "metadata": {},
   "outputs": [
    {
     "data": {
      "text/html": [
       "<div>\n",
       "<style scoped>\n",
       "    .dataframe tbody tr th:only-of-type {\n",
       "        vertical-align: middle;\n",
       "    }\n",
       "\n",
       "    .dataframe tbody tr th {\n",
       "        vertical-align: top;\n",
       "    }\n",
       "\n",
       "    .dataframe thead th {\n",
       "        text-align: right;\n",
       "    }\n",
       "</style>\n",
       "<table border=\"1\" class=\"dataframe\">\n",
       "  <thead>\n",
       "    <tr style=\"text-align: right;\">\n",
       "      <th></th>\n",
       "      <th>rank</th>\n",
       "      <th>yrs.since.phd</th>\n",
       "      <th>yrs.service</th>\n",
       "    </tr>\n",
       "  </thead>\n",
       "  <tbody>\n",
       "    <tr>\n",
       "      <th>0</th>\n",
       "      <td>2.0</td>\n",
       "      <td>19</td>\n",
       "      <td>18</td>\n",
       "    </tr>\n",
       "    <tr>\n",
       "      <th>1</th>\n",
       "      <td>2.0</td>\n",
       "      <td>20</td>\n",
       "      <td>16</td>\n",
       "    </tr>\n",
       "    <tr>\n",
       "      <th>2</th>\n",
       "      <td>1.0</td>\n",
       "      <td>4</td>\n",
       "      <td>3</td>\n",
       "    </tr>\n",
       "    <tr>\n",
       "      <th>3</th>\n",
       "      <td>2.0</td>\n",
       "      <td>45</td>\n",
       "      <td>39</td>\n",
       "    </tr>\n",
       "    <tr>\n",
       "      <th>4</th>\n",
       "      <td>2.0</td>\n",
       "      <td>40</td>\n",
       "      <td>41</td>\n",
       "    </tr>\n",
       "  </tbody>\n",
       "</table>\n",
       "</div>"
      ],
      "text/plain": [
       "   rank  yrs.since.phd  yrs.service\n",
       "0   2.0             19           18\n",
       "1   2.0             20           16\n",
       "2   1.0              4            3\n",
       "3   2.0             45           39\n",
       "4   2.0             40           41"
      ]
     },
     "execution_count": 39,
     "metadata": {},
     "output_type": "execute_result"
    }
   ],
   "source": [
    "x=df_new.iloc[:,:-1]\n",
    "x.head()"
   ]
  },
  {
   "cell_type": "code",
   "execution_count": 40,
   "id": "48d9c7c0",
   "metadata": {},
   "outputs": [
    {
     "data": {
      "text/plain": [
       "0    139750\n",
       "1    173200\n",
       "2     79750\n",
       "3    115000\n",
       "4    141500\n",
       "Name: salary, dtype: int64"
      ]
     },
     "execution_count": 40,
     "metadata": {},
     "output_type": "execute_result"
    }
   ],
   "source": [
    "y=df_new.iloc[:,-1]\n",
    "y.head()"
   ]
  },
  {
   "cell_type": "code",
   "execution_count": 41,
   "id": "400b321e",
   "metadata": {},
   "outputs": [
    {
     "data": {
      "text/plain": [
       "(354, 3)"
      ]
     },
     "execution_count": 41,
     "metadata": {},
     "output_type": "execute_result"
    }
   ],
   "source": [
    "x.shape"
   ]
  },
  {
   "cell_type": "code",
   "execution_count": 42,
   "id": "dddc75d8",
   "metadata": {},
   "outputs": [
    {
     "data": {
      "text/plain": [
       "(354,)"
      ]
     },
     "execution_count": 42,
     "metadata": {},
     "output_type": "execute_result"
    }
   ],
   "source": [
    "y.shape"
   ]
  },
  {
   "cell_type": "markdown",
   "id": "bb872b1c",
   "metadata": {},
   "source": [
    "# Transforming data to remove skewness"
   ]
  },
  {
   "cell_type": "code",
   "execution_count": 43,
   "id": "6ac82fa3",
   "metadata": {},
   "outputs": [
    {
     "data": {
      "text/plain": [
       "array([[ 0.66261867, -0.16993349,  0.21391071],\n",
       "       [ 0.66261867, -0.09133723,  0.06567291],\n",
       "       [-1.18533666, -1.64343352, -1.32485378],\n",
       "       ...,\n",
       "       [ 0.66261867,  1.38580057,  0.67335521],\n",
       "       [ 0.66261867,  0.28223854, -0.0121133 ],\n",
       "       [-1.18533666, -1.16828402, -1.16384273]])"
      ]
     },
     "execution_count": 43,
     "metadata": {},
     "output_type": "execute_result"
    }
   ],
   "source": [
    "from sklearn.preprocessing import power_transform\n",
    "x=power_transform(x,method='yeo-johnson')\n",
    "x"
   ]
  },
  {
   "cell_type": "code",
   "execution_count": 44,
   "id": "dde5700d",
   "metadata": {},
   "outputs": [
    {
     "data": {
      "text/plain": [
       "0   -0.905242\n",
       "1   -0.146134\n",
       "2   -0.138197\n",
       "dtype: float64"
      ]
     },
     "execution_count": 44,
     "metadata": {},
     "output_type": "execute_result"
    }
   ],
   "source": [
    "pd.DataFrame(x).skew()"
   ]
  },
  {
   "cell_type": "code",
   "execution_count": 45,
   "id": "730ae4a7",
   "metadata": {},
   "outputs": [
    {
     "data": {
      "text/plain": [
       "array([[ 0.66261867, -0.16993349,  0.21391071],\n",
       "       [ 0.66261867, -0.09133723,  0.06567291],\n",
       "       [-1.18533666, -1.64343352, -1.32485378],\n",
       "       ...,\n",
       "       [ 0.66261867,  1.38580057,  0.67335521],\n",
       "       [ 0.66261867,  0.28223854, -0.0121133 ],\n",
       "       [-1.18533666, -1.16828402, -1.16384273]])"
      ]
     },
     "execution_count": 45,
     "metadata": {},
     "output_type": "execute_result"
    }
   ],
   "source": [
    "from sklearn.preprocessing import StandardScaler\n",
    "#mean=0 and std=1\n",
    "sc=StandardScaler()\n",
    "x=sc.fit_transform(x)\n",
    "x\n"
   ]
  },
  {
   "cell_type": "markdown",
   "id": "ace19ee2",
   "metadata": {},
   "source": [
    "# Since target variable is a continuous varible so we use Linear Regression"
   ]
  },
  {
   "cell_type": "markdown",
   "id": "b709781f",
   "metadata": {},
   "source": [
    "# splitting the Dataframe"
   ]
  },
  {
   "cell_type": "code",
   "execution_count": 46,
   "id": "13d5d1a3",
   "metadata": {},
   "outputs": [],
   "source": [
    "x=df_new.iloc[:,:-1]\n",
    "y=df_new.iloc[:,-1]"
   ]
  },
  {
   "cell_type": "code",
   "execution_count": 47,
   "id": "ada94c58",
   "metadata": {},
   "outputs": [
    {
     "data": {
      "text/html": [
       "<div>\n",
       "<style scoped>\n",
       "    .dataframe tbody tr th:only-of-type {\n",
       "        vertical-align: middle;\n",
       "    }\n",
       "\n",
       "    .dataframe tbody tr th {\n",
       "        vertical-align: top;\n",
       "    }\n",
       "\n",
       "    .dataframe thead th {\n",
       "        text-align: right;\n",
       "    }\n",
       "</style>\n",
       "<table border=\"1\" class=\"dataframe\">\n",
       "  <thead>\n",
       "    <tr style=\"text-align: right;\">\n",
       "      <th></th>\n",
       "      <th>rank</th>\n",
       "      <th>yrs.since.phd</th>\n",
       "      <th>yrs.service</th>\n",
       "    </tr>\n",
       "  </thead>\n",
       "  <tbody>\n",
       "    <tr>\n",
       "      <th>0</th>\n",
       "      <td>2.0</td>\n",
       "      <td>19</td>\n",
       "      <td>18</td>\n",
       "    </tr>\n",
       "    <tr>\n",
       "      <th>1</th>\n",
       "      <td>2.0</td>\n",
       "      <td>20</td>\n",
       "      <td>16</td>\n",
       "    </tr>\n",
       "    <tr>\n",
       "      <th>2</th>\n",
       "      <td>1.0</td>\n",
       "      <td>4</td>\n",
       "      <td>3</td>\n",
       "    </tr>\n",
       "    <tr>\n",
       "      <th>3</th>\n",
       "      <td>2.0</td>\n",
       "      <td>45</td>\n",
       "      <td>39</td>\n",
       "    </tr>\n",
       "    <tr>\n",
       "      <th>4</th>\n",
       "      <td>2.0</td>\n",
       "      <td>40</td>\n",
       "      <td>41</td>\n",
       "    </tr>\n",
       "  </tbody>\n",
       "</table>\n",
       "</div>"
      ],
      "text/plain": [
       "   rank  yrs.since.phd  yrs.service\n",
       "0   2.0             19           18\n",
       "1   2.0             20           16\n",
       "2   1.0              4            3\n",
       "3   2.0             45           39\n",
       "4   2.0             40           41"
      ]
     },
     "execution_count": 47,
     "metadata": {},
     "output_type": "execute_result"
    }
   ],
   "source": [
    "x.head()"
   ]
  },
  {
   "cell_type": "code",
   "execution_count": 48,
   "id": "0fe92c29",
   "metadata": {},
   "outputs": [
    {
     "data": {
      "text/plain": [
       "(354,)"
      ]
     },
     "execution_count": 48,
     "metadata": {},
     "output_type": "execute_result"
    }
   ],
   "source": [
    "y.shape"
   ]
  },
  {
   "cell_type": "code",
   "execution_count": 49,
   "id": "086f14fd",
   "metadata": {},
   "outputs": [
    {
     "data": {
      "text/plain": [
       "(354, 3)"
      ]
     },
     "execution_count": 49,
     "metadata": {},
     "output_type": "execute_result"
    }
   ],
   "source": [
    "x.shape"
   ]
  },
  {
   "cell_type": "code",
   "execution_count": 50,
   "id": "b1494611",
   "metadata": {},
   "outputs": [],
   "source": [
    "x_train,x_test,y_train,y_test=train_test_split(x,y,test_size=0.20,random_state=42)"
   ]
  },
  {
   "cell_type": "code",
   "execution_count": 51,
   "id": "026e830f",
   "metadata": {},
   "outputs": [
    {
     "data": {
      "text/plain": [
       "array([[ 0.62257137, -0.28695003,  0.00617053],\n",
       "       [ 0.62257137, -0.20899123, -0.14985577],\n",
       "       [-0.72127171, -1.45633194, -1.16402677],\n",
       "       ...,\n",
       "       [ 0.62257137,  1.50610224,  0.55226261],\n",
       "       [ 0.62257137,  0.18080274, -0.22786893],\n",
       "       [-0.72127171, -1.14449676, -1.08601362]])"
      ]
     },
     "execution_count": 51,
     "metadata": {},
     "output_type": "execute_result"
    }
   ],
   "source": [
    "from sklearn.preprocessing import StandardScaler\n",
    "#mean=0 and std=1\n",
    "sc=StandardScaler()\n",
    "x=sc.fit_transform(x)\n",
    "x\n"
   ]
  },
  {
   "cell_type": "code",
   "execution_count": 52,
   "id": "2050dd7f",
   "metadata": {},
   "outputs": [
    {
     "data": {
      "text/html": [
       "<div>\n",
       "<style scoped>\n",
       "    .dataframe tbody tr th:only-of-type {\n",
       "        vertical-align: middle;\n",
       "    }\n",
       "\n",
       "    .dataframe tbody tr th {\n",
       "        vertical-align: top;\n",
       "    }\n",
       "\n",
       "    .dataframe thead th {\n",
       "        text-align: right;\n",
       "    }\n",
       "</style>\n",
       "<table border=\"1\" class=\"dataframe\">\n",
       "  <thead>\n",
       "    <tr style=\"text-align: right;\">\n",
       "      <th></th>\n",
       "      <th>vif</th>\n",
       "      <th>features</th>\n",
       "    </tr>\n",
       "  </thead>\n",
       "  <tbody>\n",
       "    <tr>\n",
       "      <th>0</th>\n",
       "      <td>1.388617</td>\n",
       "      <td>rank</td>\n",
       "    </tr>\n",
       "    <tr>\n",
       "      <th>1</th>\n",
       "      <td>6.335935</td>\n",
       "      <td>yrs.since.phd</td>\n",
       "    </tr>\n",
       "    <tr>\n",
       "      <th>2</th>\n",
       "      <td>5.738815</td>\n",
       "      <td>yrs.service</td>\n",
       "    </tr>\n",
       "  </tbody>\n",
       "</table>\n",
       "</div>"
      ],
      "text/plain": [
       "        vif       features\n",
       "0  1.388617           rank\n",
       "1  6.335935  yrs.since.phd\n",
       "2  5.738815    yrs.service"
      ]
     },
     "execution_count": 52,
     "metadata": {},
     "output_type": "execute_result"
    }
   ],
   "source": [
    "from statsmodels.stats.outliers_influence import variance_inflation_factor\n",
    "vif=pd.DataFrame()\n",
    "vif[\"vif\"]=[variance_inflation_factor(x,i) for i in range(x.shape[1])]\n",
    "vif[\"features\"]=x_train.columns\n",
    "vif"
   ]
  },
  {
   "cell_type": "markdown",
   "id": "66ed0ffd",
   "metadata": {},
   "source": [
    "There is a multicolliniarty exist in the dataset\n"
   ]
  },
  {
   "cell_type": "code",
   "execution_count": 53,
   "id": "21733c5b",
   "metadata": {},
   "outputs": [
    {
     "data": {
      "text/plain": [
       "0.41923110680257997"
      ]
     },
     "execution_count": 53,
     "metadata": {},
     "output_type": "execute_result"
    }
   ],
   "source": [
    "correlation=df.corr()\n",
    "correlation.loc['yrs.since.phd','salary']"
   ]
  },
  {
   "cell_type": "code",
   "execution_count": 54,
   "id": "26c5371d",
   "metadata": {},
   "outputs": [
    {
     "data": {
      "text/plain": [
       "0.3347446756998624"
      ]
     },
     "execution_count": 54,
     "metadata": {},
     "output_type": "execute_result"
    }
   ],
   "source": [
    "correlation.loc['yrs.service','salary']"
   ]
  },
  {
   "cell_type": "code",
   "execution_count": 55,
   "id": "91f10256",
   "metadata": {},
   "outputs": [
    {
     "data": {
      "text/plain": [
       "(0.9096491483396812, 8.496052063679043e-153)"
      ]
     },
     "execution_count": 55,
     "metadata": {},
     "output_type": "execute_result"
    }
   ],
   "source": [
    "import scipy.stats as stats\n",
    "r=stats.pearsonr(df['yrs.since.phd'],df['yrs.service'])\n",
    "r"
   ]
  },
  {
   "cell_type": "markdown",
   "id": "c159740b",
   "metadata": {},
   "source": [
    "from the above pearsons rank correlation 'yrs.since.phd' is 0.90 and 'yrs.service' is 8.49 so we can drop the yrs.service column"
   ]
  },
  {
   "cell_type": "code",
   "execution_count": 56,
   "id": "ff3b19a5",
   "metadata": {},
   "outputs": [],
   "source": [
    "#df_new.drop(['yrs.service'],axis=1,inplace=True)\n",
    "#df_new\n"
   ]
  },
  {
   "cell_type": "code",
   "execution_count": 57,
   "id": "e3db8875",
   "metadata": {},
   "outputs": [],
   "source": [
    "df_new.drop('yrs.service',inplace=True,axis=1)"
   ]
  },
  {
   "cell_type": "code",
   "execution_count": 58,
   "id": "abc22f87",
   "metadata": {},
   "outputs": [
    {
     "data": {
      "text/html": [
       "<div>\n",
       "<style scoped>\n",
       "    .dataframe tbody tr th:only-of-type {\n",
       "        vertical-align: middle;\n",
       "    }\n",
       "\n",
       "    .dataframe tbody tr th {\n",
       "        vertical-align: top;\n",
       "    }\n",
       "\n",
       "    .dataframe thead th {\n",
       "        text-align: right;\n",
       "    }\n",
       "</style>\n",
       "<table border=\"1\" class=\"dataframe\">\n",
       "  <thead>\n",
       "    <tr style=\"text-align: right;\">\n",
       "      <th></th>\n",
       "      <th>rank</th>\n",
       "      <th>yrs.since.phd</th>\n",
       "    </tr>\n",
       "  </thead>\n",
       "  <tbody>\n",
       "    <tr>\n",
       "      <th>0</th>\n",
       "      <td>2.0</td>\n",
       "      <td>19</td>\n",
       "    </tr>\n",
       "    <tr>\n",
       "      <th>1</th>\n",
       "      <td>2.0</td>\n",
       "      <td>20</td>\n",
       "    </tr>\n",
       "    <tr>\n",
       "      <th>2</th>\n",
       "      <td>1.0</td>\n",
       "      <td>4</td>\n",
       "    </tr>\n",
       "    <tr>\n",
       "      <th>3</th>\n",
       "      <td>2.0</td>\n",
       "      <td>45</td>\n",
       "    </tr>\n",
       "    <tr>\n",
       "      <th>4</th>\n",
       "      <td>2.0</td>\n",
       "      <td>40</td>\n",
       "    </tr>\n",
       "  </tbody>\n",
       "</table>\n",
       "</div>"
      ],
      "text/plain": [
       "   rank  yrs.since.phd\n",
       "0   2.0             19\n",
       "1   2.0             20\n",
       "2   1.0              4\n",
       "3   2.0             45\n",
       "4   2.0             40"
      ]
     },
     "execution_count": 58,
     "metadata": {},
     "output_type": "execute_result"
    }
   ],
   "source": [
    "x=df_new.iloc[:,:-1]\n",
    "x.head()"
   ]
  },
  {
   "cell_type": "code",
   "execution_count": null,
   "id": "c89f3df9",
   "metadata": {},
   "outputs": [],
   "source": []
  },
  {
   "cell_type": "code",
   "execution_count": 59,
   "id": "5feea5ba",
   "metadata": {},
   "outputs": [
    {
     "data": {
      "text/plain": [
       "(354,)"
      ]
     },
     "execution_count": 59,
     "metadata": {},
     "output_type": "execute_result"
    }
   ],
   "source": [
    "y=df_new.iloc[:,-1]\n",
    "y.shape"
   ]
  },
  {
   "cell_type": "code",
   "execution_count": 60,
   "id": "345a51e2",
   "metadata": {},
   "outputs": [],
   "source": [
    "x_train,x_test,y_train,y_test=train_test_split(x,y,test_size=0.20,random_state=42)"
   ]
  },
  {
   "cell_type": "code",
   "execution_count": 61,
   "id": "04674002",
   "metadata": {},
   "outputs": [
    {
     "data": {
      "text/plain": [
       "array([[ 0.57719753,  0.10751915],\n",
       "       [ 0.57719753,  1.19146536],\n",
       "       [ 0.57719753,  0.41721806],\n",
       "       [ 0.57719753, -0.43445396],\n",
       "       [-0.84321031, -1.67324963],\n",
       "       [ 0.57719753,  0.95919117],\n",
       "       [-2.26361815,  0.33979334],\n",
       "       [ 0.57719753,  1.11404063],\n",
       "       [ 0.57719753,  0.18494388],\n",
       "       [-2.26361815,  1.34631482],\n",
       "       [ 0.57719753,  1.65601373],\n",
       "       [ 0.57719753, -0.20217977],\n",
       "       [ 0.57719753, -0.2796045 ],\n",
       "       [-0.84321031, -1.20870125],\n",
       "       [ 0.57719753,  2.50768576],\n",
       "       [ 0.57719753, -0.12475504],\n",
       "       [ 0.57719753, -0.43445396],\n",
       "       [ 0.57719753,  2.3528363 ],\n",
       "       [-2.26361815,  1.65601373],\n",
       "       [ 0.57719753,  1.65601373],\n",
       "       [ 0.57719753,  0.88176644],\n",
       "       [ 0.57719753, -0.89900233],\n",
       "       [ 0.57719753,  0.33979334],\n",
       "       [-0.84321031, -1.20870125],\n",
       "       [-0.84321031, -1.67324963],\n",
       "       [ 0.57719753,  1.0366159 ],\n",
       "       [ 0.57719753,  0.26236861],\n",
       "       [-0.84321031, -1.44097544],\n",
       "       [ 0.57719753,  0.49464279],\n",
       "       [ 0.57719753,  1.11404063],\n",
       "       [ 0.57719753, -0.51187869],\n",
       "       [ 0.57719753,  1.50116427],\n",
       "       [ 0.57719753, -0.20217977],\n",
       "       [-2.26361815, -1.20870125],\n",
       "       [ 0.57719753,  0.72691698],\n",
       "       [-2.26361815, -1.05385179],\n",
       "       [ 0.57719753,  0.64949225],\n",
       "       [ 0.57719753,  1.26889009],\n",
       "       [-0.84321031, -0.97642706],\n",
       "       [-2.26361815, -1.05385179],\n",
       "       [ 0.57719753,  0.95919117],\n",
       "       [ 0.57719753, -0.35702923],\n",
       "       [-2.26361815, -1.05385179],\n",
       "       [ 0.57719753,  0.33979334],\n",
       "       [ 0.57719753,  0.57206752],\n",
       "       [ 0.57719753, -0.20217977],\n",
       "       [ 0.57719753, -0.74415288],\n",
       "       [-0.84321031, -1.44097544],\n",
       "       [ 0.57719753, -0.20217977],\n",
       "       [ 0.57719753, -0.12475504],\n",
       "       [-2.26361815, -0.04733031],\n",
       "       [ 0.57719753,  0.33979334],\n",
       "       [-0.84321031, -1.51840017],\n",
       "       [ 0.57719753,  0.26236861],\n",
       "       [ 0.57719753,  1.73343846],\n",
       "       [ 0.57719753,  0.26236861],\n",
       "       [ 0.57719753, -0.35702923],\n",
       "       [ 0.57719753, -0.51187869],\n",
       "       [-0.84321031, -1.51840017],\n",
       "       [-2.26361815,  0.49464279],\n",
       "       [ 0.57719753,  0.49464279],\n",
       "       [-2.26361815, -0.97642706],\n",
       "       [ 0.57719753, -0.04733031],\n",
       "       [-0.84321031, -1.28612598],\n",
       "       [ 0.57719753,  0.33979334],\n",
       "       [-0.84321031, -1.20870125],\n",
       "       [ 0.57719753, -0.20217977],\n",
       "       [ 0.57719753,  2.12056211],\n",
       "       [ 0.57719753, -0.43445396],\n",
       "       [ 0.57719753,  1.26889009],\n",
       "       [ 0.57719753, -0.35702923],\n",
       "       [ 0.57719753, -0.58930342],\n",
       "       [-0.84321031, -1.36355071],\n",
       "       [-2.26361815, -0.97642706],\n",
       "       [ 0.57719753,  1.50116427],\n",
       "       [ 0.57719753, -0.74415288],\n",
       "       [ 0.57719753, -0.2796045 ],\n",
       "       [ 0.57719753, -0.58930342],\n",
       "       [ 0.57719753, -0.04733031],\n",
       "       [-2.26361815, -0.35702923],\n",
       "       [ 0.57719753, -0.12475504],\n",
       "       [-0.84321031, -1.36355071],\n",
       "       [ 0.57719753,  0.88176644],\n",
       "       [ 0.57719753,  1.26889009],\n",
       "       [ 0.57719753, -0.43445396],\n",
       "       [-0.84321031, -1.5958249 ],\n",
       "       [-0.84321031, -1.5958249 ],\n",
       "       [ 0.57719753, -0.58930342],\n",
       "       [ 0.57719753, -0.12475504],\n",
       "       [-0.84321031, -1.51840017],\n",
       "       [ 0.57719753,  0.10751915],\n",
       "       [ 0.57719753,  0.80434171],\n",
       "       [ 0.57719753,  1.34631482],\n",
       "       [ 0.57719753,  0.64949225],\n",
       "       [ 0.57719753,  0.80434171],\n",
       "       [ 0.57719753,  1.0366159 ],\n",
       "       [ 0.57719753,  0.41721806],\n",
       "       [ 0.57719753,  1.0366159 ],\n",
       "       [-0.84321031, -1.44097544],\n",
       "       [ 0.57719753,  1.65601373],\n",
       "       [ 0.57719753,  0.95919117],\n",
       "       [ 0.57719753,  1.19146536],\n",
       "       [-0.84321031, -1.51840017],\n",
       "       [ 0.57719753, -0.35702923],\n",
       "       [-0.84321031, -1.75067436],\n",
       "       [ 0.57719753,  0.57206752],\n",
       "       [ 0.57719753,  1.73343846],\n",
       "       [-2.26361815, -0.97642706],\n",
       "       [ 0.57719753,  1.65601373],\n",
       "       [ 0.57719753,  1.19146536],\n",
       "       [-2.26361815, -1.05385179],\n",
       "       [ 0.57719753,  0.72691698],\n",
       "       [ 0.57719753,  1.578589  ],\n",
       "       [ 0.57719753,  0.72691698],\n",
       "       [ 0.57719753,  0.49464279],\n",
       "       [ 0.57719753,  0.10751915],\n",
       "       [ 0.57719753,  0.57206752],\n",
       "       [-0.84321031, -1.51840017],\n",
       "       [-2.26361815, -0.8215776 ],\n",
       "       [ 0.57719753,  0.26236861],\n",
       "       [-0.84321031, -1.51840017],\n",
       "       [ 0.57719753, -0.58930342],\n",
       "       [-2.26361815, -0.8215776 ],\n",
       "       [ 0.57719753,  1.11404063],\n",
       "       [-0.84321031, -1.20870125],\n",
       "       [-2.26361815, -0.66672815],\n",
       "       [ 0.57719753,  0.18494388],\n",
       "       [ 0.57719753, -0.58930342],\n",
       "       [ 0.57719753,  1.96571265],\n",
       "       [-0.84321031, -1.51840017],\n",
       "       [ 0.57719753,  1.0366159 ],\n",
       "       [-2.26361815, -0.8215776 ],\n",
       "       [ 0.57719753, -0.8215776 ],\n",
       "       [-2.26361815, -0.51187869],\n",
       "       [ 0.57719753, -0.2796045 ],\n",
       "       [ 0.57719753,  0.03009442],\n",
       "       [ 0.57719753,  1.73343846],\n",
       "       [ 0.57719753,  1.19146536],\n",
       "       [-2.26361815, -0.89900233],\n",
       "       [ 0.57719753, -0.2796045 ],\n",
       "       [ 0.57719753,  0.88176644],\n",
       "       [ 0.57719753, -0.58930342],\n",
       "       [ 0.57719753,  0.88176644],\n",
       "       [ 0.57719753, -0.51187869],\n",
       "       [-0.84321031, -1.20870125],\n",
       "       [ 0.57719753,  0.49464279],\n",
       "       [ 0.57719753,  1.19146536],\n",
       "       [ 0.57719753, -0.51187869],\n",
       "       [ 0.57719753,  0.18494388],\n",
       "       [-0.84321031, -1.67324963],\n",
       "       [ 0.57719753, -0.04733031],\n",
       "       [-0.84321031, -1.28612598],\n",
       "       [-2.26361815, -1.13127652],\n",
       "       [ 0.57719753, -0.20217977],\n",
       "       [ 0.57719753, -0.2796045 ],\n",
       "       [ 0.57719753,  0.57206752],\n",
       "       [-0.84321031, -1.51840017],\n",
       "       [ 0.57719753,  1.19146536],\n",
       "       [-2.26361815, -1.13127652],\n",
       "       [ 0.57719753,  1.26889009],\n",
       "       [ 0.57719753,  0.72691698],\n",
       "       [ 0.57719753, -0.51187869],\n",
       "       [ 0.57719753,  1.11404063],\n",
       "       [ 0.57719753,  0.26236861],\n",
       "       [-0.84321031, -1.75067436],\n",
       "       [ 0.57719753, -0.58930342],\n",
       "       [-0.84321031, -1.51840017],\n",
       "       [ 0.57719753,  0.33979334],\n",
       "       [ 0.57719753, -0.66672815],\n",
       "       [ 0.57719753, -0.89900233],\n",
       "       [ 0.57719753,  0.72691698],\n",
       "       [-0.84321031, -1.75067436],\n",
       "       [ 0.57719753,  0.72691698],\n",
       "       [ 0.57719753,  1.26889009],\n",
       "       [ 0.57719753, -0.35702923],\n",
       "       [ 0.57719753,  1.19146536],\n",
       "       [ 0.57719753,  0.57206752],\n",
       "       [-2.26361815, -0.2796045 ],\n",
       "       [ 0.57719753, -0.20217977],\n",
       "       [ 0.57719753,  0.64949225],\n",
       "       [-2.26361815,  0.41721806],\n",
       "       [ 0.57719753,  0.64949225],\n",
       "       [ 0.57719753,  0.41721806],\n",
       "       [ 0.57719753, -0.04733031],\n",
       "       [-0.84321031, -1.51840017],\n",
       "       [-0.84321031, -1.51840017],\n",
       "       [-0.84321031, -1.5958249 ],\n",
       "       [ 0.57719753,  0.49464279],\n",
       "       [ 0.57719753,  0.41721806],\n",
       "       [ 0.57719753, -0.04733031],\n",
       "       [-0.84321031, -1.28612598],\n",
       "       [-0.84321031, -1.5958249 ],\n",
       "       [ 0.57719753,  0.10751915],\n",
       "       [ 0.57719753, -0.2796045 ],\n",
       "       [ 0.57719753,  0.41721806],\n",
       "       [ 0.57719753,  0.57206752],\n",
       "       [ 0.57719753, -0.35702923],\n",
       "       [ 0.57719753, -0.43445396],\n",
       "       [ 0.57719753,  1.11404063],\n",
       "       [ 0.57719753,  0.18494388],\n",
       "       [ 0.57719753,  0.88176644],\n",
       "       [-2.26361815, -1.36355071],\n",
       "       [ 0.57719753, -0.74415288],\n",
       "       [ 0.57719753, -0.20217977],\n",
       "       [-0.84321031, -1.20870125],\n",
       "       [ 0.57719753, -0.89900233],\n",
       "       [ 0.57719753, -0.97642706],\n",
       "       [ 0.57719753,  1.26889009],\n",
       "       [-2.26361815, -1.05385179],\n",
       "       [ 0.57719753,  0.49464279],\n",
       "       [ 0.57719753, -0.20217977],\n",
       "       [ 0.57719753,  0.88176644],\n",
       "       [ 0.57719753,  1.19146536],\n",
       "       [ 0.57719753, -0.8215776 ],\n",
       "       [ 0.57719753,  0.10751915],\n",
       "       [ 0.57719753,  1.11404063],\n",
       "       [ 0.57719753,  1.50116427],\n",
       "       [-2.26361815,  1.96571265],\n",
       "       [ 0.57719753,  0.41721806],\n",
       "       [ 0.57719753, -0.66672815],\n",
       "       [ 0.57719753, -0.74415288],\n",
       "       [-2.26361815, -1.13127652],\n",
       "       [ 0.57719753,  0.72691698],\n",
       "       [ 0.57719753, -0.89900233],\n",
       "       [ 0.57719753,  0.33979334],\n",
       "       [ 0.57719753, -0.58930342],\n",
       "       [-2.26361815, -0.97642706],\n",
       "       [ 0.57719753,  0.64949225],\n",
       "       [ 0.57719753,  0.72691698],\n",
       "       [ 0.57719753, -0.2796045 ],\n",
       "       [-2.26361815, -1.05385179],\n",
       "       [ 0.57719753,  1.11404063],\n",
       "       [-0.84321031, -1.20870125],\n",
       "       [-2.26361815, -1.13127652],\n",
       "       [ 0.57719753, -0.51187869],\n",
       "       [ 0.57719753,  0.57206752],\n",
       "       [-0.84321031, -1.5958249 ],\n",
       "       [ 0.57719753,  1.96571265],\n",
       "       [ 0.57719753, -0.89900233],\n",
       "       [ 0.57719753, -0.2796045 ],\n",
       "       [ 0.57719753,  0.33979334],\n",
       "       [ 0.57719753,  0.57206752],\n",
       "       [ 0.57719753,  1.50116427],\n",
       "       [ 0.57719753,  1.26889009],\n",
       "       [-0.84321031, -1.75067436],\n",
       "       [ 0.57719753,  1.34631482],\n",
       "       [-2.26361815, -1.20870125],\n",
       "       [ 0.57719753,  0.57206752],\n",
       "       [-0.84321031, -1.51840017],\n",
       "       [-0.84321031, -1.20870125],\n",
       "       [ 0.57719753,  1.11404063],\n",
       "       [-2.26361815, -0.97642706],\n",
       "       [ 0.57719753,  1.42373955],\n",
       "       [ 0.57719753, -0.66672815],\n",
       "       [-2.26361815,  1.88828792],\n",
       "       [ 0.57719753,  0.33979334],\n",
       "       [-2.26361815, -1.13127652],\n",
       "       [ 0.57719753,  1.81086319],\n",
       "       [ 0.57719753,  0.33979334],\n",
       "       [ 0.57719753,  0.03009442],\n",
       "       [ 0.57719753, -0.12475504],\n",
       "       [ 0.57719753, -0.04733031],\n",
       "       [ 0.57719753, -0.2796045 ],\n",
       "       [ 0.57719753, -0.66672815],\n",
       "       [ 0.57719753, -0.04733031],\n",
       "       [ 0.57719753,  0.64949225],\n",
       "       [-0.84321031, -1.51840017],\n",
       "       [ 0.57719753,  1.0366159 ],\n",
       "       [ 0.57719753, -0.20217977],\n",
       "       [-2.26361815, -0.51187869],\n",
       "       [ 0.57719753,  1.0366159 ],\n",
       "       [ 0.57719753,  1.42373955],\n",
       "       [ 0.57719753,  0.49464279],\n",
       "       [ 0.57719753, -0.35702923],\n",
       "       [ 0.57719753, -0.35702923],\n",
       "       [-0.84321031, -1.20870125],\n",
       "       [ 0.57719753,  0.80434171],\n",
       "       [ 0.57719753,  0.18494388],\n",
       "       [ 0.57719753, -0.12475504],\n",
       "       [ 0.57719753,  0.03009442],\n",
       "       [ 0.57719753,  1.73343846],\n",
       "       [ 0.57719753,  0.49464279],\n",
       "       [ 0.57719753,  1.19146536]])"
      ]
     },
     "execution_count": 61,
     "metadata": {},
     "output_type": "execute_result"
    }
   ],
   "source": [
    "from sklearn.preprocessing import StandardScaler\n",
    "sc_x=StandardScaler()\n",
    "x_train=sc_x.fit_transform(x_train)\n",
    "x_test=sc_x.transform(x_test)\n",
    "x_train"
   ]
  },
  {
   "cell_type": "code",
   "execution_count": 62,
   "id": "a6bb9bda",
   "metadata": {},
   "outputs": [
    {
     "data": {
      "text/plain": [
       "0.2657830199994369"
      ]
     },
     "execution_count": 62,
     "metadata": {},
     "output_type": "execute_result"
    }
   ],
   "source": [
    "lm=LinearRegression()\n",
    "lm.fit(x_train,y_train)\n",
    "lm.score(x_train,y_train)"
   ]
  },
  {
   "cell_type": "code",
   "execution_count": 63,
   "id": "8abd7c50",
   "metadata": {},
   "outputs": [
    {
     "name": "stdout",
     "output_type": "stream",
     "text": [
      "predicted result price [121784.34645404 124135.88497826  81424.49240999 126193.48118695\n",
      " 122372.2310851   99399.85206556 121490.40413851 126193.48118695\n",
      "  98224.08280345 127075.30813353  98518.02511898  84363.91556526\n",
      " 125017.71192484 120314.63487641  82894.20398762 124135.88497826\n",
      " 121784.34645404  81130.55009446 123841.94266273 119726.75024535\n",
      " 123841.94266273  97930.14048793 128251.07739563 127957.13508011\n",
      "  81130.55009446  99105.90975004 120020.69256088 120020.69256088\n",
      " 100575.62132767 120314.63487641 121490.40413851  82306.31935657\n",
      " 123841.94266273  98811.96743451  85245.74251184 123254.05803168\n",
      " 122078.28876957 119726.75024535  83188.14630315  84069.97324973\n",
      " 124135.88497826  98518.02511898 119726.75024535 128251.07739563\n",
      " 127075.30813353  98518.02511898  81424.49240999  80542.66546341\n",
      "  82306.31935657  82306.31935657 122372.2310851  126781.365818\n",
      " 126781.365818    81718.43472552  82600.2616721   99987.73669662\n",
      " 129132.90434222  99399.85206556 123254.05803168 122960.11571615\n",
      " 124135.88497826  82894.20398762 122960.11571615  81424.49240999\n",
      "  99105.90975004 119726.75024535 120314.63487641 122666.17340062\n",
      " 131190.5005509   81718.43472552  98518.02511898]\n",
      "actual price 251    102000\n",
      "50     126621\n",
      "321     95642\n",
      "206    162200\n",
      "66     101000\n",
      "        ...  \n",
      "385    114330\n",
      "221    145200\n",
      "276    107200\n",
      "107     82600\n",
      "210     91000\n",
      "Name: salary, Length: 71, dtype: int64\n"
     ]
    }
   ],
   "source": [
    "pred=lm.predict(x_test)\n",
    "print(\"predicted result price\",pred)\n",
    "print(\"actual price\",y_test)"
   ]
  },
  {
   "cell_type": "code",
   "execution_count": 64,
   "id": "b3af41b9",
   "metadata": {},
   "outputs": [
    {
     "name": "stdout",
     "output_type": "stream",
     "text": [
      "0.26578301999941123\n"
     ]
    }
   ],
   "source": [
    "from sklearn.linear_model import Lasso,Ridge\n",
    "ls=Ridge(alpha=0.0001)\n",
    "ls.fit(x_train,y_train)\n",
    "print(ls.score(x_train,y_train))"
   ]
  },
  {
   "cell_type": "code",
   "execution_count": 65,
   "id": "bf189d03",
   "metadata": {},
   "outputs": [
    {
     "name": "stdout",
     "output_type": "stream",
     "text": [
      "462121024.5077548\n"
     ]
    }
   ],
   "source": [
    "predlasso=ls.predict(x_test)\n",
    "print(mean_squared_error(y_test,predlasso))"
   ]
  },
  {
   "cell_type": "code",
   "execution_count": 66,
   "id": "e72b2988",
   "metadata": {},
   "outputs": [
    {
     "data": {
      "text/plain": [
       "(0.3141792431038837, 16551.580380574047, 22088.002463883044)"
      ]
     },
     "execution_count": 66,
     "metadata": {},
     "output_type": "execute_result"
    }
   ],
   "source": [
    "from sklearn.linear_model import LinearRegression\n",
    "from sklearn.tree import DecisionTreeRegressor\n",
    "from sklearn.metrics import r2_score, mean_absolute_error, mean_squared_error\n",
    "\n",
    "#Create a LinearRegression object\n",
    "lr= LinearRegression()\n",
    "#Fit X and y \n",
    "lr.fit(x_train, y_train)\n",
    "ypred = lr.predict(x_test)\n",
    "#Metrics to evaluate your model \n",
    "r2_score(y_test, ypred), mean_absolute_error(y_test, ypred), np.sqrt(mean_squared_error(y_test, ypred))\n",
    "\n",
    "\n",
    "dt = DecisionTreeRegressor()\n",
    "dt.fit(x_train, y_train)\n",
    "yhat = dt.predict(x_test)\n",
    "r2_score(y_test, yhat), mean_absolute_error(y_test, yhat), np.sqrt(mean_squared_error(y_test, yhat))\n"
   ]
  },
  {
   "cell_type": "code",
   "execution_count": 67,
   "id": "7912a59d",
   "metadata": {},
   "outputs": [],
   "source": [
    "from sklearn.model_selection import GridSearchCV\n",
    "from sklearn.model_selection import cross_val_score\n",
    "import warnings\n",
    "warnings.filterwarnings('ignore')"
   ]
  },
  {
   "cell_type": "code",
   "execution_count": 68,
   "id": "619a564d",
   "metadata": {},
   "outputs": [
    {
     "name": "stdout",
     "output_type": "stream",
     "text": [
      "{'alpha': 1.0}\n"
     ]
    }
   ],
   "source": [
    "from sklearn.linear_model import Lasso\n",
    "params={'alpha':[0.0001,0.001,0.01,0.01,0.1,1.0]}\n",
    "ls=Lasso()\n",
    "clf=GridSearchCV(ls,params)\n",
    "clf.fit(x_train,y_train)\n",
    "print(clf.best_params_)"
   ]
  },
  {
   "cell_type": "code",
   "execution_count": 69,
   "id": "dee7b8ea",
   "metadata": {},
   "outputs": [
    {
     "data": {
      "text/plain": [
       "0.3503928689371717"
      ]
     },
     "execution_count": 69,
     "metadata": {},
     "output_type": "execute_result"
    }
   ],
   "source": [
    "ls=Lasso(alpha=1,random_state=0)\n",
    "ls.fit(x_train,y_train)\n",
    "ls.score(x_train,y_train)\n",
    "pred_ls=ls.predict(x_test)\n",
    "lss=r2_score(y_test,pred_ls)\n",
    "lss"
   ]
  },
  {
   "cell_type": "code",
   "execution_count": 70,
   "id": "d2fbb7f2",
   "metadata": {},
   "outputs": [
    {
     "data": {
      "text/plain": [
       "0.2558544410069993"
      ]
     },
     "execution_count": 70,
     "metadata": {},
     "output_type": "execute_result"
    }
   ],
   "source": [
    "cv_score=cross_val_score(ls,x,y,cv=5)\n",
    "cv_mean=cv_score.mean()\n",
    "cv_mean"
   ]
  },
  {
   "cell_type": "markdown",
   "id": "6315d25f",
   "metadata": {},
   "source": [
    "# Ensemble Technique"
   ]
  },
  {
   "cell_type": "code",
   "execution_count": 71,
   "id": "81f96546",
   "metadata": {},
   "outputs": [
    {
     "name": "stdout",
     "output_type": "stream",
     "text": [
      "{'criterion': 'mae', 'max_features': 'log2'}\n"
     ]
    }
   ],
   "source": [
    "from sklearn.model_selection import GridSearchCV\n",
    "from sklearn.ensemble import RandomForestRegressor\n",
    "params={'criterion':['mse','mae'],'max_features':['auto','sqrt','log2']}\n",
    "rf=RandomForestRegressor()\n",
    "clf=GridSearchCV(rf,params)\n",
    "clf.fit(x_train,y_train)\n",
    "print(clf.best_params_)"
   ]
  },
  {
   "cell_type": "code",
   "execution_count": 72,
   "id": "475b3b19",
   "metadata": {},
   "outputs": [
    {
     "data": {
      "text/plain": [
       "<bound method RegressorMixin.score of RandomForestRegressor()>"
      ]
     },
     "execution_count": 72,
     "metadata": {},
     "output_type": "execute_result"
    }
   ],
   "source": [
    "rf=RandomForestRegressor(criterion=\"mse\",max_features='auto')\n",
    "rf.fit(x_train,y_train)\n",
    "rf.score(x_train,y_train)\n",
    "rf.score"
   ]
  },
  {
   "cell_type": "code",
   "execution_count": 73,
   "id": "a3c6d41a",
   "metadata": {},
   "outputs": [
    {
     "data": {
      "text/plain": [
       "array([129013.72281934, 122891.86241461,  91843.63133261, 122584.81416089,\n",
       "       151546.54586219,  82371.68790476, 122654.63962457, 122584.81416089,\n",
       "        77099.6333925 , 116948.94861103,  82819.88136317,  83601.79383333,\n",
       "       128553.52014264, 133215.25812698, 110508.0495119 , 122891.86241461,\n",
       "       129013.72281934,  88155.49216667, 127197.05894012, 110652.22190476,\n",
       "       127197.05894012,  85372.97314286, 119191.57107143, 125314.00251984,\n",
       "        88155.49216667,  80977.19097619, 113444.35784524, 113444.35784524,\n",
       "        81184.35293579, 133215.25812698, 122654.63962457, 112039.46291667,\n",
       "       127197.05894012,  75561.84418778,  90200.92      , 137502.57805952,\n",
       "       121981.40369473, 110652.22190476,  92674.35708333,  98644.794     ,\n",
       "       122891.86241461,  82819.88136317, 110652.22190476, 119191.57107143,\n",
       "       116948.94861103,  82819.88136317,  91843.63133261,  92785.21866667,\n",
       "       112039.46291667, 112039.46291667, 151546.54586219, 128832.31747835,\n",
       "       128832.31747835,  97119.75748124, 111217.64522619,  77938.03070668,\n",
       "       139408.46013095,  82371.68790476, 137502.57805952, 103560.23197619,\n",
       "       122891.86241461, 110508.0495119 , 103560.23197619,  91843.63133261,\n",
       "        80977.19097619, 110652.22190476, 133215.25812698, 119945.83494042,\n",
       "        67794.61933333,  97119.75748124,  82819.88136317])"
      ]
     },
     "execution_count": 73,
     "metadata": {},
     "output_type": "execute_result"
    }
   ],
   "source": [
    "pred_desc=rf.predict(x_test)\n",
    "pred_desc"
   ]
  },
  {
   "cell_type": "code",
   "execution_count": 74,
   "id": "bb77f5f7",
   "metadata": {},
   "outputs": [
    {
     "name": "stdout",
     "output_type": "stream",
     "text": [
      "cross val score 29.694364189780696\n"
     ]
    }
   ],
   "source": [
    "rfscore=cross_val_score(rf,x,y,cv=5)\n",
    "rfc=rfscore.mean()\n",
    "print('cross val score',rfc*100)"
   ]
  },
  {
   "cell_type": "code",
   "execution_count": 75,
   "id": "ca65041c",
   "metadata": {},
   "outputs": [],
   "source": [
    "from sklearn.preprocessing import PolynomialFeatures\n",
    "poly_train=PolynomialFeatures(degree=2,include_bias=False)\n",
    "x_poly_train=poly_train.fit_transform(x_train)\n",
    "x_poly_test=poly_train.transform(x_test)"
   ]
  },
  {
   "cell_type": "code",
   "execution_count": 76,
   "id": "0ad980f6",
   "metadata": {},
   "outputs": [
    {
     "data": {
      "text/plain": [
       "LinearRegression()"
      ]
     },
     "execution_count": 76,
     "metadata": {},
     "output_type": "execute_result"
    }
   ],
   "source": [
    "lm=LinearRegression()\n",
    "lm.fit(x_poly_train,y_train)"
   ]
  },
  {
   "cell_type": "code",
   "execution_count": 77,
   "id": "8f17b204",
   "metadata": {},
   "outputs": [
    {
     "data": {
      "text/plain": [
       "0.39370888644897095"
      ]
     },
     "execution_count": 77,
     "metadata": {},
     "output_type": "execute_result"
    }
   ],
   "source": [
    "lm.score(x_poly_train,y_train)"
   ]
  },
  {
   "cell_type": "code",
   "execution_count": 78,
   "id": "2424a1f5",
   "metadata": {},
   "outputs": [
    {
     "name": "stdout",
     "output_type": "stream",
     "text": [
      "Predicted salary [128589.91773955 129614.38877227  95506.73232938 127074.83336334\n",
      " 129238.71750488  82866.1495771  128167.34735509 127074.83336334\n",
      "  78108.24070545 125004.74745591  79395.88842515  99690.527563\n",
      " 128918.68988988 125822.59580536  98416.71746109 129614.38877227\n",
      " 128589.91773955  94728.39429947 129715.39439735 124257.53802334\n",
      " 129715.39439735  76755.14598456 121328.374896   122345.63853777\n",
      "  94728.39429947  81774.84286098 125072.79041494 125072.79041494\n",
      "  86576.90642968 125822.59580536 128167.34735509  97449.06441198\n",
      " 129715.39439735  80618.08914366  99669.44960985 129721.06464394\n",
      " 128947.04112281 124257.53802334  98802.37348386  99566.65954501\n",
      " 129614.38877227  79395.88842515 124257.53802334 121328.374896\n",
      " 125004.74745591  79395.88842515  95506.73232938  92975.37723606\n",
      "  97449.06441198  97449.06441198 129238.71750488 125760.22309291\n",
      " 125760.22309291  96219.62335811  97965.61443713  84852.42200577\n",
      " 117883.90196355  82866.1495771  129721.06464394 129625.72926544\n",
      " 129614.38877227  98416.71746109 129625.72926544  95506.73232938\n",
      "  81774.84286098 124257.53802334 125822.59580536 129464.94688576\n",
      " 107556.15341278  96219.62335811  79395.88842515]\n",
      "actual salary 251    102000\n",
      "50     126621\n",
      "321     95642\n",
      "206    162200\n",
      "66     101000\n",
      "        ...  \n",
      "385    114330\n",
      "221    145200\n",
      "276    107200\n",
      "107     82600\n",
      "210     91000\n",
      "Name: salary, Length: 71, dtype: int64\n"
     ]
    }
   ],
   "source": [
    "#predict the values\n",
    "pred=lm.predict(x_poly_test)\n",
    "print(\"Predicted salary\",pred)\n",
    "print(\"actual salary\",y_test)"
   ]
  },
  {
   "cell_type": "code",
   "execution_count": 79,
   "id": "aabbda91",
   "metadata": {},
   "outputs": [
    {
     "data": {
      "text/plain": [
       "251   -26589.917740\n",
       "50     -2993.388772\n",
       "321      135.267671\n",
       "206    35125.166637\n",
       "66    -28238.717505\n",
       "           ...     \n",
       "385   -11492.595805\n",
       "221    15735.053114\n",
       "276     -356.153413\n",
       "107   -13619.623358\n",
       "210    11604.111575\n",
       "Name: salary, Length: 71, dtype: float64"
      ]
     },
     "execution_count": 79,
     "metadata": {},
     "output_type": "execute_result"
    }
   ],
   "source": [
    "diff=y_test-pred\n",
    "diff"
   ]
  },
  {
   "cell_type": "code",
   "execution_count": 80,
   "id": "4f780921",
   "metadata": {},
   "outputs": [
    {
     "name": "stdout",
     "output_type": "stream",
     "text": [
      "error:\n",
      "Mean absolute error: 15671.505305142628\n",
      "Mean Squared error: 403380663.5121779\n",
      "Root Mean Squared error: 20084.33876213449\n"
     ]
    }
   ],
   "source": [
    "print('error:')\n",
    "print('Mean absolute error:',mean_absolute_error(y_test,pred))\n",
    "print('Mean Squared error:',mean_squared_error(y_test,pred))\n",
    "print('Root Mean Squared error:',np.sqrt(mean_squared_error(y_test,pred)))\n",
    "\n",
    "\n"
   ]
  },
  {
   "cell_type": "code",
   "execution_count": 81,
   "id": "df67bce6",
   "metadata": {},
   "outputs": [
    {
     "data": {
      "text/html": [
       "<div>\n",
       "<style scoped>\n",
       "    .dataframe tbody tr th:only-of-type {\n",
       "        vertical-align: middle;\n",
       "    }\n",
       "\n",
       "    .dataframe tbody tr th {\n",
       "        vertical-align: top;\n",
       "    }\n",
       "\n",
       "    .dataframe thead th {\n",
       "        text-align: right;\n",
       "    }\n",
       "</style>\n",
       "<table border=\"1\" class=\"dataframe\">\n",
       "  <thead>\n",
       "    <tr style=\"text-align: right;\">\n",
       "      <th></th>\n",
       "      <th>Actual</th>\n",
       "      <th>Predicted</th>\n",
       "    </tr>\n",
       "  </thead>\n",
       "  <tbody>\n",
       "    <tr>\n",
       "      <th>251</th>\n",
       "      <td>102000</td>\n",
       "      <td>128589.917740</td>\n",
       "    </tr>\n",
       "    <tr>\n",
       "      <th>50</th>\n",
       "      <td>126621</td>\n",
       "      <td>129614.388772</td>\n",
       "    </tr>\n",
       "    <tr>\n",
       "      <th>321</th>\n",
       "      <td>95642</td>\n",
       "      <td>95506.732329</td>\n",
       "    </tr>\n",
       "    <tr>\n",
       "      <th>206</th>\n",
       "      <td>162200</td>\n",
       "      <td>127074.833363</td>\n",
       "    </tr>\n",
       "    <tr>\n",
       "      <th>66</th>\n",
       "      <td>101000</td>\n",
       "      <td>129238.717505</td>\n",
       "    </tr>\n",
       "    <tr>\n",
       "      <th>...</th>\n",
       "      <td>...</td>\n",
       "      <td>...</td>\n",
       "    </tr>\n",
       "    <tr>\n",
       "      <th>385</th>\n",
       "      <td>114330</td>\n",
       "      <td>125822.595805</td>\n",
       "    </tr>\n",
       "    <tr>\n",
       "      <th>221</th>\n",
       "      <td>145200</td>\n",
       "      <td>129464.946886</td>\n",
       "    </tr>\n",
       "    <tr>\n",
       "      <th>276</th>\n",
       "      <td>107200</td>\n",
       "      <td>107556.153413</td>\n",
       "    </tr>\n",
       "    <tr>\n",
       "      <th>107</th>\n",
       "      <td>82600</td>\n",
       "      <td>96219.623358</td>\n",
       "    </tr>\n",
       "    <tr>\n",
       "      <th>210</th>\n",
       "      <td>91000</td>\n",
       "      <td>79395.888425</td>\n",
       "    </tr>\n",
       "  </tbody>\n",
       "</table>\n",
       "<p>71 rows × 2 columns</p>\n",
       "</div>"
      ],
      "text/plain": [
       "     Actual      Predicted\n",
       "251  102000  128589.917740\n",
       "50   126621  129614.388772\n",
       "321   95642   95506.732329\n",
       "206  162200  127074.833363\n",
       "66   101000  129238.717505\n",
       "..      ...            ...\n",
       "385  114330  125822.595805\n",
       "221  145200  129464.946886\n",
       "276  107200  107556.153413\n",
       "107   82600   96219.623358\n",
       "210   91000   79395.888425\n",
       "\n",
       "[71 rows x 2 columns]"
      ]
     },
     "execution_count": 81,
     "metadata": {},
     "output_type": "execute_result"
    }
   ],
   "source": [
    "df=pd.DataFrame({\"Actual\":y_test,\"Predicted\":pred})\n",
    "df"
   ]
  },
  {
   "cell_type": "markdown",
   "id": "51c8a10a",
   "metadata": {},
   "source": [
    "# Regularization"
   ]
  },
  {
   "cell_type": "code",
   "execution_count": 82,
   "id": "0bcf20c1",
   "metadata": {},
   "outputs": [],
   "source": [
    "from sklearn.model_selection import GridSearchCV,RandomizedSearchCV\n",
    "from sklearn.model_selection import cross_val_score\n",
    "from sklearn.metrics import r2_score\n",
    "import warnings\n",
    "warnings.filterwarnings('ignore')"
   ]
  },
  {
   "cell_type": "code",
   "execution_count": 83,
   "id": "bed09091",
   "metadata": {},
   "outputs": [
    {
     "name": "stdout",
     "output_type": "stream",
     "text": [
      "{'alpha': 1}\n",
      "0.2657830185971223\n"
     ]
    },
    {
     "data": {
      "text/plain": [
       "0.3503928689371718"
      ]
     },
     "execution_count": 83,
     "metadata": {},
     "output_type": "execute_result"
    }
   ],
   "source": [
    "from sklearn.linear_model import Lasso\n",
    "param={'alpha':[0.0001,0.001,0.01,0.1,1,1.0]}\n",
    "ls=Lasso()\n",
    "clf=GridSearchCV(ls,param)\n",
    "clf.fit(x_train,y_train)\n",
    "print(clf.best_params_)\n",
    "\n",
    "ls=Lasso(alpha=1,random_state=0)\n",
    "\n",
    "ls.fit(x_train,y_train)\n",
    "print(ls.score(x_train,y_train))\n",
    "predlasso=ls.predict(x_test)\n",
    "predlasso\n",
    "\n",
    "lss=r2_score(y_test,predlasso)\n",
    "lss"
   ]
  },
  {
   "cell_type": "markdown",
   "id": "91976fe7",
   "metadata": {},
   "source": [
    "here lm.score of 39% and with an r2_Score of 35% "
   ]
  },
  {
   "cell_type": "code",
   "execution_count": null,
   "id": "e2e61604",
   "metadata": {},
   "outputs": [],
   "source": []
  }
 ],
 "metadata": {
  "kernelspec": {
   "display_name": "Python 3",
   "language": "python",
   "name": "python3"
  },
  "language_info": {
   "codemirror_mode": {
    "name": "ipython",
    "version": 3
   },
   "file_extension": ".py",
   "mimetype": "text/x-python",
   "name": "python",
   "nbconvert_exporter": "python",
   "pygments_lexer": "ipython3",
   "version": "3.8.8"
  }
 },
 "nbformat": 4,
 "nbformat_minor": 5
}
