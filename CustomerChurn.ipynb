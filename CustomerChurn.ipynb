{
 "cells": [
  {
   "cell_type": "markdown",
   "id": "6b3ef0d3",
   "metadata": {},
   "source": [
    "Customer Churn Analysis\n",
    "Problem Statement:\n",
    "Customer churn is when a company’s customers stop doing business with that company. Businesses are very keen on measuring churn because keeping an existing customer is far less expensive than acquiring a new customer. New business involves working leads through a sales funnel, using marketing and sales budgets to gain additional customers. Existing customers will often have a higher volume of service consumption and can generate additional customer referrals.\n",
    "\n",
    "Customer retention can be achieved with good customer service and products. But the most effective way for a company to prevent attrition of customers is to truly know them. The vast volumes of data collected about customers can be used to build churn prediction models. Knowing who is most likely to defect means that a company can prioritise focused marketing efforts on that subset of their customer base.\n",
    "\n",
    "Preventing customer churn is critically important to the telecommunications sector, as the barriers to entry for switching services are so low. \n",
    "\n",
    "You will examine customer data from IBM Sample Data Sets with the aim of building and comparing several customer churn prediction models. "
   ]
  },
  {
   "cell_type": "markdown",
   "id": "0c0bbebf",
   "metadata": {},
   "source": [
    "import libraries\n"
   ]
  },
  {
   "cell_type": "code",
   "execution_count": 88,
   "id": "1c88700c",
   "metadata": {},
   "outputs": [],
   "source": [
    "import pandas as pd\n",
    "import numpy as np\n",
    "import seaborn as sns\n",
    "import matplotlib.pyplot as plt\n",
    "import warnings\n",
    "warnings.filterwarnings('ignore')"
   ]
  },
  {
   "cell_type": "code",
   "execution_count": 89,
   "id": "2647dd53",
   "metadata": {},
   "outputs": [
    {
     "data": {
      "text/html": [
       "<div>\n",
       "<style scoped>\n",
       "    .dataframe tbody tr th:only-of-type {\n",
       "        vertical-align: middle;\n",
       "    }\n",
       "\n",
       "    .dataframe tbody tr th {\n",
       "        vertical-align: top;\n",
       "    }\n",
       "\n",
       "    .dataframe thead th {\n",
       "        text-align: right;\n",
       "    }\n",
       "</style>\n",
       "<table border=\"1\" class=\"dataframe\">\n",
       "  <thead>\n",
       "    <tr style=\"text-align: right;\">\n",
       "      <th></th>\n",
       "      <th>customerID</th>\n",
       "      <th>gender</th>\n",
       "      <th>SeniorCitizen</th>\n",
       "      <th>Partner</th>\n",
       "      <th>Dependents</th>\n",
       "      <th>tenure</th>\n",
       "      <th>PhoneService</th>\n",
       "      <th>MultipleLines</th>\n",
       "      <th>InternetService</th>\n",
       "      <th>OnlineSecurity</th>\n",
       "      <th>...</th>\n",
       "      <th>DeviceProtection</th>\n",
       "      <th>TechSupport</th>\n",
       "      <th>StreamingTV</th>\n",
       "      <th>StreamingMovies</th>\n",
       "      <th>Contract</th>\n",
       "      <th>PaperlessBilling</th>\n",
       "      <th>PaymentMethod</th>\n",
       "      <th>MonthlyCharges</th>\n",
       "      <th>TotalCharges</th>\n",
       "      <th>Churn</th>\n",
       "    </tr>\n",
       "  </thead>\n",
       "  <tbody>\n",
       "    <tr>\n",
       "      <th>0</th>\n",
       "      <td>7590-VHVEG</td>\n",
       "      <td>Female</td>\n",
       "      <td>0</td>\n",
       "      <td>Yes</td>\n",
       "      <td>No</td>\n",
       "      <td>1</td>\n",
       "      <td>No</td>\n",
       "      <td>No phone service</td>\n",
       "      <td>DSL</td>\n",
       "      <td>No</td>\n",
       "      <td>...</td>\n",
       "      <td>No</td>\n",
       "      <td>No</td>\n",
       "      <td>No</td>\n",
       "      <td>No</td>\n",
       "      <td>Month-to-month</td>\n",
       "      <td>Yes</td>\n",
       "      <td>Electronic check</td>\n",
       "      <td>29.85</td>\n",
       "      <td>29.85</td>\n",
       "      <td>No</td>\n",
       "    </tr>\n",
       "    <tr>\n",
       "      <th>1</th>\n",
       "      <td>5575-GNVDE</td>\n",
       "      <td>Male</td>\n",
       "      <td>0</td>\n",
       "      <td>No</td>\n",
       "      <td>No</td>\n",
       "      <td>34</td>\n",
       "      <td>Yes</td>\n",
       "      <td>No</td>\n",
       "      <td>DSL</td>\n",
       "      <td>Yes</td>\n",
       "      <td>...</td>\n",
       "      <td>Yes</td>\n",
       "      <td>No</td>\n",
       "      <td>No</td>\n",
       "      <td>No</td>\n",
       "      <td>One year</td>\n",
       "      <td>No</td>\n",
       "      <td>Mailed check</td>\n",
       "      <td>56.95</td>\n",
       "      <td>1889.5</td>\n",
       "      <td>No</td>\n",
       "    </tr>\n",
       "    <tr>\n",
       "      <th>2</th>\n",
       "      <td>3668-QPYBK</td>\n",
       "      <td>Male</td>\n",
       "      <td>0</td>\n",
       "      <td>No</td>\n",
       "      <td>No</td>\n",
       "      <td>2</td>\n",
       "      <td>Yes</td>\n",
       "      <td>No</td>\n",
       "      <td>DSL</td>\n",
       "      <td>Yes</td>\n",
       "      <td>...</td>\n",
       "      <td>No</td>\n",
       "      <td>No</td>\n",
       "      <td>No</td>\n",
       "      <td>No</td>\n",
       "      <td>Month-to-month</td>\n",
       "      <td>Yes</td>\n",
       "      <td>Mailed check</td>\n",
       "      <td>53.85</td>\n",
       "      <td>108.15</td>\n",
       "      <td>Yes</td>\n",
       "    </tr>\n",
       "    <tr>\n",
       "      <th>3</th>\n",
       "      <td>7795-CFOCW</td>\n",
       "      <td>Male</td>\n",
       "      <td>0</td>\n",
       "      <td>No</td>\n",
       "      <td>No</td>\n",
       "      <td>45</td>\n",
       "      <td>No</td>\n",
       "      <td>No phone service</td>\n",
       "      <td>DSL</td>\n",
       "      <td>Yes</td>\n",
       "      <td>...</td>\n",
       "      <td>Yes</td>\n",
       "      <td>Yes</td>\n",
       "      <td>No</td>\n",
       "      <td>No</td>\n",
       "      <td>One year</td>\n",
       "      <td>No</td>\n",
       "      <td>Bank transfer (automatic)</td>\n",
       "      <td>42.30</td>\n",
       "      <td>1840.75</td>\n",
       "      <td>No</td>\n",
       "    </tr>\n",
       "    <tr>\n",
       "      <th>4</th>\n",
       "      <td>9237-HQITU</td>\n",
       "      <td>Female</td>\n",
       "      <td>0</td>\n",
       "      <td>No</td>\n",
       "      <td>No</td>\n",
       "      <td>2</td>\n",
       "      <td>Yes</td>\n",
       "      <td>No</td>\n",
       "      <td>Fiber optic</td>\n",
       "      <td>No</td>\n",
       "      <td>...</td>\n",
       "      <td>No</td>\n",
       "      <td>No</td>\n",
       "      <td>No</td>\n",
       "      <td>No</td>\n",
       "      <td>Month-to-month</td>\n",
       "      <td>Yes</td>\n",
       "      <td>Electronic check</td>\n",
       "      <td>70.70</td>\n",
       "      <td>151.65</td>\n",
       "      <td>Yes</td>\n",
       "    </tr>\n",
       "    <tr>\n",
       "      <th>...</th>\n",
       "      <td>...</td>\n",
       "      <td>...</td>\n",
       "      <td>...</td>\n",
       "      <td>...</td>\n",
       "      <td>...</td>\n",
       "      <td>...</td>\n",
       "      <td>...</td>\n",
       "      <td>...</td>\n",
       "      <td>...</td>\n",
       "      <td>...</td>\n",
       "      <td>...</td>\n",
       "      <td>...</td>\n",
       "      <td>...</td>\n",
       "      <td>...</td>\n",
       "      <td>...</td>\n",
       "      <td>...</td>\n",
       "      <td>...</td>\n",
       "      <td>...</td>\n",
       "      <td>...</td>\n",
       "      <td>...</td>\n",
       "      <td>...</td>\n",
       "    </tr>\n",
       "    <tr>\n",
       "      <th>7038</th>\n",
       "      <td>6840-RESVB</td>\n",
       "      <td>Male</td>\n",
       "      <td>0</td>\n",
       "      <td>Yes</td>\n",
       "      <td>Yes</td>\n",
       "      <td>24</td>\n",
       "      <td>Yes</td>\n",
       "      <td>Yes</td>\n",
       "      <td>DSL</td>\n",
       "      <td>Yes</td>\n",
       "      <td>...</td>\n",
       "      <td>Yes</td>\n",
       "      <td>Yes</td>\n",
       "      <td>Yes</td>\n",
       "      <td>Yes</td>\n",
       "      <td>One year</td>\n",
       "      <td>Yes</td>\n",
       "      <td>Mailed check</td>\n",
       "      <td>84.80</td>\n",
       "      <td>1990.5</td>\n",
       "      <td>No</td>\n",
       "    </tr>\n",
       "    <tr>\n",
       "      <th>7039</th>\n",
       "      <td>2234-XADUH</td>\n",
       "      <td>Female</td>\n",
       "      <td>0</td>\n",
       "      <td>Yes</td>\n",
       "      <td>Yes</td>\n",
       "      <td>72</td>\n",
       "      <td>Yes</td>\n",
       "      <td>Yes</td>\n",
       "      <td>Fiber optic</td>\n",
       "      <td>No</td>\n",
       "      <td>...</td>\n",
       "      <td>Yes</td>\n",
       "      <td>No</td>\n",
       "      <td>Yes</td>\n",
       "      <td>Yes</td>\n",
       "      <td>One year</td>\n",
       "      <td>Yes</td>\n",
       "      <td>Credit card (automatic)</td>\n",
       "      <td>103.20</td>\n",
       "      <td>7362.9</td>\n",
       "      <td>No</td>\n",
       "    </tr>\n",
       "    <tr>\n",
       "      <th>7040</th>\n",
       "      <td>4801-JZAZL</td>\n",
       "      <td>Female</td>\n",
       "      <td>0</td>\n",
       "      <td>Yes</td>\n",
       "      <td>Yes</td>\n",
       "      <td>11</td>\n",
       "      <td>No</td>\n",
       "      <td>No phone service</td>\n",
       "      <td>DSL</td>\n",
       "      <td>Yes</td>\n",
       "      <td>...</td>\n",
       "      <td>No</td>\n",
       "      <td>No</td>\n",
       "      <td>No</td>\n",
       "      <td>No</td>\n",
       "      <td>Month-to-month</td>\n",
       "      <td>Yes</td>\n",
       "      <td>Electronic check</td>\n",
       "      <td>29.60</td>\n",
       "      <td>346.45</td>\n",
       "      <td>No</td>\n",
       "    </tr>\n",
       "    <tr>\n",
       "      <th>7041</th>\n",
       "      <td>8361-LTMKD</td>\n",
       "      <td>Male</td>\n",
       "      <td>1</td>\n",
       "      <td>Yes</td>\n",
       "      <td>No</td>\n",
       "      <td>4</td>\n",
       "      <td>Yes</td>\n",
       "      <td>Yes</td>\n",
       "      <td>Fiber optic</td>\n",
       "      <td>No</td>\n",
       "      <td>...</td>\n",
       "      <td>No</td>\n",
       "      <td>No</td>\n",
       "      <td>No</td>\n",
       "      <td>No</td>\n",
       "      <td>Month-to-month</td>\n",
       "      <td>Yes</td>\n",
       "      <td>Mailed check</td>\n",
       "      <td>74.40</td>\n",
       "      <td>306.6</td>\n",
       "      <td>Yes</td>\n",
       "    </tr>\n",
       "    <tr>\n",
       "      <th>7042</th>\n",
       "      <td>3186-AJIEK</td>\n",
       "      <td>Male</td>\n",
       "      <td>0</td>\n",
       "      <td>No</td>\n",
       "      <td>No</td>\n",
       "      <td>66</td>\n",
       "      <td>Yes</td>\n",
       "      <td>No</td>\n",
       "      <td>Fiber optic</td>\n",
       "      <td>Yes</td>\n",
       "      <td>...</td>\n",
       "      <td>Yes</td>\n",
       "      <td>Yes</td>\n",
       "      <td>Yes</td>\n",
       "      <td>Yes</td>\n",
       "      <td>Two year</td>\n",
       "      <td>Yes</td>\n",
       "      <td>Bank transfer (automatic)</td>\n",
       "      <td>105.65</td>\n",
       "      <td>6844.5</td>\n",
       "      <td>No</td>\n",
       "    </tr>\n",
       "  </tbody>\n",
       "</table>\n",
       "<p>7043 rows × 21 columns</p>\n",
       "</div>"
      ],
      "text/plain": [
       "      customerID  gender  SeniorCitizen Partner Dependents  tenure  \\\n",
       "0     7590-VHVEG  Female              0     Yes         No       1   \n",
       "1     5575-GNVDE    Male              0      No         No      34   \n",
       "2     3668-QPYBK    Male              0      No         No       2   \n",
       "3     7795-CFOCW    Male              0      No         No      45   \n",
       "4     9237-HQITU  Female              0      No         No       2   \n",
       "...          ...     ...            ...     ...        ...     ...   \n",
       "7038  6840-RESVB    Male              0     Yes        Yes      24   \n",
       "7039  2234-XADUH  Female              0     Yes        Yes      72   \n",
       "7040  4801-JZAZL  Female              0     Yes        Yes      11   \n",
       "7041  8361-LTMKD    Male              1     Yes         No       4   \n",
       "7042  3186-AJIEK    Male              0      No         No      66   \n",
       "\n",
       "     PhoneService     MultipleLines InternetService OnlineSecurity  ...  \\\n",
       "0              No  No phone service             DSL             No  ...   \n",
       "1             Yes                No             DSL            Yes  ...   \n",
       "2             Yes                No             DSL            Yes  ...   \n",
       "3              No  No phone service             DSL            Yes  ...   \n",
       "4             Yes                No     Fiber optic             No  ...   \n",
       "...           ...               ...             ...            ...  ...   \n",
       "7038          Yes               Yes             DSL            Yes  ...   \n",
       "7039          Yes               Yes     Fiber optic             No  ...   \n",
       "7040           No  No phone service             DSL            Yes  ...   \n",
       "7041          Yes               Yes     Fiber optic             No  ...   \n",
       "7042          Yes                No     Fiber optic            Yes  ...   \n",
       "\n",
       "     DeviceProtection TechSupport StreamingTV StreamingMovies        Contract  \\\n",
       "0                  No          No          No              No  Month-to-month   \n",
       "1                 Yes          No          No              No        One year   \n",
       "2                  No          No          No              No  Month-to-month   \n",
       "3                 Yes         Yes          No              No        One year   \n",
       "4                  No          No          No              No  Month-to-month   \n",
       "...               ...         ...         ...             ...             ...   \n",
       "7038              Yes         Yes         Yes             Yes        One year   \n",
       "7039              Yes          No         Yes             Yes        One year   \n",
       "7040               No          No          No              No  Month-to-month   \n",
       "7041               No          No          No              No  Month-to-month   \n",
       "7042              Yes         Yes         Yes             Yes        Two year   \n",
       "\n",
       "     PaperlessBilling              PaymentMethod MonthlyCharges  TotalCharges  \\\n",
       "0                 Yes           Electronic check          29.85         29.85   \n",
       "1                  No               Mailed check          56.95        1889.5   \n",
       "2                 Yes               Mailed check          53.85        108.15   \n",
       "3                  No  Bank transfer (automatic)          42.30       1840.75   \n",
       "4                 Yes           Electronic check          70.70        151.65   \n",
       "...               ...                        ...            ...           ...   \n",
       "7038              Yes               Mailed check          84.80        1990.5   \n",
       "7039              Yes    Credit card (automatic)         103.20        7362.9   \n",
       "7040              Yes           Electronic check          29.60        346.45   \n",
       "7041              Yes               Mailed check          74.40         306.6   \n",
       "7042              Yes  Bank transfer (automatic)         105.65        6844.5   \n",
       "\n",
       "     Churn  \n",
       "0       No  \n",
       "1       No  \n",
       "2      Yes  \n",
       "3       No  \n",
       "4      Yes  \n",
       "...    ...  \n",
       "7038    No  \n",
       "7039    No  \n",
       "7040    No  \n",
       "7041   Yes  \n",
       "7042    No  \n",
       "\n",
       "[7043 rows x 21 columns]"
      ]
     },
     "execution_count": 89,
     "metadata": {},
     "output_type": "execute_result"
    }
   ],
   "source": [
    "df=pd.read_csv('customerchurn.csv')\n",
    "df"
   ]
  },
  {
   "cell_type": "code",
   "execution_count": 90,
   "id": "f6a26127",
   "metadata": {},
   "outputs": [
    {
     "data": {
      "text/plain": [
       "(7043, 21)"
      ]
     },
     "execution_count": 90,
     "metadata": {},
     "output_type": "execute_result"
    }
   ],
   "source": [
    "df.shape"
   ]
  },
  {
   "cell_type": "markdown",
   "id": "997d6296",
   "metadata": {},
   "source": [
    "The dataset consist of 7043 rows and 21 columns"
   ]
  },
  {
   "cell_type": "code",
   "execution_count": 91,
   "id": "5427a7bf",
   "metadata": {},
   "outputs": [
    {
     "data": {
      "text/plain": [
       "customerID           object\n",
       "gender               object\n",
       "SeniorCitizen         int64\n",
       "Partner              object\n",
       "Dependents           object\n",
       "tenure                int64\n",
       "PhoneService         object\n",
       "MultipleLines        object\n",
       "InternetService      object\n",
       "OnlineSecurity       object\n",
       "OnlineBackup         object\n",
       "DeviceProtection     object\n",
       "TechSupport          object\n",
       "StreamingTV          object\n",
       "StreamingMovies      object\n",
       "Contract             object\n",
       "PaperlessBilling     object\n",
       "PaymentMethod        object\n",
       "MonthlyCharges      float64\n",
       "TotalCharges         object\n",
       "Churn                object\n",
       "dtype: object"
      ]
     },
     "execution_count": 91,
     "metadata": {},
     "output_type": "execute_result"
    }
   ],
   "source": [
    "df.dtypes"
   ]
  },
  {
   "cell_type": "code",
   "execution_count": 92,
   "id": "125713ed",
   "metadata": {},
   "outputs": [
    {
     "data": {
      "text/plain": [
       "Index(['customerID', 'gender', 'SeniorCitizen', 'Partner', 'Dependents',\n",
       "       'tenure', 'PhoneService', 'MultipleLines', 'InternetService',\n",
       "       'OnlineSecurity', 'OnlineBackup', 'DeviceProtection', 'TechSupport',\n",
       "       'StreamingTV', 'StreamingMovies', 'Contract', 'PaperlessBilling',\n",
       "       'PaymentMethod', 'MonthlyCharges', 'TotalCharges', 'Churn'],\n",
       "      dtype='object')"
      ]
     },
     "execution_count": 92,
     "metadata": {},
     "output_type": "execute_result"
    }
   ],
   "source": [
    "df.columns"
   ]
  },
  {
   "cell_type": "markdown",
   "id": "1f2f8144",
   "metadata": {},
   "source": [
    "There are 21 columns present in the dataset"
   ]
  },
  {
   "cell_type": "code",
   "execution_count": 93,
   "id": "e87863ff",
   "metadata": {},
   "outputs": [
    {
     "name": "stdout",
     "output_type": "stream",
     "text": [
      "<class 'pandas.core.frame.DataFrame'>\n",
      "RangeIndex: 7043 entries, 0 to 7042\n",
      "Data columns (total 21 columns):\n",
      " #   Column            Non-Null Count  Dtype  \n",
      "---  ------            --------------  -----  \n",
      " 0   customerID        7043 non-null   object \n",
      " 1   gender            7043 non-null   object \n",
      " 2   SeniorCitizen     7043 non-null   int64  \n",
      " 3   Partner           7043 non-null   object \n",
      " 4   Dependents        7043 non-null   object \n",
      " 5   tenure            7043 non-null   int64  \n",
      " 6   PhoneService      7043 non-null   object \n",
      " 7   MultipleLines     7043 non-null   object \n",
      " 8   InternetService   7043 non-null   object \n",
      " 9   OnlineSecurity    7043 non-null   object \n",
      " 10  OnlineBackup      7043 non-null   object \n",
      " 11  DeviceProtection  7043 non-null   object \n",
      " 12  TechSupport       7043 non-null   object \n",
      " 13  StreamingTV       7043 non-null   object \n",
      " 14  StreamingMovies   7043 non-null   object \n",
      " 15  Contract          7043 non-null   object \n",
      " 16  PaperlessBilling  7043 non-null   object \n",
      " 17  PaymentMethod     7043 non-null   object \n",
      " 18  MonthlyCharges    7043 non-null   float64\n",
      " 19  TotalCharges      7043 non-null   object \n",
      " 20  Churn             7043 non-null   object \n",
      "dtypes: float64(1), int64(2), object(18)\n",
      "memory usage: 660.3+ KB\n"
     ]
    }
   ],
   "source": [
    "df.info()"
   ]
  },
  {
   "cell_type": "markdown",
   "id": "d5d63751",
   "metadata": {},
   "source": [
    "The dataset consist of 1 float type of data and 2 integer type of data and 18 columns are object type of data"
   ]
  },
  {
   "cell_type": "markdown",
   "id": "12f24678",
   "metadata": {},
   "source": [
    "# EDA"
   ]
  },
  {
   "cell_type": "code",
   "execution_count": 94,
   "id": "39969a18",
   "metadata": {},
   "outputs": [
    {
     "data": {
      "text/plain": [
       "customerID          0\n",
       "gender              0\n",
       "SeniorCitizen       0\n",
       "Partner             0\n",
       "Dependents          0\n",
       "tenure              0\n",
       "PhoneService        0\n",
       "MultipleLines       0\n",
       "InternetService     0\n",
       "OnlineSecurity      0\n",
       "OnlineBackup        0\n",
       "DeviceProtection    0\n",
       "TechSupport         0\n",
       "StreamingTV         0\n",
       "StreamingMovies     0\n",
       "Contract            0\n",
       "PaperlessBilling    0\n",
       "PaymentMethod       0\n",
       "MonthlyCharges      0\n",
       "TotalCharges        0\n",
       "Churn               0\n",
       "dtype: int64"
      ]
     },
     "execution_count": 94,
     "metadata": {},
     "output_type": "execute_result"
    }
   ],
   "source": [
    "#Checking the null values in the dataset\n",
    "df.isnull().sum()"
   ]
  },
  {
   "cell_type": "markdown",
   "id": "a223d641",
   "metadata": {},
   "source": [
    "There is no missing values present in the dataset"
   ]
  },
  {
   "cell_type": "code",
   "execution_count": 95,
   "id": "0273638e",
   "metadata": {},
   "outputs": [
    {
     "data": {
      "text/plain": [
       "<AxesSubplot:>"
      ]
     },
     "execution_count": 95,
     "metadata": {},
     "output_type": "execute_result"
    },
    {
     "data": {
      "image/png": "[encoded data removed]",
      "text/plain": [
       "<Figure size 432x288 with 2 Axes>"
      ]
     },
     "metadata": {
      "needs_background": "light"
     },
     "output_type": "display_data"
    }
   ],
   "source": [
    "sns.heatmap(df.isnull())"
   ]
  },
  {
   "cell_type": "markdown",
   "id": "c6e5eaf0",
   "metadata": {},
   "source": [
    "we observe that 'Total Charges' is of object type we have to convert it into float "
   ]
  },
  {
   "cell_type": "code",
   "execution_count": 96,
   "id": "bfead8ec",
   "metadata": {},
   "outputs": [
    {
     "data": {
      "text/plain": [
       "array(['29.85', '1889.5', '108.15', ..., '346.45', '306.6', '6844.5'],\n",
       "      dtype=object)"
      ]
     },
     "execution_count": 96,
     "metadata": {},
     "output_type": "execute_result"
    }
   ],
   "source": [
    "df['TotalCharges'].unique()"
   ]
  },
  {
   "cell_type": "code",
   "execution_count": 97,
   "id": "4c6a4012",
   "metadata": {},
   "outputs": [
    {
     "data": {
      "text/html": [
       "<div>\n",
       "<style scoped>\n",
       "    .dataframe tbody tr th:only-of-type {\n",
       "        vertical-align: middle;\n",
       "    }\n",
       "\n",
       "    .dataframe tbody tr th {\n",
       "        vertical-align: top;\n",
       "    }\n",
       "\n",
       "    .dataframe thead th {\n",
       "        text-align: right;\n",
       "    }\n",
       "</style>\n",
       "<table border=\"1\" class=\"dataframe\">\n",
       "  <thead>\n",
       "    <tr style=\"text-align: right;\">\n",
       "      <th></th>\n",
       "      <th>customerID</th>\n",
       "      <th>gender</th>\n",
       "      <th>SeniorCitizen</th>\n",
       "      <th>Partner</th>\n",
       "      <th>Dependents</th>\n",
       "      <th>tenure</th>\n",
       "      <th>PhoneService</th>\n",
       "      <th>MultipleLines</th>\n",
       "      <th>InternetService</th>\n",
       "      <th>OnlineSecurity</th>\n",
       "      <th>...</th>\n",
       "      <th>DeviceProtection</th>\n",
       "      <th>TechSupport</th>\n",
       "      <th>StreamingTV</th>\n",
       "      <th>StreamingMovies</th>\n",
       "      <th>Contract</th>\n",
       "      <th>PaperlessBilling</th>\n",
       "      <th>PaymentMethod</th>\n",
       "      <th>MonthlyCharges</th>\n",
       "      <th>TotalCharges</th>\n",
       "      <th>Churn</th>\n",
       "    </tr>\n",
       "  </thead>\n",
       "  <tbody>\n",
       "    <tr>\n",
       "      <th>488</th>\n",
       "      <td>4472-LVYGI</td>\n",
       "      <td>Female</td>\n",
       "      <td>0</td>\n",
       "      <td>Yes</td>\n",
       "      <td>Yes</td>\n",
       "      <td>0</td>\n",
       "      <td>No</td>\n",
       "      <td>No phone service</td>\n",
       "      <td>DSL</td>\n",
       "      <td>Yes</td>\n",
       "      <td>...</td>\n",
       "      <td>Yes</td>\n",
       "      <td>Yes</td>\n",
       "      <td>Yes</td>\n",
       "      <td>No</td>\n",
       "      <td>Two year</td>\n",
       "      <td>Yes</td>\n",
       "      <td>Bank transfer (automatic)</td>\n",
       "      <td>52.55</td>\n",
       "      <td></td>\n",
       "      <td>No</td>\n",
       "    </tr>\n",
       "    <tr>\n",
       "      <th>753</th>\n",
       "      <td>3115-CZMZD</td>\n",
       "      <td>Male</td>\n",
       "      <td>0</td>\n",
       "      <td>No</td>\n",
       "      <td>Yes</td>\n",
       "      <td>0</td>\n",
       "      <td>Yes</td>\n",
       "      <td>No</td>\n",
       "      <td>No</td>\n",
       "      <td>No internet service</td>\n",
       "      <td>...</td>\n",
       "      <td>No internet service</td>\n",
       "      <td>No internet service</td>\n",
       "      <td>No internet service</td>\n",
       "      <td>No internet service</td>\n",
       "      <td>Two year</td>\n",
       "      <td>No</td>\n",
       "      <td>Mailed check</td>\n",
       "      <td>20.25</td>\n",
       "      <td></td>\n",
       "      <td>No</td>\n",
       "    </tr>\n",
       "    <tr>\n",
       "      <th>936</th>\n",
       "      <td>5709-LVOEQ</td>\n",
       "      <td>Female</td>\n",
       "      <td>0</td>\n",
       "      <td>Yes</td>\n",
       "      <td>Yes</td>\n",
       "      <td>0</td>\n",
       "      <td>Yes</td>\n",
       "      <td>No</td>\n",
       "      <td>DSL</td>\n",
       "      <td>Yes</td>\n",
       "      <td>...</td>\n",
       "      <td>Yes</td>\n",
       "      <td>No</td>\n",
       "      <td>Yes</td>\n",
       "      <td>Yes</td>\n",
       "      <td>Two year</td>\n",
       "      <td>No</td>\n",
       "      <td>Mailed check</td>\n",
       "      <td>80.85</td>\n",
       "      <td></td>\n",
       "      <td>No</td>\n",
       "    </tr>\n",
       "    <tr>\n",
       "      <th>1082</th>\n",
       "      <td>4367-NUYAO</td>\n",
       "      <td>Male</td>\n",
       "      <td>0</td>\n",
       "      <td>Yes</td>\n",
       "      <td>Yes</td>\n",
       "      <td>0</td>\n",
       "      <td>Yes</td>\n",
       "      <td>Yes</td>\n",
       "      <td>No</td>\n",
       "      <td>No internet service</td>\n",
       "      <td>...</td>\n",
       "      <td>No internet service</td>\n",
       "      <td>No internet service</td>\n",
       "      <td>No internet service</td>\n",
       "      <td>No internet service</td>\n",
       "      <td>Two year</td>\n",
       "      <td>No</td>\n",
       "      <td>Mailed check</td>\n",
       "      <td>25.75</td>\n",
       "      <td></td>\n",
       "      <td>No</td>\n",
       "    </tr>\n",
       "    <tr>\n",
       "      <th>1340</th>\n",
       "      <td>1371-DWPAZ</td>\n",
       "      <td>Female</td>\n",
       "      <td>0</td>\n",
       "      <td>Yes</td>\n",
       "      <td>Yes</td>\n",
       "      <td>0</td>\n",
       "      <td>No</td>\n",
       "      <td>No phone service</td>\n",
       "      <td>DSL</td>\n",
       "      <td>Yes</td>\n",
       "      <td>...</td>\n",
       "      <td>Yes</td>\n",
       "      <td>Yes</td>\n",
       "      <td>Yes</td>\n",
       "      <td>No</td>\n",
       "      <td>Two year</td>\n",
       "      <td>No</td>\n",
       "      <td>Credit card (automatic)</td>\n",
       "      <td>56.05</td>\n",
       "      <td></td>\n",
       "      <td>No</td>\n",
       "    </tr>\n",
       "    <tr>\n",
       "      <th>3331</th>\n",
       "      <td>7644-OMVMY</td>\n",
       "      <td>Male</td>\n",
       "      <td>0</td>\n",
       "      <td>Yes</td>\n",
       "      <td>Yes</td>\n",
       "      <td>0</td>\n",
       "      <td>Yes</td>\n",
       "      <td>No</td>\n",
       "      <td>No</td>\n",
       "      <td>No internet service</td>\n",
       "      <td>...</td>\n",
       "      <td>No internet service</td>\n",
       "      <td>No internet service</td>\n",
       "      <td>No internet service</td>\n",
       "      <td>No internet service</td>\n",
       "      <td>Two year</td>\n",
       "      <td>No</td>\n",
       "      <td>Mailed check</td>\n",
       "      <td>19.85</td>\n",
       "      <td></td>\n",
       "      <td>No</td>\n",
       "    </tr>\n",
       "    <tr>\n",
       "      <th>3826</th>\n",
       "      <td>3213-VVOLG</td>\n",
       "      <td>Male</td>\n",
       "      <td>0</td>\n",
       "      <td>Yes</td>\n",
       "      <td>Yes</td>\n",
       "      <td>0</td>\n",
       "      <td>Yes</td>\n",
       "      <td>Yes</td>\n",
       "      <td>No</td>\n",
       "      <td>No internet service</td>\n",
       "      <td>...</td>\n",
       "      <td>No internet service</td>\n",
       "      <td>No internet service</td>\n",
       "      <td>No internet service</td>\n",
       "      <td>No internet service</td>\n",
       "      <td>Two year</td>\n",
       "      <td>No</td>\n",
       "      <td>Mailed check</td>\n",
       "      <td>25.35</td>\n",
       "      <td></td>\n",
       "      <td>No</td>\n",
       "    </tr>\n",
       "    <tr>\n",
       "      <th>4380</th>\n",
       "      <td>2520-SGTTA</td>\n",
       "      <td>Female</td>\n",
       "      <td>0</td>\n",
       "      <td>Yes</td>\n",
       "      <td>Yes</td>\n",
       "      <td>0</td>\n",
       "      <td>Yes</td>\n",
       "      <td>No</td>\n",
       "      <td>No</td>\n",
       "      <td>No internet service</td>\n",
       "      <td>...</td>\n",
       "      <td>No internet service</td>\n",
       "      <td>No internet service</td>\n",
       "      <td>No internet service</td>\n",
       "      <td>No internet service</td>\n",
       "      <td>Two year</td>\n",
       "      <td>No</td>\n",
       "      <td>Mailed check</td>\n",
       "      <td>20.00</td>\n",
       "      <td></td>\n",
       "      <td>No</td>\n",
       "    </tr>\n",
       "    <tr>\n",
       "      <th>5218</th>\n",
       "      <td>2923-ARZLG</td>\n",
       "      <td>Male</td>\n",
       "      <td>0</td>\n",
       "      <td>Yes</td>\n",
       "      <td>Yes</td>\n",
       "      <td>0</td>\n",
       "      <td>Yes</td>\n",
       "      <td>No</td>\n",
       "      <td>No</td>\n",
       "      <td>No internet service</td>\n",
       "      <td>...</td>\n",
       "      <td>No internet service</td>\n",
       "      <td>No internet service</td>\n",
       "      <td>No internet service</td>\n",
       "      <td>No internet service</td>\n",
       "      <td>One year</td>\n",
       "      <td>Yes</td>\n",
       "      <td>Mailed check</td>\n",
       "      <td>19.70</td>\n",
       "      <td></td>\n",
       "      <td>No</td>\n",
       "    </tr>\n",
       "    <tr>\n",
       "      <th>6670</th>\n",
       "      <td>4075-WKNIU</td>\n",
       "      <td>Female</td>\n",
       "      <td>0</td>\n",
       "      <td>Yes</td>\n",
       "      <td>Yes</td>\n",
       "      <td>0</td>\n",
       "      <td>Yes</td>\n",
       "      <td>Yes</td>\n",
       "      <td>DSL</td>\n",
       "      <td>No</td>\n",
       "      <td>...</td>\n",
       "      <td>Yes</td>\n",
       "      <td>Yes</td>\n",
       "      <td>Yes</td>\n",
       "      <td>No</td>\n",
       "      <td>Two year</td>\n",
       "      <td>No</td>\n",
       "      <td>Mailed check</td>\n",
       "      <td>73.35</td>\n",
       "      <td></td>\n",
       "      <td>No</td>\n",
       "    </tr>\n",
       "    <tr>\n",
       "      <th>6754</th>\n",
       "      <td>2775-SEFEE</td>\n",
       "      <td>Male</td>\n",
       "      <td>0</td>\n",
       "      <td>No</td>\n",
       "      <td>Yes</td>\n",
       "      <td>0</td>\n",
       "      <td>Yes</td>\n",
       "      <td>Yes</td>\n",
       "      <td>DSL</td>\n",
       "      <td>Yes</td>\n",
       "      <td>...</td>\n",
       "      <td>No</td>\n",
       "      <td>Yes</td>\n",
       "      <td>No</td>\n",
       "      <td>No</td>\n",
       "      <td>Two year</td>\n",
       "      <td>Yes</td>\n",
       "      <td>Bank transfer (automatic)</td>\n",
       "      <td>61.90</td>\n",
       "      <td></td>\n",
       "      <td>No</td>\n",
       "    </tr>\n",
       "  </tbody>\n",
       "</table>\n",
       "<p>11 rows × 21 columns</p>\n",
       "</div>"
      ],
      "text/plain": [
       "      customerID  gender  SeniorCitizen Partner Dependents  tenure  \\\n",
       "488   4472-LVYGI  Female              0     Yes        Yes       0   \n",
       "753   3115-CZMZD    Male              0      No        Yes       0   \n",
       "936   5709-LVOEQ  Female              0     Yes        Yes       0   \n",
       "1082  4367-NUYAO    Male              0     Yes        Yes       0   \n",
       "1340  1371-DWPAZ  Female              0     Yes        Yes       0   \n",
       "3331  7644-OMVMY    Male              0     Yes        Yes       0   \n",
       "3826  3213-VVOLG    Male              0     Yes        Yes       0   \n",
       "4380  2520-SGTTA  Female              0     Yes        Yes       0   \n",
       "5218  2923-ARZLG    Male              0     Yes        Yes       0   \n",
       "6670  4075-WKNIU  Female              0     Yes        Yes       0   \n",
       "6754  2775-SEFEE    Male              0      No        Yes       0   \n",
       "\n",
       "     PhoneService     MultipleLines InternetService       OnlineSecurity  ...  \\\n",
       "488            No  No phone service             DSL                  Yes  ...   \n",
       "753           Yes                No              No  No internet service  ...   \n",
       "936           Yes                No             DSL                  Yes  ...   \n",
       "1082          Yes               Yes              No  No internet service  ...   \n",
       "1340           No  No phone service             DSL                  Yes  ...   \n",
       "3331          Yes                No              No  No internet service  ...   \n",
       "3826          Yes               Yes              No  No internet service  ...   \n",
       "4380          Yes                No              No  No internet service  ...   \n",
       "5218          Yes                No              No  No internet service  ...   \n",
       "6670          Yes               Yes             DSL                   No  ...   \n",
       "6754          Yes               Yes             DSL                  Yes  ...   \n",
       "\n",
       "         DeviceProtection          TechSupport          StreamingTV  \\\n",
       "488                   Yes                  Yes                  Yes   \n",
       "753   No internet service  No internet service  No internet service   \n",
       "936                   Yes                   No                  Yes   \n",
       "1082  No internet service  No internet service  No internet service   \n",
       "1340                  Yes                  Yes                  Yes   \n",
       "3331  No internet service  No internet service  No internet service   \n",
       "3826  No internet service  No internet service  No internet service   \n",
       "4380  No internet service  No internet service  No internet service   \n",
       "5218  No internet service  No internet service  No internet service   \n",
       "6670                  Yes                  Yes                  Yes   \n",
       "6754                   No                  Yes                   No   \n",
       "\n",
       "          StreamingMovies  Contract PaperlessBilling  \\\n",
       "488                    No  Two year              Yes   \n",
       "753   No internet service  Two year               No   \n",
       "936                   Yes  Two year               No   \n",
       "1082  No internet service  Two year               No   \n",
       "1340                   No  Two year               No   \n",
       "3331  No internet service  Two year               No   \n",
       "3826  No internet service  Two year               No   \n",
       "4380  No internet service  Two year               No   \n",
       "5218  No internet service  One year              Yes   \n",
       "6670                   No  Two year               No   \n",
       "6754                   No  Two year              Yes   \n",
       "\n",
       "                  PaymentMethod MonthlyCharges  TotalCharges Churn  \n",
       "488   Bank transfer (automatic)          52.55                  No  \n",
       "753                Mailed check          20.25                  No  \n",
       "936                Mailed check          80.85                  No  \n",
       "1082               Mailed check          25.75                  No  \n",
       "1340    Credit card (automatic)          56.05                  No  \n",
       "3331               Mailed check          19.85                  No  \n",
       "3826               Mailed check          25.35                  No  \n",
       "4380               Mailed check          20.00                  No  \n",
       "5218               Mailed check          19.70                  No  \n",
       "6670               Mailed check          73.35                  No  \n",
       "6754  Bank transfer (automatic)          61.90                  No  \n",
       "\n",
       "[11 rows x 21 columns]"
      ]
     },
     "execution_count": 97,
     "metadata": {},
     "output_type": "execute_result"
    }
   ],
   "source": [
    "df.loc[df['TotalCharges']==\" \"]"
   ]
  },
  {
   "cell_type": "markdown",
   "id": "42a8db11",
   "metadata": {},
   "source": [
    "we have some spaces in the TotalCharges column"
   ]
  },
  {
   "cell_type": "markdown",
   "id": "e58f8087",
   "metadata": {},
   "source": [
    "we can fill these spaces replaces with nan values.we have to handle these nan values\n",
    "Handling the nan values and replace with mean of the column. as the column is a continuous type"
   ]
  },
  {
   "cell_type": "code",
   "execution_count": 99,
   "id": "edd73f2f",
   "metadata": {},
   "outputs": [],
   "source": [
    "df['TotalCharges']=df[\"TotalCharges\"].replace(\" \",np.nan)"
   ]
  },
  {
   "cell_type": "code",
   "execution_count": 100,
   "id": "0c42e9f4",
   "metadata": {},
   "outputs": [
    {
     "data": {
      "text/plain": [
       "customerID           0\n",
       "gender               0\n",
       "SeniorCitizen        0\n",
       "Partner              0\n",
       "Dependents           0\n",
       "tenure               0\n",
       "PhoneService         0\n",
       "MultipleLines        0\n",
       "InternetService      0\n",
       "OnlineSecurity       0\n",
       "OnlineBackup         0\n",
       "DeviceProtection     0\n",
       "TechSupport          0\n",
       "StreamingTV          0\n",
       "StreamingMovies      0\n",
       "Contract             0\n",
       "PaperlessBilling     0\n",
       "PaymentMethod        0\n",
       "MonthlyCharges       0\n",
       "TotalCharges        11\n",
       "Churn                0\n",
       "dtype: int64"
      ]
     },
     "execution_count": 100,
     "metadata": {},
     "output_type": "execute_result"
    }
   ],
   "source": [
    "df.isnull().sum()"
   ]
  },
  {
   "cell_type": "code",
   "execution_count": 101,
   "id": "baac9d78",
   "metadata": {},
   "outputs": [],
   "source": [
    "#converting TotalCharges column datatype from object to float\n",
    "df[\"TotalCharges\"]=df[\"TotalCharges\"].astype(float)"
   ]
  },
  {
   "cell_type": "code",
   "execution_count": 123,
   "id": "d4cd91fc",
   "metadata": {},
   "outputs": [],
   "source": [
    "df[\"TotalCharges\"]=df[\"TotalCharges\"].fillna(np.mean(df[\"TotalCharges\"]))"
   ]
  },
  {
   "cell_type": "code",
   "execution_count": 124,
   "id": "6c1be491",
   "metadata": {},
   "outputs": [
    {
     "data": {
      "text/plain": [
       "0         29.85\n",
       "1       1889.50\n",
       "2        108.15\n",
       "3       1840.75\n",
       "4        151.65\n",
       "         ...   \n",
       "7038    1990.50\n",
       "7039    7362.90\n",
       "7040     346.45\n",
       "7041     306.60\n",
       "7042    6844.50\n",
       "Name: TotalCharges, Length: 7043, dtype: float64"
      ]
     },
     "execution_count": 124,
     "metadata": {},
     "output_type": "execute_result"
    }
   ],
   "source": [
    "df['TotalCharges']"
   ]
  },
  {
   "cell_type": "markdown",
   "id": "02fc3877",
   "metadata": {},
   "source": [
    "\n",
    "# Making DataFrame for Nominal Data"
   ]
  },
  {
   "cell_type": "code",
   "execution_count": 60,
   "id": "4902976b",
   "metadata": {},
   "outputs": [
    {
     "data": {
      "text/plain": [
       "Index(['customerID', 'gender', 'SeniorCitizen', 'Partner', 'Dependents',\n",
       "       'tenure', 'PhoneService', 'MultipleLines', 'InternetService',\n",
       "       'OnlineSecurity', 'OnlineBackup', 'DeviceProtection', 'TechSupport',\n",
       "       'StreamingTV', 'StreamingMovies', 'Contract', 'PaperlessBilling',\n",
       "       'PaymentMethod', 'MonthlyCharges', 'TotalCharges', 'Churn'],\n",
       "      dtype='object')"
      ]
     },
     "execution_count": 60,
     "metadata": {},
     "output_type": "execute_result"
    }
   ],
   "source": [
    "df.columns"
   ]
  },
  {
   "cell_type": "code",
   "execution_count": 61,
   "id": "dd6d182e",
   "metadata": {},
   "outputs": [],
   "source": [
    "df_visualization_nominal=df[['gender','SeniorCitizen','Partner','Dependents','PhoneService','MultipleLines','InternetService','OnlineSecurity','OnlineBackup','DeviceProtection','TechSupport','StreamingTV','StreamingMovies','Contract','PaperlessBilling','PaymentMethod','Churn']]"
   ]
  },
  {
   "cell_type": "code",
   "execution_count": 62,
   "id": "b5ce9c3d",
   "metadata": {},
   "outputs": [
    {
     "data": {
      "text/plain": [
       "Index(['gender', 'SeniorCitizen', 'Partner', 'Dependents', 'PhoneService',\n",
       "       'MultipleLines', 'InternetService', 'OnlineSecurity', 'OnlineBackup',\n",
       "       'DeviceProtection', 'TechSupport', 'StreamingTV', 'StreamingMovies',\n",
       "       'Contract', 'PaperlessBilling', 'PaymentMethod', 'Churn'],\n",
       "      dtype='object')"
      ]
     },
     "execution_count": 62,
     "metadata": {},
     "output_type": "execute_result"
    }
   ],
   "source": [
    "df_visualization_nominal.columns"
   ]
  },
  {
   "cell_type": "markdown",
   "id": "5cccc64e",
   "metadata": {},
   "source": [
    "\n",
    "# Visualization of the data"
   ]
  },
  {
   "cell_type": "markdown",
   "id": "5f371429",
   "metadata": {},
   "source": [
    "For the nominal categeorical data we will use countplot as it will give the frequency of the classes of the columns"
   ]
  },
  {
   "cell_type": "code",
   "execution_count": 63,
   "id": "f60ae6d9",
   "metadata": {},
   "outputs": [
    {
     "data": {
      "text/plain": [
       "Male      3555\n",
       "Female    3488\n",
       "Name: gender, dtype: int64"
      ]
     },
     "execution_count": 63,
     "metadata": {},
     "output_type": "execute_result"
    },
    {
     "data": {
      "image/png": "[encoded data removed]",
      "text/plain": [
       "<Figure size 432x288 with 1 Axes>"
      ]
     },
     "metadata": {
      "needs_background": "light"
     },
     "output_type": "display_data"
    }
   ],
   "source": [
    "sns.countplot(x='gender',data=df_visualization_nominal)\n",
    "df_visualization_nominal['gender'].value_counts()"
   ]
  },
  {
   "cell_type": "markdown",
   "id": "7a6e7873",
   "metadata": {},
   "source": [
    "From the above observation we found that males are 3555 and the females are 3488"
   ]
  },
  {
   "cell_type": "code",
   "execution_count": 64,
   "id": "2720baa6",
   "metadata": {},
   "outputs": [
    {
     "data": {
      "text/plain": [
       "0    5901\n",
       "1    1142\n",
       "Name: SeniorCitizen, dtype: int64"
      ]
     },
     "execution_count": 64,
     "metadata": {},
     "output_type": "execute_result"
    },
    {
     "data": {
      "image/png": "[encoded data removed]",
      "text/plain": [
       "<Figure size 432x288 with 1 Axes>"
      ]
     },
     "metadata": {
      "needs_background": "light"
     },
     "output_type": "display_data"
    }
   ],
   "source": [
    "sns.countplot(x='SeniorCitizen',data=df_visualization_nominal)\n",
    "df_visualization_nominal['SeniorCitizen'].value_counts()"
   ]
  },
  {
   "cell_type": "markdown",
   "id": "29d92c38",
   "metadata": {},
   "source": [
    "From the above observation the total number of younger customer is 5901 and SeniorCitizen customers are 1142"
   ]
  },
  {
   "cell_type": "code",
   "execution_count": 65,
   "id": "b10fc391",
   "metadata": {},
   "outputs": [
    {
     "data": {
      "text/plain": [
       "No     3641\n",
       "Yes    3402\n",
       "Name: Partner, dtype: int64"
      ]
     },
     "execution_count": 65,
     "metadata": {},
     "output_type": "execute_result"
    },
    {
     "data": {
      "image/png": "[encoded data removed]",
      "text/plain": [
       "<Figure size 432x288 with 1 Axes>"
      ]
     },
     "metadata": {
      "needs_background": "light"
     },
     "output_type": "display_data"
    }
   ],
   "source": [
    "\n",
    "sns.countplot(x='Partner',data=df_visualization_nominal)\n",
    "df_visualization_nominal['Partner'].value_counts()"
   ]
  },
  {
   "cell_type": "markdown",
   "id": "1ea905de",
   "metadata": {},
   "source": [
    "From the above observation married people are 3402 and unmarried people are 3641"
   ]
  },
  {
   "cell_type": "code",
   "execution_count": 66,
   "id": "df7b23da",
   "metadata": {},
   "outputs": [
    {
     "data": {
      "text/plain": [
       "No     4933\n",
       "Yes    2110\n",
       "Name: Dependents, dtype: int64"
      ]
     },
     "execution_count": 66,
     "metadata": {},
     "output_type": "execute_result"
    },
    {
     "data": {
      "image/png": "[encoded data removed]",
      "text/plain": [
       "<Figure size 432x288 with 1 Axes>"
      ]
     },
     "metadata": {
      "needs_background": "light"
     },
     "output_type": "display_data"
    }
   ],
   "source": [
    "sns.countplot(x='Dependents',data=df_visualization_nominal)\n",
    "df_visualization_nominal['Dependents'].value_counts()"
   ]
  },
  {
   "cell_type": "markdown",
   "id": "e03c0882",
   "metadata": {},
   "source": [
    "From the above graph there are 4933 members not having dependents and 2110 members having dependents"
   ]
  },
  {
   "cell_type": "code",
   "execution_count": 67,
   "id": "1c7c5c9d",
   "metadata": {},
   "outputs": [
    {
     "data": {
      "text/plain": [
       "Yes    6361\n",
       "No      682\n",
       "Name: PhoneService, dtype: int64"
      ]
     },
     "execution_count": 67,
     "metadata": {},
     "output_type": "execute_result"
    },
    {
     "data": {
      "image/png": "[encoded data removed]",
      "text/plain": [
       "<Figure size 432x288 with 1 Axes>"
      ]
     },
     "metadata": {
      "needs_background": "light"
     },
     "output_type": "display_data"
    }
   ],
   "source": [
    "sns.countplot(x='PhoneService',data=df_visualization_nominal)\n",
    "df_visualization_nominal['PhoneService'].value_counts()"
   ]
  },
  {
   "cell_type": "markdown",
   "id": "f70ccd46",
   "metadata": {},
   "source": [
    "\n",
    "From the above graph 6361 members having phone service and 682 members not having phone service"
   ]
  },
  {
   "cell_type": "code",
   "execution_count": 68,
   "id": "a024202e",
   "metadata": {},
   "outputs": [
    {
     "data": {
      "text/plain": [
       "No                     3498\n",
       "Yes                    2019\n",
       "No internet service    1526\n",
       "Name: OnlineSecurity, dtype: int64"
      ]
     },
     "execution_count": 68,
     "metadata": {},
     "output_type": "execute_result"
    },
    {
     "data": {
      "image/png": "[encoded data removed]",
      "text/plain": [
       "<Figure size 432x288 with 1 Axes>"
      ]
     },
     "metadata": {
      "needs_background": "light"
     },
     "output_type": "display_data"
    }
   ],
   "source": [
    "sns.countplot(x='OnlineSecurity',data=df_visualization_nominal)\n",
    "df_visualization_nominal['OnlineSecurity'].value_counts()"
   ]
  },
  {
   "cell_type": "markdown",
   "id": "aca2d41c",
   "metadata": {},
   "source": [
    "From the above observations 3490 customers not having online security 2019 members having online security and 1526 members having No InternetService"
   ]
  },
  {
   "cell_type": "code",
   "execution_count": 69,
   "id": "f2494e17",
   "metadata": {},
   "outputs": [
    {
     "data": {
      "text/plain": [
       "Fiber optic    3096\n",
       "DSL            2421\n",
       "No             1526\n",
       "Name: InternetService, dtype: int64"
      ]
     },
     "execution_count": 69,
     "metadata": {},
     "output_type": "execute_result"
    },
    {
     "data": {
      "image/png": "[encoded data removed]",
      "text/plain": [
       "<Figure size 432x288 with 1 Axes>"
      ]
     },
     "metadata": {
      "needs_background": "light"
     },
     "output_type": "display_data"
    }
   ],
   "source": [
    "sns.countplot(x='InternetService',data=df_visualization_nominal)\n",
    "df_visualization_nominal['InternetService'].value_counts()"
   ]
  },
  {
   "cell_type": "markdown",
   "id": "5e430ade",
   "metadata": {},
   "source": [
    "From the above graph 3096 members having fiber optics Internet service 2421 members having DSL Service and 1526 members having no internet service"
   ]
  },
  {
   "cell_type": "code",
   "execution_count": 70,
   "id": "52493a7e",
   "metadata": {},
   "outputs": [
    {
     "data": {
      "text/plain": [
       "No                  3390\n",
       "Yes                 2971\n",
       "No phone service     682\n",
       "Name: MultipleLines, dtype: int64"
      ]
     },
     "execution_count": 70,
     "metadata": {},
     "output_type": "execute_result"
    },
    {
     "data": {
      "image/png": "[encoded data removed]",
      "text/plain": [
       "<Figure size 432x288 with 1 Axes>"
      ]
     },
     "metadata": {
      "needs_background": "light"
     },
     "output_type": "display_data"
    }
   ],
   "source": [
    "sns.countplot(x='MultipleLines',data=df_visualization_nominal)\n",
    "df_visualization_nominal['MultipleLines'].value_counts()"
   ]
  },
  {
   "cell_type": "markdown",
   "id": "ed43444f",
   "metadata": {},
   "source": [
    "From the above obervation 2971 members having multiple lined and 3390 members not having multiple lines and 682 members having no phone service"
   ]
  },
  {
   "cell_type": "code",
   "execution_count": 71,
   "id": "3e4aed74",
   "metadata": {},
   "outputs": [
    {
     "data": {
      "text/plain": [
       "No                     3088\n",
       "Yes                    2429\n",
       "No internet service    1526\n",
       "Name: OnlineBackup, dtype: int64"
      ]
     },
     "execution_count": 71,
     "metadata": {},
     "output_type": "execute_result"
    },
    {
     "data": {
      "image/png": "[encoded data removed]",
      "text/plain": [
       "<Figure size 432x288 with 1 Axes>"
      ]
     },
     "metadata": {
      "needs_background": "light"
     },
     "output_type": "display_data"
    }
   ],
   "source": [
    "sns.countplot(x='OnlineBackup',data=df_visualization_nominal)\n",
    "df_visualization_nominal['OnlineBackup'].value_counts()"
   ]
  },
  {
   "cell_type": "markdown",
   "id": "64da2aa6",
   "metadata": {},
   "source": [
    "\n",
    "From the above observations 3088 members not having no online backup and 2429 members having online backup and 1526 members not having Internetservice"
   ]
  },
  {
   "cell_type": "code",
   "execution_count": 72,
   "id": "7b9a057a",
   "metadata": {},
   "outputs": [
    {
     "data": {
      "text/plain": [
       "No                     3095\n",
       "Yes                    2422\n",
       "No internet service    1526\n",
       "Name: DeviceProtection, dtype: int64"
      ]
     },
     "execution_count": 72,
     "metadata": {},
     "output_type": "execute_result"
    },
    {
     "data": {
      "image/png": "[encoded data removed]",
      "text/plain": [
       "<Figure size 432x288 with 1 Axes>"
      ]
     },
     "metadata": {
      "needs_background": "light"
     },
     "output_type": "display_data"
    }
   ],
   "source": [
    "sns.countplot(x='DeviceProtection',data=df_visualization_nominal)\n",
    "df_visualization_nominal['DeviceProtection'].value_counts()"
   ]
  },
  {
   "cell_type": "markdown",
   "id": "08fbc327",
   "metadata": {},
   "source": [
    "From the above observation 3095 members not having device protection,2422 members having device protection and 1526 members not having Internetservice"
   ]
  },
  {
   "cell_type": "code",
   "execution_count": 73,
   "id": "542b3462",
   "metadata": {},
   "outputs": [
    {
     "data": {
      "text/plain": [
       "No                     3473\n",
       "Yes                    2044\n",
       "No internet service    1526\n",
       "Name: TechSupport, dtype: int64"
      ]
     },
     "execution_count": 73,
     "metadata": {},
     "output_type": "execute_result"
    },
    {
     "data": {
      "image/png": "[encoded data removed]",
      "text/plain": [
       "<Figure size 432x288 with 1 Axes>"
      ]
     },
     "metadata": {
      "needs_background": "light"
     },
     "output_type": "display_data"
    }
   ],
   "source": [
    "sns.countplot(x='TechSupport',data=df_visualization_nominal)\n",
    "df_visualization_nominal['TechSupport'].value_counts()"
   ]
  },
  {
   "cell_type": "markdown",
   "id": "8d705d3f",
   "metadata": {},
   "source": [
    "From the above observations 3473 members not having TechSupport and 2044 members having TechSupport and 1526 members not having InternetService"
   ]
  },
  {
   "cell_type": "code",
   "execution_count": 74,
   "id": "355983c4",
   "metadata": {},
   "outputs": [
    {
     "data": {
      "text/plain": [
       "No                     2810\n",
       "Yes                    2707\n",
       "No internet service    1526\n",
       "Name: StreamingTV, dtype: int64"
      ]
     },
     "execution_count": 74,
     "metadata": {},
     "output_type": "execute_result"
    },
    {
     "data": {
      "image/png": "[encoded data removed]",
      "text/plain": [
       "<Figure size 432x288 with 1 Axes>"
      ]
     },
     "metadata": {
      "needs_background": "light"
     },
     "output_type": "display_data"
    }
   ],
   "source": [
    "sns.countplot(x='StreamingTV',data=df_visualization_nominal)\n",
    "df_visualization_nominal['StreamingTV'].value_counts()"
   ]
  },
  {
   "cell_type": "markdown",
   "id": "5bf8c6eb",
   "metadata": {},
   "source": [
    "From the above obsevations 2810 members are not Streaming to TV and 2707 members are Streaming to TV"
   ]
  },
  {
   "cell_type": "code",
   "execution_count": 75,
   "id": "96d0c84a",
   "metadata": {},
   "outputs": [
    {
     "data": {
      "text/plain": [
       "No                     2785\n",
       "Yes                    2732\n",
       "No internet service    1526\n",
       "Name: StreamingMovies, dtype: int64"
      ]
     },
     "execution_count": 75,
     "metadata": {},
     "output_type": "execute_result"
    },
    {
     "data": {
      "image/png": "[encoded data removed]",
      "text/plain": [
       "<Figure size 432x288 with 1 Axes>"
      ]
     },
     "metadata": {
      "needs_background": "light"
     },
     "output_type": "display_data"
    }
   ],
   "source": [
    "sns.countplot(x='StreamingMovies',data=df_visualization_nominal)\n",
    "df_visualization_nominal['StreamingMovies'].value_counts()"
   ]
  },
  {
   "cell_type": "markdown",
   "id": "cfce616d",
   "metadata": {},
   "source": [
    "From the Above observations 2785 not Streamed to Movies and 2732 members Streamed to movies"
   ]
  },
  {
   "cell_type": "code",
   "execution_count": 76,
   "id": "fdac4bc2",
   "metadata": {},
   "outputs": [
    {
     "data": {
      "text/plain": [
       "Month-to-month    3875\n",
       "Two year          1695\n",
       "One year          1473\n",
       "Name: Contract, dtype: int64"
      ]
     },
     "execution_count": 76,
     "metadata": {},
     "output_type": "execute_result"
    },
    {
     "data": {
      "image/png": "[encoded data removed]",
      "text/plain": [
       "<Figure size 432x288 with 1 Axes>"
      ]
     },
     "metadata": {
      "needs_background": "light"
     },
     "output_type": "display_data"
    }
   ],
   "source": [
    "sns.countplot(x='Contract',data=df_visualization_nominal)\n",
    "df_visualization_nominal['Contract'].value_counts()"
   ]
  },
  {
   "cell_type": "code",
   "execution_count": 77,
   "id": "39a9ed4a",
   "metadata": {},
   "outputs": [
    {
     "data": {
      "text/plain": [
       "Yes    4171\n",
       "No     2872\n",
       "Name: PaperlessBilling, dtype: int64"
      ]
     },
     "execution_count": 77,
     "metadata": {},
     "output_type": "execute_result"
    },
    {
     "data": {
      "image/png": "[encoded data removed]",
      "text/plain": [
       "<Figure size 432x288 with 1 Axes>"
      ]
     },
     "metadata": {
      "needs_background": "light"
     },
     "output_type": "display_data"
    }
   ],
   "source": [
    "sns.countplot(x='PaperlessBilling',data=df_visualization_nominal)\n",
    "df_visualization_nominal['PaperlessBilling'].value_counts()"
   ]
  },
  {
   "cell_type": "code",
   "execution_count": 78,
   "id": "404d10ed",
   "metadata": {},
   "outputs": [
    {
     "data": {
      "text/plain": [
       "Electronic check             2365\n",
       "Mailed check                 1612\n",
       "Bank transfer (automatic)    1544\n",
       "Credit card (automatic)      1522\n",
       "Name: PaymentMethod, dtype: int64"
      ]
     },
     "execution_count": 78,
     "metadata": {},
     "output_type": "execute_result"
    },
    {
     "data": {
      "image/png": "[encoded data removed]",
      "text/plain": [
       "<Figure size 432x288 with 1 Axes>"
      ]
     },
     "metadata": {
      "needs_background": "light"
     },
     "output_type": "display_data"
    }
   ],
   "source": [
    "\n",
    "sns.countplot(x='PaymentMethod',data=df_visualization_nominal)\n",
    "df_visualization_nominal['PaymentMethod'].value_counts()"
   ]
  },
  {
   "cell_type": "code",
   "execution_count": 79,
   "id": "2e80c49c",
   "metadata": {},
   "outputs": [
    {
     "data": {
      "text/plain": [
       "No     5174\n",
       "Yes    1869\n",
       "Name: Churn, dtype: int64"
      ]
     },
     "execution_count": 79,
     "metadata": {},
     "output_type": "execute_result"
    },
    {
     "data": {
      "image/png": "[encoded data removed]",
      "text/plain": [
       "<Figure size 432x288 with 1 Axes>"
      ]
     },
     "metadata": {
      "needs_background": "light"
     },
     "output_type": "display_data"
    }
   ],
   "source": [
    "sns.countplot(x='Churn',data=df_visualization_nominal)\n",
    "df_visualization_nominal['Churn'].value_counts()"
   ]
  },
  {
   "cell_type": "markdown",
   "id": "8e124c7f",
   "metadata": {},
   "source": [
    "\n",
    "# Making DataFrame of Ordinal Data"
   ]
  },
  {
   "cell_type": "code",
   "execution_count": 80,
   "id": "aed1cd84",
   "metadata": {},
   "outputs": [],
   "source": [
    "df_visualization_ordinal=df[['customerID','tenure']].copy()"
   ]
  },
  {
   "cell_type": "code",
   "execution_count": 81,
   "id": "a55aecce",
   "metadata": {},
   "outputs": [
    {
     "data": {
      "text/plain": [
       "<seaborn.axisgrid.FacetGrid at 0x47ece80>"
      ]
     },
     "execution_count": 81,
     "metadata": {},
     "output_type": "execute_result"
    },
    {
     "data": {
      "image/png": "[encoded data removed]",
      "text/plain": [
       "<Figure size 360x360 with 1 Axes>"
      ]
     },
     "metadata": {
      "needs_background": "light"
     },
     "output_type": "display_data"
    }
   ],
   "source": [
    "\n",
    "sns.catplot(x='SeniorCitizen',y='tenure',data=df)"
   ]
  },
  {
   "cell_type": "markdown",
   "id": "a3e1fb1a",
   "metadata": {},
   "source": [
    "# Checking the distribution of the continuous value of the float type columns"
   ]
  },
  {
   "cell_type": "code",
   "execution_count": 104,
   "id": "19e4ca6d",
   "metadata": {},
   "outputs": [],
   "source": [
    "df_visualization_continuous=df[['MonthlyCharges','TotalCharges']].copy()"
   ]
  },
  {
   "cell_type": "code",
   "execution_count": 105,
   "id": "4c6ded63",
   "metadata": {},
   "outputs": [
    {
     "data": {
      "text/plain": [
       "<AxesSubplot:xlabel='MonthlyCharges', ylabel='Density'>"
      ]
     },
     "execution_count": 105,
     "metadata": {},
     "output_type": "execute_result"
    },
    {
     "data": {
      "image/png": "[encoded data removed]",
      "text/plain": [
       "<Figure size 432x288 with 1 Axes>"
      ]
     },
     "metadata": {
      "needs_background": "light"
     },
     "output_type": "display_data"
    }
   ],
   "source": [
    "sns.distplot(df_visualization_continuous['MonthlyCharges'],kde=True)"
   ]
  },
  {
   "cell_type": "code",
   "execution_count": 106,
   "id": "e86fccd2",
   "metadata": {},
   "outputs": [
    {
     "data": {
      "text/plain": [
       "<AxesSubplot:xlabel='TotalCharges', ylabel='Density'>"
      ]
     },
     "execution_count": 106,
     "metadata": {},
     "output_type": "execute_result"
    },
    {
     "data": {
      "image/png": "[encoded data removed]",
      "text/plain": [
       "<Figure size 432x288 with 1 Axes>"
      ]
     },
     "metadata": {
      "needs_background": "light"
     },
     "output_type": "display_data"
    }
   ],
   "source": [
    "sns.distplot(df_visualization_continuous['TotalCharges'].value_counts(),kde=True)"
   ]
  },
  {
   "cell_type": "markdown",
   "id": "253e9418",
   "metadata": {},
   "source": [
    "we will convert categorical data into numerical"
   ]
  },
  {
   "cell_type": "markdown",
   "id": "f0f6e663",
   "metadata": {},
   "source": [
    "# Encoding"
   ]
  },
  {
   "cell_type": "code",
   "execution_count": 107,
   "id": "93af9bf2",
   "metadata": {},
   "outputs": [
    {
     "data": {
      "text/html": [
       "<div>\n",
       "<style scoped>\n",
       "    .dataframe tbody tr th:only-of-type {\n",
       "        vertical-align: middle;\n",
       "    }\n",
       "\n",
       "    .dataframe tbody tr th {\n",
       "        vertical-align: top;\n",
       "    }\n",
       "\n",
       "    .dataframe thead th {\n",
       "        text-align: right;\n",
       "    }\n",
       "</style>\n",
       "<table border=\"1\" class=\"dataframe\">\n",
       "  <thead>\n",
       "    <tr style=\"text-align: right;\">\n",
       "      <th></th>\n",
       "      <th>customerID</th>\n",
       "      <th>gender</th>\n",
       "      <th>SeniorCitizen</th>\n",
       "      <th>Partner</th>\n",
       "      <th>Dependents</th>\n",
       "      <th>tenure</th>\n",
       "      <th>PhoneService</th>\n",
       "      <th>MultipleLines</th>\n",
       "      <th>InternetService</th>\n",
       "      <th>OnlineSecurity</th>\n",
       "      <th>...</th>\n",
       "      <th>DeviceProtection</th>\n",
       "      <th>TechSupport</th>\n",
       "      <th>StreamingTV</th>\n",
       "      <th>StreamingMovies</th>\n",
       "      <th>Contract</th>\n",
       "      <th>PaperlessBilling</th>\n",
       "      <th>PaymentMethod</th>\n",
       "      <th>MonthlyCharges</th>\n",
       "      <th>TotalCharges</th>\n",
       "      <th>Churn</th>\n",
       "    </tr>\n",
       "  </thead>\n",
       "  <tbody>\n",
       "    <tr>\n",
       "      <th>0</th>\n",
       "      <td>5375.0</td>\n",
       "      <td>0.0</td>\n",
       "      <td>0</td>\n",
       "      <td>1.0</td>\n",
       "      <td>0.0</td>\n",
       "      <td>1</td>\n",
       "      <td>0.0</td>\n",
       "      <td>1.0</td>\n",
       "      <td>0.0</td>\n",
       "      <td>0.0</td>\n",
       "      <td>...</td>\n",
       "      <td>0.0</td>\n",
       "      <td>0.0</td>\n",
       "      <td>0.0</td>\n",
       "      <td>0.0</td>\n",
       "      <td>0.0</td>\n",
       "      <td>1.0</td>\n",
       "      <td>2.0</td>\n",
       "      <td>29.85</td>\n",
       "      <td>29.85</td>\n",
       "      <td>0.0</td>\n",
       "    </tr>\n",
       "    <tr>\n",
       "      <th>1</th>\n",
       "      <td>3962.0</td>\n",
       "      <td>1.0</td>\n",
       "      <td>0</td>\n",
       "      <td>0.0</td>\n",
       "      <td>0.0</td>\n",
       "      <td>34</td>\n",
       "      <td>1.0</td>\n",
       "      <td>0.0</td>\n",
       "      <td>0.0</td>\n",
       "      <td>2.0</td>\n",
       "      <td>...</td>\n",
       "      <td>2.0</td>\n",
       "      <td>0.0</td>\n",
       "      <td>0.0</td>\n",
       "      <td>0.0</td>\n",
       "      <td>1.0</td>\n",
       "      <td>0.0</td>\n",
       "      <td>3.0</td>\n",
       "      <td>56.95</td>\n",
       "      <td>1889.50</td>\n",
       "      <td>0.0</td>\n",
       "    </tr>\n",
       "    <tr>\n",
       "      <th>2</th>\n",
       "      <td>2564.0</td>\n",
       "      <td>1.0</td>\n",
       "      <td>0</td>\n",
       "      <td>0.0</td>\n",
       "      <td>0.0</td>\n",
       "      <td>2</td>\n",
       "      <td>1.0</td>\n",
       "      <td>0.0</td>\n",
       "      <td>0.0</td>\n",
       "      <td>2.0</td>\n",
       "      <td>...</td>\n",
       "      <td>0.0</td>\n",
       "      <td>0.0</td>\n",
       "      <td>0.0</td>\n",
       "      <td>0.0</td>\n",
       "      <td>0.0</td>\n",
       "      <td>1.0</td>\n",
       "      <td>3.0</td>\n",
       "      <td>53.85</td>\n",
       "      <td>108.15</td>\n",
       "      <td>1.0</td>\n",
       "    </tr>\n",
       "    <tr>\n",
       "      <th>3</th>\n",
       "      <td>5535.0</td>\n",
       "      <td>1.0</td>\n",
       "      <td>0</td>\n",
       "      <td>0.0</td>\n",
       "      <td>0.0</td>\n",
       "      <td>45</td>\n",
       "      <td>0.0</td>\n",
       "      <td>1.0</td>\n",
       "      <td>0.0</td>\n",
       "      <td>2.0</td>\n",
       "      <td>...</td>\n",
       "      <td>2.0</td>\n",
       "      <td>2.0</td>\n",
       "      <td>0.0</td>\n",
       "      <td>0.0</td>\n",
       "      <td>1.0</td>\n",
       "      <td>0.0</td>\n",
       "      <td>0.0</td>\n",
       "      <td>42.30</td>\n",
       "      <td>1840.75</td>\n",
       "      <td>0.0</td>\n",
       "    </tr>\n",
       "    <tr>\n",
       "      <th>4</th>\n",
       "      <td>6511.0</td>\n",
       "      <td>0.0</td>\n",
       "      <td>0</td>\n",
       "      <td>0.0</td>\n",
       "      <td>0.0</td>\n",
       "      <td>2</td>\n",
       "      <td>1.0</td>\n",
       "      <td>0.0</td>\n",
       "      <td>1.0</td>\n",
       "      <td>0.0</td>\n",
       "      <td>...</td>\n",
       "      <td>0.0</td>\n",
       "      <td>0.0</td>\n",
       "      <td>0.0</td>\n",
       "      <td>0.0</td>\n",
       "      <td>0.0</td>\n",
       "      <td>1.0</td>\n",
       "      <td>2.0</td>\n",
       "      <td>70.70</td>\n",
       "      <td>151.65</td>\n",
       "      <td>1.0</td>\n",
       "    </tr>\n",
       "    <tr>\n",
       "      <th>...</th>\n",
       "      <td>...</td>\n",
       "      <td>...</td>\n",
       "      <td>...</td>\n",
       "      <td>...</td>\n",
       "      <td>...</td>\n",
       "      <td>...</td>\n",
       "      <td>...</td>\n",
       "      <td>...</td>\n",
       "      <td>...</td>\n",
       "      <td>...</td>\n",
       "      <td>...</td>\n",
       "      <td>...</td>\n",
       "      <td>...</td>\n",
       "      <td>...</td>\n",
       "      <td>...</td>\n",
       "      <td>...</td>\n",
       "      <td>...</td>\n",
       "      <td>...</td>\n",
       "      <td>...</td>\n",
       "      <td>...</td>\n",
       "      <td>...</td>\n",
       "    </tr>\n",
       "    <tr>\n",
       "      <th>7038</th>\n",
       "      <td>4853.0</td>\n",
       "      <td>1.0</td>\n",
       "      <td>0</td>\n",
       "      <td>1.0</td>\n",
       "      <td>1.0</td>\n",
       "      <td>24</td>\n",
       "      <td>1.0</td>\n",
       "      <td>2.0</td>\n",
       "      <td>0.0</td>\n",
       "      <td>2.0</td>\n",
       "      <td>...</td>\n",
       "      <td>2.0</td>\n",
       "      <td>2.0</td>\n",
       "      <td>2.0</td>\n",
       "      <td>2.0</td>\n",
       "      <td>1.0</td>\n",
       "      <td>1.0</td>\n",
       "      <td>3.0</td>\n",
       "      <td>84.80</td>\n",
       "      <td>1990.50</td>\n",
       "      <td>0.0</td>\n",
       "    </tr>\n",
       "    <tr>\n",
       "      <th>7039</th>\n",
       "      <td>1525.0</td>\n",
       "      <td>0.0</td>\n",
       "      <td>0</td>\n",
       "      <td>1.0</td>\n",
       "      <td>1.0</td>\n",
       "      <td>72</td>\n",
       "      <td>1.0</td>\n",
       "      <td>2.0</td>\n",
       "      <td>1.0</td>\n",
       "      <td>0.0</td>\n",
       "      <td>...</td>\n",
       "      <td>2.0</td>\n",
       "      <td>0.0</td>\n",
       "      <td>2.0</td>\n",
       "      <td>2.0</td>\n",
       "      <td>1.0</td>\n",
       "      <td>1.0</td>\n",
       "      <td>1.0</td>\n",
       "      <td>103.20</td>\n",
       "      <td>7362.90</td>\n",
       "      <td>0.0</td>\n",
       "    </tr>\n",
       "    <tr>\n",
       "      <th>7040</th>\n",
       "      <td>3367.0</td>\n",
       "      <td>0.0</td>\n",
       "      <td>0</td>\n",
       "      <td>1.0</td>\n",
       "      <td>1.0</td>\n",
       "      <td>11</td>\n",
       "      <td>0.0</td>\n",
       "      <td>1.0</td>\n",
       "      <td>0.0</td>\n",
       "      <td>2.0</td>\n",
       "      <td>...</td>\n",
       "      <td>0.0</td>\n",
       "      <td>0.0</td>\n",
       "      <td>0.0</td>\n",
       "      <td>0.0</td>\n",
       "      <td>0.0</td>\n",
       "      <td>1.0</td>\n",
       "      <td>2.0</td>\n",
       "      <td>29.60</td>\n",
       "      <td>346.45</td>\n",
       "      <td>0.0</td>\n",
       "    </tr>\n",
       "    <tr>\n",
       "      <th>7041</th>\n",
       "      <td>5934.0</td>\n",
       "      <td>1.0</td>\n",
       "      <td>1</td>\n",
       "      <td>1.0</td>\n",
       "      <td>0.0</td>\n",
       "      <td>4</td>\n",
       "      <td>1.0</td>\n",
       "      <td>2.0</td>\n",
       "      <td>1.0</td>\n",
       "      <td>0.0</td>\n",
       "      <td>...</td>\n",
       "      <td>0.0</td>\n",
       "      <td>0.0</td>\n",
       "      <td>0.0</td>\n",
       "      <td>0.0</td>\n",
       "      <td>0.0</td>\n",
       "      <td>1.0</td>\n",
       "      <td>3.0</td>\n",
       "      <td>74.40</td>\n",
       "      <td>306.60</td>\n",
       "      <td>1.0</td>\n",
       "    </tr>\n",
       "    <tr>\n",
       "      <th>7042</th>\n",
       "      <td>2226.0</td>\n",
       "      <td>1.0</td>\n",
       "      <td>0</td>\n",
       "      <td>0.0</td>\n",
       "      <td>0.0</td>\n",
       "      <td>66</td>\n",
       "      <td>1.0</td>\n",
       "      <td>0.0</td>\n",
       "      <td>1.0</td>\n",
       "      <td>2.0</td>\n",
       "      <td>...</td>\n",
       "      <td>2.0</td>\n",
       "      <td>2.0</td>\n",
       "      <td>2.0</td>\n",
       "      <td>2.0</td>\n",
       "      <td>2.0</td>\n",
       "      <td>1.0</td>\n",
       "      <td>0.0</td>\n",
       "      <td>105.65</td>\n",
       "      <td>6844.50</td>\n",
       "      <td>0.0</td>\n",
       "    </tr>\n",
       "  </tbody>\n",
       "</table>\n",
       "<p>7043 rows × 21 columns</p>\n",
       "</div>"
      ],
      "text/plain": [
       "      customerID  gender  SeniorCitizen  Partner  Dependents  tenure  \\\n",
       "0         5375.0     0.0              0      1.0         0.0       1   \n",
       "1         3962.0     1.0              0      0.0         0.0      34   \n",
       "2         2564.0     1.0              0      0.0         0.0       2   \n",
       "3         5535.0     1.0              0      0.0         0.0      45   \n",
       "4         6511.0     0.0              0      0.0         0.0       2   \n",
       "...          ...     ...            ...      ...         ...     ...   \n",
       "7038      4853.0     1.0              0      1.0         1.0      24   \n",
       "7039      1525.0     0.0              0      1.0         1.0      72   \n",
       "7040      3367.0     0.0              0      1.0         1.0      11   \n",
       "7041      5934.0     1.0              1      1.0         0.0       4   \n",
       "7042      2226.0     1.0              0      0.0         0.0      66   \n",
       "\n",
       "      PhoneService  MultipleLines  InternetService  OnlineSecurity  ...  \\\n",
       "0              0.0            1.0              0.0             0.0  ...   \n",
       "1              1.0            0.0              0.0             2.0  ...   \n",
       "2              1.0            0.0              0.0             2.0  ...   \n",
       "3              0.0            1.0              0.0             2.0  ...   \n",
       "4              1.0            0.0              1.0             0.0  ...   \n",
       "...            ...            ...              ...             ...  ...   \n",
       "7038           1.0            2.0              0.0             2.0  ...   \n",
       "7039           1.0            2.0              1.0             0.0  ...   \n",
       "7040           0.0            1.0              0.0             2.0  ...   \n",
       "7041           1.0            2.0              1.0             0.0  ...   \n",
       "7042           1.0            0.0              1.0             2.0  ...   \n",
       "\n",
       "      DeviceProtection  TechSupport  StreamingTV  StreamingMovies  Contract  \\\n",
       "0                  0.0          0.0          0.0              0.0       0.0   \n",
       "1                  2.0          0.0          0.0              0.0       1.0   \n",
       "2                  0.0          0.0          0.0              0.0       0.0   \n",
       "3                  2.0          2.0          0.0              0.0       1.0   \n",
       "4                  0.0          0.0          0.0              0.0       0.0   \n",
       "...                ...          ...          ...              ...       ...   \n",
       "7038               2.0          2.0          2.0              2.0       1.0   \n",
       "7039               2.0          0.0          2.0              2.0       1.0   \n",
       "7040               0.0          0.0          0.0              0.0       0.0   \n",
       "7041               0.0          0.0          0.0              0.0       0.0   \n",
       "7042               2.0          2.0          2.0              2.0       2.0   \n",
       "\n",
       "      PaperlessBilling  PaymentMethod  MonthlyCharges  TotalCharges  Churn  \n",
       "0                  1.0            2.0           29.85         29.85    0.0  \n",
       "1                  0.0            3.0           56.95       1889.50    0.0  \n",
       "2                  1.0            3.0           53.85        108.15    1.0  \n",
       "3                  0.0            0.0           42.30       1840.75    0.0  \n",
       "4                  1.0            2.0           70.70        151.65    1.0  \n",
       "...                ...            ...             ...           ...    ...  \n",
       "7038               1.0            3.0           84.80       1990.50    0.0  \n",
       "7039               1.0            1.0          103.20       7362.90    0.0  \n",
       "7040               1.0            2.0           29.60        346.45    0.0  \n",
       "7041               1.0            3.0           74.40        306.60    1.0  \n",
       "7042               1.0            0.0          105.65       6844.50    0.0  \n",
       "\n",
       "[7043 rows x 21 columns]"
      ]
     },
     "execution_count": 107,
     "metadata": {},
     "output_type": "execute_result"
    }
   ],
   "source": [
    "from sklearn.preprocessing import OrdinalEncoder\n",
    "oe=OrdinalEncoder()\n",
    "for i in df.columns:\n",
    "    if df[i].dtypes=='object':\n",
    "        df[i]=oe.fit_transform(df[i].values.reshape(-1,1))\n",
    "df"
   ]
  },
  {
   "cell_type": "code",
   "execution_count": 108,
   "id": "e9b50170",
   "metadata": {},
   "outputs": [
    {
     "data": {
      "text/html": [
       "<div>\n",
       "<style scoped>\n",
       "    .dataframe tbody tr th:only-of-type {\n",
       "        vertical-align: middle;\n",
       "    }\n",
       "\n",
       "    .dataframe tbody tr th {\n",
       "        vertical-align: top;\n",
       "    }\n",
       "\n",
       "    .dataframe thead th {\n",
       "        text-align: right;\n",
       "    }\n",
       "</style>\n",
       "<table border=\"1\" class=\"dataframe\">\n",
       "  <thead>\n",
       "    <tr style=\"text-align: right;\">\n",
       "      <th></th>\n",
       "      <th>customerID</th>\n",
       "      <th>gender</th>\n",
       "      <th>SeniorCitizen</th>\n",
       "      <th>Partner</th>\n",
       "      <th>Dependents</th>\n",
       "      <th>tenure</th>\n",
       "      <th>PhoneService</th>\n",
       "      <th>MultipleLines</th>\n",
       "      <th>InternetService</th>\n",
       "      <th>OnlineSecurity</th>\n",
       "      <th>...</th>\n",
       "      <th>DeviceProtection</th>\n",
       "      <th>TechSupport</th>\n",
       "      <th>StreamingTV</th>\n",
       "      <th>StreamingMovies</th>\n",
       "      <th>Contract</th>\n",
       "      <th>PaperlessBilling</th>\n",
       "      <th>PaymentMethod</th>\n",
       "      <th>MonthlyCharges</th>\n",
       "      <th>TotalCharges</th>\n",
       "      <th>Churn</th>\n",
       "    </tr>\n",
       "  </thead>\n",
       "  <tbody>\n",
       "    <tr>\n",
       "      <th>count</th>\n",
       "      <td>7043.000000</td>\n",
       "      <td>7043.000000</td>\n",
       "      <td>7043.000000</td>\n",
       "      <td>7043.000000</td>\n",
       "      <td>7043.000000</td>\n",
       "      <td>7043.000000</td>\n",
       "      <td>7043.000000</td>\n",
       "      <td>7043.000000</td>\n",
       "      <td>7043.000000</td>\n",
       "      <td>7043.000000</td>\n",
       "      <td>...</td>\n",
       "      <td>7043.000000</td>\n",
       "      <td>7043.000000</td>\n",
       "      <td>7043.000000</td>\n",
       "      <td>7043.000000</td>\n",
       "      <td>7043.000000</td>\n",
       "      <td>7043.000000</td>\n",
       "      <td>7043.000000</td>\n",
       "      <td>7043.000000</td>\n",
       "      <td>7032.000000</td>\n",
       "      <td>7043.000000</td>\n",
       "    </tr>\n",
       "    <tr>\n",
       "      <th>mean</th>\n",
       "      <td>3521.000000</td>\n",
       "      <td>0.504756</td>\n",
       "      <td>0.162147</td>\n",
       "      <td>0.483033</td>\n",
       "      <td>0.299588</td>\n",
       "      <td>32.371149</td>\n",
       "      <td>0.903166</td>\n",
       "      <td>0.940508</td>\n",
       "      <td>0.872923</td>\n",
       "      <td>0.790004</td>\n",
       "      <td>...</td>\n",
       "      <td>0.904444</td>\n",
       "      <td>0.797104</td>\n",
       "      <td>0.985376</td>\n",
       "      <td>0.992475</td>\n",
       "      <td>0.690473</td>\n",
       "      <td>0.592219</td>\n",
       "      <td>1.574329</td>\n",
       "      <td>64.761692</td>\n",
       "      <td>2283.300441</td>\n",
       "      <td>0.265370</td>\n",
       "    </tr>\n",
       "    <tr>\n",
       "      <th>std</th>\n",
       "      <td>2033.283305</td>\n",
       "      <td>0.500013</td>\n",
       "      <td>0.368612</td>\n",
       "      <td>0.499748</td>\n",
       "      <td>0.458110</td>\n",
       "      <td>24.559481</td>\n",
       "      <td>0.295752</td>\n",
       "      <td>0.948554</td>\n",
       "      <td>0.737796</td>\n",
       "      <td>0.859848</td>\n",
       "      <td>...</td>\n",
       "      <td>0.879949</td>\n",
       "      <td>0.861551</td>\n",
       "      <td>0.885002</td>\n",
       "      <td>0.885091</td>\n",
       "      <td>0.833755</td>\n",
       "      <td>0.491457</td>\n",
       "      <td>1.068104</td>\n",
       "      <td>30.090047</td>\n",
       "      <td>2266.771362</td>\n",
       "      <td>0.441561</td>\n",
       "    </tr>\n",
       "    <tr>\n",
       "      <th>min</th>\n",
       "      <td>0.000000</td>\n",
       "      <td>0.000000</td>\n",
       "      <td>0.000000</td>\n",
       "      <td>0.000000</td>\n",
       "      <td>0.000000</td>\n",
       "      <td>0.000000</td>\n",
       "      <td>0.000000</td>\n",
       "      <td>0.000000</td>\n",
       "      <td>0.000000</td>\n",
       "      <td>0.000000</td>\n",
       "      <td>...</td>\n",
       "      <td>0.000000</td>\n",
       "      <td>0.000000</td>\n",
       "      <td>0.000000</td>\n",
       "      <td>0.000000</td>\n",
       "      <td>0.000000</td>\n",
       "      <td>0.000000</td>\n",
       "      <td>0.000000</td>\n",
       "      <td>18.250000</td>\n",
       "      <td>18.800000</td>\n",
       "      <td>0.000000</td>\n",
       "    </tr>\n",
       "    <tr>\n",
       "      <th>25%</th>\n",
       "      <td>1760.500000</td>\n",
       "      <td>0.000000</td>\n",
       "      <td>0.000000</td>\n",
       "      <td>0.000000</td>\n",
       "      <td>0.000000</td>\n",
       "      <td>9.000000</td>\n",
       "      <td>1.000000</td>\n",
       "      <td>0.000000</td>\n",
       "      <td>0.000000</td>\n",
       "      <td>0.000000</td>\n",
       "      <td>...</td>\n",
       "      <td>0.000000</td>\n",
       "      <td>0.000000</td>\n",
       "      <td>0.000000</td>\n",
       "      <td>0.000000</td>\n",
       "      <td>0.000000</td>\n",
       "      <td>0.000000</td>\n",
       "      <td>1.000000</td>\n",
       "      <td>35.500000</td>\n",
       "      <td>401.450000</td>\n",
       "      <td>0.000000</td>\n",
       "    </tr>\n",
       "    <tr>\n",
       "      <th>50%</th>\n",
       "      <td>3521.000000</td>\n",
       "      <td>1.000000</td>\n",
       "      <td>0.000000</td>\n",
       "      <td>0.000000</td>\n",
       "      <td>0.000000</td>\n",
       "      <td>29.000000</td>\n",
       "      <td>1.000000</td>\n",
       "      <td>1.000000</td>\n",
       "      <td>1.000000</td>\n",
       "      <td>1.000000</td>\n",
       "      <td>...</td>\n",
       "      <td>1.000000</td>\n",
       "      <td>1.000000</td>\n",
       "      <td>1.000000</td>\n",
       "      <td>1.000000</td>\n",
       "      <td>0.000000</td>\n",
       "      <td>1.000000</td>\n",
       "      <td>2.000000</td>\n",
       "      <td>70.350000</td>\n",
       "      <td>1397.475000</td>\n",
       "      <td>0.000000</td>\n",
       "    </tr>\n",
       "    <tr>\n",
       "      <th>75%</th>\n",
       "      <td>5281.500000</td>\n",
       "      <td>1.000000</td>\n",
       "      <td>0.000000</td>\n",
       "      <td>1.000000</td>\n",
       "      <td>1.000000</td>\n",
       "      <td>55.000000</td>\n",
       "      <td>1.000000</td>\n",
       "      <td>2.000000</td>\n",
       "      <td>1.000000</td>\n",
       "      <td>2.000000</td>\n",
       "      <td>...</td>\n",
       "      <td>2.000000</td>\n",
       "      <td>2.000000</td>\n",
       "      <td>2.000000</td>\n",
       "      <td>2.000000</td>\n",
       "      <td>1.000000</td>\n",
       "      <td>1.000000</td>\n",
       "      <td>2.000000</td>\n",
       "      <td>89.850000</td>\n",
       "      <td>3794.737500</td>\n",
       "      <td>1.000000</td>\n",
       "    </tr>\n",
       "    <tr>\n",
       "      <th>max</th>\n",
       "      <td>7042.000000</td>\n",
       "      <td>1.000000</td>\n",
       "      <td>1.000000</td>\n",
       "      <td>1.000000</td>\n",
       "      <td>1.000000</td>\n",
       "      <td>72.000000</td>\n",
       "      <td>1.000000</td>\n",
       "      <td>2.000000</td>\n",
       "      <td>2.000000</td>\n",
       "      <td>2.000000</td>\n",
       "      <td>...</td>\n",
       "      <td>2.000000</td>\n",
       "      <td>2.000000</td>\n",
       "      <td>2.000000</td>\n",
       "      <td>2.000000</td>\n",
       "      <td>2.000000</td>\n",
       "      <td>1.000000</td>\n",
       "      <td>3.000000</td>\n",
       "      <td>118.750000</td>\n",
       "      <td>8684.800000</td>\n",
       "      <td>1.000000</td>\n",
       "    </tr>\n",
       "  </tbody>\n",
       "</table>\n",
       "<p>8 rows × 21 columns</p>\n",
       "</div>"
      ],
      "text/plain": [
       "        customerID       gender  SeniorCitizen      Partner   Dependents  \\\n",
       "count  7043.000000  7043.000000    7043.000000  7043.000000  7043.000000   \n",
       "mean   3521.000000     0.504756       0.162147     0.483033     0.299588   \n",
       "std    2033.283305     0.500013       0.368612     0.499748     0.458110   \n",
       "min       0.000000     0.000000       0.000000     0.000000     0.000000   \n",
       "25%    1760.500000     0.000000       0.000000     0.000000     0.000000   \n",
       "50%    3521.000000     1.000000       0.000000     0.000000     0.000000   \n",
       "75%    5281.500000     1.000000       0.000000     1.000000     1.000000   \n",
       "max    7042.000000     1.000000       1.000000     1.000000     1.000000   \n",
       "\n",
       "            tenure  PhoneService  MultipleLines  InternetService  \\\n",
       "count  7043.000000   7043.000000    7043.000000      7043.000000   \n",
       "mean     32.371149      0.903166       0.940508         0.872923   \n",
       "std      24.559481      0.295752       0.948554         0.737796   \n",
       "min       0.000000      0.000000       0.000000         0.000000   \n",
       "25%       9.000000      1.000000       0.000000         0.000000   \n",
       "50%      29.000000      1.000000       1.000000         1.000000   \n",
       "75%      55.000000      1.000000       2.000000         1.000000   \n",
       "max      72.000000      1.000000       2.000000         2.000000   \n",
       "\n",
       "       OnlineSecurity  ...  DeviceProtection  TechSupport  StreamingTV  \\\n",
       "count     7043.000000  ...       7043.000000  7043.000000  7043.000000   \n",
       "mean         0.790004  ...          0.904444     0.797104     0.985376   \n",
       "std          0.859848  ...          0.879949     0.861551     0.885002   \n",
       "min          0.000000  ...          0.000000     0.000000     0.000000   \n",
       "25%          0.000000  ...          0.000000     0.000000     0.000000   \n",
       "50%          1.000000  ...          1.000000     1.000000     1.000000   \n",
       "75%          2.000000  ...          2.000000     2.000000     2.000000   \n",
       "max          2.000000  ...          2.000000     2.000000     2.000000   \n",
       "\n",
       "       StreamingMovies     Contract  PaperlessBilling  PaymentMethod  \\\n",
       "count      7043.000000  7043.000000       7043.000000    7043.000000   \n",
       "mean          0.992475     0.690473          0.592219       1.574329   \n",
       "std           0.885091     0.833755          0.491457       1.068104   \n",
       "min           0.000000     0.000000          0.000000       0.000000   \n",
       "25%           0.000000     0.000000          0.000000       1.000000   \n",
       "50%           1.000000     0.000000          1.000000       2.000000   \n",
       "75%           2.000000     1.000000          1.000000       2.000000   \n",
       "max           2.000000     2.000000          1.000000       3.000000   \n",
       "\n",
       "       MonthlyCharges  TotalCharges        Churn  \n",
       "count     7043.000000   7032.000000  7043.000000  \n",
       "mean        64.761692   2283.300441     0.265370  \n",
       "std         30.090047   2266.771362     0.441561  \n",
       "min         18.250000     18.800000     0.000000  \n",
       "25%         35.500000    401.450000     0.000000  \n",
       "50%         70.350000   1397.475000     0.000000  \n",
       "75%         89.850000   3794.737500     1.000000  \n",
       "max        118.750000   8684.800000     1.000000  \n",
       "\n",
       "[8 rows x 21 columns]"
      ]
     },
     "execution_count": 108,
     "metadata": {},
     "output_type": "execute_result"
    }
   ],
   "source": [
    "df.describe()"
   ]
  },
  {
   "cell_type": "markdown",
   "id": "b6b209cd",
   "metadata": {},
   "source": [
    "describe method shows the statistical information of the data, it displays min,max values of the columns,and quantiles of the data"
   ]
  },
  {
   "cell_type": "markdown",
   "id": "4e1b5948",
   "metadata": {},
   "source": [
    "# Correlation"
   ]
  },
  {
   "cell_type": "code",
   "execution_count": 109,
   "id": "f6a26b2b",
   "metadata": {},
   "outputs": [
    {
     "data": {
      "text/plain": [
       "<AxesSubplot:>"
      ]
     },
     "execution_count": 109,
     "metadata": {},
     "output_type": "execute_result"
    },
    {
     "data": {
      "image/png": "[encoded data removed]",
      "text/plain": [
       "<Figure size 1008x504 with 2 Axes>"
      ]
     },
     "metadata": {
      "needs_background": "light"
     },
     "output_type": "display_data"
    }
   ],
   "source": [
    "plt.figure(figsize=(14,7))\n",
    "sns.heatmap(df.corr(),annot=True)"
   ]
  },
  {
   "cell_type": "markdown",
   "id": "62d6f9af",
   "metadata": {},
   "source": [
    "Contract is 67 % correlated to tenure,\n",
    "Dependents are 45% correlated to Partner and 34% correlated  with Multiple lines\n",
    "Total Charges is 28% correlated with Monthly charges , and very less correlated with all other columns"
   ]
  },
  {
   "cell_type": "code",
   "execution_count": 110,
   "id": "1e8f4e46",
   "metadata": {},
   "outputs": [
    {
     "data": {
      "image/png": "[encoded data removed]",
      "text/plain": [
       "<Figure size 1008x504 with 1 Axes>"
      ]
     },
     "metadata": {
      "needs_background": "light"
     },
     "output_type": "display_data"
    }
   ],
   "source": [
    "plt.figure(figsize=(14,7))\n",
    "df.corr()['TotalCharges'].sort_values(ascending=False).drop(['TotalCharges']).plot(kind='bar',color='c')\n",
    "plt.xlabel('features',fontsize=10)\n",
    "plt.ylabel('column with target names',fontsize=14)\n",
    "plt.title('correlation',fontsize=10)\n",
    "plt.show()"
   ]
  },
  {
   "cell_type": "markdown",
   "id": "3ab7f112",
   "metadata": {},
   "source": [
    "Dependents,InternetService and Paymethod are negatively correlated"
   ]
  },
  {
   "cell_type": "code",
   "execution_count": 111,
   "id": "d6bc9cf5",
   "metadata": {},
   "outputs": [
    {
     "data": {
      "text/plain": [
       "customerID          0.000000\n",
       "gender             -0.019031\n",
       "SeniorCitizen       1.833633\n",
       "Partner             0.067922\n",
       "Dependents          0.875199\n",
       "tenure              0.239540\n",
       "PhoneService       -2.727153\n",
       "MultipleLines       0.118719\n",
       "InternetService     0.205423\n",
       "OnlineSecurity      0.416985\n",
       "OnlineBackup        0.182930\n",
       "DeviceProtection    0.186847\n",
       "TechSupport         0.402365\n",
       "StreamingTV         0.028486\n",
       "StreamingMovies     0.014657\n",
       "Contract            0.630959\n",
       "PaperlessBilling   -0.375396\n",
       "PaymentMethod      -0.170129\n",
       "MonthlyCharges     -0.220524\n",
       "TotalCharges        0.961642\n",
       "Churn               1.063031\n",
       "dtype: float64"
      ]
     },
     "execution_count": 111,
     "metadata": {},
     "output_type": "execute_result"
    }
   ],
   "source": [
    "df.skew()"
   ]
  },
  {
   "cell_type": "markdown",
   "id": "57c978cf",
   "metadata": {},
   "source": [
    "keeping +/-0.5 in range of skewness some columns not lie with in the range\n",
    "SeniorCitizens-categeoricalData\n",
    "PhoneServices-categeoricalData\n",
    "Dependents-categeoricalData\n",
    "Contract-categeoricalData\n",
    "TotalCharges-target variable\n",
    "Churn-categeoricalData\n"
   ]
  },
  {
   "cell_type": "markdown",
   "id": "a4240169",
   "metadata": {},
   "source": [
    "## Outliers Check"
   ]
  },
  {
   "cell_type": "code",
   "execution_count": 112,
   "id": "05d644f6",
   "metadata": {},
   "outputs": [
    {
     "data": {
      "text/plain": [
       "customerID          float64\n",
       "gender              float64\n",
       "SeniorCitizen         int64\n",
       "Partner             float64\n",
       "Dependents          float64\n",
       "tenure                int64\n",
       "PhoneService        float64\n",
       "MultipleLines       float64\n",
       "InternetService     float64\n",
       "OnlineSecurity      float64\n",
       "OnlineBackup        float64\n",
       "DeviceProtection    float64\n",
       "TechSupport         float64\n",
       "StreamingTV         float64\n",
       "StreamingMovies     float64\n",
       "Contract            float64\n",
       "PaperlessBilling    float64\n",
       "PaymentMethod       float64\n",
       "MonthlyCharges      float64\n",
       "TotalCharges        float64\n",
       "Churn               float64\n",
       "dtype: object"
      ]
     },
     "execution_count": 112,
     "metadata": {},
     "output_type": "execute_result"
    }
   ],
   "source": [
    "df.dtypes"
   ]
  },
  {
   "cell_type": "markdown",
   "id": "1d6a4573",
   "metadata": {},
   "source": [
    "Checking the outliers in the int and float type of columns"
   ]
  },
  {
   "cell_type": "code",
   "execution_count": 113,
   "id": "92c22042",
   "metadata": {},
   "outputs": [
    {
     "data": {
      "text/plain": [
       "<AxesSubplot:>"
      ]
     },
     "execution_count": 113,
     "metadata": {},
     "output_type": "execute_result"
    },
    {
     "data": {
      "image/png": "[encoded data removed]",
      "text/plain": [
       "<Figure size 432x288 with 1 Axes>"
      ]
     },
     "metadata": {
      "needs_background": "light"
     },
     "output_type": "display_data"
    }
   ],
   "source": [
    "df['SeniorCitizen'].plot.box()"
   ]
  },
  {
   "cell_type": "code",
   "execution_count": 114,
   "id": "cd9a8ac5",
   "metadata": {},
   "outputs": [
    {
     "data": {
      "text/plain": [
       "<AxesSubplot:>"
      ]
     },
     "execution_count": 114,
     "metadata": {},
     "output_type": "execute_result"
    },
    {
     "data": {
      "image/png": "[encoded data removed]",
      "text/plain": [
       "<Figure size 432x288 with 1 Axes>"
      ]
     },
     "metadata": {
      "needs_background": "light"
     },
     "output_type": "display_data"
    }
   ],
   "source": [
    "df['TotalCharges'].plot.box()"
   ]
  },
  {
   "cell_type": "code",
   "execution_count": 115,
   "id": "f5972ae8",
   "metadata": {},
   "outputs": [
    {
     "data": {
      "text/plain": [
       "array([0, 1], dtype=int64)"
      ]
     },
     "execution_count": 115,
     "metadata": {},
     "output_type": "execute_result"
    }
   ],
   "source": [
    "df['SeniorCitizen'].unique()"
   ]
  },
  {
   "cell_type": "markdown",
   "id": "d713a830",
   "metadata": {},
   "source": [
    "since the SeniorCitizen as nominal type we can not consider its datapoint as outlier"
   ]
  },
  {
   "cell_type": "markdown",
   "id": "ebb3ac27",
   "metadata": {},
   "source": [
    "# Outlier Removal"
   ]
  },
  {
   "cell_type": "code",
   "execution_count": 125,
   "id": "f2aae53e",
   "metadata": {},
   "outputs": [
    {
     "data": {
      "text/plain": [
       "(array([   0,    3,    7,   20,   27,   62,   81,   89,  103,  105,  107,\n",
       "         114,  116,  129,  131,  133,  168,  180,  185,  187,  206,  211,\n",
       "         215,  216,  217,  225,  236,  252,  255,  259,  260,  263,  272,\n",
       "         278,  303,  321,  324,  328,  348,  354,  358,  372,  376,  382,\n",
       "         387,  398,  424,  431,  435,  452,  465,  481,  488,  495,  498,\n",
       "         544,  569,  596,  610,  616,  620,  634,  660,  667,  669,  674,\n",
       "         677,  688,  716,  718,  735,  765,  776,  784,  790,  794,  813,\n",
       "         829,  843,  847,  859,  866,  873,  875,  877,  884,  893,  917,\n",
       "         934,  941,  943,  960,  973, 1011, 1018, 1037, 1050, 1051, 1053,\n",
       "        1072, 1110, 1119, 1122, 1144, 1146, 1150, 1161, 1169, 1182, 1204,\n",
       "        1221, 1225, 1242, 1255, 1257, 1271, 1278, 1298, 1311, 1326, 1331,\n",
       "        1333, 1334, 1340, 1349, 1352, 1365, 1379, 1402, 1407, 1416, 1452,\n",
       "        1479, 1480, 1481, 1500, 1506, 1513, 1519, 1560, 1562, 1581, 1584,\n",
       "        1614, 1620, 1634, 1637, 1652, 1689, 1692, 1694, 1703, 1722, 1734,\n",
       "        1789, 1802, 1803, 1819, 1827, 1832, 1845, 1851, 1854, 1862, 1881,\n",
       "        1889, 1892, 1894, 1906, 1910, 1944, 1959, 1969, 1985, 1989, 1998,\n",
       "        2002, 2031, 2046, 2050, 2087, 2089, 2090, 2117, 2124, 2127, 2131,\n",
       "        2188, 2215, 2225, 2226, 2237, 2239, 2290, 2295, 2310, 2340, 2344,\n",
       "        2348, 2362, 2382, 2383, 2385, 2398, 2399, 2409, 2412, 2413, 2417,\n",
       "        2420, 2421, 2426, 2427, 2431, 2433, 2465, 2468, 2492, 2533, 2538,\n",
       "        2541, 2547, 2562, 2608, 2610, 2626, 2637, 2644, 2661, 2662, 2681,\n",
       "        2696, 2700, 2709, 2712, 2718, 2725, 2728, 2748, 2751, 2752, 2754,\n",
       "        2761, 2773, 2781, 2804, 2809, 2814, 2841, 2842, 2889, 2898, 2899,\n",
       "        2903, 2913, 2915, 2916, 2918, 2919, 2929, 2940, 2944, 2962, 2966,\n",
       "        2972, 2990, 2992, 2994, 2995, 3020, 3028, 3036, 3039, 3042, 3043,\n",
       "        3060, 3062, 3070, 3073, 3080, 3092, 3096, 3126, 3127, 3133, 3139,\n",
       "        3150, 3160, 3174, 3177, 3183, 3185, 3190, 3191, 3194, 3213, 3221,\n",
       "        3223, 3233, 3235, 3243, 3258, 3290, 3292, 3311, 3316, 3318, 3342,\n",
       "        3354, 3363, 3370, 3414, 3422, 3444, 3454, 3492, 3502, 3505, 3541,\n",
       "        3542, 3557, 3575, 3583, 3586, 3594, 3613, 3614, 3617, 3620, 3621,\n",
       "        3652, 3653, 3660, 3677, 3680, 3685, 3690, 3722, 3733, 3738, 3753,\n",
       "        3756, 3773, 3819, 3860, 3870, 3873, 3877, 3902, 3905, 3926, 3934,\n",
       "        3940, 3945, 3946, 3955, 3961, 3973, 3976, 3983, 3989, 4008, 4020,\n",
       "        4024, 4027, 4029, 4040, 4041, 4043, 4048, 4052, 4054, 4055, 4056,\n",
       "        4071, 4075, 4085, 4099, 4109, 4128, 4130, 4132, 4141, 4149, 4151,\n",
       "        4162, 4168, 4174, 4178, 4180, 4183, 4200, 4207, 4208, 4233, 4239,\n",
       "        4251, 4281, 4290, 4309, 4310, 4311, 4338, 4369, 4396, 4400, 4402,\n",
       "        4409, 4411, 4424, 4432, 4465, 4474, 4481, 4521, 4537, 4557, 4565,\n",
       "        4603, 4612, 4641, 4653, 4657, 4665, 4670, 4702, 4710, 4726, 4728,\n",
       "        4729, 4740, 4750, 4765, 4773, 4821, 4828, 4831, 4840, 4845, 4849,\n",
       "        4854, 4857, 4860, 4882, 4883, 4897, 4898, 4915, 4919, 4924, 4933,\n",
       "        4949, 4965, 4968, 4970, 4974, 4976, 4981, 4983, 4989, 4992, 4993,\n",
       "        5002, 5013, 5014, 5017, 5034, 5060, 5062, 5064, 5066, 5073, 5085,\n",
       "        5091, 5117, 5130, 5144, 5147, 5163, 5176, 5180, 5186, 5204, 5207,\n",
       "        5210, 5212, 5216, 5249, 5263, 5264, 5284, 5290, 5292, 5296, 5303,\n",
       "        5314, 5329, 5331, 5338, 5343, 5348, 5356, 5359, 5382, 5387, 5391,\n",
       "        5392, 5411, 5456, 5489, 5497, 5501, 5505, 5531, 5536, 5546, 5559,\n",
       "        5565, 5601, 5607, 5631, 5636, 5648, 5665, 5666, 5674, 5682, 5683,\n",
       "        5690, 5717, 5740, 5761, 5788, 5790, 5796, 5799, 5829, 5833, 5837,\n",
       "        5841, 5880, 5884, 5889, 5891, 5900, 5911, 5939, 5941, 5942, 5949,\n",
       "        5950, 5954, 5961, 5967, 5976, 5983, 6001, 6006, 6007, 6020, 6030,\n",
       "        6031, 6039, 6043, 6059, 6064, 6067, 6074, 6080, 6087, 6093, 6108,\n",
       "        6129, 6132, 6133, 6145, 6149, 6162, 6174, 6183, 6204, 6209, 6212,\n",
       "        6218, 6219, 6220, 6235, 6248, 6252, 6253, 6256, 6260, 6263, 6269,\n",
       "        6285, 6296, 6310, 6319, 6326, 6331, 6367, 6377, 6383, 6392, 6406,\n",
       "        6415, 6416, 6424, 6425, 6435, 6455, 6457, 6459, 6493, 6494, 6500,\n",
       "        6503, 6509, 6514, 6515, 6522, 6523, 6530, 6536, 6547, 6553, 6570,\n",
       "        6573, 6593, 6600, 6607, 6624, 6640, 6653, 6661, 6662, 6665, 6677,\n",
       "        6679, 6683, 6684, 6691, 6693, 6703, 6727, 6747, 6750, 6752, 6757,\n",
       "        6777, 6779, 6783, 6791, 6810, 6811, 6813, 6834, 6864, 6881, 6884,\n",
       "        6891, 6895, 6904, 6905, 6937, 6940, 6941, 6943, 6946, 6949, 6964,\n",
       "        6966, 6979, 6980, 6984, 6985, 6999, 7003, 7007, 7029, 7036, 7040],\n",
       "       dtype=int32),\n",
       " array([6, 6, 6, 6, 6, 6, 6, 6, 6, 6, 6, 6, 6, 6, 6, 6, 6, 6, 6, 6, 6, 6,\n",
       "        6, 6, 6, 6, 6, 6, 6, 6, 6, 6, 6, 6, 6, 6, 6, 6, 6, 6, 6, 6, 6, 6,\n",
       "        6, 6, 6, 6, 6, 6, 6, 6, 6, 6, 6, 6, 6, 6, 6, 6, 6, 6, 6, 6, 6, 6,\n",
       "        6, 6, 6, 6, 6, 6, 6, 6, 6, 6, 6, 6, 6, 6, 6, 6, 6, 6, 6, 6, 6, 6,\n",
       "        6, 6, 6, 6, 6, 6, 6, 6, 6, 6, 6, 6, 6, 6, 6, 6, 6, 6, 6, 6, 6, 6,\n",
       "        6, 6, 6, 6, 6, 6, 6, 6, 6, 6, 6, 6, 6, 6, 6, 6, 6, 6, 6, 6, 6, 6,\n",
       "        6, 6, 6, 6, 6, 6, 6, 6, 6, 6, 6, 6, 6, 6, 6, 6, 6, 6, 6, 6, 6, 6,\n",
       "        6, 6, 6, 6, 6, 6, 6, 6, 6, 6, 6, 6, 6, 6, 6, 6, 6, 6, 6, 6, 6, 6,\n",
       "        6, 6, 6, 6, 6, 6, 6, 6, 6, 6, 6, 6, 6, 6, 6, 6, 6, 6, 6, 6, 6, 6,\n",
       "        6, 6, 6, 6, 6, 6, 6, 6, 6, 6, 6, 6, 6, 6, 6, 6, 6, 6, 6, 6, 6, 6,\n",
       "        6, 6, 6, 6, 6, 6, 6, 6, 6, 6, 6, 6, 6, 6, 6, 6, 6, 6, 6, 6, 6, 6,\n",
       "        6, 6, 6, 6, 6, 6, 6, 6, 6, 6, 6, 6, 6, 6, 6, 6, 6, 6, 6, 6, 6, 6,\n",
       "        6, 6, 6, 6, 6, 6, 6, 6, 6, 6, 6, 6, 6, 6, 6, 6, 6, 6, 6, 6, 6, 6,\n",
       "        6, 6, 6, 6, 6, 6, 6, 6, 6, 6, 6, 6, 6, 6, 6, 6, 6, 6, 6, 6, 6, 6,\n",
       "        6, 6, 6, 6, 6, 6, 6, 6, 6, 6, 6, 6, 6, 6, 6, 6, 6, 6, 6, 6, 6, 6,\n",
       "        6, 6, 6, 6, 6, 6, 6, 6, 6, 6, 6, 6, 6, 6, 6, 6, 6, 6, 6, 6, 6, 6,\n",
       "        6, 6, 6, 6, 6, 6, 6, 6, 6, 6, 6, 6, 6, 6, 6, 6, 6, 6, 6, 6, 6, 6,\n",
       "        6, 6, 6, 6, 6, 6, 6, 6, 6, 6, 6, 6, 6, 6, 6, 6, 6, 6, 6, 6, 6, 6,\n",
       "        6, 6, 6, 6, 6, 6, 6, 6, 6, 6, 6, 6, 6, 6, 6, 6, 6, 6, 6, 6, 6, 6,\n",
       "        6, 6, 6, 6, 6, 6, 6, 6, 6, 6, 6, 6, 6, 6, 6, 6, 6, 6, 6, 6, 6, 6,\n",
       "        6, 6, 6, 6, 6, 6, 6, 6, 6, 6, 6, 6, 6, 6, 6, 6, 6, 6, 6, 6, 6, 6,\n",
       "        6, 6, 6, 6, 6, 6, 6, 6, 6, 6, 6, 6, 6, 6, 6, 6, 6, 6, 6, 6, 6, 6,\n",
       "        6, 6, 6, 6, 6, 6, 6, 6, 6, 6, 6, 6, 6, 6, 6, 6, 6, 6, 6, 6, 6, 6,\n",
       "        6, 6, 6, 6, 6, 6, 6, 6, 6, 6, 6, 6, 6, 6, 6, 6, 6, 6, 6, 6, 6, 6,\n",
       "        6, 6, 6, 6, 6, 6, 6, 6, 6, 6, 6, 6, 6, 6, 6, 6, 6, 6, 6, 6, 6, 6,\n",
       "        6, 6, 6, 6, 6, 6, 6, 6, 6, 6, 6, 6, 6, 6, 6, 6, 6, 6, 6, 6, 6, 6,\n",
       "        6, 6, 6, 6, 6, 6, 6, 6, 6, 6, 6, 6, 6, 6, 6, 6, 6, 6, 6, 6, 6, 6,\n",
       "        6, 6, 6, 6, 6, 6, 6, 6, 6, 6, 6, 6, 6, 6, 6, 6, 6, 6, 6, 6, 6, 6,\n",
       "        6, 6, 6, 6, 6, 6, 6, 6, 6, 6, 6, 6, 6, 6, 6, 6, 6, 6, 6, 6, 6, 6,\n",
       "        6, 6, 6, 6, 6, 6, 6, 6, 6, 6, 6, 6, 6, 6, 6, 6, 6, 6, 6, 6, 6, 6,\n",
       "        6, 6, 6, 6, 6, 6, 6, 6, 6, 6, 6, 6, 6, 6, 6, 6, 6, 6, 6, 6, 6, 6],\n",
       "       dtype=int32))"
      ]
     },
     "execution_count": 125,
     "metadata": {},
     "output_type": "execute_result"
    }
   ],
   "source": [
    "from scipy.stats import zscore\n",
    "z=np.abs(zscore(df))\n",
    "threshold=3\n",
    "np.where(z>3)"
   ]
  },
  {
   "cell_type": "code",
   "execution_count": 126,
   "id": "428900f5",
   "metadata": {},
   "outputs": [
    {
     "data": {
      "text/html": [
       "<div>\n",
       "<style scoped>\n",
       "    .dataframe tbody tr th:only-of-type {\n",
       "        vertical-align: middle;\n",
       "    }\n",
       "\n",
       "    .dataframe tbody tr th {\n",
       "        vertical-align: top;\n",
       "    }\n",
       "\n",
       "    .dataframe thead th {\n",
       "        text-align: right;\n",
       "    }\n",
       "</style>\n",
       "<table border=\"1\" class=\"dataframe\">\n",
       "  <thead>\n",
       "    <tr style=\"text-align: right;\">\n",
       "      <th></th>\n",
       "      <th>customerID</th>\n",
       "      <th>gender</th>\n",
       "      <th>SeniorCitizen</th>\n",
       "      <th>Partner</th>\n",
       "      <th>Dependents</th>\n",
       "      <th>tenure</th>\n",
       "      <th>PhoneService</th>\n",
       "      <th>MultipleLines</th>\n",
       "      <th>InternetService</th>\n",
       "      <th>OnlineSecurity</th>\n",
       "      <th>...</th>\n",
       "      <th>DeviceProtection</th>\n",
       "      <th>TechSupport</th>\n",
       "      <th>StreamingTV</th>\n",
       "      <th>StreamingMovies</th>\n",
       "      <th>Contract</th>\n",
       "      <th>PaperlessBilling</th>\n",
       "      <th>PaymentMethod</th>\n",
       "      <th>MonthlyCharges</th>\n",
       "      <th>TotalCharges</th>\n",
       "      <th>Churn</th>\n",
       "    </tr>\n",
       "  </thead>\n",
       "  <tbody>\n",
       "    <tr>\n",
       "      <th>1</th>\n",
       "      <td>3962.0</td>\n",
       "      <td>1.0</td>\n",
       "      <td>0</td>\n",
       "      <td>0.0</td>\n",
       "      <td>0.0</td>\n",
       "      <td>34</td>\n",
       "      <td>1.0</td>\n",
       "      <td>0.0</td>\n",
       "      <td>0.0</td>\n",
       "      <td>2.0</td>\n",
       "      <td>...</td>\n",
       "      <td>2.0</td>\n",
       "      <td>0.0</td>\n",
       "      <td>0.0</td>\n",
       "      <td>0.0</td>\n",
       "      <td>1.0</td>\n",
       "      <td>0.0</td>\n",
       "      <td>3.0</td>\n",
       "      <td>56.95</td>\n",
       "      <td>1889.50</td>\n",
       "      <td>0.0</td>\n",
       "    </tr>\n",
       "    <tr>\n",
       "      <th>2</th>\n",
       "      <td>2564.0</td>\n",
       "      <td>1.0</td>\n",
       "      <td>0</td>\n",
       "      <td>0.0</td>\n",
       "      <td>0.0</td>\n",
       "      <td>2</td>\n",
       "      <td>1.0</td>\n",
       "      <td>0.0</td>\n",
       "      <td>0.0</td>\n",
       "      <td>2.0</td>\n",
       "      <td>...</td>\n",
       "      <td>0.0</td>\n",
       "      <td>0.0</td>\n",
       "      <td>0.0</td>\n",
       "      <td>0.0</td>\n",
       "      <td>0.0</td>\n",
       "      <td>1.0</td>\n",
       "      <td>3.0</td>\n",
       "      <td>53.85</td>\n",
       "      <td>108.15</td>\n",
       "      <td>1.0</td>\n",
       "    </tr>\n",
       "    <tr>\n",
       "      <th>4</th>\n",
       "      <td>6511.0</td>\n",
       "      <td>0.0</td>\n",
       "      <td>0</td>\n",
       "      <td>0.0</td>\n",
       "      <td>0.0</td>\n",
       "      <td>2</td>\n",
       "      <td>1.0</td>\n",
       "      <td>0.0</td>\n",
       "      <td>1.0</td>\n",
       "      <td>0.0</td>\n",
       "      <td>...</td>\n",
       "      <td>0.0</td>\n",
       "      <td>0.0</td>\n",
       "      <td>0.0</td>\n",
       "      <td>0.0</td>\n",
       "      <td>0.0</td>\n",
       "      <td>1.0</td>\n",
       "      <td>2.0</td>\n",
       "      <td>70.70</td>\n",
       "      <td>151.65</td>\n",
       "      <td>1.0</td>\n",
       "    </tr>\n",
       "    <tr>\n",
       "      <th>5</th>\n",
       "      <td>6551.0</td>\n",
       "      <td>0.0</td>\n",
       "      <td>0</td>\n",
       "      <td>0.0</td>\n",
       "      <td>0.0</td>\n",
       "      <td>8</td>\n",
       "      <td>1.0</td>\n",
       "      <td>2.0</td>\n",
       "      <td>1.0</td>\n",
       "      <td>0.0</td>\n",
       "      <td>...</td>\n",
       "      <td>2.0</td>\n",
       "      <td>0.0</td>\n",
       "      <td>2.0</td>\n",
       "      <td>2.0</td>\n",
       "      <td>0.0</td>\n",
       "      <td>1.0</td>\n",
       "      <td>2.0</td>\n",
       "      <td>99.65</td>\n",
       "      <td>820.50</td>\n",
       "      <td>1.0</td>\n",
       "    </tr>\n",
       "    <tr>\n",
       "      <th>6</th>\n",
       "      <td>1002.0</td>\n",
       "      <td>1.0</td>\n",
       "      <td>0</td>\n",
       "      <td>0.0</td>\n",
       "      <td>1.0</td>\n",
       "      <td>22</td>\n",
       "      <td>1.0</td>\n",
       "      <td>2.0</td>\n",
       "      <td>1.0</td>\n",
       "      <td>0.0</td>\n",
       "      <td>...</td>\n",
       "      <td>0.0</td>\n",
       "      <td>0.0</td>\n",
       "      <td>2.0</td>\n",
       "      <td>0.0</td>\n",
       "      <td>0.0</td>\n",
       "      <td>1.0</td>\n",
       "      <td>1.0</td>\n",
       "      <td>89.10</td>\n",
       "      <td>1949.40</td>\n",
       "      <td>0.0</td>\n",
       "    </tr>\n",
       "    <tr>\n",
       "      <th>...</th>\n",
       "      <td>...</td>\n",
       "      <td>...</td>\n",
       "      <td>...</td>\n",
       "      <td>...</td>\n",
       "      <td>...</td>\n",
       "      <td>...</td>\n",
       "      <td>...</td>\n",
       "      <td>...</td>\n",
       "      <td>...</td>\n",
       "      <td>...</td>\n",
       "      <td>...</td>\n",
       "      <td>...</td>\n",
       "      <td>...</td>\n",
       "      <td>...</td>\n",
       "      <td>...</td>\n",
       "      <td>...</td>\n",
       "      <td>...</td>\n",
       "      <td>...</td>\n",
       "      <td>...</td>\n",
       "      <td>...</td>\n",
       "      <td>...</td>\n",
       "    </tr>\n",
       "    <tr>\n",
       "      <th>7037</th>\n",
       "      <td>1758.0</td>\n",
       "      <td>0.0</td>\n",
       "      <td>0</td>\n",
       "      <td>0.0</td>\n",
       "      <td>0.0</td>\n",
       "      <td>72</td>\n",
       "      <td>1.0</td>\n",
       "      <td>0.0</td>\n",
       "      <td>2.0</td>\n",
       "      <td>1.0</td>\n",
       "      <td>...</td>\n",
       "      <td>1.0</td>\n",
       "      <td>1.0</td>\n",
       "      <td>1.0</td>\n",
       "      <td>1.0</td>\n",
       "      <td>2.0</td>\n",
       "      <td>1.0</td>\n",
       "      <td>0.0</td>\n",
       "      <td>21.15</td>\n",
       "      <td>1419.40</td>\n",
       "      <td>0.0</td>\n",
       "    </tr>\n",
       "    <tr>\n",
       "      <th>7038</th>\n",
       "      <td>4853.0</td>\n",
       "      <td>1.0</td>\n",
       "      <td>0</td>\n",
       "      <td>1.0</td>\n",
       "      <td>1.0</td>\n",
       "      <td>24</td>\n",
       "      <td>1.0</td>\n",
       "      <td>2.0</td>\n",
       "      <td>0.0</td>\n",
       "      <td>2.0</td>\n",
       "      <td>...</td>\n",
       "      <td>2.0</td>\n",
       "      <td>2.0</td>\n",
       "      <td>2.0</td>\n",
       "      <td>2.0</td>\n",
       "      <td>1.0</td>\n",
       "      <td>1.0</td>\n",
       "      <td>3.0</td>\n",
       "      <td>84.80</td>\n",
       "      <td>1990.50</td>\n",
       "      <td>0.0</td>\n",
       "    </tr>\n",
       "    <tr>\n",
       "      <th>7039</th>\n",
       "      <td>1525.0</td>\n",
       "      <td>0.0</td>\n",
       "      <td>0</td>\n",
       "      <td>1.0</td>\n",
       "      <td>1.0</td>\n",
       "      <td>72</td>\n",
       "      <td>1.0</td>\n",
       "      <td>2.0</td>\n",
       "      <td>1.0</td>\n",
       "      <td>0.0</td>\n",
       "      <td>...</td>\n",
       "      <td>2.0</td>\n",
       "      <td>0.0</td>\n",
       "      <td>2.0</td>\n",
       "      <td>2.0</td>\n",
       "      <td>1.0</td>\n",
       "      <td>1.0</td>\n",
       "      <td>1.0</td>\n",
       "      <td>103.20</td>\n",
       "      <td>7362.90</td>\n",
       "      <td>0.0</td>\n",
       "    </tr>\n",
       "    <tr>\n",
       "      <th>7041</th>\n",
       "      <td>5934.0</td>\n",
       "      <td>1.0</td>\n",
       "      <td>1</td>\n",
       "      <td>1.0</td>\n",
       "      <td>0.0</td>\n",
       "      <td>4</td>\n",
       "      <td>1.0</td>\n",
       "      <td>2.0</td>\n",
       "      <td>1.0</td>\n",
       "      <td>0.0</td>\n",
       "      <td>...</td>\n",
       "      <td>0.0</td>\n",
       "      <td>0.0</td>\n",
       "      <td>0.0</td>\n",
       "      <td>0.0</td>\n",
       "      <td>0.0</td>\n",
       "      <td>1.0</td>\n",
       "      <td>3.0</td>\n",
       "      <td>74.40</td>\n",
       "      <td>306.60</td>\n",
       "      <td>1.0</td>\n",
       "    </tr>\n",
       "    <tr>\n",
       "      <th>7042</th>\n",
       "      <td>2226.0</td>\n",
       "      <td>1.0</td>\n",
       "      <td>0</td>\n",
       "      <td>0.0</td>\n",
       "      <td>0.0</td>\n",
       "      <td>66</td>\n",
       "      <td>1.0</td>\n",
       "      <td>0.0</td>\n",
       "      <td>1.0</td>\n",
       "      <td>2.0</td>\n",
       "      <td>...</td>\n",
       "      <td>2.0</td>\n",
       "      <td>2.0</td>\n",
       "      <td>2.0</td>\n",
       "      <td>2.0</td>\n",
       "      <td>2.0</td>\n",
       "      <td>1.0</td>\n",
       "      <td>0.0</td>\n",
       "      <td>105.65</td>\n",
       "      <td>6844.50</td>\n",
       "      <td>0.0</td>\n",
       "    </tr>\n",
       "  </tbody>\n",
       "</table>\n",
       "<p>6361 rows × 21 columns</p>\n",
       "</div>"
      ],
      "text/plain": [
       "      customerID  gender  SeniorCitizen  Partner  Dependents  tenure  \\\n",
       "1         3962.0     1.0              0      0.0         0.0      34   \n",
       "2         2564.0     1.0              0      0.0         0.0       2   \n",
       "4         6511.0     0.0              0      0.0         0.0       2   \n",
       "5         6551.0     0.0              0      0.0         0.0       8   \n",
       "6         1002.0     1.0              0      0.0         1.0      22   \n",
       "...          ...     ...            ...      ...         ...     ...   \n",
       "7037      1758.0     0.0              0      0.0         0.0      72   \n",
       "7038      4853.0     1.0              0      1.0         1.0      24   \n",
       "7039      1525.0     0.0              0      1.0         1.0      72   \n",
       "7041      5934.0     1.0              1      1.0         0.0       4   \n",
       "7042      2226.0     1.0              0      0.0         0.0      66   \n",
       "\n",
       "      PhoneService  MultipleLines  InternetService  OnlineSecurity  ...  \\\n",
       "1              1.0            0.0              0.0             2.0  ...   \n",
       "2              1.0            0.0              0.0             2.0  ...   \n",
       "4              1.0            0.0              1.0             0.0  ...   \n",
       "5              1.0            2.0              1.0             0.0  ...   \n",
       "6              1.0            2.0              1.0             0.0  ...   \n",
       "...            ...            ...              ...             ...  ...   \n",
       "7037           1.0            0.0              2.0             1.0  ...   \n",
       "7038           1.0            2.0              0.0             2.0  ...   \n",
       "7039           1.0            2.0              1.0             0.0  ...   \n",
       "7041           1.0            2.0              1.0             0.0  ...   \n",
       "7042           1.0            0.0              1.0             2.0  ...   \n",
       "\n",
       "      DeviceProtection  TechSupport  StreamingTV  StreamingMovies  Contract  \\\n",
       "1                  2.0          0.0          0.0              0.0       1.0   \n",
       "2                  0.0          0.0          0.0              0.0       0.0   \n",
       "4                  0.0          0.0          0.0              0.0       0.0   \n",
       "5                  2.0          0.0          2.0              2.0       0.0   \n",
       "6                  0.0          0.0          2.0              0.0       0.0   \n",
       "...                ...          ...          ...              ...       ...   \n",
       "7037               1.0          1.0          1.0              1.0       2.0   \n",
       "7038               2.0          2.0          2.0              2.0       1.0   \n",
       "7039               2.0          0.0          2.0              2.0       1.0   \n",
       "7041               0.0          0.0          0.0              0.0       0.0   \n",
       "7042               2.0          2.0          2.0              2.0       2.0   \n",
       "\n",
       "      PaperlessBilling  PaymentMethod  MonthlyCharges  TotalCharges  Churn  \n",
       "1                  0.0            3.0           56.95       1889.50    0.0  \n",
       "2                  1.0            3.0           53.85        108.15    1.0  \n",
       "4                  1.0            2.0           70.70        151.65    1.0  \n",
       "5                  1.0            2.0           99.65        820.50    1.0  \n",
       "6                  1.0            1.0           89.10       1949.40    0.0  \n",
       "...                ...            ...             ...           ...    ...  \n",
       "7037               1.0            0.0           21.15       1419.40    0.0  \n",
       "7038               1.0            3.0           84.80       1990.50    0.0  \n",
       "7039               1.0            1.0          103.20       7362.90    0.0  \n",
       "7041               1.0            3.0           74.40        306.60    1.0  \n",
       "7042               1.0            0.0          105.65       6844.50    0.0  \n",
       "\n",
       "[6361 rows x 21 columns]"
      ]
     },
     "execution_count": 126,
     "metadata": {},
     "output_type": "execute_result"
    }
   ],
   "source": [
    "df_new=df[(z<3).all(axis=1)]\n",
    "df_new"
   ]
  },
  {
   "cell_type": "code",
   "execution_count": 127,
   "id": "08febdd3",
   "metadata": {},
   "outputs": [
    {
     "data": {
      "text/plain": [
       "9.683373562402386"
      ]
     },
     "execution_count": 127,
     "metadata": {},
     "output_type": "execute_result"
    }
   ],
   "source": [
    "#percentage loss of data\n",
    "data_loss=((7043-6361)/7043)*100\n",
    "data_loss"
   ]
  },
  {
   "cell_type": "markdown",
   "id": "a2266983",
   "metadata": {},
   "source": [
    "our data is becoming biased as it is not considering the case SeniorCitizen .Thus we will not remove outliers"
   ]
  },
  {
   "cell_type": "markdown",
   "id": "b173f564",
   "metadata": {},
   "source": [
    "## Seperating columns into features and Target"
   ]
  },
  {
   "cell_type": "code",
   "execution_count": 128,
   "id": "479b9160",
   "metadata": {},
   "outputs": [],
   "source": [
    "x=df.drop(['TotalCharges'],axis=1)\n",
    "y=df['TotalCharges']"
   ]
  },
  {
   "cell_type": "markdown",
   "id": "da9da963",
   "metadata": {},
   "source": [
    "## Scaling the data using MinMaxScaler"
   ]
  },
  {
   "cell_type": "code",
   "execution_count": 129,
   "id": "7cd6759c",
   "metadata": {},
   "outputs": [
    {
     "data": {
      "text/plain": [
       "array([[0.76327748, 0.        , 0.        , ..., 0.66666667, 0.11542289,\n",
       "        0.        ],\n",
       "       [0.56262425, 1.        , 0.        , ..., 1.        , 0.38507463,\n",
       "        0.        ],\n",
       "       [0.36410111, 1.        , 0.        , ..., 1.        , 0.35422886,\n",
       "        1.        ],\n",
       "       ...,\n",
       "       [0.47813121, 0.        , 0.        , ..., 0.66666667, 0.11293532,\n",
       "        0.        ],\n",
       "       [0.84265834, 1.        , 1.        , ..., 1.        , 0.55870647,\n",
       "        1.        ],\n",
       "       [0.31610338, 1.        , 0.        , ..., 0.        , 0.86965174,\n",
       "        0.        ]])"
      ]
     },
     "execution_count": 129,
     "metadata": {},
     "output_type": "execute_result"
    }
   ],
   "source": [
    "from sklearn.preprocessing import MinMaxScaler\n",
    "mms=MinMaxScaler()\n",
    "x=mms.fit_transform(x)\n",
    "x"
   ]
  },
  {
   "cell_type": "markdown",
   "id": "f96c4211",
   "metadata": {},
   "source": [
    "# Model Building"
   ]
  },
  {
   "cell_type": "markdown",
   "id": "772366f0",
   "metadata": {},
   "source": [
    "Here our target variable is continuous type so, we use LinearRegression"
   ]
  },
  {
   "cell_type": "code",
   "execution_count": 130,
   "id": "d317be32",
   "metadata": {},
   "outputs": [],
   "source": [
    "from sklearn.model_selection import train_test_split\n",
    "from sklearn.linear_model import LinearRegression\n",
    "lr=LinearRegression()\n",
    "from sklearn.metrics import accuracy_score"
   ]
  },
  {
   "cell_type": "code",
   "execution_count": 131,
   "id": "b4bff1aa",
   "metadata": {},
   "outputs": [
    {
     "name": "stdout",
     "output_type": "stream",
     "text": [
      "At random state 1 the training accaracy is:0.9052277082152647\n",
      "At random state 1 the testing accaracy is:0.9003132716690803\n",
      "/n\n",
      "At random state 2 the training accaracy is:0.9056858398935238\n",
      "At random state 2 the testing accaracy is:0.8984735750686562\n",
      "/n\n",
      "At random state 3 the training accaracy is:0.9044956724241888\n",
      "At random state 3 the testing accaracy is:0.9032713403489698\n",
      "/n\n",
      "At random state 4 the training accaracy is:0.9031354749784841\n",
      "At random state 4 the testing accaracy is:0.9085937883962483\n",
      "/n\n",
      "At random state 5 the training accaracy is:0.9026338340566922\n",
      "At random state 5 the testing accaracy is:0.9101290251842342\n",
      "/n\n",
      "At random state 6 the training accaracy is:0.9028087364691222\n",
      "At random state 6 the testing accaracy is:0.9097783155230825\n",
      "/n\n",
      "At random state 7 the training accaracy is:0.9030731852162728\n",
      "At random state 7 the testing accaracy is:0.9090152662295623\n",
      "/n\n",
      "At random state 8 the training accaracy is:0.9031695399147395\n",
      "At random state 8 the testing accaracy is:0.90898402528887\n",
      "/n\n",
      "At random state 9 the training accaracy is:0.9034746951288706\n",
      "At random state 9 the testing accaracy is:0.9074646730902045\n",
      "/n\n",
      "At random state 10 the training accaracy is:0.9039273530214657\n",
      "At random state 10 the testing accaracy is:0.9057313444009304\n",
      "/n\n",
      "At random state 11 the training accaracy is:0.90416749132796\n",
      "At random state 11 the testing accaracy is:0.9047686807132891\n",
      "/n\n",
      "At random state 12 the training accaracy is:0.904295058479142\n",
      "At random state 12 the testing accaracy is:0.9042173834952041\n",
      "/n\n",
      "At random state 13 the training accaracy is:0.9061128342153906\n",
      "At random state 13 the testing accaracy is:0.8970316362276967\n",
      "/n\n",
      "At random state 14 the training accaracy is:0.9032235219356887\n",
      "At random state 14 the testing accaracy is:0.9085611847383548\n",
      "/n\n",
      "At random state 15 the training accaracy is:0.9036417240520398\n",
      "At random state 15 the testing accaracy is:0.9065354335769849\n",
      "/n\n",
      "At random state 16 the training accaracy is:0.902513180979179\n",
      "At random state 16 the testing accaracy is:0.9108718638407604\n",
      "/n\n",
      "At random state 17 the training accaracy is:0.9029763238324856\n",
      "At random state 17 the testing accaracy is:0.9090481298163142\n",
      "/n\n",
      "At random state 18 the training accaracy is:0.9040046108882651\n",
      "At random state 18 the testing accaracy is:0.905396580370459\n",
      "/n\n",
      "At random state 19 the training accaracy is:0.9034412311305086\n",
      "At random state 19 the testing accaracy is:0.9074326529099004\n",
      "/n\n",
      "At random state 20 the training accaracy is:0.9038114387313897\n",
      "At random state 20 the testing accaracy is:0.9061900564918883\n",
      "/n\n",
      "At random state 21 the training accaracy is:0.9052547201538726\n",
      "At random state 21 the testing accaracy is:0.9001811940034143\n",
      "/n\n",
      "At random state 22 the training accaracy is:0.9048855878445041\n",
      "At random state 22 the testing accaracy is:0.9016245686679333\n",
      "/n\n",
      "At random state 23 the training accaracy is:0.9059052667946395\n",
      "At random state 23 the testing accaracy is:0.8976868590676645\n",
      "/n\n",
      "At random state 24 the training accaracy is:0.9053663827385406\n",
      "At random state 24 the testing accaracy is:0.8997190802019617\n",
      "/n\n",
      "At random state 25 the training accaracy is:0.903685000193504\n",
      "At random state 25 the testing accaracy is:0.9065995296286009\n",
      "/n\n",
      "At random state 26 the training accaracy is:0.9037524003267481\n",
      "At random state 26 the testing accaracy is:0.9061850448849731\n",
      "/n\n",
      "At random state 27 the training accaracy is:0.9030722283453853\n",
      "At random state 27 the testing accaracy is:0.9087578489908282\n",
      "/n\n",
      "At random state 28 the training accaracy is:0.9054780543804203\n",
      "At random state 28 the testing accaracy is:0.8991985090730238\n",
      "/n\n",
      "At random state 29 the training accaracy is:0.9047235288114399\n",
      "At random state 29 the testing accaracy is:0.9025044586745022\n",
      "/n\n",
      "At random state 30 the training accaracy is:0.9035962408729578\n",
      "At random state 30 the testing accaracy is:0.9067861658008053\n",
      "/n\n",
      "At random state 31 the training accaracy is:0.9044003239480541\n",
      "At random state 31 the testing accaracy is:0.9037125620748929\n",
      "/n\n",
      "At random state 32 the training accaracy is:0.9028047145643671\n",
      "At random state 32 the testing accaracy is:0.9098566404249441\n",
      "/n\n",
      "At random state 33 the training accaracy is:0.9047735766069083\n",
      "At random state 33 the testing accaracy is:0.9021133188918252\n",
      "/n\n",
      "At random state 34 the training accaracy is:0.9049786467757772\n",
      "At random state 34 the testing accaracy is:0.9011095018903077\n",
      "/n\n",
      "At random state 35 the training accaracy is:0.9037330831087504\n",
      "At random state 35 the testing accaracy is:0.9059032011589312\n",
      "/n\n",
      "At random state 36 the training accaracy is:0.9040782338670285\n",
      "At random state 36 the testing accaracy is:0.9049467803295633\n",
      "/n\n",
      "At random state 37 the training accaracy is:0.9049346713834417\n",
      "At random state 37 the testing accaracy is:0.9017136587653214\n",
      "/n\n",
      "At random state 38 the training accaracy is:0.9043316704545361\n",
      "At random state 38 the testing accaracy is:0.9039556111083614\n",
      "/n\n",
      "At random state 39 the training accaracy is:0.9057209215860212\n",
      "At random state 39 the testing accaracy is:0.8981082476351707\n",
      "/n\n",
      "At random state 40 the training accaracy is:0.9043830357530264\n",
      "At random state 40 the testing accaracy is:0.9036195276240668\n",
      "/n\n",
      "At random state 41 the training accaracy is:0.9061788339663605\n",
      "At random state 41 the testing accaracy is:0.8952155358316546\n",
      "/n\n",
      "At random state 42 the training accaracy is:0.9042763981184584\n",
      "At random state 42 the testing accaracy is:0.9043375885852347\n",
      "/n\n",
      "At random state 43 the training accaracy is:0.9041690353549867\n",
      "At random state 43 the testing accaracy is:0.9046777485237854\n",
      "/n\n",
      "At random state 44 the training accaracy is:0.9048407302717054\n",
      "At random state 44 the testing accaracy is:0.9019029244635616\n",
      "/n\n",
      "At random state 45 the training accaracy is:0.9030056669158852\n",
      "At random state 45 the testing accaracy is:0.9091087158743962\n",
      "/n\n",
      "At random state 46 the training accaracy is:0.9024053251978693\n",
      "At random state 46 the testing accaracy is:0.9116086722009722\n",
      "/n\n",
      "At random state 47 the training accaracy is:0.9043177434505593\n",
      "At random state 47 the testing accaracy is:0.9040394943062149\n",
      "/n\n",
      "At random state 48 the training accaracy is:0.9052833528349797\n",
      "At random state 48 the testing accaracy is:0.90016833753573\n",
      "/n\n",
      "At random state 49 the training accaracy is:0.9040309769515147\n",
      "At random state 49 the testing accaracy is:0.9053309511030214\n",
      "/n\n",
      "At random state 50 the training accaracy is:0.9041430357670286\n",
      "At random state 50 the testing accaracy is:0.9046230242503411\n",
      "/n\n",
      "At random state 51 the training accaracy is:0.9050791909207966\n",
      "At random state 51 the testing accaracy is:0.9009062115764127\n",
      "/n\n",
      "At random state 52 the training accaracy is:0.9057472494605133\n",
      "At random state 52 the testing accaracy is:0.8979747318915886\n",
      "/n\n",
      "At random state 53 the training accaracy is:0.9038687373130406\n",
      "At random state 53 the testing accaracy is:0.9058118603722985\n",
      "/n\n",
      "At random state 54 the training accaracy is:0.9041451902842421\n",
      "At random state 54 the testing accaracy is:0.9049260764058595\n",
      "/n\n",
      "At random state 55 the training accaracy is:0.9048038386573602\n",
      "At random state 55 the testing accaracy is:0.9019163290729323\n",
      "/n\n",
      "At random state 56 the training accaracy is:0.9032698863946899\n",
      "At random state 56 the testing accaracy is:0.9081499952718456\n",
      "/n\n",
      "At random state 57 the training accaracy is:0.9040159421826726\n",
      "At random state 57 the testing accaracy is:0.9052917838090725\n",
      "/n\n",
      "At random state 58 the training accaracy is:0.9049232212627427\n",
      "At random state 58 the testing accaracy is:0.9016846424626671\n",
      "/n\n",
      "At random state 59 the training accaracy is:0.9040039362281472\n",
      "At random state 59 the testing accaracy is:0.9052270944903523\n",
      "/n\n",
      "At random state 60 the training accaracy is:0.9040991531443305\n",
      "At random state 60 the testing accaracy is:0.9050528820107042\n",
      "/n\n",
      "At random state 61 the training accaracy is:0.9040256222312663\n",
      "At random state 61 the testing accaracy is:0.9053914732775237\n",
      "/n\n",
      "At random state 62 the training accaracy is:0.9049700265530704\n",
      "At random state 62 the testing accaracy is:0.9014150456937688\n",
      "/n\n",
      "At random state 63 the training accaracy is:0.9048964501700321\n",
      "At random state 63 the testing accaracy is:0.9014758874088667\n",
      "/n\n",
      "At random state 64 the training accaracy is:0.9045170165947284\n",
      "At random state 64 the testing accaracy is:0.9031967303238566\n",
      "/n\n",
      "At random state 65 the training accaracy is:0.9045009415426984\n",
      "At random state 65 the testing accaracy is:0.9032852823020274\n",
      "/n\n",
      "At random state 66 the training accaracy is:0.9064055684861096\n",
      "At random state 66 the testing accaracy is:0.8953698509727254\n",
      "/n\n",
      "At random state 67 the training accaracy is:0.9057993770221395\n",
      "At random state 67 the testing accaracy is:0.898050834773779\n",
      "/n\n",
      "At random state 68 the training accaracy is:0.9044724983486806\n",
      "At random state 68 the testing accaracy is:0.9035221768135263\n",
      "/n\n",
      "At random state 69 the training accaracy is:0.9034855875244499\n",
      "At random state 69 the testing accaracy is:0.9071884489486357\n",
      "/n\n",
      "At random state 70 the training accaracy is:0.9054404384519646\n",
      "At random state 70 the testing accaracy is:0.8992328133130171\n"
     ]
    },
    {
     "name": "stdout",
     "output_type": "stream",
     "text": [
      "/n\n",
      "At random state 71 the training accaracy is:0.9048853138919165\n",
      "At random state 71 the testing accaracy is:0.9019274244055183\n",
      "/n\n",
      "At random state 72 the training accaracy is:0.9037795522356793\n",
      "At random state 72 the testing accaracy is:0.9060130441686695\n",
      "/n\n",
      "At random state 73 the training accaracy is:0.9043793318277787\n",
      "At random state 73 the testing accaracy is:0.9038411202507989\n",
      "/n\n",
      "At random state 74 the training accaracy is:0.9033485778029403\n",
      "At random state 74 the testing accaracy is:0.9074051047090449\n",
      "/n\n",
      "At random state 75 the training accaracy is:0.9057119465169854\n",
      "At random state 75 the testing accaracy is:0.8976818783186062\n",
      "/n\n",
      "At random state 76 the training accaracy is:0.9051003915397745\n",
      "At random state 76 the testing accaracy is:0.9010244334140154\n",
      "/n\n",
      "At random state 77 the training accaracy is:0.9034097271922368\n",
      "At random state 77 the testing accaracy is:0.9074913676761283\n",
      "/n\n",
      "At random state 78 the training accaracy is:0.905987042620559\n",
      "At random state 78 the testing accaracy is:0.8970084184465956\n",
      "/n\n",
      "At random state 79 the training accaracy is:0.9043756629933157\n",
      "At random state 79 the testing accaracy is:0.903689703445684\n",
      "/n\n",
      "At random state 80 the training accaracy is:0.9053112833890031\n",
      "At random state 80 the testing accaracy is:0.9002320463451694\n",
      "/n\n",
      "At random state 81 the training accaracy is:0.9028680398042733\n",
      "At random state 81 the testing accaracy is:0.909870545023998\n",
      "/n\n",
      "At random state 82 the training accaracy is:0.9037206884943083\n",
      "At random state 82 the testing accaracy is:0.9063213748017834\n",
      "/n\n",
      "At random state 83 the training accaracy is:0.9042451140153229\n",
      "At random state 83 the testing accaracy is:0.9041776566705183\n",
      "/n\n",
      "At random state 84 the training accaracy is:0.9042650538479906\n",
      "At random state 84 the testing accaracy is:0.9039071924779163\n",
      "/n\n",
      "At random state 85 the training accaracy is:0.9038522237073595\n",
      "At random state 85 the testing accaracy is:0.9058382750965498\n",
      "/n\n",
      "At random state 86 the training accaracy is:0.9057269245906101\n",
      "At random state 86 the testing accaracy is:0.8984555261710987\n",
      "/n\n",
      "At random state 87 the training accaracy is:0.9054777196187391\n",
      "At random state 87 the testing accaracy is:0.8988482887032034\n",
      "/n\n",
      "At random state 88 the training accaracy is:0.9047030889566885\n",
      "At random state 88 the testing accaracy is:0.902495740603397\n",
      "/n\n",
      "At random state 89 the training accaracy is:0.9045420586102184\n",
      "At random state 89 the testing accaracy is:0.903186492548397\n",
      "/n\n",
      "At random state 90 the training accaracy is:0.9048069320572603\n",
      "At random state 90 the testing accaracy is:0.902215736868638\n",
      "/n\n",
      "At random state 91 the training accaracy is:0.9049367064481673\n",
      "At random state 91 the testing accaracy is:0.9013048820312376\n",
      "/n\n",
      "At random state 92 the training accaracy is:0.9042675540815928\n",
      "At random state 92 the testing accaracy is:0.9043618095945537\n",
      "/n\n",
      "At random state 93 the training accaracy is:0.9042303863846127\n",
      "At random state 93 the testing accaracy is:0.9044657307246096\n",
      "/n\n",
      "At random state 94 the training accaracy is:0.9053735146691096\n",
      "At random state 94 the testing accaracy is:0.8995056721418935\n",
      "/n\n",
      "At random state 95 the training accaracy is:0.9037717180603756\n",
      "At random state 95 the testing accaracy is:0.9062435677509003\n",
      "/n\n",
      "At random state 96 the training accaracy is:0.9033742333995305\n",
      "At random state 96 the testing accaracy is:0.9076253111656024\n",
      "/n\n",
      "At random state 97 the training accaracy is:0.9048874762725879\n",
      "At random state 97 the testing accaracy is:0.9018859022273354\n",
      "/n\n",
      "At random state 98 the training accaracy is:0.9039706568500258\n",
      "At random state 98 the testing accaracy is:0.9054630812447815\n",
      "/n\n",
      "At random state 99 the training accaracy is:0.9034341582897005\n",
      "At random state 99 the testing accaracy is:0.9076030413163287\n",
      "/n\n",
      "At random state 100 the training accaracy is:0.9040809697361383\n",
      "At random state 100 the testing accaracy is:0.9046856795823681\n",
      "/n\n",
      "At random state 101 the training accaracy is:0.9045891107782092\n",
      "At random state 101 the testing accaracy is:0.9028817717795562\n",
      "/n\n",
      "At random state 102 the training accaracy is:0.906033601642235\n",
      "At random state 102 the testing accaracy is:0.8971665674290991\n",
      "/n\n",
      "At random state 103 the training accaracy is:0.9044915562193668\n",
      "At random state 103 the testing accaracy is:0.9034072719660275\n",
      "/n\n",
      "At random state 104 the training accaracy is:0.9045307451184995\n",
      "At random state 104 the testing accaracy is:0.9032684319655969\n",
      "/n\n",
      "At random state 105 the training accaracy is:0.904911012757936\n",
      "At random state 105 the testing accaracy is:0.90158040791663\n",
      "/n\n",
      "At random state 106 the training accaracy is:0.9057853685203856\n",
      "At random state 106 the testing accaracy is:0.8978297926670885\n",
      "/n\n",
      "At random state 107 the training accaracy is:0.9034934284305279\n",
      "At random state 107 the testing accaracy is:0.9072822018055942\n",
      "/n\n",
      "At random state 108 the training accaracy is:0.9058315667936336\n",
      "At random state 108 the testing accaracy is:0.8972247203584863\n",
      "/n\n",
      "At random state 109 the training accaracy is:0.9046571091720401\n",
      "At random state 109 the testing accaracy is:0.902645818621166\n",
      "/n\n",
      "At random state 110 the training accaracy is:0.904850903775556\n",
      "At random state 110 the testing accaracy is:0.9017111687905592\n",
      "/n\n",
      "At random state 111 the training accaracy is:0.903458400300492\n",
      "At random state 111 the testing accaracy is:0.9075764890890055\n",
      "/n\n",
      "At random state 112 the training accaracy is:0.9032314686878364\n",
      "At random state 112 the testing accaracy is:0.9080862671009996\n",
      "/n\n",
      "At random state 113 the training accaracy is:0.9041137056695425\n",
      "At random state 113 the testing accaracy is:0.9049834940012867\n",
      "/n\n",
      "At random state 114 the training accaracy is:0.9047550081763148\n",
      "At random state 114 the testing accaracy is:0.9022621417750467\n",
      "/n\n",
      "At random state 115 the training accaracy is:0.903725557261868\n",
      "At random state 115 the testing accaracy is:0.9064335310496887\n",
      "/n\n",
      "At random state 116 the training accaracy is:0.9047107832573882\n",
      "At random state 116 the testing accaracy is:0.9026195988137885\n",
      "/n\n",
      "At random state 117 the training accaracy is:0.9048357603933727\n",
      "At random state 117 the testing accaracy is:0.9018349562257227\n",
      "/n\n",
      "At random state 118 the training accaracy is:0.9046116972667597\n",
      "At random state 118 the testing accaracy is:0.9030465570869595\n",
      "/n\n",
      "At random state 119 the training accaracy is:0.9051010979324602\n",
      "At random state 119 the testing accaracy is:0.9006641870078586\n",
      "/n\n",
      "At random state 120 the training accaracy is:0.9040934445988189\n",
      "At random state 120 the testing accaracy is:0.904804708498188\n",
      "/n\n",
      "At random state 121 the training accaracy is:0.9058465724617519\n",
      "At random state 121 the testing accaracy is:0.8968258627465129\n",
      "/n\n",
      "At random state 122 the training accaracy is:0.9039836853503405\n",
      "At random state 122 the testing accaracy is:0.9049515992849497\n",
      "/n\n",
      "At random state 123 the training accaracy is:0.9040101481137617\n",
      "At random state 123 the testing accaracy is:0.9054044778156195\n",
      "/n\n",
      "At random state 124 the training accaracy is:0.9036464603992392\n",
      "At random state 124 the testing accaracy is:0.906549304345865\n",
      "/n\n",
      "At random state 125 the training accaracy is:0.904826749890753\n",
      "At random state 125 the testing accaracy is:0.9021176135292696\n",
      "/n\n",
      "At random state 126 the training accaracy is:0.9031297374999866\n",
      "At random state 126 the testing accaracy is:0.9086094423347396\n",
      "/n\n",
      "At random state 127 the training accaracy is:0.9060948253198522\n",
      "At random state 127 the testing accaracy is:0.8960710062952773\n",
      "/n\n",
      "At random state 128 the training accaracy is:0.9039511376137833\n",
      "At random state 128 the testing accaracy is:0.9051899922358592\n",
      "/n\n",
      "At random state 129 the training accaracy is:0.9044387370665651\n",
      "At random state 129 the testing accaracy is:0.903331020743385\n",
      "/n\n",
      "At random state 130 the training accaracy is:0.9039493221201993\n",
      "At random state 130 the testing accaracy is:0.9055163475478483\n",
      "/n\n",
      "At random state 131 the training accaracy is:0.903965689682528\n",
      "At random state 131 the testing accaracy is:0.905454680033998\n",
      "/n\n",
      "At random state 132 the training accaracy is:0.9049682508648149\n",
      "At random state 132 the testing accaracy is:0.9013739404492078\n",
      "/n\n",
      "At random state 133 the training accaracy is:0.9065988683945164\n",
      "At random state 133 the testing accaracy is:0.8933108431266755\n",
      "/n\n",
      "At random state 134 the training accaracy is:0.9038458627243459\n",
      "At random state 134 the testing accaracy is:0.9057290381897182\n",
      "/n\n",
      "At random state 135 the training accaracy is:0.9031274129567612\n",
      "At random state 135 the testing accaracy is:0.9084841715692088\n",
      "/n\n",
      "At random state 136 the training accaracy is:0.9044294434626229\n",
      "At random state 136 the testing accaracy is:0.9034771877879209\n",
      "/n\n",
      "At random state 137 the training accaracy is:0.9050038073235487\n",
      "At random state 137 the testing accaracy is:0.9012187936992505\n",
      "/n\n",
      "At random state 138 the training accaracy is:0.9037462640729632\n",
      "At random state 138 the testing accaracy is:0.9064705970185201\n",
      "/n\n",
      "At random state 139 the training accaracy is:0.902652494064805\n",
      "At random state 139 the testing accaracy is:0.910221918530168\n",
      "/n\n",
      "At random state 140 the training accaracy is:0.9052279216121086\n",
      "At random state 140 the testing accaracy is:0.899982010149608\n",
      "/n\n"
     ]
    },
    {
     "name": "stdout",
     "output_type": "stream",
     "text": [
      "At random state 141 the training accaracy is:0.9058069274941295\n",
      "At random state 141 the testing accaracy is:0.8978688658543884\n",
      "/n\n",
      "At random state 142 the training accaracy is:0.9025904029144671\n",
      "At random state 142 the testing accaracy is:0.9100172600535585\n",
      "/n\n",
      "At random state 143 the training accaracy is:0.9041713119811091\n",
      "At random state 143 the testing accaracy is:0.9045780979075899\n",
      "/n\n",
      "At random state 144 the training accaracy is:0.904748381415523\n",
      "At random state 144 the testing accaracy is:0.9024198150629634\n",
      "/n\n",
      "At random state 145 the training accaracy is:0.9045026345341955\n",
      "At random state 145 the testing accaracy is:0.9031322325462795\n",
      "/n\n",
      "At random state 146 the training accaracy is:0.9049069970400445\n",
      "At random state 146 the testing accaracy is:0.9017095269857911\n",
      "/n\n",
      "At random state 147 the training accaracy is:0.9050400456329604\n",
      "At random state 147 the testing accaracy is:0.9013012284185692\n",
      "/n\n",
      "At random state 148 the training accaracy is:0.9046952815590295\n",
      "At random state 148 the testing accaracy is:0.9026916639360687\n",
      "/n\n",
      "At random state 149 the training accaracy is:0.9031639131460466\n",
      "At random state 149 the testing accaracy is:0.9087220614899778\n",
      "/n\n",
      "At random state 150 the training accaracy is:0.9050381012439289\n",
      "At random state 150 the testing accaracy is:0.9011614228834026\n",
      "/n\n",
      "At random state 151 the training accaracy is:0.9050972113841603\n",
      "At random state 151 the testing accaracy is:0.9009503492669737\n",
      "/n\n",
      "At random state 152 the training accaracy is:0.9059319668242132\n",
      "At random state 152 the testing accaracy is:0.8969435378951457\n",
      "/n\n",
      "At random state 153 the training accaracy is:0.9040873920904855\n",
      "At random state 153 the testing accaracy is:0.9046795650093207\n",
      "/n\n",
      "At random state 154 the training accaracy is:0.9027083539106382\n",
      "At random state 154 the testing accaracy is:0.9100886882367998\n",
      "/n\n",
      "At random state 155 the training accaracy is:0.9036900387723198\n",
      "At random state 155 the testing accaracy is:0.906514326110555\n",
      "/n\n",
      "At random state 156 the training accaracy is:0.9054454090170726\n",
      "At random state 156 the testing accaracy is:0.898857033234465\n",
      "/n\n",
      "At random state 157 the training accaracy is:0.9045961298789151\n",
      "At random state 157 the testing accaracy is:0.9027858532928956\n",
      "/n\n",
      "At random state 158 the training accaracy is:0.9043904689822412\n",
      "At random state 158 the testing accaracy is:0.9038432894098702\n",
      "/n\n",
      "At random state 159 the training accaracy is:0.9033317566878416\n",
      "At random state 159 the testing accaracy is:0.9081095871802964\n",
      "/n\n",
      "At random state 160 the training accaracy is:0.9040394687282327\n",
      "At random state 160 the testing accaracy is:0.9052378000277618\n",
      "/n\n",
      "At random state 161 the training accaracy is:0.9037308411929584\n",
      "At random state 161 the testing accaracy is:0.9064157331860522\n",
      "/n\n",
      "At random state 162 the training accaracy is:0.9041146053324777\n",
      "At random state 162 the testing accaracy is:0.9047395626122466\n",
      "/n\n",
      "At random state 163 the training accaracy is:0.9048116050971257\n",
      "At random state 163 the testing accaracy is:0.9020515472753419\n",
      "/n\n",
      "At random state 164 the training accaracy is:0.9028277519127211\n",
      "At random state 164 the testing accaracy is:0.9095819817310026\n",
      "/n\n",
      "At random state 165 the training accaracy is:0.9040715188431726\n",
      "At random state 165 the testing accaracy is:0.90477953403242\n",
      "/n\n",
      "At random state 166 the training accaracy is:0.9033700259090903\n",
      "At random state 166 the testing accaracy is:0.9078726099845226\n",
      "/n\n",
      "At random state 167 the training accaracy is:0.90324531263131\n",
      "At random state 167 the testing accaracy is:0.908288345314899\n",
      "/n\n",
      "At random state 168 the training accaracy is:0.9045486816505957\n",
      "At random state 168 the testing accaracy is:0.9031418144988345\n",
      "/n\n",
      "At random state 169 the training accaracy is:0.9023335542057683\n",
      "At random state 169 the testing accaracy is:0.9111325438391931\n",
      "/n\n",
      "At random state 170 the training accaracy is:0.9045184992137995\n",
      "At random state 170 the testing accaracy is:0.9032232584685035\n",
      "/n\n",
      "At random state 171 the training accaracy is:0.9020844798422416\n",
      "At random state 171 the testing accaracy is:0.9121867006240507\n",
      "/n\n",
      "At random state 172 the training accaracy is:0.9066639026796751\n",
      "At random state 172 the testing accaracy is:0.894402477343428\n",
      "/n\n",
      "At random state 173 the training accaracy is:0.9040046310051919\n",
      "At random state 173 the testing accaracy is:0.9053151861126998\n",
      "/n\n",
      "At random state 174 the training accaracy is:0.9049711589275116\n",
      "At random state 174 the testing accaracy is:0.9014324725189808\n",
      "/n\n",
      "At random state 175 the training accaracy is:0.9057691919448877\n",
      "At random state 175 the testing accaracy is:0.8977586943495017\n",
      "/n\n",
      "At random state 176 the training accaracy is:0.9057159912927296\n",
      "At random state 176 the testing accaracy is:0.89763440967065\n",
      "/n\n",
      "At random state 177 the training accaracy is:0.9052460020280984\n",
      "At random state 177 the testing accaracy is:0.9004379883618907\n",
      "/n\n",
      "At random state 178 the training accaracy is:0.9041920493961793\n",
      "At random state 178 the testing accaracy is:0.9045965336030312\n",
      "/n\n",
      "At random state 179 the training accaracy is:0.9031734182601603\n",
      "At random state 179 the testing accaracy is:0.9086080634447576\n",
      "/n\n",
      "At random state 180 the training accaracy is:0.9045325664954174\n",
      "At random state 180 the testing accaracy is:0.9032015333363461\n",
      "/n\n",
      "At random state 181 the training accaracy is:0.9042653863783816\n",
      "At random state 181 the testing accaracy is:0.904276068219886\n",
      "/n\n",
      "At random state 182 the training accaracy is:0.9028330771064265\n",
      "At random state 182 the testing accaracy is:0.9097584835765838\n",
      "/n\n",
      "At random state 183 the training accaracy is:0.9061325976253549\n",
      "At random state 183 the testing accaracy is:0.8957812072217588\n",
      "/n\n",
      "At random state 184 the training accaracy is:0.906213759975836\n",
      "At random state 184 the testing accaracy is:0.8957253182780925\n",
      "/n\n",
      "At random state 185 the training accaracy is:0.9048733678378661\n",
      "At random state 185 the testing accaracy is:0.9018077670717565\n",
      "/n\n",
      "At random state 186 the training accaracy is:0.9039841212546741\n",
      "At random state 186 the testing accaracy is:0.9053886241754252\n",
      "/n\n",
      "At random state 187 the training accaracy is:0.9054989322846184\n",
      "At random state 187 the testing accaracy is:0.899267751295513\n",
      "/n\n",
      "At random state 188 the training accaracy is:0.9049747580911831\n",
      "At random state 188 the testing accaracy is:0.9009535680079301\n",
      "/n\n",
      "At random state 189 the training accaracy is:0.9033017347135158\n",
      "At random state 189 the testing accaracy is:0.9080478022391875\n",
      "/n\n",
      "At random state 190 the training accaracy is:0.9060472961905687\n",
      "At random state 190 the testing accaracy is:0.8965969982137477\n",
      "/n\n",
      "At random state 191 the training accaracy is:0.9038462380238991\n",
      "At random state 191 the testing accaracy is:0.9058887408624847\n",
      "/n\n",
      "At random state 192 the training accaracy is:0.90441755036956\n",
      "At random state 192 the testing accaracy is:0.9037706059089431\n",
      "/n\n",
      "At random state 193 the training accaracy is:0.9032111104511371\n",
      "At random state 193 the testing accaracy is:0.9084427802047682\n",
      "/n\n",
      "At random state 194 the training accaracy is:0.9058239127600867\n",
      "At random state 194 the testing accaracy is:0.8975662321672124\n",
      "/n\n",
      "At random state 195 the training accaracy is:0.9052751177338194\n",
      "At random state 195 the testing accaracy is:0.899731748244\n",
      "/n\n",
      "At random state 196 the training accaracy is:0.9040995945431932\n",
      "At random state 196 the testing accaracy is:0.9048037333370793\n",
      "/n\n",
      "At random state 197 the training accaracy is:0.9043968844009991\n",
      "At random state 197 the testing accaracy is:0.9035191509448022\n",
      "/n\n",
      "At random state 198 the training accaracy is:0.9057319725517285\n",
      "At random state 198 the testing accaracy is:0.8979343338780217\n",
      "/n\n",
      "At random state 199 the training accaracy is:0.9042041346780324\n",
      "At random state 199 the testing accaracy is:0.9043970645850173\n",
      "/n\n"
     ]
    }
   ],
   "source": [
    "from sklearn.metrics import mean_squared_error,mean_absolute_error,r2_score\n",
    "for i in range(1,200):\n",
    "    x_train,x_test,y_train,y_test=train_test_split(x,y,test_size=0.20,random_state=i)\n",
    "    lr.fit(x_train,y_train)\n",
    "    pred_train=lr.predict(x_train)\n",
    "    pred_test=lr.predict(x_test)\n",
    "    print(f\"At random state {i} the training accaracy is:{r2_score(y_train,pred_train)}\")\n",
    "    print(f\"At random state {i} the testing accaracy is:{r2_score(y_test,pred_test)}\")\n",
    "    print(\"/n\")"
   ]
  },
  {
   "cell_type": "code",
   "execution_count": 132,
   "id": "16c4e611",
   "metadata": {},
   "outputs": [],
   "source": [
    "x_train,x_test,y_train,y_test=train_test_split(x,y,test_size=0.20,random_state=1)"
   ]
  },
  {
   "cell_type": "code",
   "execution_count": 133,
   "id": "28334400",
   "metadata": {},
   "outputs": [
    {
     "data": {
      "text/html": [
       "<style>#sk-container-id-1 {color: black;background-color: white;}#sk-container-id-1 pre{padding: 0;}#sk-container-id-1 div.sk-toggleable {background-color: white;}#sk-container-id-1 label.sk-toggleable__label {cursor: pointer;display: block;width: 100%;margin-bottom: 0;padding: 0.3em;box-sizing: border-box;text-align: center;}#sk-container-id-1 label.sk-toggleable__label-arrow:before {content: \"▸\";float: left;margin-right: 0.25em;color: #696969;}#sk-container-id-1 label.sk-toggleable__label-arrow:hover:before {color: black;}#sk-container-id-1 div.sk-estimator:hover label.sk-toggleable__label-arrow:before {color: black;}#sk-container-id-1 div.sk-toggleable__content {max-height: 0;max-width: 0;overflow: hidden;text-align: left;background-color: #f0f8ff;}#sk-container-id-1 div.sk-toggleable__content pre {margin: 0.2em;color: black;border-radius: 0.25em;background-color: #f0f8ff;}#sk-container-id-1 input.sk-toggleable__control:checked~div.sk-toggleable__content {max-height: 200px;max-width: 100%;overflow: auto;}#sk-container-id-1 input.sk-toggleable__control:checked~label.sk-toggleable__label-arrow:before {content: \"▾\";}#sk-container-id-1 div.sk-estimator input.sk-toggleable__control:checked~label.sk-toggleable__label {background-color: #d4ebff;}#sk-container-id-1 div.sk-label input.sk-toggleable__control:checked~label.sk-toggleable__label {background-color: #d4ebff;}#sk-container-id-1 input.sk-hidden--visually {border: 0;clip: rect(1px 1px 1px 1px);clip: rect(1px, 1px, 1px, 1px);height: 1px;margin: -1px;overflow: hidden;padding: 0;position: absolute;width: 1px;}#sk-container-id-1 div.sk-estimator {font-family: monospace;background-color: #f0f8ff;border: 1px dotted black;border-radius: 0.25em;box-sizing: border-box;margin-bottom: 0.5em;}#sk-container-id-1 div.sk-estimator:hover {background-color: #d4ebff;}#sk-container-id-1 div.sk-parallel-item::after {content: \"\";width: 100%;border-bottom: 1px solid gray;flex-grow: 1;}#sk-container-id-1 div.sk-label:hover label.sk-toggleable__label {background-color: #d4ebff;}#sk-container-id-1 div.sk-serial::before {content: \"\";position: absolute;border-left: 1px solid gray;box-sizing: border-box;top: 0;bottom: 0;left: 50%;z-index: 0;}#sk-container-id-1 div.sk-serial {display: flex;flex-direction: column;align-items: center;background-color: white;padding-right: 0.2em;padding-left: 0.2em;position: relative;}#sk-container-id-1 div.sk-item {position: relative;z-index: 1;}#sk-container-id-1 div.sk-parallel {display: flex;align-items: stretch;justify-content: center;background-color: white;position: relative;}#sk-container-id-1 div.sk-item::before, #sk-container-id-1 div.sk-parallel-item::before {content: \"\";position: absolute;border-left: 1px solid gray;box-sizing: border-box;top: 0;bottom: 0;left: 50%;z-index: -1;}#sk-container-id-1 div.sk-parallel-item {display: flex;flex-direction: column;z-index: 1;position: relative;background-color: white;}#sk-container-id-1 div.sk-parallel-item:first-child::after {align-self: flex-end;width: 50%;}#sk-container-id-1 div.sk-parallel-item:last-child::after {align-self: flex-start;width: 50%;}#sk-container-id-1 div.sk-parallel-item:only-child::after {width: 0;}#sk-container-id-1 div.sk-dashed-wrapped {border: 1px dashed gray;margin: 0 0.4em 0.5em 0.4em;box-sizing: border-box;padding-bottom: 0.4em;background-color: white;}#sk-container-id-1 div.sk-label label {font-family: monospace;font-weight: bold;display: inline-block;line-height: 1.2em;}#sk-container-id-1 div.sk-label-container {text-align: center;}#sk-container-id-1 div.sk-container {/* jupyter's `normalize.less` sets `[hidden] { display: none; }` but bootstrap.min.css set `[hidden] { display: none !important; }` so we also need the `!important` here to be able to override the default hidden behavior on the sphinx rendered scikit-learn.org. See: https://github.com/scikit-learn/scikit-learn/issues/21755 */display: inline-block !important;position: relative;}#sk-container-id-1 div.sk-text-repr-fallback {display: none;}</style><div id=\"sk-container-id-1\" class=\"sk-top-container\"><div class=\"sk-text-repr-fallback\"><pre>LinearRegression()</pre><b>In a Jupyter environment, please rerun this cell to show the HTML representation or trust the notebook. <br />On GitHub, the HTML representation is unable to render, please try loading this page with nbviewer.org.</b></div><div class=\"sk-container\" hidden><div class=\"sk-item\"><div class=\"sk-estimator sk-toggleable\"><input class=\"sk-toggleable__control sk-hidden--visually\" id=\"sk-estimator-id-1\" type=\"checkbox\" checked><label for=\"sk-estimator-id-1\" class=\"sk-toggleable__label sk-toggleable__label-arrow\">LinearRegression</label><div class=\"sk-toggleable__content\"><pre>LinearRegression()</pre></div></div></div></div></div>"
      ],
      "text/plain": [
       "LinearRegression()"
      ]
     },
     "execution_count": 133,
     "metadata": {},
     "output_type": "execute_result"
    }
   ],
   "source": [
    "lr.fit(x_train,y_train)"
   ]
  },
  {
   "cell_type": "code",
   "execution_count": 134,
   "id": "baeaf818",
   "metadata": {},
   "outputs": [],
   "source": [
    "pred_test=lr.predict(x_test)"
   ]
  },
  {
   "cell_type": "code",
   "execution_count": 135,
   "id": "7860eda5",
   "metadata": {},
   "outputs": [
    {
     "name": "stdout",
     "output_type": "stream",
     "text": [
      "0.9003132716690803\n"
     ]
    }
   ],
   "source": [
    "print(r2_score(y_test,pred_test))"
   ]
  },
  {
   "cell_type": "markdown",
   "id": "ca31325f",
   "metadata": {},
   "source": [
    "# CrossValidation of the Model"
   ]
  },
  {
   "cell_type": "code",
   "execution_count": 136,
   "id": "7c117164",
   "metadata": {},
   "outputs": [
    {
     "name": "stdout",
     "output_type": "stream",
     "text": [
      "At cross fold 2 the cross val is [0.90313002 0.90354649] the accuracy score for training is -0.9449508166862441 accuracy for testing is 0.9003132716690803\n",
      "\n",
      "\n",
      "At cross fold 3 the cross val is [0.90373608 0.90219475 0.90517284] the accuracy score for training is -0.9449508166862441 accuracy for testing is 0.9003132716690803\n",
      "\n",
      "\n",
      "At cross fold 4 the cross val is [0.89887623 0.90793519 0.90029485 0.90771157] the accuracy score for training is -0.9449508166862441 accuracy for testing is 0.9003132716690803\n",
      "\n",
      "\n",
      "At cross fold 5 the cross val is [0.89735643 0.9093915  0.90303569 0.90274243 0.90580686] the accuracy score for training is -0.9449508166862441 accuracy for testing is 0.9003132716690803\n",
      "\n",
      "\n",
      "At cross fold 6 the cross val is [0.89742712 0.91032557 0.90266081 0.90185907 0.90359513 0.90654172] the accuracy score for training is -0.9449508166862441 accuracy for testing is 0.9003132716690803\n",
      "\n",
      "\n",
      "At cross fold 7 the cross val is [0.89836147 0.90175529 0.91069389 0.90075362 0.900923   0.9029586\n",
      " 0.90952839] the accuracy score for training is -0.9449508166862441 accuracy for testing is 0.9003132716690803\n",
      "\n",
      "\n",
      "At cross fold 8 the cross val is [0.89924733 0.89843869 0.91177995 0.90315498 0.90092124 0.89981404\n",
      " 0.90547477 0.90962176] the accuracy score for training is -0.9449508166862441 accuracy for testing is 0.9003132716690803\n",
      "\n",
      "\n",
      "At cross fold 9 the cross val is [0.89725587 0.89815672 0.91559346 0.9040884  0.90132436 0.90122404\n",
      " 0.90356974 0.90372352 0.90748069] the accuracy score for training is -0.9449508166862441 accuracy for testing is 0.9003132716690803\n",
      "\n",
      "\n"
     ]
    }
   ],
   "source": [
    "train_accuracy=r2_score(y_train,pred_train)\n",
    "test_accuracy=r2_score(y_test,pred_test)\n",
    "\n",
    "from sklearn.model_selection import cross_val_score\n",
    "for i in range(2,10):\n",
    "    cv_score=cross_val_score(lr,x,y,cv=i)\n",
    "    cv_mean=cv_score.mean()\n",
    "    print(f\"At cross fold {i} the cross val is {cv_score} the accuracy score for training is {train_accuracy} accuracy for testing is {test_accuracy}\")\n",
    "    print(\"\\n\")      \n",
    "          "
   ]
  },
  {
   "cell_type": "code",
   "execution_count": 137,
   "id": "3f8a30e1",
   "metadata": {},
   "outputs": [
    {
     "data": {
      "image/png": "[encoded data removed]",
      "text/plain": [
       "<Figure size 1008x504 with 1 Axes>"
      ]
     },
     "metadata": {
      "needs_background": "light"
     },
     "output_type": "display_data"
    }
   ],
   "source": [
    "plt.figure(figsize=(14,7))\n",
    "plt.scatter(x=y_test,y=pred_test,color='r')\n",
    "plt.plot(y_test,y_test,color='b')\n",
    "plt.xlabel(\"Actual charges\",fontsize=20)\n",
    "plt.ylabel(\"predictedcharges\",fontsize=20)\n",
    "plt.title(\"Linear Regression\",fontsize=20)\n",
    "plt.show()"
   ]
  },
  {
   "cell_type": "code",
   "execution_count": 138,
   "id": "374d4d15",
   "metadata": {},
   "outputs": [],
   "source": [
    "from sklearn.linear_model import Lasso,Ridge,ElasticNet\n",
    "from sklearn.tree import DecisionTreeRegressor\n",
    "from sklearn.ensemble import RandomForestRegressor\n",
    "from sklearn.neighbors import KNeighborsRegressor\n",
    "from sklearn.linear_model import SGDRegressor\n",
    "from sklearn.ensemble import GradientBoostingRegressor\n",
    "from sklearn.ensemble import AdaBoostRegressor"
   ]
  },
  {
   "cell_type": "code",
   "execution_count": 139,
   "id": "c8331a41",
   "metadata": {},
   "outputs": [],
   "source": [
    "from sklearn.model_selection import cross_val_score\n",
    "from sklearn.model_selection import GridSearchCV"
   ]
  },
  {
   "cell_type": "code",
   "execution_count": 140,
   "id": "84ca7a6d",
   "metadata": {},
   "outputs": [],
   "source": [
    "def regressor(model,x,y):\n",
    "    \n",
    "    x_train,x_test,y_train,y_test=train_test_split(x,y,test_size=0.20,random_state=63)\n",
    "    \n",
    "    model.fit(x_train,y_train)\n",
    "    \n",
    "    pred=model.predict(x_test)\n",
    "    \n",
    "    print(\"MeanSquaredError\",mean_squared_error(y_test,pred))\n",
    "    print(\"MeanabsoluteError\",mean_absolute_error(y_test,pred))\n",
    "    print(\"RootMeanSquaredError\",np.sqrt(mean_squared_error(y_test,pred)))\n",
    "    print(\"r2_score is:\",r2_score(y_test,pred))\n",
    "    print(\"cross_validation_score is:\",cross_val_score(model,x,y,cv=5).mean())"
   ]
  },
  {
   "cell_type": "markdown",
   "id": "3e0d067d",
   "metadata": {},
   "source": [
    "# Lasso"
   ]
  },
  {
   "cell_type": "code",
   "execution_count": 141,
   "id": "a775e3b6",
   "metadata": {},
   "outputs": [
    {
     "name": "stdout",
     "output_type": "stream",
     "text": [
      "MeanSquaredError 499016.1648271865\n",
      "MeanabsoluteError 569.0319867532833\n",
      "RootMeanSquaredError 706.4107621116672\n",
      "r2_score is: 0.9014759498311091\n",
      "cross_validation_score is: 0.9036665925222124\n"
     ]
    }
   ],
   "source": [
    "model=Lasso(alpha=0.001)\n",
    "regressor(model,x,y)"
   ]
  },
  {
   "cell_type": "markdown",
   "id": "1439404a",
   "metadata": {},
   "source": [
    "# Ridge"
   ]
  },
  {
   "cell_type": "code",
   "execution_count": 142,
   "id": "3704b5a7",
   "metadata": {},
   "outputs": [
    {
     "name": "stdout",
     "output_type": "stream",
     "text": [
      "MeanSquaredError 499015.94314985693\n",
      "MeanabsoluteError 569.0310851609926\n",
      "RootMeanSquaredError 706.4106052076631\n",
      "r2_score is: 0.9014759935983252\n",
      "cross_validation_score is: 0.9036665816624504\n"
     ]
    }
   ],
   "source": [
    "model=Ridge(alpha=0.01)\n",
    "regressor(model,x,y)"
   ]
  },
  {
   "cell_type": "markdown",
   "id": "2a398b24",
   "metadata": {},
   "source": [
    "# ElasticNet"
   ]
  },
  {
   "cell_type": "code",
   "execution_count": 143,
   "id": "cfa49e53",
   "metadata": {},
   "outputs": [
    {
     "name": "stdout",
     "output_type": "stream",
     "text": [
      "MeanSquaredError 511059.14141479123\n",
      "MeanabsoluteError 571.7913464801279\n",
      "RootMeanSquaredError 714.8840055664914\n",
      "r2_score is: 0.899098225594639\n",
      "cross_validation_score is: 0.9010658329790264\n"
     ]
    }
   ],
   "source": [
    "model=ElasticNet(alpha=0.01)\n",
    "regressor(model,x,y)"
   ]
  },
  {
   "cell_type": "markdown",
   "id": "1e9ae97d",
   "metadata": {},
   "source": [
    "# DecisionTreeRegressor"
   ]
  },
  {
   "cell_type": "code",
   "execution_count": 144,
   "id": "d4763c9c",
   "metadata": {},
   "outputs": [
    {
     "name": "stdout",
     "output_type": "stream",
     "text": [
      "MeanSquaredError 15294.05636444287\n",
      "MeanabsoluteError 81.4849183818311\n",
      "RootMeanSquaredError 123.66914071199359\n",
      "r2_score is: 0.9969803936570711\n",
      "cross_validation_score is: 0.9971826785363568\n"
     ]
    }
   ],
   "source": [
    "model=DecisionTreeRegressor(random_state=126)\n",
    "regressor(model,x,y)"
   ]
  },
  {
   "cell_type": "markdown",
   "id": "66f23185",
   "metadata": {},
   "source": [
    "# RandomForestRegressor"
   ]
  },
  {
   "cell_type": "code",
   "execution_count": 145,
   "id": "fccdda0c",
   "metadata": {},
   "outputs": [
    {
     "name": "stdout",
     "output_type": "stream",
     "text": [
      "MeanSquaredError 7116.878809873845\n",
      "MeanabsoluteError 54.333918026969485\n",
      "RootMeanSquaredError 84.36159558634394\n",
      "r2_score is: 0.9985948677130474\n",
      "cross_validation_score is: 0.9987245826923339\n"
     ]
    }
   ],
   "source": [
    "model=RandomForestRegressor()\n",
    "regressor(model,x,y)"
   ]
  },
  {
   "cell_type": "markdown",
   "id": "628812fe",
   "metadata": {},
   "source": [
    "# KNN"
   ]
  },
  {
   "cell_type": "code",
   "execution_count": 146,
   "id": "92edf12e",
   "metadata": {},
   "outputs": [
    {
     "name": "stdout",
     "output_type": "stream",
     "text": [
      "MeanSquaredError 847438.902131474\n",
      "MeanabsoluteError 615.3330811999247\n",
      "RootMeanSquaredError 920.5644475708771\n",
      "r2_score is: 0.832684552538322\n",
      "cross_validation_score is: 0.8231934935976077\n"
     ]
    }
   ],
   "source": [
    "model=KNeighborsRegressor()\n",
    "regressor(model,x,y)"
   ]
  },
  {
   "cell_type": "markdown",
   "id": "8d90b147",
   "metadata": {},
   "source": [
    "# HyperParameterTuning"
   ]
  },
  {
   "cell_type": "code",
   "execution_count": 147,
   "id": "bc2a35a5",
   "metadata": {},
   "outputs": [
    {
     "name": "stdout",
     "output_type": "stream",
     "text": [
      "{'criterion': 'mse', 'max_features': 'auto', 'max_samples': 1000, 'min_samples_split': 2, 'n_estimators': 3}\n"
     ]
    }
   ],
   "source": [
    "from sklearn.model_selection import GridSearchCV\n",
    "from sklearn.ensemble import RandomForestRegressor\n",
    "params={'n_estimators':[1,2,3],     \n",
    "        'criterion':['squared_error','mse'],\n",
    "        'max_features':['auto','sqrt','log2'],\n",
    "        'max_samples':[50,100,250,500,1000],\n",
    "        'min_samples_split':[2,4,10]\n",
    "       }\n",
    "rf=RandomForestRegressor()\n",
    "clf=GridSearchCV(rf,params)\n",
    "clf.fit(x,y)\n",
    "print(clf.best_params_)"
   ]
  },
  {
   "cell_type": "code",
   "execution_count": 148,
   "id": "d2048b2d",
   "metadata": {},
   "outputs": [
    {
     "name": "stdout",
     "output_type": "stream",
     "text": [
      "r2_score 84.83791092739774\n",
      "cross val score: 90.21302649680135\n"
     ]
    }
   ],
   "source": [
    "rf=RandomForestRegressor(criterion='squared_error',max_features='auto',max_samples=50,min_samples_split=2,n_estimators=1)\n",
    "rf.fit(x,y)\n",
    "rf.score(x_train,y_train)\n",
    "pred_decision=rf.predict(x_test)\n",
    "\n",
    "rfs=r2_score(y_test,pred_decision)\n",
    "print('r2_score',rfs*100)\n",
    "rfscore=cross_val_score(rf,x,y,cv=5)\n",
    "rfc=rfscore.mean()\n",
    "print('cross val score:',rfc*100)"
   ]
  },
  {
   "cell_type": "code",
   "execution_count": 149,
   "id": "b3604390",
   "metadata": {},
   "outputs": [
    {
     "data": {
      "text/html": [
       "<div>\n",
       "<style scoped>\n",
       "    .dataframe tbody tr th:only-of-type {\n",
       "        vertical-align: middle;\n",
       "    }\n",
       "\n",
       "    .dataframe tbody tr th {\n",
       "        vertical-align: top;\n",
       "    }\n",
       "\n",
       "    .dataframe thead th {\n",
       "        text-align: right;\n",
       "    }\n",
       "</style>\n",
       "<table border=\"1\" class=\"dataframe\">\n",
       "  <thead>\n",
       "    <tr style=\"text-align: right;\">\n",
       "      <th></th>\n",
       "      <th>Actual</th>\n",
       "      <th>Predicted</th>\n",
       "    </tr>\n",
       "  </thead>\n",
       "  <tbody>\n",
       "    <tr>\n",
       "      <th>3381</th>\n",
       "      <td>3320.75</td>\n",
       "      <td>3886.45</td>\n",
       "    </tr>\n",
       "    <tr>\n",
       "      <th>6180</th>\n",
       "      <td>6471.85</td>\n",
       "      <td>6937.95</td>\n",
       "    </tr>\n",
       "    <tr>\n",
       "      <th>4829</th>\n",
       "      <td>524.35</td>\n",
       "      <td>436.60</td>\n",
       "    </tr>\n",
       "    <tr>\n",
       "      <th>3737</th>\n",
       "      <td>249.95</td>\n",
       "      <td>389.60</td>\n",
       "    </tr>\n",
       "    <tr>\n",
       "      <th>4249</th>\n",
       "      <td>660.05</td>\n",
       "      <td>999.90</td>\n",
       "    </tr>\n",
       "    <tr>\n",
       "      <th>...</th>\n",
       "      <td>...</td>\n",
       "      <td>...</td>\n",
       "    </tr>\n",
       "    <tr>\n",
       "      <th>2563</th>\n",
       "      <td>2655.25</td>\n",
       "      <td>1864.65</td>\n",
       "    </tr>\n",
       "    <tr>\n",
       "      <th>2028</th>\n",
       "      <td>331.60</td>\n",
       "      <td>388.60</td>\n",
       "    </tr>\n",
       "    <tr>\n",
       "      <th>2899</th>\n",
       "      <td>3888.65</td>\n",
       "      <td>2390.45</td>\n",
       "    </tr>\n",
       "    <tr>\n",
       "      <th>3474</th>\n",
       "      <td>5688.45</td>\n",
       "      <td>6856.45</td>\n",
       "    </tr>\n",
       "    <tr>\n",
       "      <th>5154</th>\n",
       "      <td>1743.50</td>\n",
       "      <td>820.50</td>\n",
       "    </tr>\n",
       "  </tbody>\n",
       "</table>\n",
       "<p>1409 rows × 2 columns</p>\n",
       "</div>"
      ],
      "text/plain": [
       "       Actual  Predicted\n",
       "3381  3320.75    3886.45\n",
       "6180  6471.85    6937.95\n",
       "4829   524.35     436.60\n",
       "3737   249.95     389.60\n",
       "4249   660.05     999.90\n",
       "...       ...        ...\n",
       "2563  2655.25    1864.65\n",
       "2028   331.60     388.60\n",
       "2899  3888.65    2390.45\n",
       "3474  5688.45    6856.45\n",
       "5154  1743.50     820.50\n",
       "\n",
       "[1409 rows x 2 columns]"
      ]
     },
     "execution_count": 149,
     "metadata": {},
     "output_type": "execute_result"
    }
   ],
   "source": [
    "df=pd.DataFrame({\"Actual\":y_test,\"Predicted\":pred_decision})\n",
    "df"
   ]
  },
  {
   "cell_type": "markdown",
   "id": "5780bd2a",
   "metadata": {},
   "source": [
    "Conclusion: Here RandomForestRegressor is giving the r2_score of 84% and cross_val_score as 90%. so,we accept this model"
   ]
  },
  {
   "cell_type": "markdown",
   "id": "d2f9b011",
   "metadata": {},
   "source": [
    "# Saving the model"
   ]
  },
  {
   "cell_type": "code",
   "execution_count": 150,
   "id": "d296b074",
   "metadata": {},
   "outputs": [],
   "source": [
    "import pickle\n",
    "filename=\"CustomerChurn.pkl\"\n",
    "pickle.dump(rfc,open(filename,'wb'))"
   ]
  },
  {
   "cell_type": "code",
   "execution_count": null,
   "id": "5fc66c1d",
   "metadata": {},
   "outputs": [],
   "source": []
  }
 ],
 "metadata": {
  "kernelspec": {
   "display_name": "Python 3",
   "language": "python",
   "name": "python3"
  },
  "language_info": {
   "codemirror_mode": {
    "name": "ipython",
    "version": 3
   },
   "file_extension": ".py",
   "mimetype": "text/x-python",
   "name": "python",
   "nbconvert_exporter": "python",
   "pygments_lexer": "ipython3",
   "version": "3.8.8"
  }
 },
 "nbformat": 4,
 "nbformat_minor": 5
}
