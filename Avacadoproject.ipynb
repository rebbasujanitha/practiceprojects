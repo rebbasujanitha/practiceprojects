{
 "cells": [
  {
   "cell_type": "markdown",
   "id": "61390866",
   "metadata": {},
   "source": [
    "Avacado Project\n",
    "Problem Statement:\n",
    "Avocado is a fruit consumed by people heavily in the United States. \n",
    "\n",
    "Content\n",
    "This data was downloaded from the Hass Avocado Board website in May of 2018 & compiled into a single CSV. \n",
    "\n",
    "The table below represents weekly 2018 retail scan data for National retail volume (units) and price. Retail scan data comes directly from retailers’ cash registers based on actual retail sales of Hass avocados. \n",
    "\n",
    "Starting in 2013, the table below reflects an expanded, multi-outlet retail data set. Multi-outlet reporting includes an aggregation of the following channels: grocery, mass, club, drug, dollar and military. The Average Price (of avocados) in the table reflects a per unit (per avocado) cost, even when multiple units (avocados) are sold in bags. \n",
    "\n",
    "The Product Lookup codes (PLU’s) in the table are only for Hass avocados. Other varieties of avocados (e.g. greenskins) are not included in this table.\n",
    "\n",
    "Some relevant columns in the dataset:\n",
    "\n",
    "Date - The date of the observation\n",
    "AveragePrice - the average price of a single avocado\n",
    "type - conventional or organic\n",
    "year - the year\n",
    "Region - the city or region of the observation\n",
    "Total Volume - Total number of avocados sold\n",
    "4046 - Total number of avocados with PLU 4046 sold\n",
    "4225 - Total number of avocados with PLU 4225 sold\n",
    "4770 - Total number of avocados with PLU 4770 sold\n",
    "\n",
    "\n",
    "Inspiration /Label \n",
    "\n",
    "The dataset can be seen in two angles to find the region and find the average price .\n",
    "\n",
    "Task: One of Classification and other of Regression\n",
    "\n",
    "Do both tasks in the same .ipynb file and submit at single file. \n",
    "\n",
    "To download the dataset, use the link given below. "
   ]
  },
  {
   "cell_type": "markdown",
   "id": "55c1034d",
   "metadata": {},
   "source": [
    "importing libraries"
   ]
  },
  {
   "cell_type": "code",
   "execution_count": 1,
   "id": "d60891c5",
   "metadata": {},
   "outputs": [],
   "source": [
    "import pandas as pd\n",
    "import numpy as np\n",
    "import matplotlib.pyplot as plt\n",
    "import seaborn as sns\n",
    "import warnings\n",
    "warnings.filterwarnings('ignore')"
   ]
  },
  {
   "cell_type": "code",
   "execution_count": 2,
   "id": "be490727",
   "metadata": {},
   "outputs": [],
   "source": [
    "#Loading the Dataset"
   ]
  },
  {
   "cell_type": "code",
   "execution_count": 3,
   "id": "349e0dca",
   "metadata": {},
   "outputs": [
    {
     "data": {
      "text/html": [
       "<div>\n",
       "<style scoped>\n",
       "    .dataframe tbody tr th:only-of-type {\n",
       "        vertical-align: middle;\n",
       "    }\n",
       "\n",
       "    .dataframe tbody tr th {\n",
       "        vertical-align: top;\n",
       "    }\n",
       "\n",
       "    .dataframe thead th {\n",
       "        text-align: right;\n",
       "    }\n",
       "</style>\n",
       "<table border=\"1\" class=\"dataframe\">\n",
       "  <thead>\n",
       "    <tr style=\"text-align: right;\">\n",
       "      <th></th>\n",
       "      <th>Unnamed: 0</th>\n",
       "      <th>Date</th>\n",
       "      <th>AveragePrice</th>\n",
       "      <th>Total Volume</th>\n",
       "      <th>4046</th>\n",
       "      <th>4225</th>\n",
       "      <th>4770</th>\n",
       "      <th>Total Bags</th>\n",
       "      <th>Small Bags</th>\n",
       "      <th>Large Bags</th>\n",
       "      <th>XLarge Bags</th>\n",
       "      <th>type</th>\n",
       "      <th>year</th>\n",
       "      <th>region</th>\n",
       "    </tr>\n",
       "  </thead>\n",
       "  <tbody>\n",
       "    <tr>\n",
       "      <th>0</th>\n",
       "      <td>0</td>\n",
       "      <td>2015-12-27</td>\n",
       "      <td>1.33</td>\n",
       "      <td>64236.62</td>\n",
       "      <td>1036.74</td>\n",
       "      <td>54454.85</td>\n",
       "      <td>48.16</td>\n",
       "      <td>8696.87</td>\n",
       "      <td>8603.62</td>\n",
       "      <td>93.25</td>\n",
       "      <td>0.0</td>\n",
       "      <td>conventional</td>\n",
       "      <td>2015</td>\n",
       "      <td>Albany</td>\n",
       "    </tr>\n",
       "    <tr>\n",
       "      <th>1</th>\n",
       "      <td>1</td>\n",
       "      <td>2015-12-20</td>\n",
       "      <td>1.35</td>\n",
       "      <td>54876.98</td>\n",
       "      <td>674.28</td>\n",
       "      <td>44638.81</td>\n",
       "      <td>58.33</td>\n",
       "      <td>9505.56</td>\n",
       "      <td>9408.07</td>\n",
       "      <td>97.49</td>\n",
       "      <td>0.0</td>\n",
       "      <td>conventional</td>\n",
       "      <td>2015</td>\n",
       "      <td>Albany</td>\n",
       "    </tr>\n",
       "    <tr>\n",
       "      <th>2</th>\n",
       "      <td>2</td>\n",
       "      <td>2015-12-13</td>\n",
       "      <td>0.93</td>\n",
       "      <td>118220.22</td>\n",
       "      <td>794.70</td>\n",
       "      <td>109149.67</td>\n",
       "      <td>130.50</td>\n",
       "      <td>8145.35</td>\n",
       "      <td>8042.21</td>\n",
       "      <td>103.14</td>\n",
       "      <td>0.0</td>\n",
       "      <td>conventional</td>\n",
       "      <td>2015</td>\n",
       "      <td>Albany</td>\n",
       "    </tr>\n",
       "    <tr>\n",
       "      <th>3</th>\n",
       "      <td>3</td>\n",
       "      <td>2015-12-06</td>\n",
       "      <td>1.08</td>\n",
       "      <td>78992.15</td>\n",
       "      <td>1132.00</td>\n",
       "      <td>71976.41</td>\n",
       "      <td>72.58</td>\n",
       "      <td>5811.16</td>\n",
       "      <td>5677.40</td>\n",
       "      <td>133.76</td>\n",
       "      <td>0.0</td>\n",
       "      <td>conventional</td>\n",
       "      <td>2015</td>\n",
       "      <td>Albany</td>\n",
       "    </tr>\n",
       "    <tr>\n",
       "      <th>4</th>\n",
       "      <td>4</td>\n",
       "      <td>2015-11-29</td>\n",
       "      <td>1.28</td>\n",
       "      <td>51039.60</td>\n",
       "      <td>941.48</td>\n",
       "      <td>43838.39</td>\n",
       "      <td>75.78</td>\n",
       "      <td>6183.95</td>\n",
       "      <td>5986.26</td>\n",
       "      <td>197.69</td>\n",
       "      <td>0.0</td>\n",
       "      <td>conventional</td>\n",
       "      <td>2015</td>\n",
       "      <td>Albany</td>\n",
       "    </tr>\n",
       "    <tr>\n",
       "      <th>...</th>\n",
       "      <td>...</td>\n",
       "      <td>...</td>\n",
       "      <td>...</td>\n",
       "      <td>...</td>\n",
       "      <td>...</td>\n",
       "      <td>...</td>\n",
       "      <td>...</td>\n",
       "      <td>...</td>\n",
       "      <td>...</td>\n",
       "      <td>...</td>\n",
       "      <td>...</td>\n",
       "      <td>...</td>\n",
       "      <td>...</td>\n",
       "      <td>...</td>\n",
       "    </tr>\n",
       "    <tr>\n",
       "      <th>18244</th>\n",
       "      <td>7</td>\n",
       "      <td>2018-02-04</td>\n",
       "      <td>1.63</td>\n",
       "      <td>17074.83</td>\n",
       "      <td>2046.96</td>\n",
       "      <td>1529.20</td>\n",
       "      <td>0.00</td>\n",
       "      <td>13498.67</td>\n",
       "      <td>13066.82</td>\n",
       "      <td>431.85</td>\n",
       "      <td>0.0</td>\n",
       "      <td>organic</td>\n",
       "      <td>2018</td>\n",
       "      <td>WestTexNewMexico</td>\n",
       "    </tr>\n",
       "    <tr>\n",
       "      <th>18245</th>\n",
       "      <td>8</td>\n",
       "      <td>2018-01-28</td>\n",
       "      <td>1.71</td>\n",
       "      <td>13888.04</td>\n",
       "      <td>1191.70</td>\n",
       "      <td>3431.50</td>\n",
       "      <td>0.00</td>\n",
       "      <td>9264.84</td>\n",
       "      <td>8940.04</td>\n",
       "      <td>324.80</td>\n",
       "      <td>0.0</td>\n",
       "      <td>organic</td>\n",
       "      <td>2018</td>\n",
       "      <td>WestTexNewMexico</td>\n",
       "    </tr>\n",
       "    <tr>\n",
       "      <th>18246</th>\n",
       "      <td>9</td>\n",
       "      <td>2018-01-21</td>\n",
       "      <td>1.87</td>\n",
       "      <td>13766.76</td>\n",
       "      <td>1191.92</td>\n",
       "      <td>2452.79</td>\n",
       "      <td>727.94</td>\n",
       "      <td>9394.11</td>\n",
       "      <td>9351.80</td>\n",
       "      <td>42.31</td>\n",
       "      <td>0.0</td>\n",
       "      <td>organic</td>\n",
       "      <td>2018</td>\n",
       "      <td>WestTexNewMexico</td>\n",
       "    </tr>\n",
       "    <tr>\n",
       "      <th>18247</th>\n",
       "      <td>10</td>\n",
       "      <td>2018-01-14</td>\n",
       "      <td>1.93</td>\n",
       "      <td>16205.22</td>\n",
       "      <td>1527.63</td>\n",
       "      <td>2981.04</td>\n",
       "      <td>727.01</td>\n",
       "      <td>10969.54</td>\n",
       "      <td>10919.54</td>\n",
       "      <td>50.00</td>\n",
       "      <td>0.0</td>\n",
       "      <td>organic</td>\n",
       "      <td>2018</td>\n",
       "      <td>WestTexNewMexico</td>\n",
       "    </tr>\n",
       "    <tr>\n",
       "      <th>18248</th>\n",
       "      <td>11</td>\n",
       "      <td>2018-01-07</td>\n",
       "      <td>1.62</td>\n",
       "      <td>17489.58</td>\n",
       "      <td>2894.77</td>\n",
       "      <td>2356.13</td>\n",
       "      <td>224.53</td>\n",
       "      <td>12014.15</td>\n",
       "      <td>11988.14</td>\n",
       "      <td>26.01</td>\n",
       "      <td>0.0</td>\n",
       "      <td>organic</td>\n",
       "      <td>2018</td>\n",
       "      <td>WestTexNewMexico</td>\n",
       "    </tr>\n",
       "  </tbody>\n",
       "</table>\n",
       "<p>18249 rows × 14 columns</p>\n",
       "</div>"
      ],
      "text/plain": [
       "       Unnamed: 0        Date  AveragePrice  Total Volume     4046       4225  \\\n",
       "0               0  2015-12-27          1.33      64236.62  1036.74   54454.85   \n",
       "1               1  2015-12-20          1.35      54876.98   674.28   44638.81   \n",
       "2               2  2015-12-13          0.93     118220.22   794.70  109149.67   \n",
       "3               3  2015-12-06          1.08      78992.15  1132.00   71976.41   \n",
       "4               4  2015-11-29          1.28      51039.60   941.48   43838.39   \n",
       "...           ...         ...           ...           ...      ...        ...   \n",
       "18244           7  2018-02-04          1.63      17074.83  2046.96    1529.20   \n",
       "18245           8  2018-01-28          1.71      13888.04  1191.70    3431.50   \n",
       "18246           9  2018-01-21          1.87      13766.76  1191.92    2452.79   \n",
       "18247          10  2018-01-14          1.93      16205.22  1527.63    2981.04   \n",
       "18248          11  2018-01-07          1.62      17489.58  2894.77    2356.13   \n",
       "\n",
       "         4770  Total Bags  Small Bags  Large Bags  XLarge Bags          type  \\\n",
       "0       48.16     8696.87     8603.62       93.25          0.0  conventional   \n",
       "1       58.33     9505.56     9408.07       97.49          0.0  conventional   \n",
       "2      130.50     8145.35     8042.21      103.14          0.0  conventional   \n",
       "3       72.58     5811.16     5677.40      133.76          0.0  conventional   \n",
       "4       75.78     6183.95     5986.26      197.69          0.0  conventional   \n",
       "...       ...         ...         ...         ...          ...           ...   \n",
       "18244    0.00    13498.67    13066.82      431.85          0.0       organic   \n",
       "18245    0.00     9264.84     8940.04      324.80          0.0       organic   \n",
       "18246  727.94     9394.11     9351.80       42.31          0.0       organic   \n",
       "18247  727.01    10969.54    10919.54       50.00          0.0       organic   \n",
       "18248  224.53    12014.15    11988.14       26.01          0.0       organic   \n",
       "\n",
       "       year            region  \n",
       "0      2015            Albany  \n",
       "1      2015            Albany  \n",
       "2      2015            Albany  \n",
       "3      2015            Albany  \n",
       "4      2015            Albany  \n",
       "...     ...               ...  \n",
       "18244  2018  WestTexNewMexico  \n",
       "18245  2018  WestTexNewMexico  \n",
       "18246  2018  WestTexNewMexico  \n",
       "18247  2018  WestTexNewMexico  \n",
       "18248  2018  WestTexNewMexico  \n",
       "\n",
       "[18249 rows x 14 columns]"
      ]
     },
     "execution_count": 3,
     "metadata": {},
     "output_type": "execute_result"
    }
   ],
   "source": [
    "df=pd.read_csv(\"Avacado.csv\")\n",
    "df"
   ]
  },
  {
   "cell_type": "markdown",
   "id": "abd4d3c9",
   "metadata": {},
   "source": [
    "# EDA"
   ]
  },
  {
   "cell_type": "code",
   "execution_count": 4,
   "id": "d31dc626",
   "metadata": {},
   "outputs": [
    {
     "data": {
      "text/plain": [
       "(18249, 14)"
      ]
     },
     "execution_count": 4,
     "metadata": {},
     "output_type": "execute_result"
    }
   ],
   "source": [
    "df.shape"
   ]
  },
  {
   "cell_type": "markdown",
   "id": "b7dfd748",
   "metadata": {},
   "source": [
    "There are 18249 rows and 14 columns"
   ]
  },
  {
   "cell_type": "code",
   "execution_count": 5,
   "id": "5bd98cd3",
   "metadata": {},
   "outputs": [
    {
     "data": {
      "text/plain": [
       "Unnamed: 0        int64\n",
       "Date             object\n",
       "AveragePrice    float64\n",
       "Total Volume    float64\n",
       "4046            float64\n",
       "4225            float64\n",
       "4770            float64\n",
       "Total Bags      float64\n",
       "Small Bags      float64\n",
       "Large Bags      float64\n",
       "XLarge Bags     float64\n",
       "type             object\n",
       "year              int64\n",
       "region           object\n",
       "dtype: object"
      ]
     },
     "execution_count": 5,
     "metadata": {},
     "output_type": "execute_result"
    }
   ],
   "source": [
    "df.dtypes"
   ]
  },
  {
   "cell_type": "code",
   "execution_count": 6,
   "id": "56979ecb",
   "metadata": {},
   "outputs": [
    {
     "name": "stdout",
     "output_type": "stream",
     "text": [
      "<class 'pandas.core.frame.DataFrame'>\n",
      "RangeIndex: 18249 entries, 0 to 18248\n",
      "Data columns (total 14 columns):\n",
      " #   Column        Non-Null Count  Dtype  \n",
      "---  ------        --------------  -----  \n",
      " 0   Unnamed: 0    18249 non-null  int64  \n",
      " 1   Date          18249 non-null  object \n",
      " 2   AveragePrice  18249 non-null  float64\n",
      " 3   Total Volume  18249 non-null  float64\n",
      " 4   4046          18249 non-null  float64\n",
      " 5   4225          18249 non-null  float64\n",
      " 6   4770          18249 non-null  float64\n",
      " 7   Total Bags    18249 non-null  float64\n",
      " 8   Small Bags    18249 non-null  float64\n",
      " 9   Large Bags    18249 non-null  float64\n",
      " 10  XLarge Bags   18249 non-null  float64\n",
      " 11  type          18249 non-null  object \n",
      " 12  year          18249 non-null  int64  \n",
      " 13  region        18249 non-null  object \n",
      "dtypes: float64(9), int64(2), object(3)\n",
      "memory usage: 1.7+ MB\n"
     ]
    }
   ],
   "source": [
    "df.info()"
   ]
  },
  {
   "cell_type": "markdown",
   "id": "2f01f20d",
   "metadata": {},
   "source": [
    "There are 18249 rows and 14 columns Date,region and type are of object type and the remaining 9 features are of float typeand 2 features are of int type"
   ]
  },
  {
   "cell_type": "code",
   "execution_count": 7,
   "id": "652874ef",
   "metadata": {},
   "outputs": [
    {
     "data": {
      "text/plain": [
       "Unnamed: 0      0\n",
       "Date            0\n",
       "AveragePrice    0\n",
       "Total Volume    0\n",
       "4046            0\n",
       "4225            0\n",
       "4770            0\n",
       "Total Bags      0\n",
       "Small Bags      0\n",
       "Large Bags      0\n",
       "XLarge Bags     0\n",
       "type            0\n",
       "year            0\n",
       "region          0\n",
       "dtype: int64"
      ]
     },
     "execution_count": 7,
     "metadata": {},
     "output_type": "execute_result"
    }
   ],
   "source": [
    "#we will check there are null values present in the data\n",
    "df.isnull().sum()"
   ]
  },
  {
   "cell_type": "markdown",
   "id": "59759fcf",
   "metadata": {},
   "source": [
    "There are no null values present in the data"
   ]
  },
  {
   "cell_type": "code",
   "execution_count": 8,
   "id": "beb47b04",
   "metadata": {},
   "outputs": [
    {
     "data": {
      "text/plain": [
       "<AxesSubplot:>"
      ]
     },
     "execution_count": 8,
     "metadata": {},
     "output_type": "execute_result"
    },
    {
     "data": {
      "image/png": "[encoded data removed]",
      "text/plain": [
       "<Figure size 432x288 with 2 Axes>"
      ]
     },
     "metadata": {
      "needs_background": "light"
     },
     "output_type": "display_data"
    }
   ],
   "source": [
    "# we can see is there is any missing data present in the dataset\n",
    "sns.heatmap(df.isnull())"
   ]
  },
  {
   "cell_type": "markdown",
   "id": "cfed4a2c",
   "metadata": {},
   "source": [
    "there is no missing data present in the data"
   ]
  },
  {
   "cell_type": "markdown",
   "id": "72728ba3",
   "metadata": {},
   "source": [
    "Here Unnamed:0 is column present the data set as it is showing only index numbers so we can drop this column"
   ]
  },
  {
   "cell_type": "code",
   "execution_count": 9,
   "id": "607a24e4",
   "metadata": {},
   "outputs": [],
   "source": [
    "df.drop('Unnamed: 0',axis=1,inplace=True)"
   ]
  },
  {
   "cell_type": "markdown",
   "id": "d7f0e4d9",
   "metadata": {},
   "source": [
    "we observe that date column is of type object so we change it into date type"
   ]
  },
  {
   "cell_type": "code",
   "execution_count": 10,
   "id": "9a05fca2",
   "metadata": {},
   "outputs": [
    {
     "data": {
      "text/plain": [
       "pandas.core.series.Series"
      ]
     },
     "execution_count": 10,
     "metadata": {},
     "output_type": "execute_result"
    }
   ],
   "source": [
    "type(df['Date'])"
   ]
  },
  {
   "cell_type": "code",
   "execution_count": 11,
   "id": "51d809e3",
   "metadata": {},
   "outputs": [],
   "source": [
    "df['Date']=pd.to_datetime(df['Date'])"
   ]
  },
  {
   "cell_type": "code",
   "execution_count": 12,
   "id": "c06285a5",
   "metadata": {},
   "outputs": [],
   "source": [
    "df['Month']=df['Date'].dt.month"
   ]
  },
  {
   "cell_type": "code",
   "execution_count": 13,
   "id": "2eb0c5fb",
   "metadata": {},
   "outputs": [
    {
     "data": {
      "text/plain": [
       "Date            datetime64[ns]\n",
       "AveragePrice           float64\n",
       "Total Volume           float64\n",
       "4046                   float64\n",
       "4225                   float64\n",
       "4770                   float64\n",
       "Total Bags             float64\n",
       "Small Bags             float64\n",
       "Large Bags             float64\n",
       "XLarge Bags            float64\n",
       "type                    object\n",
       "year                     int64\n",
       "region                  object\n",
       "Month                    int64\n",
       "dtype: object"
      ]
     },
     "execution_count": 13,
     "metadata": {},
     "output_type": "execute_result"
    }
   ],
   "source": [
    "df.dtypes"
   ]
  },
  {
   "cell_type": "code",
   "execution_count": 14,
   "id": "243e7a3e",
   "metadata": {},
   "outputs": [
    {
     "data": {
      "text/plain": [
       "conventional    9126\n",
       "organic         9123\n",
       "Name: type, dtype: int64"
      ]
     },
     "execution_count": 14,
     "metadata": {},
     "output_type": "execute_result"
    }
   ],
   "source": [
    "#we can seee which type of Avacodos more in demand(Conventional/Organic)\n",
    "df['type'].value_counts()"
   ]
  },
  {
   "cell_type": "markdown",
   "id": "6a51ed0b",
   "metadata": {},
   "source": [
    "conventional type of Avacados have more in demand than organic"
   ]
  },
  {
   "cell_type": "code",
   "execution_count": 15,
   "id": "cca45a6f",
   "metadata": {},
   "outputs": [
    {
     "data": {
      "text/plain": [
       "<AxesSubplot:xlabel='AveragePrice', ylabel='Density'>"
      ]
     },
     "execution_count": 15,
     "metadata": {},
     "output_type": "execute_result"
    },
    {
     "data": {
      "image/png": "[encoded data removed]",
      "text/plain": [
       "<Figure size 432x288 with 1 Axes>"
      ]
     },
     "metadata": {
      "needs_background": "light"
     },
     "output_type": "display_data"
    }
   ],
   "source": [
    "#we can see how AveragePrice is distributed\n",
    "sns.distplot(df['AveragePrice'])"
   ]
  },
  {
   "cell_type": "markdown",
   "id": "af638d64",
   "metadata": {},
   "source": [
    "AveragePrice data is right skewed"
   ]
  },
  {
   "cell_type": "code",
   "execution_count": 16,
   "id": "0f6fe706",
   "metadata": {},
   "outputs": [
    {
     "data": {
      "text/plain": [
       "Charlotte              338\n",
       "Midsouth               338\n",
       "Syracuse               338\n",
       "Tampa                  338\n",
       "Jacksonville           338\n",
       "California             338\n",
       "GreatLakes             338\n",
       "Pittsburgh             338\n",
       "MiamiFtLauderdale      338\n",
       "Boston                 338\n",
       "Chicago                338\n",
       "Sacramento             338\n",
       "Houston                338\n",
       "HartfordSpringfield    338\n",
       "LosAngeles             338\n",
       "NewYork                338\n",
       "SouthCarolina          338\n",
       "Denver                 338\n",
       "TotalUS                338\n",
       "SouthCentral           338\n",
       "SanFrancisco           338\n",
       "LasVegas               338\n",
       "Plains                 338\n",
       "DallasFtWorth          338\n",
       "Columbus               338\n",
       "CincinnatiDayton       338\n",
       "RaleighGreensboro      338\n",
       "HarrisburgScranton     338\n",
       "BuffaloRochester       338\n",
       "Detroit                338\n",
       "SanDiego               338\n",
       "BaltimoreWashington    338\n",
       "PhoenixTucson          338\n",
       "Portland               338\n",
       "Indianapolis           338\n",
       "StLouis                338\n",
       "Seattle                338\n",
       "Orlando                338\n",
       "Albany                 338\n",
       "Northeast              338\n",
       "Spokane                338\n",
       "Philadelphia           338\n",
       "GrandRapids            338\n",
       "West                   338\n",
       "NorthernNewEngland     338\n",
       "Nashville              338\n",
       "Southeast              338\n",
       "NewOrleansMobile       338\n",
       "Louisville             338\n",
       "Boise                  338\n",
       "Roanoke                338\n",
       "RichmondNorfolk        338\n",
       "Atlanta                338\n",
       "WestTexNewMexico       335\n",
       "Name: region, dtype: int64"
      ]
     },
     "execution_count": 16,
     "metadata": {},
     "output_type": "execute_result"
    }
   ],
   "source": [
    "df['region'].value_counts()"
   ]
  },
  {
   "cell_type": "code",
   "execution_count": 17,
   "id": "a8f728dc",
   "metadata": {},
   "outputs": [
    {
     "data": {
      "text/html": [
       "<div>\n",
       "<style scoped>\n",
       "    .dataframe tbody tr th:only-of-type {\n",
       "        vertical-align: middle;\n",
       "    }\n",
       "\n",
       "    .dataframe tbody tr th {\n",
       "        vertical-align: top;\n",
       "    }\n",
       "\n",
       "    .dataframe thead th {\n",
       "        text-align: right;\n",
       "    }\n",
       "</style>\n",
       "<table border=\"1\" class=\"dataframe\">\n",
       "  <thead>\n",
       "    <tr style=\"text-align: right;\">\n",
       "      <th></th>\n",
       "      <th>AveragePrice</th>\n",
       "      <th>Total Volume</th>\n",
       "      <th>4046</th>\n",
       "      <th>4225</th>\n",
       "      <th>4770</th>\n",
       "      <th>Total Bags</th>\n",
       "      <th>Small Bags</th>\n",
       "      <th>Large Bags</th>\n",
       "      <th>XLarge Bags</th>\n",
       "      <th>year</th>\n",
       "      <th>Month</th>\n",
       "    </tr>\n",
       "  </thead>\n",
       "  <tbody>\n",
       "    <tr>\n",
       "      <th>count</th>\n",
       "      <td>18249.000000</td>\n",
       "      <td>1.824900e+04</td>\n",
       "      <td>1.824900e+04</td>\n",
       "      <td>1.824900e+04</td>\n",
       "      <td>1.824900e+04</td>\n",
       "      <td>1.824900e+04</td>\n",
       "      <td>1.824900e+04</td>\n",
       "      <td>1.824900e+04</td>\n",
       "      <td>18249.000000</td>\n",
       "      <td>18249.000000</td>\n",
       "      <td>18249.000000</td>\n",
       "    </tr>\n",
       "    <tr>\n",
       "      <th>mean</th>\n",
       "      <td>1.405978</td>\n",
       "      <td>8.506440e+05</td>\n",
       "      <td>2.930084e+05</td>\n",
       "      <td>2.951546e+05</td>\n",
       "      <td>2.283974e+04</td>\n",
       "      <td>2.396392e+05</td>\n",
       "      <td>1.821947e+05</td>\n",
       "      <td>5.433809e+04</td>\n",
       "      <td>3106.426507</td>\n",
       "      <td>2016.147899</td>\n",
       "      <td>6.177215</td>\n",
       "    </tr>\n",
       "    <tr>\n",
       "      <th>std</th>\n",
       "      <td>0.402677</td>\n",
       "      <td>3.453545e+06</td>\n",
       "      <td>1.264989e+06</td>\n",
       "      <td>1.204120e+06</td>\n",
       "      <td>1.074641e+05</td>\n",
       "      <td>9.862424e+05</td>\n",
       "      <td>7.461785e+05</td>\n",
       "      <td>2.439660e+05</td>\n",
       "      <td>17692.894652</td>\n",
       "      <td>0.939938</td>\n",
       "      <td>3.534130</td>\n",
       "    </tr>\n",
       "    <tr>\n",
       "      <th>min</th>\n",
       "      <td>0.440000</td>\n",
       "      <td>8.456000e+01</td>\n",
       "      <td>0.000000e+00</td>\n",
       "      <td>0.000000e+00</td>\n",
       "      <td>0.000000e+00</td>\n",
       "      <td>0.000000e+00</td>\n",
       "      <td>0.000000e+00</td>\n",
       "      <td>0.000000e+00</td>\n",
       "      <td>0.000000</td>\n",
       "      <td>2015.000000</td>\n",
       "      <td>1.000000</td>\n",
       "    </tr>\n",
       "    <tr>\n",
       "      <th>25%</th>\n",
       "      <td>1.100000</td>\n",
       "      <td>1.083858e+04</td>\n",
       "      <td>8.540700e+02</td>\n",
       "      <td>3.008780e+03</td>\n",
       "      <td>0.000000e+00</td>\n",
       "      <td>5.088640e+03</td>\n",
       "      <td>2.849420e+03</td>\n",
       "      <td>1.274700e+02</td>\n",
       "      <td>0.000000</td>\n",
       "      <td>2015.000000</td>\n",
       "      <td>3.000000</td>\n",
       "    </tr>\n",
       "    <tr>\n",
       "      <th>50%</th>\n",
       "      <td>1.370000</td>\n",
       "      <td>1.073768e+05</td>\n",
       "      <td>8.645300e+03</td>\n",
       "      <td>2.906102e+04</td>\n",
       "      <td>1.849900e+02</td>\n",
       "      <td>3.974383e+04</td>\n",
       "      <td>2.636282e+04</td>\n",
       "      <td>2.647710e+03</td>\n",
       "      <td>0.000000</td>\n",
       "      <td>2016.000000</td>\n",
       "      <td>6.000000</td>\n",
       "    </tr>\n",
       "    <tr>\n",
       "      <th>75%</th>\n",
       "      <td>1.660000</td>\n",
       "      <td>4.329623e+05</td>\n",
       "      <td>1.110202e+05</td>\n",
       "      <td>1.502069e+05</td>\n",
       "      <td>6.243420e+03</td>\n",
       "      <td>1.107834e+05</td>\n",
       "      <td>8.333767e+04</td>\n",
       "      <td>2.202925e+04</td>\n",
       "      <td>132.500000</td>\n",
       "      <td>2017.000000</td>\n",
       "      <td>9.000000</td>\n",
       "    </tr>\n",
       "    <tr>\n",
       "      <th>max</th>\n",
       "      <td>3.250000</td>\n",
       "      <td>6.250565e+07</td>\n",
       "      <td>2.274362e+07</td>\n",
       "      <td>2.047057e+07</td>\n",
       "      <td>2.546439e+06</td>\n",
       "      <td>1.937313e+07</td>\n",
       "      <td>1.338459e+07</td>\n",
       "      <td>5.719097e+06</td>\n",
       "      <td>551693.650000</td>\n",
       "      <td>2018.000000</td>\n",
       "      <td>12.000000</td>\n",
       "    </tr>\n",
       "  </tbody>\n",
       "</table>\n",
       "</div>"
      ],
      "text/plain": [
       "       AveragePrice  Total Volume          4046          4225          4770  \\\n",
       "count  18249.000000  1.824900e+04  1.824900e+04  1.824900e+04  1.824900e+04   \n",
       "mean       1.405978  8.506440e+05  2.930084e+05  2.951546e+05  2.283974e+04   \n",
       "std        0.402677  3.453545e+06  1.264989e+06  1.204120e+06  1.074641e+05   \n",
       "min        0.440000  8.456000e+01  0.000000e+00  0.000000e+00  0.000000e+00   \n",
       "25%        1.100000  1.083858e+04  8.540700e+02  3.008780e+03  0.000000e+00   \n",
       "50%        1.370000  1.073768e+05  8.645300e+03  2.906102e+04  1.849900e+02   \n",
       "75%        1.660000  4.329623e+05  1.110202e+05  1.502069e+05  6.243420e+03   \n",
       "max        3.250000  6.250565e+07  2.274362e+07  2.047057e+07  2.546439e+06   \n",
       "\n",
       "         Total Bags    Small Bags    Large Bags    XLarge Bags          year  \\\n",
       "count  1.824900e+04  1.824900e+04  1.824900e+04   18249.000000  18249.000000   \n",
       "mean   2.396392e+05  1.821947e+05  5.433809e+04    3106.426507   2016.147899   \n",
       "std    9.862424e+05  7.461785e+05  2.439660e+05   17692.894652      0.939938   \n",
       "min    0.000000e+00  0.000000e+00  0.000000e+00       0.000000   2015.000000   \n",
       "25%    5.088640e+03  2.849420e+03  1.274700e+02       0.000000   2015.000000   \n",
       "50%    3.974383e+04  2.636282e+04  2.647710e+03       0.000000   2016.000000   \n",
       "75%    1.107834e+05  8.333767e+04  2.202925e+04     132.500000   2017.000000   \n",
       "max    1.937313e+07  1.338459e+07  5.719097e+06  551693.650000   2018.000000   \n",
       "\n",
       "              Month  \n",
       "count  18249.000000  \n",
       "mean       6.177215  \n",
       "std        3.534130  \n",
       "min        1.000000  \n",
       "25%        3.000000  \n",
       "50%        6.000000  \n",
       "75%        9.000000  \n",
       "max       12.000000  "
      ]
     },
     "execution_count": 17,
     "metadata": {},
     "output_type": "execute_result"
    }
   ],
   "source": [
    "df.describe()"
   ]
  },
  {
   "cell_type": "markdown",
   "id": "9e4e0848",
   "metadata": {},
   "source": [
    "The describe() function gives the count standard deviation and min,max values and quartiles,There is large value for standard deviation and 75% and max values of XLargeBags "
   ]
  },
  {
   "cell_type": "code",
   "execution_count": 18,
   "id": "942d8eed",
   "metadata": {},
   "outputs": [
    {
     "data": {
      "text/plain": [
       "year\n",
       "2015    4.385469e+09\n",
       "2016    4.820890e+09\n",
       "2017    4.934306e+09\n",
       "2018    1.382738e+09\n",
       "Name: Total Volume, dtype: float64"
      ]
     },
     "execution_count": 18,
     "metadata": {},
     "output_type": "execute_result"
    }
   ],
   "source": [
    "df.groupby('year')['Total Volume'].sum()"
   ]
  },
  {
   "cell_type": "code",
   "execution_count": 19,
   "id": "0f8fbfa4",
   "metadata": {},
   "outputs": [],
   "source": [
    "#Total Avacado sales increaes year by year"
   ]
  },
  {
   "cell_type": "code",
   "execution_count": 20,
   "id": "cdaa850e",
   "metadata": {},
   "outputs": [],
   "source": [
    "#Averageprice Exploration we have 3 variety of avacado product Look up codes 4046,4225,4770"
   ]
  },
  {
   "cell_type": "code",
   "execution_count": 21,
   "id": "52e44113",
   "metadata": {},
   "outputs": [
    {
     "data": {
      "text/plain": [
       "type\n",
       "conventional    1.158040\n",
       "organic         1.653999\n",
       "Name: AveragePrice, dtype: float64"
      ]
     },
     "execution_count": 21,
     "metadata": {},
     "output_type": "execute_result"
    }
   ],
   "source": [
    "df.groupby('type')['AveragePrice'].mean()"
   ]
  },
  {
   "cell_type": "code",
   "execution_count": 22,
   "id": "ff14930d",
   "metadata": {},
   "outputs": [
    {
     "data": {
      "text/plain": [
       "([<matplotlib.patches.Wedge at 0xfaec028>,\n",
       "  <matplotlib.patches.Wedge at 0xfaec3a0>],\n",
       " [Text(0.300862058141864, 1.0580557745084338, 'conventional'),\n",
       "  Text(-0.30086215720419374, -1.0580557463396905, 'organic')],\n",
       " [Text(0.16410657716828944, 0.5771213315500547, '41.18%'),\n",
       "  Text(-0.1641066312022875, -0.5771213161852856, '58.82%')])"
      ]
     },
     "execution_count": 22,
     "metadata": {},
     "output_type": "execute_result"
    },
    {
     "data": {
      "image/png": "[encoded data removed]",
      "text/plain": [
       "<Figure size 432x288 with 1 Axes>"
      ]
     },
     "metadata": {},
     "output_type": "display_data"
    }
   ],
   "source": [
    "plt.pie(df.groupby('type')['AveragePrice'].mean().values,labels=df.groupby('type')['AveragePrice'].mean().index,autopct='%1.2f%%')"
   ]
  },
  {
   "cell_type": "code",
   "execution_count": 23,
   "id": "6dc9df41",
   "metadata": {},
   "outputs": [],
   "source": [
    "#organic type of avacados have high Averageprice than Conventional"
   ]
  },
  {
   "cell_type": "markdown",
   "id": "33b3d508",
   "metadata": {},
   "source": [
    "# DataVisualization"
   ]
  },
  {
   "cell_type": "code",
   "execution_count": 24,
   "id": "2f13bf70",
   "metadata": {},
   "outputs": [
    {
     "data": {
      "text/plain": [
       "<AxesSubplot:xlabel='year', ylabel='Total Volume'>"
      ]
     },
     "execution_count": 24,
     "metadata": {},
     "output_type": "execute_result"
    },
    {
     "data": {
      "image/png": "[encoded data removed]",
      "text/plain": [
       "<Figure size 432x288 with 1 Axes>"
      ]
     },
     "metadata": {
      "needs_background": "light"
     },
     "output_type": "display_data"
    }
   ],
   "source": [
    "sns.barplot(x='year',y='Total Volume',hue='type',data=df)"
   ]
  },
  {
   "cell_type": "markdown",
   "id": "a8489345",
   "metadata": {},
   "source": [
    "In 2018 avacodos of conventional type are sold high having TotalVolume of 0.0 to 2.0 "
   ]
  },
  {
   "cell_type": "code",
   "execution_count": 25,
   "id": "bb6b4155",
   "metadata": {},
   "outputs": [
    {
     "data": {
      "text/plain": [
       "<AxesSubplot:xlabel='year', ylabel='Total Volume'>"
      ]
     },
     "execution_count": 25,
     "metadata": {},
     "output_type": "execute_result"
    },
    {
     "data": {
      "image/png": "[encoded data removed]",
      "text/plain": [
       "<Figure size 432x288 with 1 Axes>"
      ]
     },
     "metadata": {
      "needs_background": "light"
     },
     "output_type": "display_data"
    }
   ],
   "source": [
    "sns.barplot(x='year',y='Total Volume',data=df)"
   ]
  },
  {
   "cell_type": "code",
   "execution_count": 26,
   "id": "800c5cd9",
   "metadata": {},
   "outputs": [
    {
     "data": {
      "text/plain": [
       "region               type        \n",
       "Albany               conventional    1.348757\n",
       "                     organic         1.773314\n",
       "Atlanta              conventional    1.068817\n",
       "                     organic         1.607101\n",
       "BaltimoreWashington  conventional    1.344201\n",
       "                     organic         1.724260\n",
       "Boise                conventional    1.076036\n",
       "                     organic         1.620237\n",
       "Boston               conventional    1.304379\n",
       "                     organic         1.757396\n",
       "BuffaloRochester     conventional    1.382308\n",
       "                     organic         1.651361\n",
       "California           conventional    1.105444\n",
       "                     organic         1.685207\n",
       "Charlotte            conventional    1.275089\n",
       "                     organic         1.936982\n",
       "Chicago              conventional    1.369349\n",
       "                     organic         1.744201\n",
       "CincinnatiDayton     conventional    1.015503\n",
       "                     organic         1.402899\n",
       "Columbus             conventional    1.066272\n",
       "                     organic         1.439290\n",
       "DallasFtWorth        conventional    0.846450\n",
       "                     organic         1.324734\n",
       "Denver               conventional    1.073964\n",
       "                     organic         1.363195\n",
       "Detroit              conventional    1.123964\n",
       "                     organic         1.428225\n",
       "GrandRapids          conventional    1.325030\n",
       "                     organic         1.684970\n",
       "GreatLakes           conventional    1.181893\n",
       "                     organic         1.495207\n",
       "HarrisburgScranton   conventional    1.258817\n",
       "                     organic         1.767751\n",
       "HartfordSpringfield  conventional    1.408047\n",
       "                     organic         2.229231\n",
       "Houston              conventional    0.825089\n",
       "                     organic         1.270769\n",
       "Indianapolis         conventional    1.144852\n",
       "                     organic         1.483136\n",
       "Jacksonville         conventional    1.193609\n",
       "                     organic         1.828284\n",
       "LasVegas             conventional    1.012959\n",
       "                     organic         1.748876\n",
       "LosAngeles           conventional    0.976450\n",
       "                     organic         1.455562\n",
       "Louisville           conventional    1.105325\n",
       "                     organic         1.468047\n",
       "MiamiFtLauderdale    conventional    1.254320\n",
       "                     organic         1.602663\n",
       "Midsouth             conventional    1.207160\n",
       "                     organic         1.602367\n",
       "Nashville            conventional    1.012899\n",
       "                     organic         1.411302\n",
       "NewOrleansMobile     conventional    1.085266\n",
       "                     organic         1.524320\n",
       "NewYork              conventional    1.402130\n",
       "                     organic         2.053018\n",
       "Northeast            conventional    1.344438\n",
       "                     organic         1.859408\n",
       "Name: AveragePrice, dtype: float64"
      ]
     },
     "execution_count": 26,
     "metadata": {},
     "output_type": "execute_result"
    }
   ],
   "source": [
    "#Which type of avacodos are sold in whichc area\n",
    "df.groupby(['region','type'])['AveragePrice'].mean().head(60)"
   ]
  },
  {
   "cell_type": "code",
   "execution_count": 27,
   "id": "18525178",
   "metadata": {},
   "outputs": [
    {
     "data": {
      "text/plain": [
       "<AxesSubplot:xlabel='year', ylabel='AveragePrice'>"
      ]
     },
     "execution_count": 27,
     "metadata": {},
     "output_type": "execute_result"
    },
    {
     "data": {
      "image/png": "[encoded data removed]",
      "text/plain": [
       "<Figure size 432x288 with 1 Axes>"
      ]
     },
     "metadata": {
      "needs_background": "light"
     },
     "output_type": "display_data"
    }
   ],
   "source": [
    "#findout the Averageprice by year\n",
    "sns.scatterplot(x='year',y='AveragePrice',data=df)"
   ]
  },
  {
   "cell_type": "markdown",
   "id": "23ce1606",
   "metadata": {},
   "source": [
    "In the year 2016 the AveragePrice is high"
   ]
  },
  {
   "cell_type": "code",
   "execution_count": 28,
   "id": "fca40c4b",
   "metadata": {},
   "outputs": [
    {
     "data": {
      "text/plain": [
       "<AxesSubplot:xlabel='Total Volume', ylabel='AveragePrice'>"
      ]
     },
     "execution_count": 28,
     "metadata": {},
     "output_type": "execute_result"
    },
    {
     "data": {
      "image/png": "[encoded data removed]",
      "text/plain": [
       "<Figure size 432x288 with 1 Axes>"
      ]
     },
     "metadata": {
      "needs_background": "light"
     },
     "output_type": "display_data"
    }
   ],
   "source": [
    "sns.scatterplot(x='Total Volume',y='AveragePrice',hue='type',data=df)"
   ]
  },
  {
   "cell_type": "markdown",
   "id": "9ddcb68b",
   "metadata": {},
   "source": [
    "AveragePrice is high for organic avacado"
   ]
  },
  {
   "cell_type": "code",
   "execution_count": 29,
   "id": "686babed",
   "metadata": {},
   "outputs": [
    {
     "data": {
      "text/plain": [
       "<BarContainer object of 3 artists>"
      ]
     },
     "execution_count": 29,
     "metadata": {},
     "output_type": "execute_result"
    },
    {
     "data": {
      "image/png": "[encoded data removed]",
      "text/plain": [
       "<Figure size 432x288 with 1 Axes>"
      ]
     },
     "metadata": {
      "needs_background": "light"
     },
     "output_type": "display_data"
    }
   ],
   "source": [
    "#plotting avacodo categeory wise\n",
    "plt.bar(['4046','4225','4770'],[df['4046'].sum(),df['4225'].sum(),df['4770'].sum()])"
   ]
  },
  {
   "cell_type": "code",
   "execution_count": 30,
   "id": "73f3eff9",
   "metadata": {},
   "outputs": [
    {
     "data": {
      "text/plain": [
       "5347110739.26"
      ]
     },
     "execution_count": 30,
     "metadata": {},
     "output_type": "execute_result"
    }
   ],
   "source": [
    "df['4046'].sum()"
   ]
  },
  {
   "cell_type": "code",
   "execution_count": 31,
   "id": "330cf128",
   "metadata": {},
   "outputs": [
    {
     "data": {
      "text/plain": [
       "5386275717.93"
      ]
     },
     "execution_count": 31,
     "metadata": {},
     "output_type": "execute_result"
    }
   ],
   "source": [
    "df['4225'].sum()"
   ]
  },
  {
   "cell_type": "code",
   "execution_count": 32,
   "id": "0443b960",
   "metadata": {},
   "outputs": [
    {
     "data": {
      "text/plain": [
       "416802342.12999994"
      ]
     },
     "execution_count": 32,
     "metadata": {},
     "output_type": "execute_result"
    }
   ],
   "source": [
    "df['4770'].sum()"
   ]
  },
  {
   "cell_type": "markdown",
   "id": "c4847590",
   "metadata": {},
   "source": [
    "categeory 4225 type of avacado's sold more than 4046 and less sold type is 4770"
   ]
  },
  {
   "cell_type": "code",
   "execution_count": 33,
   "id": "396561d0",
   "metadata": {},
   "outputs": [
    {
     "data": {
      "text/plain": [
       "year  type        \n",
       "2015  conventional    2808\n",
       "      organic         2807\n",
       "2016  conventional    2808\n",
       "      organic         2808\n",
       "2017  conventional    2862\n",
       "      organic         2860\n",
       "2018  conventional     648\n",
       "      organic          648\n",
       "Name: type, dtype: int64"
      ]
     },
     "execution_count": 33,
     "metadata": {},
     "output_type": "execute_result"
    }
   ],
   "source": [
    "#how much avacado sell per year\n",
    "df.groupby('year')['type'].value_counts()\n"
   ]
  },
  {
   "cell_type": "markdown",
   "id": "2d3613bc",
   "metadata": {},
   "source": [
    "both type of Avacados sold almost same for every year"
   ]
  },
  {
   "cell_type": "code",
   "execution_count": 34,
   "id": "daaf8ff3",
   "metadata": {},
   "outputs": [
    {
     "data": {
      "text/plain": [
       "<AxesSubplot:xlabel='year', ylabel='AveragePrice'>"
      ]
     },
     "execution_count": 34,
     "metadata": {},
     "output_type": "execute_result"
    },
    {
     "data": {
      "image/png": "[encoded data removed]",
      "text/plain": [
       "<Figure size 432x288 with 1 Axes>"
      ]
     },
     "metadata": {
      "needs_background": "light"
     },
     "output_type": "display_data"
    }
   ],
   "source": [
    "sns.barplot(x='year',y='AveragePrice',data=df)"
   ]
  },
  {
   "cell_type": "markdown",
   "id": "600e0421",
   "metadata": {},
   "source": [
    "#In the year 2017 averageprice is more"
   ]
  },
  {
   "cell_type": "code",
   "execution_count": 35,
   "id": "b999eaf1",
   "metadata": {},
   "outputs": [
    {
     "data": {
      "text/plain": [
       "<AxesSubplot:xlabel='Month', ylabel='AveragePrice'>"
      ]
     },
     "execution_count": 35,
     "metadata": {},
     "output_type": "execute_result"
    },
    {
     "data": {
      "image/png": "[encoded data removed]",
      "text/plain": [
       "<Figure size 432x288 with 1 Axes>"
      ]
     },
     "metadata": {
      "needs_background": "light"
     },
     "output_type": "display_data"
    }
   ],
   "source": [
    "sns.barplot(x='Month',y='AveragePrice',data=df)"
   ]
  },
  {
   "cell_type": "markdown",
   "id": "cc391791",
   "metadata": {},
   "source": [
    "In the month of Aug,Sep,Oct avacodo prices are increased"
   ]
  },
  {
   "cell_type": "code",
   "execution_count": 36,
   "id": "858bc067",
   "metadata": {},
   "outputs": [
    {
     "data": {
      "text/plain": [
       "<AxesSubplot:xlabel='Month', ylabel='AveragePrice'>"
      ]
     },
     "execution_count": 36,
     "metadata": {},
     "output_type": "execute_result"
    },
    {
     "data": {
      "image/png": "[encoded data removed]",
      "text/plain": [
       "<Figure size 432x288 with 1 Axes>"
      ]
     },
     "metadata": {
      "needs_background": "light"
     },
     "output_type": "display_data"
    }
   ],
   "source": [
    "sns.lineplot(x='Month',y='AveragePrice',hue='type',data=df)"
   ]
  },
  {
   "cell_type": "markdown",
   "id": "5932a65b",
   "metadata": {},
   "source": [
    "Average price is high for both conventional and organic in the month of Aug,Sep,Oct"
   ]
  },
  {
   "cell_type": "code",
   "execution_count": 37,
   "id": "e35e53fa",
   "metadata": {},
   "outputs": [
    {
     "data": {
      "text/plain": [
       "array([[<AxesSubplot:title={'center':'Date'}>,\n",
       "        <AxesSubplot:title={'center':'AveragePrice'}>,\n",
       "        <AxesSubplot:title={'center':'Total Volume'}>],\n",
       "       [<AxesSubplot:title={'center':'4046'}>,\n",
       "        <AxesSubplot:title={'center':'4225'}>,\n",
       "        <AxesSubplot:title={'center':'4770'}>],\n",
       "       [<AxesSubplot:title={'center':'Total Bags'}>,\n",
       "        <AxesSubplot:title={'center':'Small Bags'}>,\n",
       "        <AxesSubplot:title={'center':'Large Bags'}>],\n",
       "       [<AxesSubplot:title={'center':'XLarge Bags'}>,\n",
       "        <AxesSubplot:title={'center':'year'}>,\n",
       "        <AxesSubplot:title={'center':'Month'}>]], dtype=object)"
      ]
     },
     "execution_count": 37,
     "metadata": {},
     "output_type": "execute_result"
    },
    {
     "data": {
      "image/png": "[encoded data removed]",
      "text/plain": [
       "<Figure size 720x720 with 12 Axes>"
      ]
     },
     "metadata": {
      "needs_background": "light"
     },
     "output_type": "display_data"
    }
   ],
   "source": [
    "df.hist(figsize=(10,10),bins=25)"
   ]
  },
  {
   "cell_type": "markdown",
   "id": "4abf0e5c",
   "metadata": {},
   "source": [
    "'AveragePrice' is normally distributed and all the other columns are right skewed"
   ]
  },
  {
   "cell_type": "markdown",
   "id": "d12dbba3",
   "metadata": {},
   "source": [
    "# Correlation"
   ]
  },
  {
   "cell_type": "code",
   "execution_count": 38,
   "id": "a82b3cfa",
   "metadata": {},
   "outputs": [
    {
     "data": {
      "text/html": [
       "<div>\n",
       "<style scoped>\n",
       "    .dataframe tbody tr th:only-of-type {\n",
       "        vertical-align: middle;\n",
       "    }\n",
       "\n",
       "    .dataframe tbody tr th {\n",
       "        vertical-align: top;\n",
       "    }\n",
       "\n",
       "    .dataframe thead th {\n",
       "        text-align: right;\n",
       "    }\n",
       "</style>\n",
       "<table border=\"1\" class=\"dataframe\">\n",
       "  <thead>\n",
       "    <tr style=\"text-align: right;\">\n",
       "      <th></th>\n",
       "      <th>AveragePrice</th>\n",
       "      <th>Total Volume</th>\n",
       "      <th>4046</th>\n",
       "      <th>4225</th>\n",
       "      <th>4770</th>\n",
       "      <th>Total Bags</th>\n",
       "      <th>Small Bags</th>\n",
       "      <th>Large Bags</th>\n",
       "      <th>XLarge Bags</th>\n",
       "      <th>year</th>\n",
       "      <th>Month</th>\n",
       "    </tr>\n",
       "  </thead>\n",
       "  <tbody>\n",
       "    <tr>\n",
       "      <th>AveragePrice</th>\n",
       "      <td>1.000000</td>\n",
       "      <td>-0.192752</td>\n",
       "      <td>-0.208317</td>\n",
       "      <td>-0.172928</td>\n",
       "      <td>-0.179446</td>\n",
       "      <td>-0.177088</td>\n",
       "      <td>-0.174730</td>\n",
       "      <td>-0.172940</td>\n",
       "      <td>-0.117592</td>\n",
       "      <td>0.093197</td>\n",
       "      <td>0.162409</td>\n",
       "    </tr>\n",
       "    <tr>\n",
       "      <th>Total Volume</th>\n",
       "      <td>-0.192752</td>\n",
       "      <td>1.000000</td>\n",
       "      <td>0.977863</td>\n",
       "      <td>0.974181</td>\n",
       "      <td>0.872202</td>\n",
       "      <td>0.963047</td>\n",
       "      <td>0.967238</td>\n",
       "      <td>0.880640</td>\n",
       "      <td>0.747157</td>\n",
       "      <td>0.017193</td>\n",
       "      <td>-0.024689</td>\n",
       "    </tr>\n",
       "    <tr>\n",
       "      <th>4046</th>\n",
       "      <td>-0.208317</td>\n",
       "      <td>0.977863</td>\n",
       "      <td>1.000000</td>\n",
       "      <td>0.926110</td>\n",
       "      <td>0.833389</td>\n",
       "      <td>0.920057</td>\n",
       "      <td>0.925280</td>\n",
       "      <td>0.838645</td>\n",
       "      <td>0.699377</td>\n",
       "      <td>0.003353</td>\n",
       "      <td>-0.025803</td>\n",
       "    </tr>\n",
       "    <tr>\n",
       "      <th>4225</th>\n",
       "      <td>-0.172928</td>\n",
       "      <td>0.974181</td>\n",
       "      <td>0.926110</td>\n",
       "      <td>1.000000</td>\n",
       "      <td>0.887855</td>\n",
       "      <td>0.905787</td>\n",
       "      <td>0.916031</td>\n",
       "      <td>0.810015</td>\n",
       "      <td>0.688809</td>\n",
       "      <td>-0.009559</td>\n",
       "      <td>-0.022108</td>\n",
       "    </tr>\n",
       "    <tr>\n",
       "      <th>4770</th>\n",
       "      <td>-0.179446</td>\n",
       "      <td>0.872202</td>\n",
       "      <td>0.833389</td>\n",
       "      <td>0.887855</td>\n",
       "      <td>1.000000</td>\n",
       "      <td>0.792314</td>\n",
       "      <td>0.802733</td>\n",
       "      <td>0.698471</td>\n",
       "      <td>0.679861</td>\n",
       "      <td>-0.036531</td>\n",
       "      <td>-0.033424</td>\n",
       "    </tr>\n",
       "    <tr>\n",
       "      <th>Total Bags</th>\n",
       "      <td>-0.177088</td>\n",
       "      <td>0.963047</td>\n",
       "      <td>0.920057</td>\n",
       "      <td>0.905787</td>\n",
       "      <td>0.792314</td>\n",
       "      <td>1.000000</td>\n",
       "      <td>0.994335</td>\n",
       "      <td>0.943009</td>\n",
       "      <td>0.804233</td>\n",
       "      <td>0.071552</td>\n",
       "      <td>-0.022724</td>\n",
       "    </tr>\n",
       "    <tr>\n",
       "      <th>Small Bags</th>\n",
       "      <td>-0.174730</td>\n",
       "      <td>0.967238</td>\n",
       "      <td>0.925280</td>\n",
       "      <td>0.916031</td>\n",
       "      <td>0.802733</td>\n",
       "      <td>0.994335</td>\n",
       "      <td>1.000000</td>\n",
       "      <td>0.902589</td>\n",
       "      <td>0.806845</td>\n",
       "      <td>0.063915</td>\n",
       "      <td>-0.023126</td>\n",
       "    </tr>\n",
       "    <tr>\n",
       "      <th>Large Bags</th>\n",
       "      <td>-0.172940</td>\n",
       "      <td>0.880640</td>\n",
       "      <td>0.838645</td>\n",
       "      <td>0.810015</td>\n",
       "      <td>0.698471</td>\n",
       "      <td>0.943009</td>\n",
       "      <td>0.902589</td>\n",
       "      <td>1.000000</td>\n",
       "      <td>0.710858</td>\n",
       "      <td>0.087891</td>\n",
       "      <td>-0.020187</td>\n",
       "    </tr>\n",
       "    <tr>\n",
       "      <th>XLarge Bags</th>\n",
       "      <td>-0.117592</td>\n",
       "      <td>0.747157</td>\n",
       "      <td>0.699377</td>\n",
       "      <td>0.688809</td>\n",
       "      <td>0.679861</td>\n",
       "      <td>0.804233</td>\n",
       "      <td>0.806845</td>\n",
       "      <td>0.710858</td>\n",
       "      <td>1.000000</td>\n",
       "      <td>0.081033</td>\n",
       "      <td>-0.012969</td>\n",
       "    </tr>\n",
       "    <tr>\n",
       "      <th>year</th>\n",
       "      <td>0.093197</td>\n",
       "      <td>0.017193</td>\n",
       "      <td>0.003353</td>\n",
       "      <td>-0.009559</td>\n",
       "      <td>-0.036531</td>\n",
       "      <td>0.071552</td>\n",
       "      <td>0.063915</td>\n",
       "      <td>0.087891</td>\n",
       "      <td>0.081033</td>\n",
       "      <td>1.000000</td>\n",
       "      <td>-0.177050</td>\n",
       "    </tr>\n",
       "    <tr>\n",
       "      <th>Month</th>\n",
       "      <td>0.162409</td>\n",
       "      <td>-0.024689</td>\n",
       "      <td>-0.025803</td>\n",
       "      <td>-0.022108</td>\n",
       "      <td>-0.033424</td>\n",
       "      <td>-0.022724</td>\n",
       "      <td>-0.023126</td>\n",
       "      <td>-0.020187</td>\n",
       "      <td>-0.012969</td>\n",
       "      <td>-0.177050</td>\n",
       "      <td>1.000000</td>\n",
       "    </tr>\n",
       "  </tbody>\n",
       "</table>\n",
       "</div>"
      ],
      "text/plain": [
       "              AveragePrice  Total Volume      4046      4225      4770  \\\n",
       "AveragePrice      1.000000     -0.192752 -0.208317 -0.172928 -0.179446   \n",
       "Total Volume     -0.192752      1.000000  0.977863  0.974181  0.872202   \n",
       "4046             -0.208317      0.977863  1.000000  0.926110  0.833389   \n",
       "4225             -0.172928      0.974181  0.926110  1.000000  0.887855   \n",
       "4770             -0.179446      0.872202  0.833389  0.887855  1.000000   \n",
       "Total Bags       -0.177088      0.963047  0.920057  0.905787  0.792314   \n",
       "Small Bags       -0.174730      0.967238  0.925280  0.916031  0.802733   \n",
       "Large Bags       -0.172940      0.880640  0.838645  0.810015  0.698471   \n",
       "XLarge Bags      -0.117592      0.747157  0.699377  0.688809  0.679861   \n",
       "year              0.093197      0.017193  0.003353 -0.009559 -0.036531   \n",
       "Month             0.162409     -0.024689 -0.025803 -0.022108 -0.033424   \n",
       "\n",
       "              Total Bags  Small Bags  Large Bags  XLarge Bags      year  \\\n",
       "AveragePrice   -0.177088   -0.174730   -0.172940    -0.117592  0.093197   \n",
       "Total Volume    0.963047    0.967238    0.880640     0.747157  0.017193   \n",
       "4046            0.920057    0.925280    0.838645     0.699377  0.003353   \n",
       "4225            0.905787    0.916031    0.810015     0.688809 -0.009559   \n",
       "4770            0.792314    0.802733    0.698471     0.679861 -0.036531   \n",
       "Total Bags      1.000000    0.994335    0.943009     0.804233  0.071552   \n",
       "Small Bags      0.994335    1.000000    0.902589     0.806845  0.063915   \n",
       "Large Bags      0.943009    0.902589    1.000000     0.710858  0.087891   \n",
       "XLarge Bags     0.804233    0.806845    0.710858     1.000000  0.081033   \n",
       "year            0.071552    0.063915    0.087891     0.081033  1.000000   \n",
       "Month          -0.022724   -0.023126   -0.020187    -0.012969 -0.177050   \n",
       "\n",
       "                 Month  \n",
       "AveragePrice  0.162409  \n",
       "Total Volume -0.024689  \n",
       "4046         -0.025803  \n",
       "4225         -0.022108  \n",
       "4770         -0.033424  \n",
       "Total Bags   -0.022724  \n",
       "Small Bags   -0.023126  \n",
       "Large Bags   -0.020187  \n",
       "XLarge Bags  -0.012969  \n",
       "year         -0.177050  \n",
       "Month         1.000000  "
      ]
     },
     "execution_count": 38,
     "metadata": {},
     "output_type": "execute_result"
    }
   ],
   "source": [
    "df.corr()"
   ]
  },
  {
   "cell_type": "code",
   "execution_count": 39,
   "id": "5c795db0",
   "metadata": {},
   "outputs": [
    {
     "data": {
      "text/plain": [
       "<AxesSubplot:>"
      ]
     },
     "execution_count": 39,
     "metadata": {},
     "output_type": "execute_result"
    },
    {
     "data": {
      "image/png": "[encoded data removed]",
      "text/plain": [
       "<Figure size 1008x504 with 2 Axes>"
      ]
     },
     "metadata": {
      "needs_background": "light"
     },
     "output_type": "display_data"
    }
   ],
   "source": [
    "plt.figure(figsize=(14,7))\n",
    "sns.heatmap(df.corr(),annot=True)"
   ]
  },
  {
   "cell_type": "markdown",
   "id": "6b2fc612",
   "metadata": {},
   "source": [
    "Target variable AveragePrice is mostly negatively correlated with all the columns except month and year"
   ]
  },
  {
   "cell_type": "code",
   "execution_count": 40,
   "id": "49dcf7f5",
   "metadata": {},
   "outputs": [
    {
     "data": {
      "text/plain": [
       "AveragePrice     0.580303\n",
       "Total Volume     9.007687\n",
       "4046             8.648220\n",
       "4225             8.942466\n",
       "4770            10.159396\n",
       "Total Bags       9.756072\n",
       "Small Bags       9.540660\n",
       "Large Bags       9.796455\n",
       "XLarge Bags     13.139751\n",
       "year             0.215339\n",
       "Month            0.106617\n",
       "dtype: float64"
      ]
     },
     "execution_count": 40,
     "metadata": {},
     "output_type": "execute_result"
    }
   ],
   "source": [
    "df.skew()"
   ]
  },
  {
   "cell_type": "markdown",
   "id": "22b5e957",
   "metadata": {},
   "source": [
    "some of the features are highly skewed with the threshold skewness +/- 0.5"
   ]
  },
  {
   "cell_type": "markdown",
   "id": "fe47fd67",
   "metadata": {},
   "source": [
    "# Outliers checking"
   ]
  },
  {
   "cell_type": "code",
   "execution_count": 41,
   "id": "531d6445",
   "metadata": {},
   "outputs": [
    {
     "data": {
      "text/plain": [
       "AveragePrice       AxesSubplot(0.125,0.125;0.0596154x0.755)\n",
       "Total Volume    AxesSubplot(0.196538,0.125;0.0596154x0.755)\n",
       "4046            AxesSubplot(0.268077,0.125;0.0596154x0.755)\n",
       "4225            AxesSubplot(0.339615,0.125;0.0596154x0.755)\n",
       "4770            AxesSubplot(0.411154,0.125;0.0596154x0.755)\n",
       "Total Bags      AxesSubplot(0.482692,0.125;0.0596154x0.755)\n",
       "Small Bags      AxesSubplot(0.554231,0.125;0.0596154x0.755)\n",
       "Large Bags      AxesSubplot(0.625769,0.125;0.0596154x0.755)\n",
       "XLarge Bags     AxesSubplot(0.697308,0.125;0.0596154x0.755)\n",
       "year            AxesSubplot(0.768846,0.125;0.0596154x0.755)\n",
       "Month           AxesSubplot(0.840385,0.125;0.0596154x0.755)\n",
       "dtype: object"
      ]
     },
     "execution_count": 41,
     "metadata": {},
     "output_type": "execute_result"
    },
    {
     "data": {
      "image/png": "[encoded data removed]",
      "text/plain": [
       "<Figure size 1008x504 with 11 Axes>"
      ]
     },
     "metadata": {
      "needs_background": "light"
     },
     "output_type": "display_data"
    }
   ],
   "source": [
    "df.plot(kind='box',subplots=True,figsize=(14,7))"
   ]
  },
  {
   "cell_type": "markdown",
   "id": "51680524",
   "metadata": {},
   "source": [
    "TotalVolume,'4046','4225','4770','Totalbags','smallBags','LargeBags','XLarge Bags'contain outliers"
   ]
  },
  {
   "cell_type": "markdown",
   "id": "74f3ebed",
   "metadata": {},
   "source": [
    "# Encoding the DataFrame"
   ]
  },
  {
   "cell_type": "markdown",
   "id": "c8499b48",
   "metadata": {},
   "source": [
    "As our data consist of categeorical data we convert that into numerical data using OrdinalEncoder"
   ]
  },
  {
   "cell_type": "code",
   "execution_count": 42,
   "id": "c3eb92a4",
   "metadata": {},
   "outputs": [
    {
     "data": {
      "text/html": [
       "<div>\n",
       "<style scoped>\n",
       "    .dataframe tbody tr th:only-of-type {\n",
       "        vertical-align: middle;\n",
       "    }\n",
       "\n",
       "    .dataframe tbody tr th {\n",
       "        vertical-align: top;\n",
       "    }\n",
       "\n",
       "    .dataframe thead th {\n",
       "        text-align: right;\n",
       "    }\n",
       "</style>\n",
       "<table border=\"1\" class=\"dataframe\">\n",
       "  <thead>\n",
       "    <tr style=\"text-align: right;\">\n",
       "      <th></th>\n",
       "      <th>Date</th>\n",
       "      <th>AveragePrice</th>\n",
       "      <th>Total Volume</th>\n",
       "      <th>4046</th>\n",
       "      <th>4225</th>\n",
       "      <th>4770</th>\n",
       "      <th>Total Bags</th>\n",
       "      <th>Small Bags</th>\n",
       "      <th>Large Bags</th>\n",
       "      <th>XLarge Bags</th>\n",
       "      <th>type</th>\n",
       "      <th>year</th>\n",
       "      <th>region</th>\n",
       "      <th>Month</th>\n",
       "    </tr>\n",
       "  </thead>\n",
       "  <tbody>\n",
       "    <tr>\n",
       "      <th>0</th>\n",
       "      <td>2015-12-27</td>\n",
       "      <td>1.33</td>\n",
       "      <td>64236.62</td>\n",
       "      <td>1036.74</td>\n",
       "      <td>54454.85</td>\n",
       "      <td>48.16</td>\n",
       "      <td>8696.87</td>\n",
       "      <td>8603.62</td>\n",
       "      <td>93.25</td>\n",
       "      <td>0.0</td>\n",
       "      <td>0.0</td>\n",
       "      <td>2015</td>\n",
       "      <td>0.0</td>\n",
       "      <td>12</td>\n",
       "    </tr>\n",
       "    <tr>\n",
       "      <th>1</th>\n",
       "      <td>2015-12-20</td>\n",
       "      <td>1.35</td>\n",
       "      <td>54876.98</td>\n",
       "      <td>674.28</td>\n",
       "      <td>44638.81</td>\n",
       "      <td>58.33</td>\n",
       "      <td>9505.56</td>\n",
       "      <td>9408.07</td>\n",
       "      <td>97.49</td>\n",
       "      <td>0.0</td>\n",
       "      <td>0.0</td>\n",
       "      <td>2015</td>\n",
       "      <td>0.0</td>\n",
       "      <td>12</td>\n",
       "    </tr>\n",
       "    <tr>\n",
       "      <th>2</th>\n",
       "      <td>2015-12-13</td>\n",
       "      <td>0.93</td>\n",
       "      <td>118220.22</td>\n",
       "      <td>794.70</td>\n",
       "      <td>109149.67</td>\n",
       "      <td>130.50</td>\n",
       "      <td>8145.35</td>\n",
       "      <td>8042.21</td>\n",
       "      <td>103.14</td>\n",
       "      <td>0.0</td>\n",
       "      <td>0.0</td>\n",
       "      <td>2015</td>\n",
       "      <td>0.0</td>\n",
       "      <td>12</td>\n",
       "    </tr>\n",
       "    <tr>\n",
       "      <th>3</th>\n",
       "      <td>2015-12-06</td>\n",
       "      <td>1.08</td>\n",
       "      <td>78992.15</td>\n",
       "      <td>1132.00</td>\n",
       "      <td>71976.41</td>\n",
       "      <td>72.58</td>\n",
       "      <td>5811.16</td>\n",
       "      <td>5677.40</td>\n",
       "      <td>133.76</td>\n",
       "      <td>0.0</td>\n",
       "      <td>0.0</td>\n",
       "      <td>2015</td>\n",
       "      <td>0.0</td>\n",
       "      <td>12</td>\n",
       "    </tr>\n",
       "    <tr>\n",
       "      <th>4</th>\n",
       "      <td>2015-11-29</td>\n",
       "      <td>1.28</td>\n",
       "      <td>51039.60</td>\n",
       "      <td>941.48</td>\n",
       "      <td>43838.39</td>\n",
       "      <td>75.78</td>\n",
       "      <td>6183.95</td>\n",
       "      <td>5986.26</td>\n",
       "      <td>197.69</td>\n",
       "      <td>0.0</td>\n",
       "      <td>0.0</td>\n",
       "      <td>2015</td>\n",
       "      <td>0.0</td>\n",
       "      <td>11</td>\n",
       "    </tr>\n",
       "    <tr>\n",
       "      <th>...</th>\n",
       "      <td>...</td>\n",
       "      <td>...</td>\n",
       "      <td>...</td>\n",
       "      <td>...</td>\n",
       "      <td>...</td>\n",
       "      <td>...</td>\n",
       "      <td>...</td>\n",
       "      <td>...</td>\n",
       "      <td>...</td>\n",
       "      <td>...</td>\n",
       "      <td>...</td>\n",
       "      <td>...</td>\n",
       "      <td>...</td>\n",
       "      <td>...</td>\n",
       "    </tr>\n",
       "    <tr>\n",
       "      <th>18244</th>\n",
       "      <td>2018-02-04</td>\n",
       "      <td>1.63</td>\n",
       "      <td>17074.83</td>\n",
       "      <td>2046.96</td>\n",
       "      <td>1529.20</td>\n",
       "      <td>0.00</td>\n",
       "      <td>13498.67</td>\n",
       "      <td>13066.82</td>\n",
       "      <td>431.85</td>\n",
       "      <td>0.0</td>\n",
       "      <td>1.0</td>\n",
       "      <td>2018</td>\n",
       "      <td>53.0</td>\n",
       "      <td>2</td>\n",
       "    </tr>\n",
       "    <tr>\n",
       "      <th>18245</th>\n",
       "      <td>2018-01-28</td>\n",
       "      <td>1.71</td>\n",
       "      <td>13888.04</td>\n",
       "      <td>1191.70</td>\n",
       "      <td>3431.50</td>\n",
       "      <td>0.00</td>\n",
       "      <td>9264.84</td>\n",
       "      <td>8940.04</td>\n",
       "      <td>324.80</td>\n",
       "      <td>0.0</td>\n",
       "      <td>1.0</td>\n",
       "      <td>2018</td>\n",
       "      <td>53.0</td>\n",
       "      <td>1</td>\n",
       "    </tr>\n",
       "    <tr>\n",
       "      <th>18246</th>\n",
       "      <td>2018-01-21</td>\n",
       "      <td>1.87</td>\n",
       "      <td>13766.76</td>\n",
       "      <td>1191.92</td>\n",
       "      <td>2452.79</td>\n",
       "      <td>727.94</td>\n",
       "      <td>9394.11</td>\n",
       "      <td>9351.80</td>\n",
       "      <td>42.31</td>\n",
       "      <td>0.0</td>\n",
       "      <td>1.0</td>\n",
       "      <td>2018</td>\n",
       "      <td>53.0</td>\n",
       "      <td>1</td>\n",
       "    </tr>\n",
       "    <tr>\n",
       "      <th>18247</th>\n",
       "      <td>2018-01-14</td>\n",
       "      <td>1.93</td>\n",
       "      <td>16205.22</td>\n",
       "      <td>1527.63</td>\n",
       "      <td>2981.04</td>\n",
       "      <td>727.01</td>\n",
       "      <td>10969.54</td>\n",
       "      <td>10919.54</td>\n",
       "      <td>50.00</td>\n",
       "      <td>0.0</td>\n",
       "      <td>1.0</td>\n",
       "      <td>2018</td>\n",
       "      <td>53.0</td>\n",
       "      <td>1</td>\n",
       "    </tr>\n",
       "    <tr>\n",
       "      <th>18248</th>\n",
       "      <td>2018-01-07</td>\n",
       "      <td>1.62</td>\n",
       "      <td>17489.58</td>\n",
       "      <td>2894.77</td>\n",
       "      <td>2356.13</td>\n",
       "      <td>224.53</td>\n",
       "      <td>12014.15</td>\n",
       "      <td>11988.14</td>\n",
       "      <td>26.01</td>\n",
       "      <td>0.0</td>\n",
       "      <td>1.0</td>\n",
       "      <td>2018</td>\n",
       "      <td>53.0</td>\n",
       "      <td>1</td>\n",
       "    </tr>\n",
       "  </tbody>\n",
       "</table>\n",
       "<p>18249 rows × 14 columns</p>\n",
       "</div>"
      ],
      "text/plain": [
       "            Date  AveragePrice  Total Volume     4046       4225    4770  \\\n",
       "0     2015-12-27          1.33      64236.62  1036.74   54454.85   48.16   \n",
       "1     2015-12-20          1.35      54876.98   674.28   44638.81   58.33   \n",
       "2     2015-12-13          0.93     118220.22   794.70  109149.67  130.50   \n",
       "3     2015-12-06          1.08      78992.15  1132.00   71976.41   72.58   \n",
       "4     2015-11-29          1.28      51039.60   941.48   43838.39   75.78   \n",
       "...          ...           ...           ...      ...        ...     ...   \n",
       "18244 2018-02-04          1.63      17074.83  2046.96    1529.20    0.00   \n",
       "18245 2018-01-28          1.71      13888.04  1191.70    3431.50    0.00   \n",
       "18246 2018-01-21          1.87      13766.76  1191.92    2452.79  727.94   \n",
       "18247 2018-01-14          1.93      16205.22  1527.63    2981.04  727.01   \n",
       "18248 2018-01-07          1.62      17489.58  2894.77    2356.13  224.53   \n",
       "\n",
       "       Total Bags  Small Bags  Large Bags  XLarge Bags  type  year  region  \\\n",
       "0         8696.87     8603.62       93.25          0.0   0.0  2015     0.0   \n",
       "1         9505.56     9408.07       97.49          0.0   0.0  2015     0.0   \n",
       "2         8145.35     8042.21      103.14          0.0   0.0  2015     0.0   \n",
       "3         5811.16     5677.40      133.76          0.0   0.0  2015     0.0   \n",
       "4         6183.95     5986.26      197.69          0.0   0.0  2015     0.0   \n",
       "...           ...         ...         ...          ...   ...   ...     ...   \n",
       "18244    13498.67    13066.82      431.85          0.0   1.0  2018    53.0   \n",
       "18245     9264.84     8940.04      324.80          0.0   1.0  2018    53.0   \n",
       "18246     9394.11     9351.80       42.31          0.0   1.0  2018    53.0   \n",
       "18247    10969.54    10919.54       50.00          0.0   1.0  2018    53.0   \n",
       "18248    12014.15    11988.14       26.01          0.0   1.0  2018    53.0   \n",
       "\n",
       "       Month  \n",
       "0         12  \n",
       "1         12  \n",
       "2         12  \n",
       "3         12  \n",
       "4         11  \n",
       "...      ...  \n",
       "18244      2  \n",
       "18245      1  \n",
       "18246      1  \n",
       "18247      1  \n",
       "18248      1  \n",
       "\n",
       "[18249 rows x 14 columns]"
      ]
     },
     "execution_count": 42,
     "metadata": {},
     "output_type": "execute_result"
    }
   ],
   "source": [
    "\n",
    "from sklearn.preprocessing import OrdinalEncoder\n",
    "oe=OrdinalEncoder()\n",
    "for i in df.columns:\n",
    "    if df[i].dtypes=='object':\n",
    "        df[i]=oe.fit_transform(df[i].values.reshape(-1,1))\n",
    "df"
   ]
  },
  {
   "cell_type": "markdown",
   "id": "78831622",
   "metadata": {},
   "source": [
    "# Removing Outliers"
   ]
  },
  {
   "cell_type": "code",
   "execution_count": 43,
   "id": "fa08fd88",
   "metadata": {},
   "outputs": [],
   "source": [
    "df1=df.select_dtypes(np.number)"
   ]
  },
  {
   "cell_type": "code",
   "execution_count": 44,
   "id": "7d0f86e5",
   "metadata": {},
   "outputs": [
    {
     "data": {
      "text/plain": [
       "(array([  346,   359,   780, ..., 17304, 17402, 17428], dtype=int32),\n",
       " array([2, 2, 8, ..., 0, 0, 0], dtype=int32))"
      ]
     },
     "execution_count": 44,
     "metadata": {},
     "output_type": "execute_result"
    }
   ],
   "source": [
    "from scipy.stats import zscore\n",
    "z=np.abs(zscore(df1))\n",
    "threshold=3\n",
    "np.where(z>3)"
   ]
  },
  {
   "cell_type": "code",
   "execution_count": 45,
   "id": "010cf7c9",
   "metadata": {},
   "outputs": [],
   "source": [
    "df_new=df1[(z<3).all(axis=1)]"
   ]
  },
  {
   "cell_type": "code",
   "execution_count": 46,
   "id": "d8dbc000",
   "metadata": {},
   "outputs": [
    {
     "data": {
      "text/html": [
       "<div>\n",
       "<style scoped>\n",
       "    .dataframe tbody tr th:only-of-type {\n",
       "        vertical-align: middle;\n",
       "    }\n",
       "\n",
       "    .dataframe tbody tr th {\n",
       "        vertical-align: top;\n",
       "    }\n",
       "\n",
       "    .dataframe thead th {\n",
       "        text-align: right;\n",
       "    }\n",
       "</style>\n",
       "<table border=\"1\" class=\"dataframe\">\n",
       "  <thead>\n",
       "    <tr style=\"text-align: right;\">\n",
       "      <th></th>\n",
       "      <th>AveragePrice</th>\n",
       "      <th>Total Volume</th>\n",
       "      <th>4046</th>\n",
       "      <th>4225</th>\n",
       "      <th>4770</th>\n",
       "      <th>Total Bags</th>\n",
       "      <th>Small Bags</th>\n",
       "      <th>Large Bags</th>\n",
       "      <th>XLarge Bags</th>\n",
       "      <th>type</th>\n",
       "      <th>year</th>\n",
       "      <th>region</th>\n",
       "      <th>Month</th>\n",
       "    </tr>\n",
       "  </thead>\n",
       "  <tbody>\n",
       "    <tr>\n",
       "      <th>0</th>\n",
       "      <td>1.33</td>\n",
       "      <td>64236.62</td>\n",
       "      <td>1036.74</td>\n",
       "      <td>54454.85</td>\n",
       "      <td>48.16</td>\n",
       "      <td>8696.87</td>\n",
       "      <td>8603.62</td>\n",
       "      <td>93.25</td>\n",
       "      <td>0.0</td>\n",
       "      <td>0.0</td>\n",
       "      <td>2015</td>\n",
       "      <td>0.0</td>\n",
       "      <td>12</td>\n",
       "    </tr>\n",
       "    <tr>\n",
       "      <th>1</th>\n",
       "      <td>1.35</td>\n",
       "      <td>54876.98</td>\n",
       "      <td>674.28</td>\n",
       "      <td>44638.81</td>\n",
       "      <td>58.33</td>\n",
       "      <td>9505.56</td>\n",
       "      <td>9408.07</td>\n",
       "      <td>97.49</td>\n",
       "      <td>0.0</td>\n",
       "      <td>0.0</td>\n",
       "      <td>2015</td>\n",
       "      <td>0.0</td>\n",
       "      <td>12</td>\n",
       "    </tr>\n",
       "    <tr>\n",
       "      <th>2</th>\n",
       "      <td>0.93</td>\n",
       "      <td>118220.22</td>\n",
       "      <td>794.70</td>\n",
       "      <td>109149.67</td>\n",
       "      <td>130.50</td>\n",
       "      <td>8145.35</td>\n",
       "      <td>8042.21</td>\n",
       "      <td>103.14</td>\n",
       "      <td>0.0</td>\n",
       "      <td>0.0</td>\n",
       "      <td>2015</td>\n",
       "      <td>0.0</td>\n",
       "      <td>12</td>\n",
       "    </tr>\n",
       "    <tr>\n",
       "      <th>3</th>\n",
       "      <td>1.08</td>\n",
       "      <td>78992.15</td>\n",
       "      <td>1132.00</td>\n",
       "      <td>71976.41</td>\n",
       "      <td>72.58</td>\n",
       "      <td>5811.16</td>\n",
       "      <td>5677.40</td>\n",
       "      <td>133.76</td>\n",
       "      <td>0.0</td>\n",
       "      <td>0.0</td>\n",
       "      <td>2015</td>\n",
       "      <td>0.0</td>\n",
       "      <td>12</td>\n",
       "    </tr>\n",
       "    <tr>\n",
       "      <th>4</th>\n",
       "      <td>1.28</td>\n",
       "      <td>51039.60</td>\n",
       "      <td>941.48</td>\n",
       "      <td>43838.39</td>\n",
       "      <td>75.78</td>\n",
       "      <td>6183.95</td>\n",
       "      <td>5986.26</td>\n",
       "      <td>197.69</td>\n",
       "      <td>0.0</td>\n",
       "      <td>0.0</td>\n",
       "      <td>2015</td>\n",
       "      <td>0.0</td>\n",
       "      <td>11</td>\n",
       "    </tr>\n",
       "  </tbody>\n",
       "</table>\n",
       "</div>"
      ],
      "text/plain": [
       "   AveragePrice  Total Volume     4046       4225    4770  Total Bags  \\\n",
       "0          1.33      64236.62  1036.74   54454.85   48.16     8696.87   \n",
       "1          1.35      54876.98   674.28   44638.81   58.33     9505.56   \n",
       "2          0.93     118220.22   794.70  109149.67  130.50     8145.35   \n",
       "3          1.08      78992.15  1132.00   71976.41   72.58     5811.16   \n",
       "4          1.28      51039.60   941.48   43838.39   75.78     6183.95   \n",
       "\n",
       "   Small Bags  Large Bags  XLarge Bags  type  year  region  Month  \n",
       "0     8603.62       93.25          0.0   0.0  2015     0.0     12  \n",
       "1     9408.07       97.49          0.0   0.0  2015     0.0     12  \n",
       "2     8042.21      103.14          0.0   0.0  2015     0.0     12  \n",
       "3     5677.40      133.76          0.0   0.0  2015     0.0     12  \n",
       "4     5986.26      197.69          0.0   0.0  2015     0.0     11  "
      ]
     },
     "execution_count": 46,
     "metadata": {},
     "output_type": "execute_result"
    }
   ],
   "source": [
    "df_new.head()"
   ]
  },
  {
   "cell_type": "code",
   "execution_count": 47,
   "id": "c5cfd16c",
   "metadata": {},
   "outputs": [
    {
     "name": "stdout",
     "output_type": "stream",
     "text": [
      "OldDataFrame (18249, 14)\n",
      "newdataframe (17651, 13)\n",
      "Totaldroppedrows 598\n"
     ]
    }
   ],
   "source": [
    "print(\"OldDataFrame\",df.shape)\n",
    "print(\"newdataframe\",df_new.shape)\n",
    "print(\"Totaldroppedrows\",df.shape[0]-df_new.shape[0])\n"
   ]
  },
  {
   "cell_type": "code",
   "execution_count": 48,
   "id": "bf39cab8",
   "metadata": {},
   "outputs": [
    {
     "data": {
      "text/plain": [
       "AveragePrice    0.377432\n",
       "Total Volume    3.767138\n",
       "4046            4.909848\n",
       "4225            4.455745\n",
       "4770            5.117170\n",
       "Total Bags      4.066771\n",
       "Small Bags      4.222706\n",
       "Large Bags      5.053434\n",
       "XLarge Bags     6.135607\n",
       "type           -0.037741\n",
       "year            0.229976\n",
       "region          0.012798\n",
       "Month           0.107408\n",
       "dtype: float64"
      ]
     },
     "execution_count": 48,
     "metadata": {},
     "output_type": "execute_result"
    }
   ],
   "source": [
    "df_new.skew()"
   ]
  },
  {
   "cell_type": "markdown",
   "id": "72df8ce9",
   "metadata": {},
   "source": [
    "# seperating the columns into features and target"
   ]
  },
  {
   "cell_type": "code",
   "execution_count": 49,
   "id": "4ffec568",
   "metadata": {},
   "outputs": [],
   "source": [
    "x=df_new.drop(['AveragePrice'],axis=1)\n",
    "y=df_new['AveragePrice']"
   ]
  },
  {
   "cell_type": "markdown",
   "id": "58107192",
   "metadata": {},
   "source": [
    "# Transforming data to remove skewness"
   ]
  },
  {
   "cell_type": "markdown",
   "id": "1f95fe47",
   "metadata": {},
   "source": [
    "Here we are using power_transformation to remove skewness"
   ]
  },
  {
   "cell_type": "code",
   "execution_count": 50,
   "id": "612efddc",
   "metadata": {},
   "outputs": [
    {
     "data": {
      "text/plain": [
       "array([[-0.07532391, -0.65742071,  0.35142978, ..., -1.2106467 ,\n",
       "        -2.01058988,  1.49138301],\n",
       "       [-0.14749743, -0.77717852,  0.26951276, ..., -1.2106467 ,\n",
       "        -2.01058988,  1.49138301],\n",
       "       [ 0.20555557, -0.7317763 ,  0.64933326, ..., -1.2106467 ,\n",
       "        -2.01058988,  1.49138301],\n",
       "       ...,\n",
       "       [-0.77527398, -0.61796649, -0.77889327, ...,  1.97870686,\n",
       "         1.57828237, -1.64028838],\n",
       "       [-0.70179733, -0.54701087, -0.71637127, ...,  1.97870686,\n",
       "         1.57828237, -1.64028838],\n",
       "       [-0.66738095, -0.35967077, -0.79165015, ...,  1.97870686,\n",
       "         1.57828237, -1.64028838]])"
      ]
     },
     "execution_count": 50,
     "metadata": {},
     "output_type": "execute_result"
    }
   ],
   "source": [
    "from sklearn.preprocessing import power_transform\n",
    "x=power_transform(x,method='yeo-johnson')\n",
    "x"
   ]
  },
  {
   "cell_type": "code",
   "execution_count": 51,
   "id": "146b5e71",
   "metadata": {},
   "outputs": [
    {
     "data": {
      "text/plain": [
       "0    -0.008642\n",
       "1    -0.039282\n",
       "2    -0.044675\n",
       "3     0.024168\n",
       "4    -0.022204\n",
       "5    -0.024405\n",
       "6    -0.110913\n",
       "7     0.853758\n",
       "8    -0.037741\n",
       "9     0.227731\n",
       "10   -0.257799\n",
       "11   -0.146554\n",
       "dtype: float64"
      ]
     },
     "execution_count": 51,
     "metadata": {},
     "output_type": "execute_result"
    }
   ],
   "source": [
    "pd.DataFrame(x).skew()"
   ]
  },
  {
   "cell_type": "code",
   "execution_count": 52,
   "id": "9ab86df8",
   "metadata": {},
   "outputs": [],
   "source": [
    "#data is skewed"
   ]
  },
  {
   "cell_type": "markdown",
   "id": "32d4ac1e",
   "metadata": {},
   "source": [
    "# Scaling the data Using MinMaxScaler"
   ]
  },
  {
   "cell_type": "code",
   "execution_count": 53,
   "id": "caf25ba5",
   "metadata": {},
   "outputs": [
    {
     "data": {
      "text/plain": [
       "array([[0.55893336, 0.35498056, 0.57757163, ..., 0.        , 0.        ,\n",
       "        1.        ],\n",
       "       [0.54510426, 0.32886287, 0.5614532 , ..., 0.        , 0.        ,\n",
       "        1.        ],\n",
       "       [0.61275241, 0.33876453, 0.63618871, ..., 0.        , 0.        ,\n",
       "        1.        ],\n",
       "       ...,\n",
       "       [0.42481659, 0.36358503, 0.35516323, ..., 1.        , 1.        ,\n",
       "        0.        ],\n",
       "       [0.43889538, 0.37905957, 0.36746539, ..., 1.        , 1.        ,\n",
       "        0.        ],\n",
       "       [0.44548987, 0.41991611, 0.35265312, ..., 1.        , 1.        ,\n",
       "        0.        ]])"
      ]
     },
     "execution_count": 53,
     "metadata": {},
     "output_type": "execute_result"
    }
   ],
   "source": [
    "from sklearn.preprocessing import MinMaxScaler\n",
    "mms=MinMaxScaler()\n",
    "x=mms.fit_transform(x)\n",
    "x"
   ]
  },
  {
   "cell_type": "markdown",
   "id": "c516fa46",
   "metadata": {},
   "source": [
    "# Checking VIF"
   ]
  },
  {
   "cell_type": "code",
   "execution_count": 54,
   "id": "b04d4081",
   "metadata": {},
   "outputs": [
    {
     "data": {
      "text/html": [
       "<div>\n",
       "<style scoped>\n",
       "    .dataframe tbody tr th:only-of-type {\n",
       "        vertical-align: middle;\n",
       "    }\n",
       "\n",
       "    .dataframe tbody tr th {\n",
       "        vertical-align: top;\n",
       "    }\n",
       "\n",
       "    .dataframe thead th {\n",
       "        text-align: right;\n",
       "    }\n",
       "</style>\n",
       "<table border=\"1\" class=\"dataframe\">\n",
       "  <thead>\n",
       "    <tr style=\"text-align: right;\">\n",
       "      <th></th>\n",
       "      <th>vif</th>\n",
       "      <th>features</th>\n",
       "    </tr>\n",
       "  </thead>\n",
       "  <tbody>\n",
       "    <tr>\n",
       "      <th>0</th>\n",
       "      <td>5.202516e+09</td>\n",
       "      <td>Total Volume</td>\n",
       "    </tr>\n",
       "    <tr>\n",
       "      <th>1</th>\n",
       "      <td>6.933785e+08</td>\n",
       "      <td>4046</td>\n",
       "    </tr>\n",
       "    <tr>\n",
       "      <th>2</th>\n",
       "      <td>6.320930e+08</td>\n",
       "      <td>4225</td>\n",
       "    </tr>\n",
       "    <tr>\n",
       "      <th>3</th>\n",
       "      <td>4.963920e+06</td>\n",
       "      <td>4770</td>\n",
       "    </tr>\n",
       "    <tr>\n",
       "      <th>4</th>\n",
       "      <td>2.426346e+08</td>\n",
       "      <td>Small Bags</td>\n",
       "    </tr>\n",
       "    <tr>\n",
       "      <th>5</th>\n",
       "      <td>2.569115e+07</td>\n",
       "      <td>Large Bags</td>\n",
       "    </tr>\n",
       "    <tr>\n",
       "      <th>6</th>\n",
       "      <td>1.326561e+05</td>\n",
       "      <td>XLarge Bags</td>\n",
       "    </tr>\n",
       "    <tr>\n",
       "      <th>7</th>\n",
       "      <td>1.044053e+00</td>\n",
       "      <td>Month</td>\n",
       "    </tr>\n",
       "  </tbody>\n",
       "</table>\n",
       "</div>"
      ],
      "text/plain": [
       "            vif      features\n",
       "0  5.202516e+09  Total Volume\n",
       "1  6.933785e+08          4046\n",
       "2  6.320930e+08          4225\n",
       "3  4.963920e+06          4770\n",
       "4  2.426346e+08    Small Bags\n",
       "5  2.569115e+07    Large Bags\n",
       "6  1.326561e+05   XLarge Bags\n",
       "7  1.044053e+00         Month"
      ]
     },
     "execution_count": 54,
     "metadata": {},
     "output_type": "execute_result"
    }
   ],
   "source": [
    "d=df.drop(['Date','region','type','AveragePrice','Total Bags','year'],axis=1)\n",
    "from sklearn.preprocessing import StandardScaler\n",
    "sc=StandardScaler()\n",
    "scaled=sc.fit_transform(d)\n",
    "from statsmodels.stats.outliers_influence import variance_inflation_factor\n",
    "vif=pd.DataFrame()\n",
    "vif[\"vif\"]=[variance_inflation_factor(d.values,i) for i in range(len(d.columns))]\n",
    "vif[\"features\"]=pd.DataFrame(d).columns\n",
    "vif"
   ]
  },
  {
   "cell_type": "markdown",
   "id": "0876e649",
   "metadata": {},
   "source": [
    "# PCA to handle Dimentionality Reduction\n"
   ]
  },
  {
   "cell_type": "code",
   "execution_count": 55,
   "id": "3698183e",
   "metadata": {},
   "outputs": [],
   "source": [
    "from sklearn.preprocessing import StandardScaler\n",
    "sc=StandardScaler()\n",
    "scaled=sc.fit_transform(d)"
   ]
  },
  {
   "cell_type": "code",
   "execution_count": 56,
   "id": "a130b007",
   "metadata": {},
   "outputs": [],
   "source": [
    "from sklearn.decomposition import PCA\n",
    "pca=PCA()"
   ]
  },
  {
   "cell_type": "code",
   "execution_count": 57,
   "id": "a4d68e30",
   "metadata": {},
   "outputs": [],
   "source": [
    "principal_component=pca.fit_transform(scaled)"
   ]
  },
  {
   "cell_type": "code",
   "execution_count": 58,
   "id": "a1adab07",
   "metadata": {},
   "outputs": [
    {
     "data": {
      "image/png": "[encoded data removed]",
      "text/plain": [
       "<Figure size 432x288 with 1 Axes>"
      ]
     },
     "metadata": {
      "needs_background": "light"
     },
     "output_type": "display_data"
    }
   ],
   "source": [
    "plt.figure()\n",
    "plt.plot(np.cumsum(pca.explained_variance_ratio_))\n",
    "plt.xlabel('no of component')\n",
    "plt.ylabel('variance %')\n",
    "plt.title('expained variance')\n",
    "plt.show()"
   ]
  },
  {
   "cell_type": "code",
   "execution_count": 59,
   "id": "244e5b2b",
   "metadata": {},
   "outputs": [],
   "source": [
    "#Graph shows 7 components have expained 97% of variance of all features, so use 7"
   ]
  },
  {
   "cell_type": "code",
   "execution_count": 60,
   "id": "e79d269b",
   "metadata": {},
   "outputs": [],
   "source": [
    "pca=PCA(n_components=7)"
   ]
  },
  {
   "cell_type": "code",
   "execution_count": 61,
   "id": "ee35d4ec",
   "metadata": {},
   "outputs": [
    {
     "data": {
      "text/html": [
       "<div>\n",
       "<style scoped>\n",
       "    .dataframe tbody tr th:only-of-type {\n",
       "        vertical-align: middle;\n",
       "    }\n",
       "\n",
       "    .dataframe tbody tr th {\n",
       "        vertical-align: top;\n",
       "    }\n",
       "\n",
       "    .dataframe thead th {\n",
       "        text-align: right;\n",
       "    }\n",
       "</style>\n",
       "<table border=\"1\" class=\"dataframe\">\n",
       "  <thead>\n",
       "    <tr style=\"text-align: right;\">\n",
       "      <th></th>\n",
       "      <th>PC1</th>\n",
       "      <th>PC2</th>\n",
       "      <th>PC3</th>\n",
       "      <th>PC4</th>\n",
       "      <th>PC5</th>\n",
       "      <th>PC6</th>\n",
       "      <th>PC7</th>\n",
       "    </tr>\n",
       "  </thead>\n",
       "  <tbody>\n",
       "    <tr>\n",
       "      <th>0</th>\n",
       "      <td>-0.588846</td>\n",
       "      <td>1.640384</td>\n",
       "      <td>-0.024282</td>\n",
       "      <td>0.027043</td>\n",
       "      <td>-0.002335</td>\n",
       "      <td>0.012363</td>\n",
       "      <td>0.008824</td>\n",
       "    </tr>\n",
       "    <tr>\n",
       "      <th>1</th>\n",
       "      <td>-0.592764</td>\n",
       "      <td>1.640341</td>\n",
       "      <td>-0.021170</td>\n",
       "      <td>0.026450</td>\n",
       "      <td>-0.000428</td>\n",
       "      <td>0.007458</td>\n",
       "      <td>0.004136</td>\n",
       "    </tr>\n",
       "    <tr>\n",
       "      <th>2</th>\n",
       "      <td>-0.564899</td>\n",
       "      <td>1.640649</td>\n",
       "      <td>-0.041095</td>\n",
       "      <td>0.030220</td>\n",
       "      <td>-0.012417</td>\n",
       "      <td>0.042061</td>\n",
       "      <td>0.030248</td>\n",
       "    </tr>\n",
       "    <tr>\n",
       "      <th>3</th>\n",
       "      <td>-0.582829</td>\n",
       "      <td>1.640440</td>\n",
       "      <td>-0.029982</td>\n",
       "      <td>0.028711</td>\n",
       "      <td>-0.004733</td>\n",
       "      <td>0.020787</td>\n",
       "      <td>0.018686</td>\n",
       "    </tr>\n",
       "    <tr>\n",
       "      <th>4</th>\n",
       "      <td>-0.591536</td>\n",
       "      <td>1.357421</td>\n",
       "      <td>-0.016432</td>\n",
       "      <td>0.024982</td>\n",
       "      <td>-0.000734</td>\n",
       "      <td>0.006962</td>\n",
       "      <td>0.008691</td>\n",
       "    </tr>\n",
       "    <tr>\n",
       "      <th>...</th>\n",
       "      <td>...</td>\n",
       "      <td>...</td>\n",
       "      <td>...</td>\n",
       "      <td>...</td>\n",
       "      <td>...</td>\n",
       "      <td>...</td>\n",
       "      <td>...</td>\n",
       "    </tr>\n",
       "    <tr>\n",
       "      <th>18244</th>\n",
       "      <td>-0.573847</td>\n",
       "      <td>-1.188610</td>\n",
       "      <td>0.041632</td>\n",
       "      <td>-0.000064</td>\n",
       "      <td>-0.010178</td>\n",
       "      <td>-0.001761</td>\n",
       "      <td>-0.004674</td>\n",
       "    </tr>\n",
       "    <tr>\n",
       "      <th>18245</th>\n",
       "      <td>-0.572759</td>\n",
       "      <td>-1.471533</td>\n",
       "      <td>0.045626</td>\n",
       "      <td>-0.000634</td>\n",
       "      <td>-0.010953</td>\n",
       "      <td>-0.000349</td>\n",
       "      <td>0.001385</td>\n",
       "    </tr>\n",
       "    <tr>\n",
       "      <th>18246</th>\n",
       "      <td>-0.570842</td>\n",
       "      <td>-1.471619</td>\n",
       "      <td>0.043539</td>\n",
       "      <td>0.004125</td>\n",
       "      <td>-0.007900</td>\n",
       "      <td>-0.001930</td>\n",
       "      <td>-0.001000</td>\n",
       "    </tr>\n",
       "    <tr>\n",
       "      <th>18247</th>\n",
       "      <td>-0.569441</td>\n",
       "      <td>-1.471597</td>\n",
       "      <td>0.043491</td>\n",
       "      <td>0.003639</td>\n",
       "      <td>-0.008595</td>\n",
       "      <td>-0.001255</td>\n",
       "      <td>-0.002427</td>\n",
       "    </tr>\n",
       "    <tr>\n",
       "      <th>18248</th>\n",
       "      <td>-0.570233</td>\n",
       "      <td>-1.471534</td>\n",
       "      <td>0.045031</td>\n",
       "      <td>0.000312</td>\n",
       "      <td>-0.011954</td>\n",
       "      <td>-0.001057</td>\n",
       "      <td>-0.002753</td>\n",
       "    </tr>\n",
       "  </tbody>\n",
       "</table>\n",
       "<p>18249 rows × 7 columns</p>\n",
       "</div>"
      ],
      "text/plain": [
       "            PC1       PC2       PC3       PC4       PC5       PC6       PC7\n",
       "0     -0.588846  1.640384 -0.024282  0.027043 -0.002335  0.012363  0.008824\n",
       "1     -0.592764  1.640341 -0.021170  0.026450 -0.000428  0.007458  0.004136\n",
       "2     -0.564899  1.640649 -0.041095  0.030220 -0.012417  0.042061  0.030248\n",
       "3     -0.582829  1.640440 -0.029982  0.028711 -0.004733  0.020787  0.018686\n",
       "4     -0.591536  1.357421 -0.016432  0.024982 -0.000734  0.006962  0.008691\n",
       "...         ...       ...       ...       ...       ...       ...       ...\n",
       "18244 -0.573847 -1.188610  0.041632 -0.000064 -0.010178 -0.001761 -0.004674\n",
       "18245 -0.572759 -1.471533  0.045626 -0.000634 -0.010953 -0.000349  0.001385\n",
       "18246 -0.570842 -1.471619  0.043539  0.004125 -0.007900 -0.001930 -0.001000\n",
       "18247 -0.569441 -1.471597  0.043491  0.003639 -0.008595 -0.001255 -0.002427\n",
       "18248 -0.570233 -1.471534  0.045031  0.000312 -0.011954 -0.001057 -0.002753\n",
       "\n",
       "[18249 rows x 7 columns]"
      ]
     },
     "execution_count": 61,
     "metadata": {},
     "output_type": "execute_result"
    }
   ],
   "source": [
    "new_data=pca.fit_transform(scaled)\n",
    "principal_x=pd.DataFrame(new_data,columns=['PC1','PC2','PC3','PC4','PC5','PC6','PC7'])\n",
    "principal_x"
   ]
  },
  {
   "cell_type": "markdown",
   "id": "f4f91922",
   "metadata": {},
   "source": [
    "# Model Building"
   ]
  },
  {
   "cell_type": "markdown",
   "id": "87b5a53c",
   "metadata": {},
   "source": [
    "Here our data consist target variable 'AveragePrice' as continuous type so, we use LinearRegression model "
   ]
  },
  {
   "cell_type": "code",
   "execution_count": null,
   "id": "6510f384",
   "metadata": {},
   "outputs": [],
   "source": []
  },
  {
   "cell_type": "code",
   "execution_count": 62,
   "id": "31206d74",
   "metadata": {},
   "outputs": [],
   "source": [
    "from sklearn.model_selection import train_test_split\n",
    "from sklearn.linear_model import LinearRegression\n",
    "lr=LinearRegression()\n",
    "from sklearn.metrics import accuracy_score"
   ]
  },
  {
   "cell_type": "code",
   "execution_count": 63,
   "id": "78c8928d",
   "metadata": {},
   "outputs": [
    {
     "name": "stdout",
     "output_type": "stream",
     "text": [
      "At random state 1 the training accaracy is:0.5666103521825521\n",
      "At random state 1 the testing accaracy is:0.5639597075840941\n",
      "/n\n",
      "At random state 2 the training accaracy is:0.5718413768134277\n",
      "At random state 2 the testing accaracy is:0.5427639160840697\n",
      "/n\n",
      "At random state 3 the training accaracy is:0.5629430427731699\n",
      "At random state 3 the testing accaracy is:0.5786904612917028\n",
      "/n\n",
      "At random state 4 the training accaracy is:0.5650976909776035\n",
      "At random state 4 the testing accaracy is:0.5700126247429137\n",
      "/n\n",
      "At random state 5 the training accaracy is:0.5626002816407243\n",
      "At random state 5 the testing accaracy is:0.579344723990582\n",
      "/n\n",
      "At random state 6 the training accaracy is:0.5625167397348434\n",
      "At random state 6 the testing accaracy is:0.5797783923779238\n",
      "/n\n",
      "At random state 7 the training accaracy is:0.5639485433044089\n",
      "At random state 7 the testing accaracy is:0.5742757516621948\n",
      "/n\n",
      "At random state 8 the training accaracy is:0.564640199563857\n",
      "At random state 8 the testing accaracy is:0.5710759039975806\n",
      "/n\n",
      "At random state 9 the training accaracy is:0.5651861772743902\n",
      "At random state 9 the testing accaracy is:0.5691165540638812\n",
      "/n\n",
      "At random state 10 the training accaracy is:0.5687519636629801\n",
      "At random state 10 the testing accaracy is:0.5550265178353472\n",
      "/n\n",
      "At random state 11 the training accaracy is:0.5649159221682769\n",
      "At random state 11 the testing accaracy is:0.5706531985988157\n",
      "/n\n",
      "At random state 12 the training accaracy is:0.5684001946525548\n",
      "At random state 12 the testing accaracy is:0.5564497184292208\n",
      "/n\n",
      "At random state 13 the training accaracy is:0.5655876756011359\n",
      "At random state 13 the testing accaracy is:0.568111965121223\n",
      "/n\n",
      "At random state 14 the training accaracy is:0.566317957260684\n",
      "At random state 14 the testing accaracy is:0.5648667401380953\n",
      "/n\n",
      "At random state 15 the training accaracy is:0.566976056568326\n",
      "At random state 15 the testing accaracy is:0.5622235499986714\n",
      "/n\n",
      "At random state 16 the training accaracy is:0.5679317825403778\n",
      "At random state 16 the testing accaracy is:0.5582084055239498\n",
      "/n\n",
      "At random state 17 the training accaracy is:0.5670242789452806\n",
      "At random state 17 the testing accaracy is:0.5616570838142392\n",
      "/n\n",
      "At random state 18 the training accaracy is:0.5652981653871659\n",
      "At random state 18 the testing accaracy is:0.5689548101403127\n",
      "/n\n",
      "At random state 19 the training accaracy is:0.5629052584370615\n",
      "At random state 19 the testing accaracy is:0.5790148080433661\n",
      "/n\n",
      "At random state 20 the training accaracy is:0.5655869383035754\n",
      "At random state 20 the testing accaracy is:0.5680369380988957\n",
      "/n\n",
      "At random state 21 the training accaracy is:0.5672625332769434\n",
      "At random state 21 the testing accaracy is:0.5610023789107196\n",
      "/n\n",
      "At random state 22 the training accaracy is:0.5681718776080077\n",
      "At random state 22 the testing accaracy is:0.5572447964334935\n",
      "/n\n",
      "At random state 23 the training accaracy is:0.567610715004516\n",
      "At random state 23 the testing accaracy is:0.5593602752449967\n",
      "/n\n",
      "At random state 24 the training accaracy is:0.5661052414744497\n",
      "At random state 24 the testing accaracy is:0.5658883310026039\n",
      "/n\n",
      "At random state 25 the training accaracy is:0.5674923961833405\n",
      "At random state 25 the testing accaracy is:0.5598080762027277\n",
      "/n\n",
      "At random state 26 the training accaracy is:0.566913175897212\n",
      "At random state 26 the testing accaracy is:0.5627931547251603\n",
      "/n\n",
      "At random state 27 the training accaracy is:0.5655695998062833\n",
      "At random state 27 the testing accaracy is:0.5678964778860762\n",
      "/n\n",
      "At random state 28 the training accaracy is:0.5623939750667823\n",
      "At random state 28 the testing accaracy is:0.581083119813103\n",
      "/n\n",
      "At random state 29 the training accaracy is:0.5648070912578034\n",
      "At random state 29 the testing accaracy is:0.5707800810695391\n",
      "/n\n",
      "At random state 30 the training accaracy is:0.5703851092330003\n",
      "At random state 30 the testing accaracy is:0.5480320609971028\n",
      "/n\n",
      "At random state 31 the training accaracy is:0.5636433322329761\n",
      "At random state 31 the testing accaracy is:0.5756006880490112\n",
      "/n\n",
      "At random state 32 the training accaracy is:0.5668190311780554\n",
      "At random state 32 the testing accaracy is:0.5631514723730068\n",
      "/n\n",
      "At random state 33 the training accaracy is:0.5649129145148011\n",
      "At random state 33 the testing accaracy is:0.5704968531396866\n",
      "/n\n",
      "At random state 34 the training accaracy is:0.5668804523575957\n",
      "At random state 34 the testing accaracy is:0.5623523752925714\n",
      "/n\n",
      "At random state 35 the training accaracy is:0.5644357024221408\n",
      "At random state 35 the testing accaracy is:0.5723760201438302\n",
      "/n\n",
      "At random state 36 the training accaracy is:0.5682071662654924\n",
      "At random state 36 the testing accaracy is:0.5566487662767721\n",
      "/n\n",
      "At random state 37 the training accaracy is:0.5648439368745402\n",
      "At random state 37 the testing accaracy is:0.5710514623642855\n",
      "/n\n",
      "At random state 38 the training accaracy is:0.5650524980542562\n",
      "At random state 38 the testing accaracy is:0.5698959970456848\n",
      "/n\n",
      "At random state 39 the training accaracy is:0.5675552875881389\n",
      "At random state 39 the testing accaracy is:0.5595766968979244\n",
      "/n\n",
      "At random state 40 the training accaracy is:0.5666264235769919\n",
      "At random state 40 the testing accaracy is:0.5639221546556681\n",
      "/n\n",
      "At random state 41 the training accaracy is:0.5650771048993015\n",
      "At random state 41 the testing accaracy is:0.5698012795673765\n",
      "/n\n",
      "At random state 42 the training accaracy is:0.5648912919224507\n",
      "At random state 42 the testing accaracy is:0.5703742683454658\n",
      "/n\n",
      "At random state 43 the training accaracy is:0.5646615523689138\n",
      "At random state 43 the testing accaracy is:0.5716134923445924\n",
      "/n\n",
      "At random state 44 the training accaracy is:0.5692090146933968\n",
      "At random state 44 the testing accaracy is:0.5531588487815277\n",
      "/n\n",
      "At random state 45 the training accaracy is:0.5644813387123498\n",
      "At random state 45 the testing accaracy is:0.5720209271332684\n",
      "/n\n",
      "At random state 46 the training accaracy is:0.563379346579636\n",
      "At random state 46 the testing accaracy is:0.5765498376671432\n",
      "/n\n",
      "At random state 47 the training accaracy is:0.5672765377731205\n",
      "At random state 47 the testing accaracy is:0.5610695499688829\n",
      "/n\n",
      "At random state 48 the training accaracy is:0.5659393580924865\n",
      "At random state 48 the testing accaracy is:0.5663659003044856\n",
      "/n\n",
      "At random state 49 the training accaracy is:0.5639828156950648\n",
      "At random state 49 the testing accaracy is:0.5739542501663171\n",
      "/n\n",
      "At random state 50 the training accaracy is:0.5671432464231667\n",
      "At random state 50 the testing accaracy is:0.5616702264111582\n",
      "/n\n",
      "At random state 51 the training accaracy is:0.5667122083347509\n",
      "At random state 51 the testing accaracy is:0.5632422929408007\n",
      "/n\n",
      "At random state 52 the training accaracy is:0.564449624190025\n",
      "At random state 52 the testing accaracy is:0.572180790683159\n",
      "/n\n",
      "At random state 53 the training accaracy is:0.5651313560246061\n",
      "At random state 53 the testing accaracy is:0.5698906047518624\n",
      "/n\n",
      "At random state 54 the training accaracy is:0.5715046847343082\n",
      "At random state 54 the testing accaracy is:0.543945010158343\n",
      "/n\n",
      "At random state 55 the training accaracy is:0.5674816098157901\n",
      "At random state 55 the testing accaracy is:0.5595976062423544\n",
      "/n\n",
      "At random state 56 the training accaracy is:0.5650258984695926\n",
      "At random state 56 the testing accaracy is:0.569934446209355\n",
      "/n\n",
      "At random state 57 the training accaracy is:0.5630461496725699\n",
      "At random state 57 the testing accaracy is:0.5775862910556411\n",
      "/n\n",
      "At random state 58 the training accaracy is:0.5641759089806998\n",
      "At random state 58 the testing accaracy is:0.5732787841337332\n",
      "/n\n",
      "At random state 59 the training accaracy is:0.5691045161096626\n",
      "At random state 59 the testing accaracy is:0.5535290285855292\n",
      "/n\n",
      "At random state 60 the training accaracy is:0.562475614148959\n",
      "At random state 60 the testing accaracy is:0.5797095588663463\n",
      "/n\n",
      "At random state 61 the training accaracy is:0.5713618839631716\n",
      "At random state 61 the testing accaracy is:0.5445411218828344\n",
      "/n\n",
      "At random state 62 the training accaracy is:0.5677469625832179\n",
      "At random state 62 the testing accaracy is:0.5590082016110414\n",
      "/n\n",
      "At random state 63 the training accaracy is:0.5640246722897264\n",
      "At random state 63 the testing accaracy is:0.5738291232847959\n",
      "/n\n",
      "At random state 64 the training accaracy is:0.5654802257784786\n",
      "At random state 64 the testing accaracy is:0.5685710529641742\n",
      "/n\n",
      "At random state 65 the training accaracy is:0.5643021609567644\n",
      "At random state 65 the testing accaracy is:0.5730373862898093\n",
      "/n\n",
      "At random state 66 the training accaracy is:0.5674702651870226\n",
      "At random state 66 the testing accaracy is:0.5595153059935449\n",
      "/n\n",
      "At random state 67 the training accaracy is:0.5653508510174026\n",
      "At random state 67 the testing accaracy is:0.568764424901289\n",
      "/n\n",
      "At random state 68 the training accaracy is:0.5646379048242305\n",
      "At random state 68 the testing accaracy is:0.5713180994722682\n",
      "/n\n",
      "At random state 69 the training accaracy is:0.5629164900085853\n",
      "At random state 69 the testing accaracy is:0.5781535606209258\n",
      "/n\n"
     ]
    },
    {
     "name": "stdout",
     "output_type": "stream",
     "text": [
      "At random state 70 the training accaracy is:0.567528469027788\n",
      "At random state 70 the testing accaracy is:0.5600885810924782\n",
      "/n\n",
      "At random state 71 the training accaracy is:0.5641717067770362\n",
      "At random state 71 the testing accaracy is:0.573457041182919\n",
      "/n\n",
      "At random state 72 the training accaracy is:0.5655415098116809\n",
      "At random state 72 the testing accaracy is:0.5676767729749295\n",
      "/n\n",
      "At random state 73 the training accaracy is:0.5660885818032175\n",
      "At random state 73 the testing accaracy is:0.5658904279009637\n",
      "/n\n",
      "At random state 74 the training accaracy is:0.5657763819375096\n",
      "At random state 74 the testing accaracy is:0.5671425440104048\n",
      "/n\n",
      "At random state 75 the training accaracy is:0.5667163281263847\n",
      "At random state 75 the testing accaracy is:0.5635279187803428\n",
      "/n\n",
      "At random state 76 the training accaracy is:0.5645447263428571\n",
      "At random state 76 the testing accaracy is:0.5723243375038465\n",
      "/n\n",
      "At random state 77 the training accaracy is:0.5659180208811989\n",
      "At random state 77 the testing accaracy is:0.56662129429383\n",
      "/n\n",
      "At random state 78 the training accaracy is:0.5667273227450493\n",
      "At random state 78 the testing accaracy is:0.563511502137235\n",
      "/n\n",
      "At random state 79 the training accaracy is:0.5634085394762618\n",
      "At random state 79 the testing accaracy is:0.5768348982229508\n",
      "/n\n",
      "At random state 80 the training accaracy is:0.5682212888187553\n",
      "At random state 80 the testing accaracy is:0.5568101836815057\n",
      "/n\n",
      "At random state 81 the training accaracy is:0.565472127225989\n",
      "At random state 81 the testing accaracy is:0.5684359035531525\n",
      "/n\n",
      "At random state 82 the training accaracy is:0.561195932128886\n",
      "At random state 82 the testing accaracy is:0.5853134646524625\n",
      "/n\n",
      "At random state 83 the training accaracy is:0.5680461113433983\n",
      "At random state 83 the testing accaracy is:0.557796031883153\n",
      "/n\n",
      "At random state 84 the training accaracy is:0.5665029209721562\n",
      "At random state 84 the testing accaracy is:0.5639707067409621\n",
      "/n\n",
      "At random state 85 the training accaracy is:0.5625197865078471\n",
      "At random state 85 the testing accaracy is:0.5785607372637582\n",
      "/n\n",
      "At random state 86 the training accaracy is:0.5663546065884226\n",
      "At random state 86 the testing accaracy is:0.5649565593970836\n",
      "/n\n",
      "At random state 87 the training accaracy is:0.5668616444588388\n",
      "At random state 87 the testing accaracy is:0.5628933064626691\n",
      "/n\n",
      "At random state 88 the training accaracy is:0.5681226063138646\n",
      "At random state 88 the testing accaracy is:0.5576395444924995\n",
      "/n\n",
      "At random state 89 the training accaracy is:0.5642098861818396\n",
      "At random state 89 the testing accaracy is:0.5737528942645769\n",
      "/n\n",
      "At random state 90 the training accaracy is:0.5727374285031404\n",
      "At random state 90 the testing accaracy is:0.5384811514262651\n",
      "/n\n",
      "At random state 91 the training accaracy is:0.56659087512565\n",
      "At random state 91 the testing accaracy is:0.5636448875410016\n",
      "/n\n",
      "At random state 92 the training accaracy is:0.5662363967899757\n",
      "At random state 92 the testing accaracy is:0.5650432040472415\n",
      "/n\n",
      "At random state 93 the training accaracy is:0.5681955321599226\n",
      "At random state 93 the testing accaracy is:0.5576165624164018\n",
      "/n\n",
      "At random state 94 the training accaracy is:0.5683835812476967\n",
      "At random state 94 the testing accaracy is:0.5565745525221795\n",
      "/n\n",
      "At random state 95 the training accaracy is:0.5655271869170384\n",
      "At random state 95 the testing accaracy is:0.5681848712270507\n",
      "/n\n",
      "At random state 96 the training accaracy is:0.5665166857229751\n",
      "At random state 96 the testing accaracy is:0.5645555780305016\n",
      "/n\n",
      "At random state 97 the training accaracy is:0.5674037654489676\n",
      "At random state 97 the testing accaracy is:0.5604830081723455\n",
      "/n\n",
      "At random state 98 the training accaracy is:0.5673692293659436\n",
      "At random state 98 the testing accaracy is:0.5606358390531642\n",
      "/n\n",
      "At random state 99 the training accaracy is:0.5648362934109274\n",
      "At random state 99 the testing accaracy is:0.5706955469725344\n",
      "/n\n",
      "At random state 100 the training accaracy is:0.5655942898779498\n",
      "At random state 100 the testing accaracy is:0.5680473079346546\n",
      "/n\n",
      "At random state 101 the training accaracy is:0.5648586112262171\n",
      "At random state 101 the testing accaracy is:0.5709154703702174\n",
      "/n\n",
      "At random state 102 the training accaracy is:0.5669960035625419\n",
      "At random state 102 the testing accaracy is:0.5622866668818167\n",
      "/n\n",
      "At random state 103 the training accaracy is:0.5685907405454702\n",
      "At random state 103 the testing accaracy is:0.5559902214376753\n",
      "/n\n",
      "At random state 104 the training accaracy is:0.5651977454039379\n",
      "At random state 104 the testing accaracy is:0.5688920997404681\n",
      "/n\n",
      "At random state 105 the training accaracy is:0.5672647328462728\n",
      "At random state 105 the testing accaracy is:0.5611456145500608\n",
      "/n\n",
      "At random state 106 the training accaracy is:0.5628351884679992\n",
      "At random state 106 the testing accaracy is:0.5785122810497453\n",
      "/n\n",
      "At random state 107 the training accaracy is:0.5650479808005877\n",
      "At random state 107 the testing accaracy is:0.5696225725548907\n",
      "/n\n",
      "At random state 108 the training accaracy is:0.5664774565006546\n",
      "At random state 108 the testing accaracy is:0.5641581904546124\n",
      "/n\n",
      "At random state 109 the training accaracy is:0.5676664901750765\n",
      "At random state 109 the testing accaracy is:0.559456000405776\n",
      "/n\n",
      "At random state 110 the training accaracy is:0.5688983753082746\n",
      "At random state 110 the testing accaracy is:0.5543199901917548\n",
      "/n\n",
      "At random state 111 the training accaracy is:0.569759296103045\n",
      "At random state 111 the testing accaracy is:0.5512313955535567\n",
      "/n\n",
      "At random state 112 the training accaracy is:0.564933503633694\n",
      "At random state 112 the testing accaracy is:0.5704156353847831\n",
      "/n\n",
      "At random state 113 the training accaracy is:0.5656514231063614\n",
      "At random state 113 the testing accaracy is:0.5676646338200785\n",
      "/n\n",
      "At random state 114 the training accaracy is:0.5675308287582084\n",
      "At random state 114 the testing accaracy is:0.5599242245978628\n",
      "/n\n",
      "At random state 115 the training accaracy is:0.5662150769682963\n",
      "At random state 115 the testing accaracy is:0.5653729213285488\n",
      "/n\n",
      "At random state 116 the training accaracy is:0.5640310013748151\n",
      "At random state 116 the testing accaracy is:0.5738207997976111\n",
      "/n\n",
      "At random state 117 the training accaracy is:0.563662671204687\n",
      "At random state 117 the testing accaracy is:0.5755696689317079\n",
      "/n\n",
      "At random state 118 the training accaracy is:0.5626473735343951\n",
      "At random state 118 the testing accaracy is:0.579537043751993\n",
      "/n\n",
      "At random state 119 the training accaracy is:0.5678284358305229\n",
      "At random state 119 the testing accaracy is:0.5587065218931413\n",
      "/n\n",
      "At random state 120 the training accaracy is:0.5698387341594886\n",
      "At random state 120 the testing accaracy is:0.5502201121947633\n",
      "/n\n",
      "At random state 121 the training accaracy is:0.5672664348510956\n",
      "At random state 121 the testing accaracy is:0.5611766372709592\n",
      "/n\n",
      "At random state 122 the training accaracy is:0.5704027083222069\n",
      "At random state 122 the testing accaracy is:0.5470309689897981\n",
      "/n\n",
      "At random state 123 the training accaracy is:0.5683710168606159\n",
      "At random state 123 the testing accaracy is:0.5565598506092471\n",
      "/n\n",
      "At random state 124 the training accaracy is:0.5688664109386176\n",
      "At random state 124 the testing accaracy is:0.5544401702334965\n",
      "/n\n",
      "At random state 125 the training accaracy is:0.5698877482245259\n",
      "At random state 125 the testing accaracy is:0.5494501158186836\n",
      "/n\n",
      "At random state 126 the training accaracy is:0.565300415273349\n",
      "At random state 126 the testing accaracy is:0.5690253009694509\n",
      "/n\n",
      "At random state 127 the training accaracy is:0.5663967843359972\n",
      "At random state 127 the testing accaracy is:0.5644401283930311\n",
      "/n\n",
      "At random state 128 the training accaracy is:0.5677080876275878\n",
      "At random state 128 the testing accaracy is:0.5593580381703855\n",
      "/n\n",
      "At random state 129 the training accaracy is:0.5647080402298714\n",
      "At random state 129 the testing accaracy is:0.5708721282225724\n",
      "/n\n",
      "At random state 130 the training accaracy is:0.5666957130896354\n",
      "At random state 130 the testing accaracy is:0.5633859208861639\n",
      "/n\n",
      "At random state 131 the training accaracy is:0.5657561505140032\n",
      "At random state 131 the testing accaracy is:0.5668001822382378\n",
      "/n\n",
      "At random state 132 the training accaracy is:0.563663584100295\n",
      "At random state 132 the testing accaracy is:0.5757666479211081\n",
      "/n\n",
      "At random state 133 the training accaracy is:0.5689395245013336\n",
      "At random state 133 the testing accaracy is:0.5541408619765014\n",
      "/n\n",
      "At random state 134 the training accaracy is:0.5616139580763753\n",
      "At random state 134 the testing accaracy is:0.5838296100764444\n",
      "/n\n",
      "At random state 135 the training accaracy is:0.5726642757811741\n",
      "At random state 135 the testing accaracy is:0.5381111040618496\n",
      "/n\n",
      "At random state 136 the training accaracy is:0.5667024331421815\n",
      "At random state 136 the testing accaracy is:0.563565737719263\n",
      "/n\n",
      "At random state 137 the training accaracy is:0.5662662655832953\n",
      "At random state 137 the testing accaracy is:0.5651974620739458\n",
      "/n\n",
      "At random state 138 the training accaracy is:0.5658005084854356\n"
     ]
    },
    {
     "name": "stdout",
     "output_type": "stream",
     "text": [
      "At random state 138 the testing accaracy is:0.5665919979689193\n",
      "/n\n",
      "At random state 139 the training accaracy is:0.5673456587872778\n",
      "At random state 139 the testing accaracy is:0.560422117412712\n",
      "/n\n",
      "At random state 140 the training accaracy is:0.5639945397345414\n",
      "At random state 140 the testing accaracy is:0.5743741411537574\n",
      "/n\n",
      "At random state 141 the training accaracy is:0.5654938837377796\n",
      "At random state 141 the testing accaracy is:0.5676233004614633\n",
      "/n\n",
      "At random state 142 the training accaracy is:0.5676510743924338\n",
      "At random state 142 the testing accaracy is:0.5591044618944927\n",
      "/n\n",
      "At random state 143 the training accaracy is:0.567282080767392\n",
      "At random state 143 the testing accaracy is:0.5609987616904474\n",
      "/n\n",
      "At random state 144 the training accaracy is:0.5652633164796024\n",
      "At random state 144 the testing accaracy is:0.5692704037622984\n",
      "/n\n",
      "At random state 145 the training accaracy is:0.5660648412056231\n",
      "At random state 145 the testing accaracy is:0.5659346601575471\n",
      "/n\n",
      "At random state 146 the training accaracy is:0.5653430583802788\n",
      "At random state 146 the testing accaracy is:0.5688062379863441\n",
      "/n\n",
      "At random state 147 the training accaracy is:0.5626102848927481\n",
      "At random state 147 the testing accaracy is:0.5793653268557664\n",
      "/n\n",
      "At random state 148 the training accaracy is:0.5652085762286367\n",
      "At random state 148 the testing accaracy is:0.5691796148764927\n",
      "/n\n",
      "At random state 149 the training accaracy is:0.5665940255219234\n",
      "At random state 149 the testing accaracy is:0.5636816111714613\n",
      "/n\n",
      "At random state 150 the training accaracy is:0.5697979269972147\n",
      "At random state 150 the testing accaracy is:0.5500960244171691\n",
      "/n\n",
      "At random state 151 the training accaracy is:0.5697334018792393\n",
      "At random state 151 the testing accaracy is:0.5515802014717592\n",
      "/n\n",
      "At random state 152 the training accaracy is:0.5651766861577505\n",
      "At random state 152 the testing accaracy is:0.5697476753845525\n",
      "/n\n",
      "At random state 153 the training accaracy is:0.5692162417418805\n",
      "At random state 153 the testing accaracy is:0.5521388989271301\n",
      "/n\n",
      "At random state 154 the training accaracy is:0.5671321658204608\n",
      "At random state 154 the testing accaracy is:0.5615215648432126\n",
      "/n\n",
      "At random state 155 the training accaracy is:0.5667929983768227\n",
      "At random state 155 the testing accaracy is:0.5631973147264244\n",
      "/n\n",
      "At random state 156 the training accaracy is:0.5660886536496519\n",
      "At random state 156 the testing accaracy is:0.5661040088785304\n",
      "/n\n",
      "At random state 157 the training accaracy is:0.5676017157129558\n",
      "At random state 157 the testing accaracy is:0.5598482798414277\n",
      "/n\n",
      "At random state 158 the training accaracy is:0.5670997430808427\n",
      "At random state 158 the testing accaracy is:0.5619517194208616\n",
      "/n\n",
      "At random state 159 the training accaracy is:0.5636521624145838\n",
      "At random state 159 the testing accaracy is:0.5752217366791179\n",
      "/n\n",
      "At random state 160 the training accaracy is:0.5675282042476208\n",
      "At random state 160 the testing accaracy is:0.5597377333934321\n",
      "/n\n",
      "At random state 161 the training accaracy is:0.56691071581077\n",
      "At random state 161 the testing accaracy is:0.5620641092950592\n",
      "/n\n",
      "At random state 162 the training accaracy is:0.5676001155474857\n",
      "At random state 162 the testing accaracy is:0.5594570484141441\n",
      "/n\n",
      "At random state 163 the training accaracy is:0.5689264953657756\n",
      "At random state 163 the testing accaracy is:0.5545191344016203\n",
      "/n\n",
      "At random state 164 the training accaracy is:0.5656278783698427\n",
      "At random state 164 the testing accaracy is:0.5678269793553103\n",
      "/n\n",
      "At random state 165 the training accaracy is:0.5626209232576135\n",
      "At random state 165 the testing accaracy is:0.5783014541805814\n",
      "/n\n",
      "At random state 166 the training accaracy is:0.5670939744835264\n",
      "At random state 166 the testing accaracy is:0.5620054061750189\n",
      "/n\n",
      "At random state 167 the training accaracy is:0.566216742260572\n",
      "At random state 167 the testing accaracy is:0.5652574117995379\n",
      "/n\n",
      "At random state 168 the training accaracy is:0.565114380917767\n",
      "At random state 168 the testing accaracy is:0.5697841609698815\n",
      "/n\n",
      "At random state 169 the training accaracy is:0.5665597775232307\n",
      "At random state 169 the testing accaracy is:0.5639020593619253\n",
      "/n\n",
      "At random state 170 the training accaracy is:0.5697008015604568\n",
      "At random state 170 the testing accaracy is:0.55061620514089\n",
      "/n\n",
      "At random state 171 the training accaracy is:0.5670738064235408\n",
      "At random state 171 the testing accaracy is:0.5616614441042515\n",
      "/n\n",
      "At random state 172 the training accaracy is:0.5663704389250117\n",
      "At random state 172 the testing accaracy is:0.5647958998986107\n",
      "/n\n",
      "At random state 173 the training accaracy is:0.5643146429343686\n",
      "At random state 173 the testing accaracy is:0.5731009128495672\n",
      "/n\n",
      "At random state 174 the training accaracy is:0.5659340194079894\n",
      "At random state 174 the testing accaracy is:0.5665263660352159\n",
      "/n\n",
      "At random state 175 the training accaracy is:0.5629518374486282\n",
      "At random state 175 the testing accaracy is:0.5786451243133162\n",
      "/n\n",
      "At random state 176 the training accaracy is:0.5675462008346359\n",
      "At random state 176 the testing accaracy is:0.5596843279455151\n",
      "/n\n",
      "At random state 177 the training accaracy is:0.5670093486306997\n",
      "At random state 177 the testing accaracy is:0.5623771602790398\n",
      "/n\n",
      "At random state 178 the training accaracy is:0.5656861239694017\n",
      "At random state 178 the testing accaracy is:0.5676024413750507\n",
      "/n\n",
      "At random state 179 the training accaracy is:0.5654598739334042\n",
      "At random state 179 the testing accaracy is:0.5682238763493812\n",
      "/n\n",
      "At random state 180 the training accaracy is:0.5666975274799395\n",
      "At random state 180 the testing accaracy is:0.5632490432825804\n",
      "/n\n",
      "At random state 181 the training accaracy is:0.5639796968207713\n",
      "At random state 181 the testing accaracy is:0.5737426658233948\n",
      "/n\n",
      "At random state 182 the training accaracy is:0.562472932341803\n",
      "At random state 182 the testing accaracy is:0.5791970918778845\n",
      "/n\n",
      "At random state 183 the training accaracy is:0.5668144311164853\n",
      "At random state 183 the testing accaracy is:0.5630652827063781\n",
      "/n\n",
      "At random state 184 the training accaracy is:0.5661090494522225\n",
      "At random state 184 the testing accaracy is:0.5653016084167185\n",
      "/n\n",
      "At random state 185 the training accaracy is:0.569456713690006\n",
      "At random state 185 the testing accaracy is:0.5518949092829455\n",
      "/n\n",
      "At random state 186 the training accaracy is:0.5712550159874046\n",
      "At random state 186 the testing accaracy is:0.5446858916137924\n",
      "/n\n",
      "At random state 187 the training accaracy is:0.5674486297440131\n",
      "At random state 187 the testing accaracy is:0.560479399175038\n",
      "/n\n",
      "At random state 188 the training accaracy is:0.5671212636279075\n",
      "At random state 188 the testing accaracy is:0.5611834143761558\n",
      "/n\n",
      "At random state 189 the training accaracy is:0.5636029525655029\n",
      "At random state 189 the testing accaracy is:0.5756385075944221\n",
      "/n\n",
      "At random state 190 the training accaracy is:0.5721776349323191\n",
      "At random state 190 the testing accaracy is:0.5411637347210716\n",
      "/n\n",
      "At random state 191 the training accaracy is:0.5648367880808357\n",
      "At random state 191 the testing accaracy is:0.5705584175386299\n",
      "/n\n",
      "At random state 192 the training accaracy is:0.5664695122408081\n",
      "At random state 192 the testing accaracy is:0.5643734354157726\n",
      "/n\n",
      "At random state 193 the training accaracy is:0.5661525343479432\n",
      "At random state 193 the testing accaracy is:0.5654016019653061\n",
      "/n\n",
      "At random state 194 the training accaracy is:0.566127686752026\n",
      "At random state 194 the testing accaracy is:0.5657967548485212\n",
      "/n\n",
      "At random state 195 the training accaracy is:0.5619855950050406\n",
      "At random state 195 the testing accaracy is:0.5812208427410506\n",
      "/n\n",
      "At random state 196 the training accaracy is:0.5637563720752593\n",
      "At random state 196 the testing accaracy is:0.5753158858175836\n",
      "/n\n",
      "At random state 197 the training accaracy is:0.5626522352470248\n",
      "At random state 197 the testing accaracy is:0.579497741684659\n",
      "/n\n",
      "At random state 198 the training accaracy is:0.5658686383655829\n",
      "At random state 198 the testing accaracy is:0.5667511660528486\n",
      "/n\n",
      "At random state 199 the training accaracy is:0.5644742256680719\n",
      "At random state 199 the testing accaracy is:0.5723000198636674\n",
      "/n\n"
     ]
    }
   ],
   "source": [
    "from sklearn.metrics import mean_squared_error,mean_absolute_error,r2_score\n",
    "for i in range(1,200):\n",
    "    x_train,x_test,y_train,y_test=train_test_split(x,y,test_size=0.20,random_state=i)\n",
    "    lr.fit(x_train,y_train)\n",
    "    pred_train=lr.predict(x_train)\n",
    "    pred_test=lr.predict(x_test)\n",
    "    print(f\"At random state {i} the training accaracy is:{r2_score(y_train,pred_train)}\")\n",
    "    print(f\"At random state {i} the testing accaracy is:{r2_score(y_test,pred_test)}\")\n",
    "    print(\"/n\")"
   ]
  },
  {
   "cell_type": "code",
   "execution_count": 64,
   "id": "07176ab7",
   "metadata": {},
   "outputs": [
    {
     "data": {
      "text/html": [
       "<style>#sk-container-id-1 {color: black;background-color: white;}#sk-container-id-1 pre{padding: 0;}#sk-container-id-1 div.sk-toggleable {background-color: white;}#sk-container-id-1 label.sk-toggleable__label {cursor: pointer;display: block;width: 100%;margin-bottom: 0;padding: 0.3em;box-sizing: border-box;text-align: center;}#sk-container-id-1 label.sk-toggleable__label-arrow:before {content: \"▸\";float: left;margin-right: 0.25em;color: #696969;}#sk-container-id-1 label.sk-toggleable__label-arrow:hover:before {color: black;}#sk-container-id-1 div.sk-estimator:hover label.sk-toggleable__label-arrow:before {color: black;}#sk-container-id-1 div.sk-toggleable__content {max-height: 0;max-width: 0;overflow: hidden;text-align: left;background-color: #f0f8ff;}#sk-container-id-1 div.sk-toggleable__content pre {margin: 0.2em;color: black;border-radius: 0.25em;background-color: #f0f8ff;}#sk-container-id-1 input.sk-toggleable__control:checked~div.sk-toggleable__content {max-height: 200px;max-width: 100%;overflow: auto;}#sk-container-id-1 input.sk-toggleable__control:checked~label.sk-toggleable__label-arrow:before {content: \"▾\";}#sk-container-id-1 div.sk-estimator input.sk-toggleable__control:checked~label.sk-toggleable__label {background-color: #d4ebff;}#sk-container-id-1 div.sk-label input.sk-toggleable__control:checked~label.sk-toggleable__label {background-color: #d4ebff;}#sk-container-id-1 input.sk-hidden--visually {border: 0;clip: rect(1px 1px 1px 1px);clip: rect(1px, 1px, 1px, 1px);height: 1px;margin: -1px;overflow: hidden;padding: 0;position: absolute;width: 1px;}#sk-container-id-1 div.sk-estimator {font-family: monospace;background-color: #f0f8ff;border: 1px dotted black;border-radius: 0.25em;box-sizing: border-box;margin-bottom: 0.5em;}#sk-container-id-1 div.sk-estimator:hover {background-color: #d4ebff;}#sk-container-id-1 div.sk-parallel-item::after {content: \"\";width: 100%;border-bottom: 1px solid gray;flex-grow: 1;}#sk-container-id-1 div.sk-label:hover label.sk-toggleable__label {background-color: #d4ebff;}#sk-container-id-1 div.sk-serial::before {content: \"\";position: absolute;border-left: 1px solid gray;box-sizing: border-box;top: 0;bottom: 0;left: 50%;z-index: 0;}#sk-container-id-1 div.sk-serial {display: flex;flex-direction: column;align-items: center;background-color: white;padding-right: 0.2em;padding-left: 0.2em;position: relative;}#sk-container-id-1 div.sk-item {position: relative;z-index: 1;}#sk-container-id-1 div.sk-parallel {display: flex;align-items: stretch;justify-content: center;background-color: white;position: relative;}#sk-container-id-1 div.sk-item::before, #sk-container-id-1 div.sk-parallel-item::before {content: \"\";position: absolute;border-left: 1px solid gray;box-sizing: border-box;top: 0;bottom: 0;left: 50%;z-index: -1;}#sk-container-id-1 div.sk-parallel-item {display: flex;flex-direction: column;z-index: 1;position: relative;background-color: white;}#sk-container-id-1 div.sk-parallel-item:first-child::after {align-self: flex-end;width: 50%;}#sk-container-id-1 div.sk-parallel-item:last-child::after {align-self: flex-start;width: 50%;}#sk-container-id-1 div.sk-parallel-item:only-child::after {width: 0;}#sk-container-id-1 div.sk-dashed-wrapped {border: 1px dashed gray;margin: 0 0.4em 0.5em 0.4em;box-sizing: border-box;padding-bottom: 0.4em;background-color: white;}#sk-container-id-1 div.sk-label label {font-family: monospace;font-weight: bold;display: inline-block;line-height: 1.2em;}#sk-container-id-1 div.sk-label-container {text-align: center;}#sk-container-id-1 div.sk-container {/* jupyter's `normalize.less` sets `[hidden] { display: none; }` but bootstrap.min.css set `[hidden] { display: none !important; }` so we also need the `!important` here to be able to override the default hidden behavior on the sphinx rendered scikit-learn.org. See: https://github.com/scikit-learn/scikit-learn/issues/21755 */display: inline-block !important;position: relative;}#sk-container-id-1 div.sk-text-repr-fallback {display: none;}</style><div id=\"sk-container-id-1\" class=\"sk-top-container\"><div class=\"sk-text-repr-fallback\"><pre>LinearRegression()</pre><b>In a Jupyter environment, please rerun this cell to show the HTML representation or trust the notebook. <br />On GitHub, the HTML representation is unable to render, please try loading this page with nbviewer.org.</b></div><div class=\"sk-container\" hidden><div class=\"sk-item\"><div class=\"sk-estimator sk-toggleable\"><input class=\"sk-toggleable__control sk-hidden--visually\" id=\"sk-estimator-id-1\" type=\"checkbox\" checked><label for=\"sk-estimator-id-1\" class=\"sk-toggleable__label sk-toggleable__label-arrow\">LinearRegression</label><div class=\"sk-toggleable__content\"><pre>LinearRegression()</pre></div></div></div></div></div>"
      ],
      "text/plain": [
       "LinearRegression()"
      ]
     },
     "execution_count": 64,
     "metadata": {},
     "output_type": "execute_result"
    }
   ],
   "source": [
    "x_train,x_test,y_train,y_test=train_test_split(x,y,test_size=0.20,random_state=42)\n",
    "lr.fit(x_train,y_train)"
   ]
  },
  {
   "cell_type": "code",
   "execution_count": 65,
   "id": "089304e6",
   "metadata": {},
   "outputs": [
    {
     "data": {
      "text/plain": [
       "0.5703742683454658"
      ]
     },
     "execution_count": 65,
     "metadata": {},
     "output_type": "execute_result"
    }
   ],
   "source": [
    "pred_test=lr.predict(x_test)\n",
    "r2_score(y_test,pred_test)\n"
   ]
  },
  {
   "cell_type": "code",
   "execution_count": 66,
   "id": "9650c37c",
   "metadata": {},
   "outputs": [],
   "source": [
    "from sklearn.linear_model import Lasso,Ridge,ElasticNet\n",
    "from sklearn.tree import DecisionTreeRegressor\n",
    "from sklearn.ensemble import RandomForestRegressor\n",
    "from sklearn.neighbors import KNeighborsRegressor\n",
    "from sklearn.linear_model import SGDRegressor\n",
    "from sklearn.ensemble import GradientBoostingRegressor\n",
    "from sklearn.ensemble import AdaBoostRegressor\n",
    "\n"
   ]
  },
  {
   "cell_type": "code",
   "execution_count": 67,
   "id": "c1ef747f",
   "metadata": {},
   "outputs": [],
   "source": [
    "from sklearn.model_selection import cross_val_score\n",
    "from sklearn.model_selection import GridSearchCV"
   ]
  },
  {
   "cell_type": "code",
   "execution_count": 68,
   "id": "9f198363",
   "metadata": {},
   "outputs": [],
   "source": [
    "def regressor(model,x,y):\n",
    "    \n",
    "    x_train,x_test,y_train,y_test=train_test_split(x,y,test_size=0.20,random_state=63)\n",
    "    \n",
    "    model.fit(x_train,y_train)\n",
    "    \n",
    "    pred=model.predict(x_test)\n",
    "    \n",
    "    print(\"MeanSquaredError\",mean_squared_error(y_test,pred))\n",
    "    print(\"MeanabsoluteError\",mean_absolute_error(y_test,pred))\n",
    "    print(\"RootMeanSquaredError\",np.sqrt(mean_squared_error(y_test,pred)))\n",
    "    print(\"r2_score is:\",r2_score(y_test,pred))\n",
    "    print(\"cross_validation_score is:\",cross_val_score(model,x,y,cv=5).mean())"
   ]
  },
  {
   "cell_type": "markdown",
   "id": "0cea7098",
   "metadata": {},
   "source": [
    "# LinearRegression"
   ]
  },
  {
   "cell_type": "code",
   "execution_count": 69,
   "id": "3108b099",
   "metadata": {},
   "outputs": [
    {
     "name": "stdout",
     "output_type": "stream",
     "text": [
      "MeanSquaredError 0.0656640969140814\n",
      "MeanabsoluteError 0.20199126057502056\n",
      "RootMeanSquaredError 0.25625006714941834\n",
      "r2_score is: 0.5738291232847959\n",
      "cross_validation_score is: 0.2184305595997794\n"
     ]
    }
   ],
   "source": [
    "model=LinearRegression()\n",
    "regressor(model,x,y)"
   ]
  },
  {
   "cell_type": "markdown",
   "id": "78140e61",
   "metadata": {},
   "source": [
    "# Lasso"
   ]
  },
  {
   "cell_type": "code",
   "execution_count": 70,
   "id": "8fe1d2ac",
   "metadata": {},
   "outputs": [
    {
     "name": "stdout",
     "output_type": "stream",
     "text": [
      "MeanSquaredError 0.06975244359738399\n",
      "MeanabsoluteError 0.2086507170103387\n",
      "RootMeanSquaredError 0.2641068791178753\n",
      "r2_score is: 0.5472950754227119\n",
      "cross_validation_score is: 0.15835011040531982\n"
     ]
    }
   ],
   "source": [
    "model=Lasso(alpha=0.001)\n",
    "regressor(model,x,y)"
   ]
  },
  {
   "cell_type": "markdown",
   "id": "fd6a6b17",
   "metadata": {},
   "source": [
    "# Ridge"
   ]
  },
  {
   "cell_type": "code",
   "execution_count": 71,
   "id": "ae6eb208",
   "metadata": {},
   "outputs": [
    {
     "name": "stdout",
     "output_type": "stream",
     "text": [
      "MeanSquaredError 0.06566502451034009\n",
      "MeanabsoluteError 0.2019936162250212\n",
      "RootMeanSquaredError 0.2562518770864715\n",
      "r2_score is: 0.5738231030312725\n",
      "cross_validation_score is: 0.21841306336026972\n"
     ]
    }
   ],
   "source": [
    "model=Ridge(alpha=0.01)\n",
    "regressor(model,x,y)"
   ]
  },
  {
   "cell_type": "markdown",
   "id": "f41053db",
   "metadata": {},
   "source": [
    "# ElasticNet"
   ]
  },
  {
   "cell_type": "code",
   "execution_count": 72,
   "id": "62ac8197",
   "metadata": {},
   "outputs": [
    {
     "name": "stdout",
     "output_type": "stream",
     "text": [
      "MeanSquaredError 0.08355320864247173\n",
      "MeanabsoluteError 0.22805948811945734\n",
      "RootMeanSquaredError 0.28905571892365617\n",
      "r2_score is: 0.4577258219796735\n",
      "cross_validation_score is: 0.03041234264976287\n"
     ]
    }
   ],
   "source": [
    "model=ElasticNet(alpha=0.01)\n",
    "regressor(model,x,y)"
   ]
  },
  {
   "cell_type": "markdown",
   "id": "86178f35",
   "metadata": {},
   "source": [
    "# DecisionTreeRegressor"
   ]
  },
  {
   "cell_type": "code",
   "execution_count": 73,
   "id": "3b4a1b2c",
   "metadata": {},
   "outputs": [
    {
     "name": "stdout",
     "output_type": "stream",
     "text": [
      "MeanSquaredError 0.03793163409798924\n",
      "MeanabsoluteError 0.1274653072783914\n",
      "RootMeanSquaredError 0.19476045311610168\n",
      "r2_score is: 0.7538174052719849\n",
      "cross_validation_score is: -0.3067854336588017\n"
     ]
    }
   ],
   "source": [
    "model=DecisionTreeRegressor(random_state=126)\n",
    "regressor(model,x,y)"
   ]
  },
  {
   "cell_type": "markdown",
   "id": "e0525238",
   "metadata": {},
   "source": [
    "# RandomForestRegressor"
   ]
  },
  {
   "cell_type": "code",
   "execution_count": 74,
   "id": "7044eb6a",
   "metadata": {},
   "outputs": [
    {
     "name": "stdout",
     "output_type": "stream",
     "text": [
      "MeanSquaredError 0.017017031163976206\n",
      "MeanabsoluteError 0.09221478334749363\n",
      "RootMeanSquaredError 0.1304493432868721\n",
      "r2_score is: 0.8895566461573235\n",
      "cross_validation_score is: 0.18740458103062024\n"
     ]
    }
   ],
   "source": [
    "model=RandomForestRegressor()\n",
    "regressor(model,x,y)"
   ]
  },
  {
   "cell_type": "markdown",
   "id": "6a8b324c",
   "metadata": {},
   "source": [
    "# KNN"
   ]
  },
  {
   "cell_type": "code",
   "execution_count": 75,
   "id": "d207a5e7",
   "metadata": {},
   "outputs": [
    {
     "name": "stdout",
     "output_type": "stream",
     "text": [
      "MeanSquaredError 0.020785323137921266\n",
      "MeanabsoluteError 0.10290795808552818\n",
      "RootMeanSquaredError 0.14417115917520143\n",
      "r2_score is: 0.8650998064271385\n",
      "cross_validation_score is: 0.0028157500496400756\n"
     ]
    }
   ],
   "source": [
    "model=KNeighborsRegressor()\n",
    "regressor(model,x,y)"
   ]
  },
  {
   "cell_type": "markdown",
   "id": "aa151815",
   "metadata": {},
   "source": [
    "# SGDRegressor"
   ]
  },
  {
   "cell_type": "code",
   "execution_count": 76,
   "id": "e1085844",
   "metadata": {},
   "outputs": [
    {
     "name": "stdout",
     "output_type": "stream",
     "text": [
      "MeanSquaredError 0.0752105024237192\n",
      "MeanabsoluteError 0.21754441038488367\n",
      "RootMeanSquaredError 0.27424533254682604\n",
      "r2_score is: 0.5118713686408156\n",
      "cross_validation_score is: 0.11612704221313848\n"
     ]
    }
   ],
   "source": [
    "model=SGDRegressor()\n",
    "regressor(model,x,y)"
   ]
  },
  {
   "cell_type": "markdown",
   "id": "4f24267e",
   "metadata": {},
   "source": [
    "\n",
    "# AdaBoostRegressor"
   ]
  },
  {
   "cell_type": "code",
   "execution_count": 77,
   "id": "220ce37f",
   "metadata": {},
   "outputs": [
    {
     "name": "stdout",
     "output_type": "stream",
     "text": [
      "MeanSquaredError 0.06678776487451768\n",
      "MeanabsoluteError 0.20844533764933978\n",
      "RootMeanSquaredError 0.25843328902159196\n",
      "r2_score is: 0.5665363319065408\n",
      "cross_validation_score is: 0.014140390446135109\n"
     ]
    }
   ],
   "source": [
    "model=AdaBoostRegressor()\n",
    "regressor(model,x,y)"
   ]
  },
  {
   "cell_type": "markdown",
   "id": "13199f6b",
   "metadata": {},
   "source": [
    "# GradientBoostRegressor"
   ]
  },
  {
   "cell_type": "code",
   "execution_count": 78,
   "id": "a1900899",
   "metadata": {},
   "outputs": [
    {
     "name": "stdout",
     "output_type": "stream",
     "text": [
      "MeanSquaredError 0.038055171848369734\n",
      "MeanabsoluteError 0.1482982057787497\n",
      "RootMeanSquaredError 0.19507734837333046\n",
      "r2_score is: 0.7530156247882608\n",
      "cross_validation_score is: 0.3840180721428753\n"
     ]
    }
   ],
   "source": [
    "model=GradientBoostingRegressor()\n",
    "regressor(model,x,y)"
   ]
  },
  {
   "cell_type": "markdown",
   "id": "276f49f6",
   "metadata": {},
   "source": [
    "here our residuals looked to be normally distributed which means that our model RandomForestRegressor is best choice for the data"
   ]
  },
  {
   "cell_type": "markdown",
   "id": "ca218512",
   "metadata": {},
   "source": [
    "# HyperParameterTuning"
   ]
  },
  {
   "cell_type": "code",
   "execution_count": 79,
   "id": "4b13b67f",
   "metadata": {},
   "outputs": [
    {
     "name": "stdout",
     "output_type": "stream",
     "text": [
      "r2_score 98.69113823112633\n",
      "cross val score: 19.0482147949486\n"
     ]
    }
   ],
   "source": [
    "rf=RandomForestRegressor(criterion='mse',max_features='auto')\n",
    "rf.fit(x,y)\n",
    "rf.score(x_train,y_train)\n",
    "pred_decision=rf.predict(x_test)\n",
    "\n",
    "rfs=r2_score(y_test,pred_decision)\n",
    "print('r2_score',rfs*100)\n",
    "rfscore=cross_val_score(rf,x,y,cv=5)\n",
    "rfc=rfscore.mean()\n",
    "print('cross val score:',rfc*100)"
   ]
  },
  {
   "cell_type": "code",
   "execution_count": 80,
   "id": "aaace0a8",
   "metadata": {},
   "outputs": [
    {
     "data": {
      "text/html": [
       "<div>\n",
       "<style scoped>\n",
       "    .dataframe tbody tr th:only-of-type {\n",
       "        vertical-align: middle;\n",
       "    }\n",
       "\n",
       "    .dataframe tbody tr th {\n",
       "        vertical-align: top;\n",
       "    }\n",
       "\n",
       "    .dataframe thead th {\n",
       "        text-align: right;\n",
       "    }\n",
       "</style>\n",
       "<table border=\"1\" class=\"dataframe\">\n",
       "  <thead>\n",
       "    <tr style=\"text-align: right;\">\n",
       "      <th></th>\n",
       "      <th>Actual</th>\n",
       "      <th>Predicted</th>\n",
       "    </tr>\n",
       "  </thead>\n",
       "  <tbody>\n",
       "    <tr>\n",
       "      <th>3596</th>\n",
       "      <td>1.36</td>\n",
       "      <td>1.3841</td>\n",
       "    </tr>\n",
       "    <tr>\n",
       "      <th>7141</th>\n",
       "      <td>1.70</td>\n",
       "      <td>1.6915</td>\n",
       "    </tr>\n",
       "    <tr>\n",
       "      <th>4625</th>\n",
       "      <td>1.22</td>\n",
       "      <td>1.2007</td>\n",
       "    </tr>\n",
       "    <tr>\n",
       "      <th>5456</th>\n",
       "      <td>0.81</td>\n",
       "      <td>0.8304</td>\n",
       "    </tr>\n",
       "    <tr>\n",
       "      <th>10969</th>\n",
       "      <td>1.85</td>\n",
       "      <td>1.8382</td>\n",
       "    </tr>\n",
       "    <tr>\n",
       "      <th>...</th>\n",
       "      <td>...</td>\n",
       "      <td>...</td>\n",
       "    </tr>\n",
       "    <tr>\n",
       "      <th>14775</th>\n",
       "      <td>1.79</td>\n",
       "      <td>1.8587</td>\n",
       "    </tr>\n",
       "    <tr>\n",
       "      <th>2224</th>\n",
       "      <td>1.19</td>\n",
       "      <td>1.2019</td>\n",
       "    </tr>\n",
       "    <tr>\n",
       "      <th>10030</th>\n",
       "      <td>2.31</td>\n",
       "      <td>2.3017</td>\n",
       "    </tr>\n",
       "    <tr>\n",
       "      <th>5360</th>\n",
       "      <td>1.55</td>\n",
       "      <td>1.5505</td>\n",
       "    </tr>\n",
       "    <tr>\n",
       "      <th>4129</th>\n",
       "      <td>1.35</td>\n",
       "      <td>1.3138</td>\n",
       "    </tr>\n",
       "  </tbody>\n",
       "</table>\n",
       "<p>3531 rows × 2 columns</p>\n",
       "</div>"
      ],
      "text/plain": [
       "       Actual  Predicted\n",
       "3596     1.36     1.3841\n",
       "7141     1.70     1.6915\n",
       "4625     1.22     1.2007\n",
       "5456     0.81     0.8304\n",
       "10969    1.85     1.8382\n",
       "...       ...        ...\n",
       "14775    1.79     1.8587\n",
       "2224     1.19     1.2019\n",
       "10030    2.31     2.3017\n",
       "5360     1.55     1.5505\n",
       "4129     1.35     1.3138\n",
       "\n",
       "[3531 rows x 2 columns]"
      ]
     },
     "execution_count": 80,
     "metadata": {},
     "output_type": "execute_result"
    }
   ],
   "source": [
    "df=pd.DataFrame({\"Actual\":y_test,\"Predicted\":pred_decision})\n",
    "df"
   ]
  },
  {
   "cell_type": "markdown",
   "id": "f440cb47",
   "metadata": {},
   "source": [
    "# Region Wise Analysis"
   ]
  },
  {
   "cell_type": "code",
   "execution_count": 83,
   "id": "e7a45ecd",
   "metadata": {},
   "outputs": [
    {
     "data": {
      "text/html": [
       "<div>\n",
       "<style scoped>\n",
       "    .dataframe tbody tr th:only-of-type {\n",
       "        vertical-align: middle;\n",
       "    }\n",
       "\n",
       "    .dataframe tbody tr th {\n",
       "        vertical-align: top;\n",
       "    }\n",
       "\n",
       "    .dataframe thead th {\n",
       "        text-align: right;\n",
       "    }\n",
       "</style>\n",
       "<table border=\"1\" class=\"dataframe\">\n",
       "  <thead>\n",
       "    <tr style=\"text-align: right;\">\n",
       "      <th></th>\n",
       "      <th>Unnamed: 0</th>\n",
       "      <th>Date</th>\n",
       "      <th>AveragePrice</th>\n",
       "      <th>Total Volume</th>\n",
       "      <th>4046</th>\n",
       "      <th>4225</th>\n",
       "      <th>4770</th>\n",
       "      <th>Total Bags</th>\n",
       "      <th>Small Bags</th>\n",
       "      <th>Large Bags</th>\n",
       "      <th>XLarge Bags</th>\n",
       "      <th>type</th>\n",
       "      <th>year</th>\n",
       "      <th>region</th>\n",
       "    </tr>\n",
       "  </thead>\n",
       "  <tbody>\n",
       "    <tr>\n",
       "      <th>0</th>\n",
       "      <td>0</td>\n",
       "      <td>2015-12-27</td>\n",
       "      <td>1.33</td>\n",
       "      <td>64236.62</td>\n",
       "      <td>1036.74</td>\n",
       "      <td>54454.85</td>\n",
       "      <td>48.16</td>\n",
       "      <td>8696.87</td>\n",
       "      <td>8603.62</td>\n",
       "      <td>93.25</td>\n",
       "      <td>0.0</td>\n",
       "      <td>conventional</td>\n",
       "      <td>2015</td>\n",
       "      <td>Albany</td>\n",
       "    </tr>\n",
       "    <tr>\n",
       "      <th>1</th>\n",
       "      <td>1</td>\n",
       "      <td>2015-12-20</td>\n",
       "      <td>1.35</td>\n",
       "      <td>54876.98</td>\n",
       "      <td>674.28</td>\n",
       "      <td>44638.81</td>\n",
       "      <td>58.33</td>\n",
       "      <td>9505.56</td>\n",
       "      <td>9408.07</td>\n",
       "      <td>97.49</td>\n",
       "      <td>0.0</td>\n",
       "      <td>conventional</td>\n",
       "      <td>2015</td>\n",
       "      <td>Albany</td>\n",
       "    </tr>\n",
       "    <tr>\n",
       "      <th>2</th>\n",
       "      <td>2</td>\n",
       "      <td>2015-12-13</td>\n",
       "      <td>0.93</td>\n",
       "      <td>118220.22</td>\n",
       "      <td>794.70</td>\n",
       "      <td>109149.67</td>\n",
       "      <td>130.50</td>\n",
       "      <td>8145.35</td>\n",
       "      <td>8042.21</td>\n",
       "      <td>103.14</td>\n",
       "      <td>0.0</td>\n",
       "      <td>conventional</td>\n",
       "      <td>2015</td>\n",
       "      <td>Albany</td>\n",
       "    </tr>\n",
       "    <tr>\n",
       "      <th>3</th>\n",
       "      <td>3</td>\n",
       "      <td>2015-12-06</td>\n",
       "      <td>1.08</td>\n",
       "      <td>78992.15</td>\n",
       "      <td>1132.00</td>\n",
       "      <td>71976.41</td>\n",
       "      <td>72.58</td>\n",
       "      <td>5811.16</td>\n",
       "      <td>5677.40</td>\n",
       "      <td>133.76</td>\n",
       "      <td>0.0</td>\n",
       "      <td>conventional</td>\n",
       "      <td>2015</td>\n",
       "      <td>Albany</td>\n",
       "    </tr>\n",
       "    <tr>\n",
       "      <th>4</th>\n",
       "      <td>4</td>\n",
       "      <td>2015-11-29</td>\n",
       "      <td>1.28</td>\n",
       "      <td>51039.60</td>\n",
       "      <td>941.48</td>\n",
       "      <td>43838.39</td>\n",
       "      <td>75.78</td>\n",
       "      <td>6183.95</td>\n",
       "      <td>5986.26</td>\n",
       "      <td>197.69</td>\n",
       "      <td>0.0</td>\n",
       "      <td>conventional</td>\n",
       "      <td>2015</td>\n",
       "      <td>Albany</td>\n",
       "    </tr>\n",
       "    <tr>\n",
       "      <th>...</th>\n",
       "      <td>...</td>\n",
       "      <td>...</td>\n",
       "      <td>...</td>\n",
       "      <td>...</td>\n",
       "      <td>...</td>\n",
       "      <td>...</td>\n",
       "      <td>...</td>\n",
       "      <td>...</td>\n",
       "      <td>...</td>\n",
       "      <td>...</td>\n",
       "      <td>...</td>\n",
       "      <td>...</td>\n",
       "      <td>...</td>\n",
       "      <td>...</td>\n",
       "    </tr>\n",
       "    <tr>\n",
       "      <th>18244</th>\n",
       "      <td>7</td>\n",
       "      <td>2018-02-04</td>\n",
       "      <td>1.63</td>\n",
       "      <td>17074.83</td>\n",
       "      <td>2046.96</td>\n",
       "      <td>1529.20</td>\n",
       "      <td>0.00</td>\n",
       "      <td>13498.67</td>\n",
       "      <td>13066.82</td>\n",
       "      <td>431.85</td>\n",
       "      <td>0.0</td>\n",
       "      <td>organic</td>\n",
       "      <td>2018</td>\n",
       "      <td>WestTexNewMexico</td>\n",
       "    </tr>\n",
       "    <tr>\n",
       "      <th>18245</th>\n",
       "      <td>8</td>\n",
       "      <td>2018-01-28</td>\n",
       "      <td>1.71</td>\n",
       "      <td>13888.04</td>\n",
       "      <td>1191.70</td>\n",
       "      <td>3431.50</td>\n",
       "      <td>0.00</td>\n",
       "      <td>9264.84</td>\n",
       "      <td>8940.04</td>\n",
       "      <td>324.80</td>\n",
       "      <td>0.0</td>\n",
       "      <td>organic</td>\n",
       "      <td>2018</td>\n",
       "      <td>WestTexNewMexico</td>\n",
       "    </tr>\n",
       "    <tr>\n",
       "      <th>18246</th>\n",
       "      <td>9</td>\n",
       "      <td>2018-01-21</td>\n",
       "      <td>1.87</td>\n",
       "      <td>13766.76</td>\n",
       "      <td>1191.92</td>\n",
       "      <td>2452.79</td>\n",
       "      <td>727.94</td>\n",
       "      <td>9394.11</td>\n",
       "      <td>9351.80</td>\n",
       "      <td>42.31</td>\n",
       "      <td>0.0</td>\n",
       "      <td>organic</td>\n",
       "      <td>2018</td>\n",
       "      <td>WestTexNewMexico</td>\n",
       "    </tr>\n",
       "    <tr>\n",
       "      <th>18247</th>\n",
       "      <td>10</td>\n",
       "      <td>2018-01-14</td>\n",
       "      <td>1.93</td>\n",
       "      <td>16205.22</td>\n",
       "      <td>1527.63</td>\n",
       "      <td>2981.04</td>\n",
       "      <td>727.01</td>\n",
       "      <td>10969.54</td>\n",
       "      <td>10919.54</td>\n",
       "      <td>50.00</td>\n",
       "      <td>0.0</td>\n",
       "      <td>organic</td>\n",
       "      <td>2018</td>\n",
       "      <td>WestTexNewMexico</td>\n",
       "    </tr>\n",
       "    <tr>\n",
       "      <th>18248</th>\n",
       "      <td>11</td>\n",
       "      <td>2018-01-07</td>\n",
       "      <td>1.62</td>\n",
       "      <td>17489.58</td>\n",
       "      <td>2894.77</td>\n",
       "      <td>2356.13</td>\n",
       "      <td>224.53</td>\n",
       "      <td>12014.15</td>\n",
       "      <td>11988.14</td>\n",
       "      <td>26.01</td>\n",
       "      <td>0.0</td>\n",
       "      <td>organic</td>\n",
       "      <td>2018</td>\n",
       "      <td>WestTexNewMexico</td>\n",
       "    </tr>\n",
       "  </tbody>\n",
       "</table>\n",
       "<p>18249 rows × 14 columns</p>\n",
       "</div>"
      ],
      "text/plain": [
       "       Unnamed: 0        Date  AveragePrice  Total Volume     4046       4225  \\\n",
       "0               0  2015-12-27          1.33      64236.62  1036.74   54454.85   \n",
       "1               1  2015-12-20          1.35      54876.98   674.28   44638.81   \n",
       "2               2  2015-12-13          0.93     118220.22   794.70  109149.67   \n",
       "3               3  2015-12-06          1.08      78992.15  1132.00   71976.41   \n",
       "4               4  2015-11-29          1.28      51039.60   941.48   43838.39   \n",
       "...           ...         ...           ...           ...      ...        ...   \n",
       "18244           7  2018-02-04          1.63      17074.83  2046.96    1529.20   \n",
       "18245           8  2018-01-28          1.71      13888.04  1191.70    3431.50   \n",
       "18246           9  2018-01-21          1.87      13766.76  1191.92    2452.79   \n",
       "18247          10  2018-01-14          1.93      16205.22  1527.63    2981.04   \n",
       "18248          11  2018-01-07          1.62      17489.58  2894.77    2356.13   \n",
       "\n",
       "         4770  Total Bags  Small Bags  Large Bags  XLarge Bags          type  \\\n",
       "0       48.16     8696.87     8603.62       93.25          0.0  conventional   \n",
       "1       58.33     9505.56     9408.07       97.49          0.0  conventional   \n",
       "2      130.50     8145.35     8042.21      103.14          0.0  conventional   \n",
       "3       72.58     5811.16     5677.40      133.76          0.0  conventional   \n",
       "4       75.78     6183.95     5986.26      197.69          0.0  conventional   \n",
       "...       ...         ...         ...         ...          ...           ...   \n",
       "18244    0.00    13498.67    13066.82      431.85          0.0       organic   \n",
       "18245    0.00     9264.84     8940.04      324.80          0.0       organic   \n",
       "18246  727.94     9394.11     9351.80       42.31          0.0       organic   \n",
       "18247  727.01    10969.54    10919.54       50.00          0.0       organic   \n",
       "18248  224.53    12014.15    11988.14       26.01          0.0       organic   \n",
       "\n",
       "       year            region  \n",
       "0      2015            Albany  \n",
       "1      2015            Albany  \n",
       "2      2015            Albany  \n",
       "3      2015            Albany  \n",
       "4      2015            Albany  \n",
       "...     ...               ...  \n",
       "18244  2018  WestTexNewMexico  \n",
       "18245  2018  WestTexNewMexico  \n",
       "18246  2018  WestTexNewMexico  \n",
       "18247  2018  WestTexNewMexico  \n",
       "18248  2018  WestTexNewMexico  \n",
       "\n",
       "[18249 rows x 14 columns]"
      ]
     },
     "execution_count": 83,
     "metadata": {},
     "output_type": "execute_result"
    }
   ],
   "source": [
    "df=pd.read_csv(\"Avacado.csv\")\n",
    "df"
   ]
  },
  {
   "cell_type": "code",
   "execution_count": 84,
   "id": "5dbe8658",
   "metadata": {},
   "outputs": [
    {
     "data": {
      "text/html": [
       "<div>\n",
       "<style scoped>\n",
       "    .dataframe tbody tr th:only-of-type {\n",
       "        vertical-align: middle;\n",
       "    }\n",
       "\n",
       "    .dataframe tbody tr th {\n",
       "        vertical-align: top;\n",
       "    }\n",
       "\n",
       "    .dataframe thead th {\n",
       "        text-align: right;\n",
       "    }\n",
       "</style>\n",
       "<table border=\"1\" class=\"dataframe\">\n",
       "  <thead>\n",
       "    <tr style=\"text-align: right;\">\n",
       "      <th></th>\n",
       "      <th>Unnamed: 0</th>\n",
       "      <th>Date</th>\n",
       "      <th>AveragePrice</th>\n",
       "      <th>Total Volume</th>\n",
       "      <th>4046</th>\n",
       "      <th>4225</th>\n",
       "      <th>4770</th>\n",
       "      <th>Total Bags</th>\n",
       "      <th>Small Bags</th>\n",
       "      <th>Large Bags</th>\n",
       "      <th>XLarge Bags</th>\n",
       "      <th>type</th>\n",
       "      <th>year</th>\n",
       "      <th>region</th>\n",
       "    </tr>\n",
       "  </thead>\n",
       "  <tbody>\n",
       "    <tr>\n",
       "      <th>0</th>\n",
       "      <td>0</td>\n",
       "      <td>2015-12-27</td>\n",
       "      <td>1.33</td>\n",
       "      <td>64236.62</td>\n",
       "      <td>1036.74</td>\n",
       "      <td>54454.85</td>\n",
       "      <td>48.16</td>\n",
       "      <td>8696.87</td>\n",
       "      <td>8603.62</td>\n",
       "      <td>93.25</td>\n",
       "      <td>0.0</td>\n",
       "      <td>0</td>\n",
       "      <td>2015</td>\n",
       "      <td>Albany</td>\n",
       "    </tr>\n",
       "    <tr>\n",
       "      <th>1</th>\n",
       "      <td>1</td>\n",
       "      <td>2015-12-20</td>\n",
       "      <td>1.35</td>\n",
       "      <td>54876.98</td>\n",
       "      <td>674.28</td>\n",
       "      <td>44638.81</td>\n",
       "      <td>58.33</td>\n",
       "      <td>9505.56</td>\n",
       "      <td>9408.07</td>\n",
       "      <td>97.49</td>\n",
       "      <td>0.0</td>\n",
       "      <td>0</td>\n",
       "      <td>2015</td>\n",
       "      <td>Albany</td>\n",
       "    </tr>\n",
       "    <tr>\n",
       "      <th>2</th>\n",
       "      <td>2</td>\n",
       "      <td>2015-12-13</td>\n",
       "      <td>0.93</td>\n",
       "      <td>118220.22</td>\n",
       "      <td>794.70</td>\n",
       "      <td>109149.67</td>\n",
       "      <td>130.50</td>\n",
       "      <td>8145.35</td>\n",
       "      <td>8042.21</td>\n",
       "      <td>103.14</td>\n",
       "      <td>0.0</td>\n",
       "      <td>0</td>\n",
       "      <td>2015</td>\n",
       "      <td>Albany</td>\n",
       "    </tr>\n",
       "    <tr>\n",
       "      <th>3</th>\n",
       "      <td>3</td>\n",
       "      <td>2015-12-06</td>\n",
       "      <td>1.08</td>\n",
       "      <td>78992.15</td>\n",
       "      <td>1132.00</td>\n",
       "      <td>71976.41</td>\n",
       "      <td>72.58</td>\n",
       "      <td>5811.16</td>\n",
       "      <td>5677.40</td>\n",
       "      <td>133.76</td>\n",
       "      <td>0.0</td>\n",
       "      <td>0</td>\n",
       "      <td>2015</td>\n",
       "      <td>Albany</td>\n",
       "    </tr>\n",
       "    <tr>\n",
       "      <th>4</th>\n",
       "      <td>4</td>\n",
       "      <td>2015-11-29</td>\n",
       "      <td>1.28</td>\n",
       "      <td>51039.60</td>\n",
       "      <td>941.48</td>\n",
       "      <td>43838.39</td>\n",
       "      <td>75.78</td>\n",
       "      <td>6183.95</td>\n",
       "      <td>5986.26</td>\n",
       "      <td>197.69</td>\n",
       "      <td>0.0</td>\n",
       "      <td>0</td>\n",
       "      <td>2015</td>\n",
       "      <td>Albany</td>\n",
       "    </tr>\n",
       "    <tr>\n",
       "      <th>...</th>\n",
       "      <td>...</td>\n",
       "      <td>...</td>\n",
       "      <td>...</td>\n",
       "      <td>...</td>\n",
       "      <td>...</td>\n",
       "      <td>...</td>\n",
       "      <td>...</td>\n",
       "      <td>...</td>\n",
       "      <td>...</td>\n",
       "      <td>...</td>\n",
       "      <td>...</td>\n",
       "      <td>...</td>\n",
       "      <td>...</td>\n",
       "      <td>...</td>\n",
       "    </tr>\n",
       "    <tr>\n",
       "      <th>18244</th>\n",
       "      <td>7</td>\n",
       "      <td>2018-02-04</td>\n",
       "      <td>1.63</td>\n",
       "      <td>17074.83</td>\n",
       "      <td>2046.96</td>\n",
       "      <td>1529.20</td>\n",
       "      <td>0.00</td>\n",
       "      <td>13498.67</td>\n",
       "      <td>13066.82</td>\n",
       "      <td>431.85</td>\n",
       "      <td>0.0</td>\n",
       "      <td>1</td>\n",
       "      <td>2018</td>\n",
       "      <td>WestTexNewMexico</td>\n",
       "    </tr>\n",
       "    <tr>\n",
       "      <th>18245</th>\n",
       "      <td>8</td>\n",
       "      <td>2018-01-28</td>\n",
       "      <td>1.71</td>\n",
       "      <td>13888.04</td>\n",
       "      <td>1191.70</td>\n",
       "      <td>3431.50</td>\n",
       "      <td>0.00</td>\n",
       "      <td>9264.84</td>\n",
       "      <td>8940.04</td>\n",
       "      <td>324.80</td>\n",
       "      <td>0.0</td>\n",
       "      <td>1</td>\n",
       "      <td>2018</td>\n",
       "      <td>WestTexNewMexico</td>\n",
       "    </tr>\n",
       "    <tr>\n",
       "      <th>18246</th>\n",
       "      <td>9</td>\n",
       "      <td>2018-01-21</td>\n",
       "      <td>1.87</td>\n",
       "      <td>13766.76</td>\n",
       "      <td>1191.92</td>\n",
       "      <td>2452.79</td>\n",
       "      <td>727.94</td>\n",
       "      <td>9394.11</td>\n",
       "      <td>9351.80</td>\n",
       "      <td>42.31</td>\n",
       "      <td>0.0</td>\n",
       "      <td>1</td>\n",
       "      <td>2018</td>\n",
       "      <td>WestTexNewMexico</td>\n",
       "    </tr>\n",
       "    <tr>\n",
       "      <th>18247</th>\n",
       "      <td>10</td>\n",
       "      <td>2018-01-14</td>\n",
       "      <td>1.93</td>\n",
       "      <td>16205.22</td>\n",
       "      <td>1527.63</td>\n",
       "      <td>2981.04</td>\n",
       "      <td>727.01</td>\n",
       "      <td>10969.54</td>\n",
       "      <td>10919.54</td>\n",
       "      <td>50.00</td>\n",
       "      <td>0.0</td>\n",
       "      <td>1</td>\n",
       "      <td>2018</td>\n",
       "      <td>WestTexNewMexico</td>\n",
       "    </tr>\n",
       "    <tr>\n",
       "      <th>18248</th>\n",
       "      <td>11</td>\n",
       "      <td>2018-01-07</td>\n",
       "      <td>1.62</td>\n",
       "      <td>17489.58</td>\n",
       "      <td>2894.77</td>\n",
       "      <td>2356.13</td>\n",
       "      <td>224.53</td>\n",
       "      <td>12014.15</td>\n",
       "      <td>11988.14</td>\n",
       "      <td>26.01</td>\n",
       "      <td>0.0</td>\n",
       "      <td>1</td>\n",
       "      <td>2018</td>\n",
       "      <td>WestTexNewMexico</td>\n",
       "    </tr>\n",
       "  </tbody>\n",
       "</table>\n",
       "<p>18249 rows × 14 columns</p>\n",
       "</div>"
      ],
      "text/plain": [
       "       Unnamed: 0        Date  AveragePrice  Total Volume     4046       4225  \\\n",
       "0               0  2015-12-27          1.33      64236.62  1036.74   54454.85   \n",
       "1               1  2015-12-20          1.35      54876.98   674.28   44638.81   \n",
       "2               2  2015-12-13          0.93     118220.22   794.70  109149.67   \n",
       "3               3  2015-12-06          1.08      78992.15  1132.00   71976.41   \n",
       "4               4  2015-11-29          1.28      51039.60   941.48   43838.39   \n",
       "...           ...         ...           ...           ...      ...        ...   \n",
       "18244           7  2018-02-04          1.63      17074.83  2046.96    1529.20   \n",
       "18245           8  2018-01-28          1.71      13888.04  1191.70    3431.50   \n",
       "18246           9  2018-01-21          1.87      13766.76  1191.92    2452.79   \n",
       "18247          10  2018-01-14          1.93      16205.22  1527.63    2981.04   \n",
       "18248          11  2018-01-07          1.62      17489.58  2894.77    2356.13   \n",
       "\n",
       "         4770  Total Bags  Small Bags  Large Bags  XLarge Bags  type  year  \\\n",
       "0       48.16     8696.87     8603.62       93.25          0.0     0  2015   \n",
       "1       58.33     9505.56     9408.07       97.49          0.0     0  2015   \n",
       "2      130.50     8145.35     8042.21      103.14          0.0     0  2015   \n",
       "3       72.58     5811.16     5677.40      133.76          0.0     0  2015   \n",
       "4       75.78     6183.95     5986.26      197.69          0.0     0  2015   \n",
       "...       ...         ...         ...         ...          ...   ...   ...   \n",
       "18244    0.00    13498.67    13066.82      431.85          0.0     1  2018   \n",
       "18245    0.00     9264.84     8940.04      324.80          0.0     1  2018   \n",
       "18246  727.94     9394.11     9351.80       42.31          0.0     1  2018   \n",
       "18247  727.01    10969.54    10919.54       50.00          0.0     1  2018   \n",
       "18248  224.53    12014.15    11988.14       26.01          0.0     1  2018   \n",
       "\n",
       "                 region  \n",
       "0                Albany  \n",
       "1                Albany  \n",
       "2                Albany  \n",
       "3                Albany  \n",
       "4                Albany  \n",
       "...                 ...  \n",
       "18244  WestTexNewMexico  \n",
       "18245  WestTexNewMexico  \n",
       "18246  WestTexNewMexico  \n",
       "18247  WestTexNewMexico  \n",
       "18248  WestTexNewMexico  \n",
       "\n",
       "[18249 rows x 14 columns]"
      ]
     },
     "execution_count": 84,
     "metadata": {},
     "output_type": "execute_result"
    }
   ],
   "source": [
    "#Encoding categeorical type into Numerical type using LabelEncoder\n",
    "from sklearn.preprocessing import LabelEncoder\n",
    "le=LabelEncoder()\n",
    "dict={}\n",
    "le.fit(df.type.drop_duplicates())\n",
    "dict['Type']=list(le.classes_)\n",
    "df.type=le.transform(df.type)\n",
    "df"
   ]
  },
  {
   "cell_type": "code",
   "execution_count": 85,
   "id": "3cf8a4de",
   "metadata": {},
   "outputs": [
    {
     "data": {
      "text/plain": [
       "<AxesSubplot:>"
      ]
     },
     "execution_count": 85,
     "metadata": {},
     "output_type": "execute_result"
    },
    {
     "data": {
      "image/png": "[encoded data removed]",
      "text/plain": [
       "<Figure size 432x288 with 2 Axes>"
      ]
     },
     "metadata": {},
     "output_type": "display_data"
    }
   ],
   "source": [
    "cols=['AveragePrice','type','Total Volume','year','Total Bags']\n",
    "cm=np.corrcoef(df[cols].values.T)\n",
    "sns.heatmap(cm,annot=True,fmt='.2f')"
   ]
  },
  {
   "cell_type": "markdown",
   "id": "58c2fd5c",
   "metadata": {},
   "source": [
    "we can see There is a strong relation between TotalBags and TotalVolume 0.96 and also type and AveragePrice 0.62,Other than that there is a weak relation"
   ]
  },
  {
   "cell_type": "markdown",
   "id": "736fad32",
   "metadata": {},
   "source": [
    "# TotalVolume vs small,Large and Xlarge"
   ]
  },
  {
   "cell_type": "code",
   "execution_count": 86,
   "id": "f8bdba29",
   "metadata": {},
   "outputs": [
    {
     "data": {
      "text/plain": [
       "<seaborn.axisgrid.PairGrid at 0x12b7aa30>"
      ]
     },
     "execution_count": 86,
     "metadata": {},
     "output_type": "execute_result"
    },
    {
     "data": {
      "image/png": "[encoded data removed]",
      "text/plain": [
       "<Figure size 540x180 with 3 Axes>"
      ]
     },
     "metadata": {},
     "output_type": "display_data"
    }
   ],
   "source": [
    "sns.pairplot(df,x_vars=['Small Bags','Large Bags','XLarge Bags'],y_vars='Total Volume',kind='reg')"
   ]
  },
  {
   "cell_type": "markdown",
   "id": "c37d8b96",
   "metadata": {},
   "source": [
    "There is a strong correlation between Total Volume and Small Bags,weak correlation between TotalVolume and XLargeBags"
   ]
  },
  {
   "cell_type": "markdown",
   "id": "f04b1788",
   "metadata": {},
   "source": [
    "# Region Vs Yearly AveragePrice Distribution"
   ]
  },
  {
   "cell_type": "code",
   "execution_count": 87,
   "id": "65b3df05",
   "metadata": {},
   "outputs": [
    {
     "data": {
      "text/plain": [
       "Text(0.5, 1.0, 'Year vs Region')"
      ]
     },
     "execution_count": 87,
     "metadata": {},
     "output_type": "execute_result"
    },
    {
     "data": {
      "image/png": "[encoded data removed]",
      "text/plain": [
       "<Figure size 864x1440 with 1 Axes>"
      ]
     },
     "metadata": {},
     "output_type": "display_data"
    }
   ],
   "source": [
    "plt.figure(figsize=(12,20))\n",
    "sns.set_style('whitegrid')\n",
    "sns.pointplot(x='AveragePrice',y='region',data=df,hue='year',join=False)\n",
    "plt.xticks(np.linspace(1,2,5))\n",
    "plt.xlabel('Region',{'fontsize':'large'})\n",
    "plt.ylabel('AveragePrice',{'fontsize':'large'})\n",
    "plt.title('Year vs Region',{'fontsize':20})"
   ]
  },
  {
   "cell_type": "markdown",
   "id": "ba38a540",
   "metadata": {},
   "source": [
    "from the graph we can say that in year 2017 the HartfordSpringfield region being the maximum consumption of Avacado"
   ]
  },
  {
   "cell_type": "markdown",
   "id": "aad0b5ed",
   "metadata": {},
   "source": [
    "# Region Vs Type of AveragePrice Distribution"
   ]
  },
  {
   "cell_type": "code",
   "execution_count": 88,
   "id": "4374aa92",
   "metadata": {},
   "outputs": [
    {
     "data": {
      "text/plain": [
       "Text(0.5, 1.0, 'Type of AveragePrice vs Region')"
      ]
     },
     "execution_count": 88,
     "metadata": {},
     "output_type": "execute_result"
    },
    {
     "data": {
      "image/png": "[encoded data removed]",
      "text/plain": [
       "<Figure size 864x1440 with 1 Axes>"
      ]
     },
     "metadata": {},
     "output_type": "display_data"
    }
   ],
   "source": [
    "plt.figure(figsize=(12,20))\n",
    "sns.set_style('whitegrid')\n",
    "sns.pointplot(x='AveragePrice',y='region',data=df,hue='type',join=False)\n",
    "plt.xticks(np.linspace(1,2,5))\n",
    "plt.xlabel('Region',{'fontsize':'large'})\n",
    "plt.ylabel('AveragePrice',{'fontsize':'large'})\n",
    "plt.title('Type of AveragePrice vs Region',{'fontsize':20})"
   ]
  },
  {
   "cell_type": "markdown",
   "id": "6af40356",
   "metadata": {},
   "source": [
    "organic type of avacado prices are high in HartfordSpringfield and SanFrancisco region"
   ]
  },
  {
   "cell_type": "markdown",
   "id": "0fb84256",
   "metadata": {},
   "source": [
    "# Model Building for classification"
   ]
  },
  {
   "cell_type": "markdown",
   "id": "417c4369",
   "metadata": {},
   "source": [
    "\n",
    "Splitting the data into features and target"
   ]
  },
  {
   "cell_type": "code",
   "execution_count": 89,
   "id": "331f1f62",
   "metadata": {},
   "outputs": [],
   "source": [
    "x=df[['AveragePrice','Small Bags','Large Bags','XLarge Bags']]\n",
    "y=df['type']"
   ]
  },
  {
   "cell_type": "code",
   "execution_count": 90,
   "id": "2d19f6b7",
   "metadata": {},
   "outputs": [
    {
     "name": "stdout",
     "output_type": "stream",
     "text": [
      "At Random state 199 the training accuracy is: 0.8478662922117953\n",
      "At Random state 199 the testing accuracy is: 0.8558904109589041\n",
      "\n",
      "\n"
     ]
    }
   ],
   "source": [
    "from sklearn.linear_model import LogisticRegression\n",
    "from sklearn.metrics import accuracy_score\n",
    "from sklearn.ensemble import RandomForestClassifier\n",
    "from sklearn.tree import DecisionTreeClassifier\n",
    "from sklearn.neighbors import KNeighborsClassifier\n",
    "x_train,x_test,y_train,y_test=train_test_split(x,y,test_size=0.20,random_state=1)\n",
    "le=LogisticRegression()\n",
    "le.fit(x_train,y_train)\n",
    "pred_train=le.predict(x_train)\n",
    "pred_test=le.predict(x_test)\n",
    "print(f\"At Random state {i} the training accuracy is:\",accuracy_score(y_train,pred_train))\n",
    "print(f\"At Random state {i} the testing accuracy is:\",accuracy_score(y_test,pred_test))\n",
    "print(\"\\n\")"
   ]
  },
  {
   "cell_type": "markdown",
   "id": "f4d71645",
   "metadata": {},
   "source": [
    "# DecisionTreeClassifier"
   ]
  },
  {
   "cell_type": "code",
   "execution_count": 91,
   "id": "37f1fc9c",
   "metadata": {},
   "outputs": [
    {
     "name": "stdout",
     "output_type": "stream",
     "text": [
      "Accuracy_score is: 0.9312328767123288\n",
      "[[1719  129]\n",
      " [ 122 1680]]\n",
      "              precision    recall  f1-score   support\n",
      "\n",
      "           0       0.93      0.93      0.93      1848\n",
      "           1       0.93      0.93      0.93      1802\n",
      "\n",
      "    accuracy                           0.93      3650\n",
      "   macro avg       0.93      0.93      0.93      3650\n",
      "weighted avg       0.93      0.93      0.93      3650\n",
      "\n",
      "cross_validation_score is: 0.8997746051648603\n"
     ]
    }
   ],
   "source": [
    "from sklearn.metrics import accuracy_score\n",
    "from sklearn.metrics import confusion_matrix,classification_report\n",
    "from sklearn.model_selection import cross_val_score\n",
    "dtc=DecisionTreeClassifier()\n",
    "dtc.fit(x_train,y_train)\n",
    "preddtc=dtc.predict(x_test)\n",
    "print(\"Accuracy_score is:\",accuracy_score(y_test,preddtc))\n",
    "print(confusion_matrix(y_test,preddtc))\n",
    "print(classification_report(y_test,preddtc))\n",
    "print(\"cross_validation_score is:\",cross_val_score(dtc,x,y,cv=5).mean())"
   ]
  },
  {
   "cell_type": "markdown",
   "id": "8a69668d",
   "metadata": {},
   "source": [
    "# KNN"
   ]
  },
  {
   "cell_type": "code",
   "execution_count": 92,
   "id": "6c4b633f",
   "metadata": {},
   "outputs": [
    {
     "name": "stdout",
     "output_type": "stream",
     "text": [
      "Accuracy is 0.8898630136986302\n",
      "[[1692  156]\n",
      " [ 246 1556]]\n",
      "              precision    recall  f1-score   support\n",
      "\n",
      "           0       0.87      0.92      0.89      1848\n",
      "           1       0.91      0.86      0.89      1802\n",
      "\n",
      "    accuracy                           0.89      3650\n",
      "   macro avg       0.89      0.89      0.89      3650\n",
      "weighted avg       0.89      0.89      0.89      3650\n",
      "\n",
      "cross_val_score is 0.8549502246815603\n"
     ]
    }
   ],
   "source": [
    "knn=KNeighborsClassifier(n_neighbors=5)\n",
    "knn.fit(x_train,y_train)\n",
    "predknn=knn.predict(x_test)\n",
    "print(\"Accuracy is\",accuracy_score(y_test,predknn))\n",
    "print(confusion_matrix(y_test,predknn))\n",
    "print(classification_report(y_test,predknn))\n",
    "print(\"cross_val_score is\",cross_val_score(knn,x,y,cv=5).mean())"
   ]
  },
  {
   "cell_type": "markdown",
   "id": "3a8aeb4b",
   "metadata": {},
   "source": [
    "# SVC"
   ]
  },
  {
   "cell_type": "code",
   "execution_count": 93,
   "id": "ccdcfa67",
   "metadata": {},
   "outputs": [
    {
     "name": "stdout",
     "output_type": "stream",
     "text": [
      "Accuracy_score is: 0.8753424657534247\n",
      "[[1593  255]\n",
      " [ 200 1602]]\n",
      "              precision    recall  f1-score   support\n",
      "\n",
      "           0       0.89      0.86      0.88      1848\n",
      "           1       0.86      0.89      0.88      1802\n",
      "\n",
      "    accuracy                           0.88      3650\n",
      "   macro avg       0.88      0.88      0.88      3650\n",
      "weighted avg       0.88      0.88      0.88      3650\n",
      "\n",
      "cross_val_score is: 0.861252810865803\n"
     ]
    }
   ],
   "source": [
    "from sklearn.svm import SVC\n",
    "svc=SVC(kernel='rbf')\n",
    "svc.fit(x_train,y_train)\n",
    "predsvc=svc.predict(x_test)\n",
    "print(\"Accuracy_score is:\",accuracy_score(y_test,predsvc))\n",
    "print(confusion_matrix(y_test,predsvc))\n",
    "print(classification_report(y_test,predsvc))\n",
    "print(\"cross_val_score is:\",cross_val_score(svc,x,y,cv=5).mean())"
   ]
  },
  {
   "cell_type": "code",
   "execution_count": 94,
   "id": "adff5b92",
   "metadata": {},
   "outputs": [
    {
     "name": "stdout",
     "output_type": "stream",
     "text": [
      "Accuracy_score is: 0.5989041095890411\n",
      "[[ 402 1446]\n",
      " [  18 1784]]\n",
      "              precision    recall  f1-score   support\n",
      "\n",
      "           0       0.96      0.22      0.35      1848\n",
      "           1       0.55      0.99      0.71      1802\n",
      "\n",
      "    accuracy                           0.60      3650\n",
      "   macro avg       0.75      0.60      0.53      3650\n",
      "weighted avg       0.76      0.60      0.53      3650\n",
      "\n",
      "cross_val_score is: 0.5969115651876852\n"
     ]
    }
   ],
   "source": [
    "from sklearn.svm import SVC\n",
    "svc=SVC(kernel='poly')\n",
    "svc.fit(x_train,y_train)\n",
    "predsvc=svc.predict(x_test)\n",
    "print(\"Accuracy_score is:\",accuracy_score(y_test,predsvc))\n",
    "print(confusion_matrix(y_test,predsvc))\n",
    "print(classification_report(y_test,predsvc))\n",
    "print(\"cross_val_score is:\",cross_val_score(svc,x,y,cv=5).mean())"
   ]
  },
  {
   "cell_type": "markdown",
   "id": "c32cb23b",
   "metadata": {},
   "source": [
    "# RandomForestClassifier"
   ]
  },
  {
   "cell_type": "code",
   "execution_count": 95,
   "id": "13679174",
   "metadata": {},
   "outputs": [
    {
     "name": "stdout",
     "output_type": "stream",
     "text": [
      "Accuracy is 0.9506849315068493\n",
      "[[1759   89]\n",
      " [  91 1711]]\n",
      "              precision    recall  f1-score   support\n",
      "\n",
      "           0       0.95      0.95      0.95      1848\n",
      "           1       0.95      0.95      0.95      1802\n",
      "\n",
      "    accuracy                           0.95      3650\n",
      "   macro avg       0.95      0.95      0.95      3650\n",
      "weighted avg       0.95      0.95      0.95      3650\n",
      "\n",
      "cross_val_score is 0.9245976792290627\n"
     ]
    }
   ],
   "source": [
    "rfc=RandomForestClassifier()\n",
    "rfc.fit(x_train,y_train)\n",
    "predrfc=rfc.predict(x_test)\n",
    "print(\"Accuracy is\",accuracy_score(y_test,predrfc))\n",
    "print(confusion_matrix(y_test,predrfc))\n",
    "print(classification_report(y_test,predrfc))\n",
    "print(\"cross_val_score is\",cross_val_score(rfc,x,y,cv=5).mean())"
   ]
  },
  {
   "cell_type": "markdown",
   "id": "63921bbc",
   "metadata": {},
   "source": [
    "# GradientBoostingClassifier"
   ]
  },
  {
   "cell_type": "code",
   "execution_count": 96,
   "id": "173adcc5",
   "metadata": {},
   "outputs": [
    {
     "name": "stdout",
     "output_type": "stream",
     "text": [
      "Accuracy is 0.9473972602739726\n",
      "[[1766   82]\n",
      " [ 110 1692]]\n",
      "              precision    recall  f1-score   support\n",
      "\n",
      "           0       0.94      0.96      0.95      1848\n",
      "           1       0.95      0.94      0.95      1802\n",
      "\n",
      "    accuracy                           0.95      3650\n",
      "   macro avg       0.95      0.95      0.95      3650\n",
      "weighted avg       0.95      0.95      0.95      3650\n",
      "\n",
      "cross_val_score is 0.928323811740503\n"
     ]
    }
   ],
   "source": [
    "from sklearn.ensemble import GradientBoostingClassifier\n",
    "gbc=GradientBoostingClassifier()\n",
    "gbc.fit(x_train,y_train)\n",
    "predgbc=gbc.predict(x_test)\n",
    "print(\"Accuracy is\",accuracy_score(y_test,predgbc))\n",
    "print(confusion_matrix(y_test,predgbc))\n",
    "print(classification_report(y_test,predgbc))\n",
    "print(\"cross_val_score is\",cross_val_score(gbc,x,y,cv=5).mean())"
   ]
  },
  {
   "cell_type": "markdown",
   "id": "50ba59c1",
   "metadata": {},
   "source": [
    "# Hyper Parameter Tuning"
   ]
  },
  {
   "cell_type": "code",
   "execution_count": 97,
   "id": "4cc029bf",
   "metadata": {},
   "outputs": [
    {
     "name": "stdout",
     "output_type": "stream",
     "text": [
      "accuracyscore 100.0\n",
      "cross val score: 91.23774950540025\n"
     ]
    }
   ],
   "source": [
    "rf=RandomForestClassifier(max_features=3,bootstrap=False)\n",
    "rf.fit(x,y)\n",
    "rf.score(x_train,y_train)\n",
    "pred_decision=rf.predict(x_test)\n",
    "\n",
    "rfs=accuracy_score(y_test,pred_decision)\n",
    "print('accuracyscore',rfs*100)\n",
    "rfscore=cross_val_score(rf,x,y,cv=5)\n",
    "rfc=rfscore.mean()\n",
    "print('cross val score:',rfc*100)\n"
   ]
  },
  {
   "cell_type": "markdown",
   "id": "9ccfccde",
   "metadata": {},
   "source": [
    "# AUC ROC curve"
   ]
  },
  {
   "cell_type": "code",
   "execution_count": 99,
   "id": "65f6086d",
   "metadata": {},
   "outputs": [
    {
     "data": {
      "image/png": "[encoded data removed]",
      "text/plain": [
       "<Figure size 432x288 with 1 Axes>"
      ]
     },
     "metadata": {},
     "output_type": "display_data"
    }
   ],
   "source": [
    "#AUC ROC curve\n",
    "from sklearn import metrics\n",
    "probs=rf.predict_proba(x_test)\n",
    "preds=probs[:,1]\n",
    "fpr,tpr,threshold=metrics.roc_curve(y_test,preds)\n",
    "roc_auc=metrics.auc(fpr,tpr)\n",
    "\n",
    "plt.title('Receiver Operating Characteristic')\n",
    "plt.plot(fpr,tpr,'b',label='AUC=%0.2f'%roc_auc)\n",
    "plt.legend(loc='lower right')\n",
    "plt.plot([0,1],[0,1],'r--')\n",
    "plt.xlim([0,1])\n",
    "plt.ylim([0,1])\n",
    "plt.ylabel('True positive Rate')\n",
    "plt.xlabel('False Poitive Rate')\n",
    "plt.show()"
   ]
  },
  {
   "cell_type": "markdown",
   "id": "e59a0253",
   "metadata": {},
   "source": [
    "# Testing the Model"
   ]
  },
  {
   "cell_type": "code",
   "execution_count": 100,
   "id": "b8011667",
   "metadata": {},
   "outputs": [
    {
     "data": {
      "text/html": [
       "<div>\n",
       "<style scoped>\n",
       "    .dataframe tbody tr th:only-of-type {\n",
       "        vertical-align: middle;\n",
       "    }\n",
       "\n",
       "    .dataframe tbody tr th {\n",
       "        vertical-align: top;\n",
       "    }\n",
       "\n",
       "    .dataframe thead th {\n",
       "        text-align: right;\n",
       "    }\n",
       "</style>\n",
       "<table border=\"1\" class=\"dataframe\">\n",
       "  <thead>\n",
       "    <tr style=\"text-align: right;\">\n",
       "      <th></th>\n",
       "      <th>Actual</th>\n",
       "      <th>Predicted</th>\n",
       "    </tr>\n",
       "  </thead>\n",
       "  <tbody>\n",
       "    <tr>\n",
       "      <th>14192</th>\n",
       "      <td>1</td>\n",
       "      <td>1</td>\n",
       "    </tr>\n",
       "    <tr>\n",
       "      <th>1873</th>\n",
       "      <td>0</td>\n",
       "      <td>0</td>\n",
       "    </tr>\n",
       "    <tr>\n",
       "      <th>7293</th>\n",
       "      <td>0</td>\n",
       "      <td>0</td>\n",
       "    </tr>\n",
       "    <tr>\n",
       "      <th>15087</th>\n",
       "      <td>1</td>\n",
       "      <td>1</td>\n",
       "    </tr>\n",
       "    <tr>\n",
       "      <th>9888</th>\n",
       "      <td>1</td>\n",
       "      <td>1</td>\n",
       "    </tr>\n",
       "    <tr>\n",
       "      <th>...</th>\n",
       "      <td>...</td>\n",
       "      <td>...</td>\n",
       "    </tr>\n",
       "    <tr>\n",
       "      <th>4471</th>\n",
       "      <td>0</td>\n",
       "      <td>0</td>\n",
       "    </tr>\n",
       "    <tr>\n",
       "      <th>12556</th>\n",
       "      <td>1</td>\n",
       "      <td>1</td>\n",
       "    </tr>\n",
       "    <tr>\n",
       "      <th>9063</th>\n",
       "      <td>0</td>\n",
       "      <td>1</td>\n",
       "    </tr>\n",
       "    <tr>\n",
       "      <th>7497</th>\n",
       "      <td>0</td>\n",
       "      <td>0</td>\n",
       "    </tr>\n",
       "    <tr>\n",
       "      <th>9151</th>\n",
       "      <td>1</td>\n",
       "      <td>1</td>\n",
       "    </tr>\n",
       "  </tbody>\n",
       "</table>\n",
       "<p>3650 rows × 2 columns</p>\n",
       "</div>"
      ],
      "text/plain": [
       "       Actual  Predicted\n",
       "14192       1          1\n",
       "1873        0          0\n",
       "7293        0          0\n",
       "15087       1          1\n",
       "9888        1          1\n",
       "...       ...        ...\n",
       "4471        0          0\n",
       "12556       1          1\n",
       "9063        0          1\n",
       "7497        0          0\n",
       "9151        1          1\n",
       "\n",
       "[3650 rows x 2 columns]"
      ]
     },
     "execution_count": 100,
     "metadata": {},
     "output_type": "execute_result"
    }
   ],
   "source": [
    "df=pd.DataFrame({\"Actual\":y_test,\"Predicted\":predrfc})\n",
    "df"
   ]
  },
  {
   "cell_type": "markdown",
   "id": "4bab8b79",
   "metadata": {},
   "source": [
    "Conclusion: Here RandomForestRegressor is giving the r2_score of 97%\n",
    "and RandomForestClassifier as the accuracyscore as 100% and cross_val_score as 91%. so,we accept this model"
   ]
  },
  {
   "cell_type": "markdown",
   "id": "d0111185",
   "metadata": {},
   "source": [
    "# Saving the model"
   ]
  },
  {
   "cell_type": "code",
   "execution_count": 101,
   "id": "6163cf6e",
   "metadata": {},
   "outputs": [],
   "source": [
    "import pickle\n",
    "filename=\"Avacado_AveragePrice_Prediction.pkl\"\n",
    "pickle.dump(rfc,open(filename,'wb'))"
   ]
  },
  {
   "cell_type": "code",
   "execution_count": null,
   "id": "7dc4b7c8",
   "metadata": {},
   "outputs": [],
   "source": []
  }
 ],
 "metadata": {
  "kernelspec": {
   "display_name": "Python 3",
   "language": "python",
   "name": "python3"
  },
  "language_info": {
   "codemirror_mode": {
    "name": "ipython",
    "version": 3
   },
   "file_extension": ".py",
   "mimetype": "text/x-python",
   "name": "python",
   "nbconvert_exporter": "python",
   "pygments_lexer": "ipython3",
   "version": "3.8.8"
  }
 },
 "nbformat": 4,
 "nbformat_minor": 5
}
