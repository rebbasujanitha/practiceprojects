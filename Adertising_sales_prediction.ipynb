{
 "cells": [
  {
   "cell_type": "markdown",
   "id": "cb369263",
   "metadata": {},
   "source": [
    "problem statement:\n",
    "Sales Channel Prediction Case Study  \n",
    "\n",
    "When a company enters a market, the distribution strategy and channel it uses are keys to its success in the market, as well as market know-how and customer knowledge and understanding. Because an effective distribution strategy under efficient supply-chain management opens doors for attaining competitive advantage and strong brand equity in the market, it is a component of the marketing mix that cannot be ignored . \n",
    "\n",
    "The distribution strategy and the channel design have to be right the first time. The case study of Sales channel includes the detailed study of TV, radio and newspaper channel. The predict the total sales generated from all the sales channel.  "
   ]
  },
  {
   "cell_type": "code",
   "execution_count": 1,
   "id": "8dcbf696",
   "metadata": {},
   "outputs": [],
   "source": [
    "import pandas as pd\n",
    "import numpy as np\n",
    "import matplotlib.pyplot as plt\n",
    "import seaborn as sns\n",
    "import warnings\n",
    "warnings.filterwarnings('ignore')\n"
   ]
  },
  {
   "cell_type": "code",
   "execution_count": 2,
   "id": "e70b18c7",
   "metadata": {},
   "outputs": [
    {
     "data": {
      "text/html": [
       "<div>\n",
       "<style scoped>\n",
       "    .dataframe tbody tr th:only-of-type {\n",
       "        vertical-align: middle;\n",
       "    }\n",
       "\n",
       "    .dataframe tbody tr th {\n",
       "        vertical-align: top;\n",
       "    }\n",
       "\n",
       "    .dataframe thead th {\n",
       "        text-align: right;\n",
       "    }\n",
       "</style>\n",
       "<table border=\"1\" class=\"dataframe\">\n",
       "  <thead>\n",
       "    <tr style=\"text-align: right;\">\n",
       "      <th></th>\n",
       "      <th>Unnamed: 0</th>\n",
       "      <th>TV</th>\n",
       "      <th>radio</th>\n",
       "      <th>newspaper</th>\n",
       "      <th>sales</th>\n",
       "    </tr>\n",
       "  </thead>\n",
       "  <tbody>\n",
       "    <tr>\n",
       "      <th>0</th>\n",
       "      <td>1</td>\n",
       "      <td>230.1</td>\n",
       "      <td>37.8</td>\n",
       "      <td>69.2</td>\n",
       "      <td>22.1</td>\n",
       "    </tr>\n",
       "    <tr>\n",
       "      <th>1</th>\n",
       "      <td>2</td>\n",
       "      <td>44.5</td>\n",
       "      <td>39.3</td>\n",
       "      <td>45.1</td>\n",
       "      <td>10.4</td>\n",
       "    </tr>\n",
       "    <tr>\n",
       "      <th>2</th>\n",
       "      <td>3</td>\n",
       "      <td>17.2</td>\n",
       "      <td>45.9</td>\n",
       "      <td>69.3</td>\n",
       "      <td>9.3</td>\n",
       "    </tr>\n",
       "    <tr>\n",
       "      <th>3</th>\n",
       "      <td>4</td>\n",
       "      <td>151.5</td>\n",
       "      <td>41.3</td>\n",
       "      <td>58.5</td>\n",
       "      <td>18.5</td>\n",
       "    </tr>\n",
       "    <tr>\n",
       "      <th>4</th>\n",
       "      <td>5</td>\n",
       "      <td>180.8</td>\n",
       "      <td>10.8</td>\n",
       "      <td>58.4</td>\n",
       "      <td>12.9</td>\n",
       "    </tr>\n",
       "    <tr>\n",
       "      <th>...</th>\n",
       "      <td>...</td>\n",
       "      <td>...</td>\n",
       "      <td>...</td>\n",
       "      <td>...</td>\n",
       "      <td>...</td>\n",
       "    </tr>\n",
       "    <tr>\n",
       "      <th>195</th>\n",
       "      <td>196</td>\n",
       "      <td>38.2</td>\n",
       "      <td>3.7</td>\n",
       "      <td>13.8</td>\n",
       "      <td>7.6</td>\n",
       "    </tr>\n",
       "    <tr>\n",
       "      <th>196</th>\n",
       "      <td>197</td>\n",
       "      <td>94.2</td>\n",
       "      <td>4.9</td>\n",
       "      <td>8.1</td>\n",
       "      <td>9.7</td>\n",
       "    </tr>\n",
       "    <tr>\n",
       "      <th>197</th>\n",
       "      <td>198</td>\n",
       "      <td>177.0</td>\n",
       "      <td>9.3</td>\n",
       "      <td>6.4</td>\n",
       "      <td>12.8</td>\n",
       "    </tr>\n",
       "    <tr>\n",
       "      <th>198</th>\n",
       "      <td>199</td>\n",
       "      <td>283.6</td>\n",
       "      <td>42.0</td>\n",
       "      <td>66.2</td>\n",
       "      <td>25.5</td>\n",
       "    </tr>\n",
       "    <tr>\n",
       "      <th>199</th>\n",
       "      <td>200</td>\n",
       "      <td>232.1</td>\n",
       "      <td>8.6</td>\n",
       "      <td>8.7</td>\n",
       "      <td>13.4</td>\n",
       "    </tr>\n",
       "  </tbody>\n",
       "</table>\n",
       "<p>200 rows × 5 columns</p>\n",
       "</div>"
      ],
      "text/plain": [
       "     Unnamed: 0     TV  radio  newspaper  sales\n",
       "0             1  230.1   37.8       69.2   22.1\n",
       "1             2   44.5   39.3       45.1   10.4\n",
       "2             3   17.2   45.9       69.3    9.3\n",
       "3             4  151.5   41.3       58.5   18.5\n",
       "4             5  180.8   10.8       58.4   12.9\n",
       "..          ...    ...    ...        ...    ...\n",
       "195         196   38.2    3.7       13.8    7.6\n",
       "196         197   94.2    4.9        8.1    9.7\n",
       "197         198  177.0    9.3        6.4   12.8\n",
       "198         199  283.6   42.0       66.2   25.5\n",
       "199         200  232.1    8.6        8.7   13.4\n",
       "\n",
       "[200 rows x 5 columns]"
      ]
     },
     "execution_count": 2,
     "metadata": {},
     "output_type": "execute_result"
    }
   ],
   "source": [
    "df=pd.read_csv(r'C:\\Users\\polasasuresh\\pythonfiles\\adevertising.csv')\n",
    "df"
   ]
  },
  {
   "cell_type": "markdown",
   "id": "04a54c2c",
   "metadata": {},
   "source": [
    "Here our target column is sales which is a continuous type, so we go for regression\n",
    "and there is column named unnamed:0 which gives a serial number it is unnecessary as of now so we can remove it."
   ]
  },
  {
   "cell_type": "code",
   "execution_count": 3,
   "id": "f0118a2e",
   "metadata": {},
   "outputs": [
    {
     "data": {
      "text/plain": [
       "Unnamed: 0      int64\n",
       "TV            float64\n",
       "radio         float64\n",
       "newspaper     float64\n",
       "sales         float64\n",
       "dtype: object"
      ]
     },
     "execution_count": 3,
     "metadata": {},
     "output_type": "execute_result"
    }
   ],
   "source": [
    "df.dtypes"
   ]
  },
  {
   "cell_type": "markdown",
   "id": "d78bc6df",
   "metadata": {},
   "source": [
    "all the columns are of float64 and unnamed:0 is of type int64"
   ]
  },
  {
   "cell_type": "code",
   "execution_count": 4,
   "id": "bbd3a88b",
   "metadata": {},
   "outputs": [
    {
     "data": {
      "text/plain": [
       "Index(['Unnamed: 0', 'TV', 'radio', 'newspaper', 'sales'], dtype='object')"
      ]
     },
     "execution_count": 4,
     "metadata": {},
     "output_type": "execute_result"
    }
   ],
   "source": [
    "df.columns"
   ]
  },
  {
   "cell_type": "markdown",
   "id": "808f39d9",
   "metadata": {},
   "source": [
    "here we have five columns"
   ]
  },
  {
   "cell_type": "code",
   "execution_count": 5,
   "id": "754772f4",
   "metadata": {},
   "outputs": [
    {
     "name": "stdout",
     "output_type": "stream",
     "text": [
      "<class 'pandas.core.frame.DataFrame'>\n",
      "RangeIndex: 200 entries, 0 to 199\n",
      "Data columns (total 5 columns):\n",
      " #   Column      Non-Null Count  Dtype  \n",
      "---  ------      --------------  -----  \n",
      " 0   Unnamed: 0  200 non-null    int64  \n",
      " 1   TV          200 non-null    float64\n",
      " 2   radio       200 non-null    float64\n",
      " 3   newspaper   200 non-null    float64\n",
      " 4   sales       200 non-null    float64\n",
      "dtypes: float64(4), int64(1)\n",
      "memory usage: 7.9 KB\n"
     ]
    }
   ],
   "source": [
    "df.info()"
   ]
  },
  {
   "cell_type": "markdown",
   "id": "a5f12123",
   "metadata": {},
   "source": [
    "info() tells us there are 200 entries and 5 columns and their data types and total memory usage is 7.9 kb "
   ]
  },
  {
   "cell_type": "code",
   "execution_count": 6,
   "id": "97743255",
   "metadata": {},
   "outputs": [
    {
     "data": {
      "text/plain": [
       "(200, 5)"
      ]
     },
     "execution_count": 6,
     "metadata": {},
     "output_type": "execute_result"
    }
   ],
   "source": [
    "df.shape"
   ]
  },
  {
   "cell_type": "markdown",
   "id": "82266f09",
   "metadata": {},
   "source": [
    "shape gives us number of rows 200 and 5 columns present in the dataframe"
   ]
  },
  {
   "cell_type": "markdown",
   "id": "4f7aa953",
   "metadata": {},
   "source": [
    "# EDA"
   ]
  },
  {
   "cell_type": "code",
   "execution_count": 7,
   "id": "8a4f0385",
   "metadata": {},
   "outputs": [
    {
     "data": {
      "text/plain": [
       "Unnamed: 0    0\n",
       "TV            0\n",
       "radio         0\n",
       "newspaper     0\n",
       "sales         0\n",
       "dtype: int64"
      ]
     },
     "execution_count": 7,
     "metadata": {},
     "output_type": "execute_result"
    }
   ],
   "source": [
    "#checking for null values\n",
    "df.isnull().sum()"
   ]
  },
  {
   "cell_type": "markdown",
   "id": "20941961",
   "metadata": {},
   "source": [
    "\n",
    "\n",
    "\n",
    "there are no null values present in the dataset"
   ]
  },
  {
   "cell_type": "code",
   "execution_count": 8,
   "id": "05e0ebb9",
   "metadata": {},
   "outputs": [
    {
     "data": {
      "text/plain": [
       "<AxesSubplot:>"
      ]
     },
     "execution_count": 8,
     "metadata": {},
     "output_type": "execute_result"
    },
    {
     "data": {
      "image/png": "[encoded data removed]",
      "text/plain": [
       "<Figure size 432x288 with 2 Axes>"
      ]
     },
     "metadata": {
      "needs_background": "light"
     },
     "output_type": "display_data"
    }
   ],
   "source": [
    "sns.heatmap(df.isnull())"
   ]
  },
  {
   "cell_type": "markdown",
   "id": "73e6705e",
   "metadata": {},
   "source": [
    "There is no missing data present in the data"
   ]
  },
  {
   "cell_type": "markdown",
   "id": "c6013056",
   "metadata": {},
   "source": [
    "# Statistical Analysis"
   ]
  },
  {
   "cell_type": "code",
   "execution_count": 9,
   "id": "25282303",
   "metadata": {},
   "outputs": [
    {
     "data": {
      "text/html": [
       "<div>\n",
       "<style scoped>\n",
       "    .dataframe tbody tr th:only-of-type {\n",
       "        vertical-align: middle;\n",
       "    }\n",
       "\n",
       "    .dataframe tbody tr th {\n",
       "        vertical-align: top;\n",
       "    }\n",
       "\n",
       "    .dataframe thead th {\n",
       "        text-align: right;\n",
       "    }\n",
       "</style>\n",
       "<table border=\"1\" class=\"dataframe\">\n",
       "  <thead>\n",
       "    <tr style=\"text-align: right;\">\n",
       "      <th></th>\n",
       "      <th>Unnamed: 0</th>\n",
       "      <th>TV</th>\n",
       "      <th>radio</th>\n",
       "      <th>newspaper</th>\n",
       "      <th>sales</th>\n",
       "    </tr>\n",
       "  </thead>\n",
       "  <tbody>\n",
       "    <tr>\n",
       "      <th>count</th>\n",
       "      <td>200.000000</td>\n",
       "      <td>200.000000</td>\n",
       "      <td>200.000000</td>\n",
       "      <td>200.000000</td>\n",
       "      <td>200.000000</td>\n",
       "    </tr>\n",
       "    <tr>\n",
       "      <th>mean</th>\n",
       "      <td>100.500000</td>\n",
       "      <td>147.042500</td>\n",
       "      <td>23.264000</td>\n",
       "      <td>30.554000</td>\n",
       "      <td>14.022500</td>\n",
       "    </tr>\n",
       "    <tr>\n",
       "      <th>std</th>\n",
       "      <td>57.879185</td>\n",
       "      <td>85.854236</td>\n",
       "      <td>14.846809</td>\n",
       "      <td>21.778621</td>\n",
       "      <td>5.217457</td>\n",
       "    </tr>\n",
       "    <tr>\n",
       "      <th>min</th>\n",
       "      <td>1.000000</td>\n",
       "      <td>0.700000</td>\n",
       "      <td>0.000000</td>\n",
       "      <td>0.300000</td>\n",
       "      <td>1.600000</td>\n",
       "    </tr>\n",
       "    <tr>\n",
       "      <th>25%</th>\n",
       "      <td>50.750000</td>\n",
       "      <td>74.375000</td>\n",
       "      <td>9.975000</td>\n",
       "      <td>12.750000</td>\n",
       "      <td>10.375000</td>\n",
       "    </tr>\n",
       "    <tr>\n",
       "      <th>50%</th>\n",
       "      <td>100.500000</td>\n",
       "      <td>149.750000</td>\n",
       "      <td>22.900000</td>\n",
       "      <td>25.750000</td>\n",
       "      <td>12.900000</td>\n",
       "    </tr>\n",
       "    <tr>\n",
       "      <th>75%</th>\n",
       "      <td>150.250000</td>\n",
       "      <td>218.825000</td>\n",
       "      <td>36.525000</td>\n",
       "      <td>45.100000</td>\n",
       "      <td>17.400000</td>\n",
       "    </tr>\n",
       "    <tr>\n",
       "      <th>max</th>\n",
       "      <td>200.000000</td>\n",
       "      <td>296.400000</td>\n",
       "      <td>49.600000</td>\n",
       "      <td>114.000000</td>\n",
       "      <td>27.000000</td>\n",
       "    </tr>\n",
       "  </tbody>\n",
       "</table>\n",
       "</div>"
      ],
      "text/plain": [
       "       Unnamed: 0          TV       radio   newspaper       sales\n",
       "count  200.000000  200.000000  200.000000  200.000000  200.000000\n",
       "mean   100.500000  147.042500   23.264000   30.554000   14.022500\n",
       "std     57.879185   85.854236   14.846809   21.778621    5.217457\n",
       "min      1.000000    0.700000    0.000000    0.300000    1.600000\n",
       "25%     50.750000   74.375000    9.975000   12.750000   10.375000\n",
       "50%    100.500000  149.750000   22.900000   25.750000   12.900000\n",
       "75%    150.250000  218.825000   36.525000   45.100000   17.400000\n",
       "max    200.000000  296.400000   49.600000  114.000000   27.000000"
      ]
     },
     "execution_count": 9,
     "metadata": {},
     "output_type": "execute_result"
    }
   ],
   "source": [
    "df.describe()"
   ]
  },
  {
   "cell_type": "markdown",
   "id": "3b02c846",
   "metadata": {},
   "source": [
    "The count tells that there are equal no of rows present in every column.There is a large gap between 75% and max for newspaper column.for tv and radio the gap is less.  "
   ]
  },
  {
   "cell_type": "markdown",
   "id": "bfe7c5d4",
   "metadata": {},
   "source": [
    "# dropping the column"
   ]
  },
  {
   "cell_type": "code",
   "execution_count": 10,
   "id": "1b16d304",
   "metadata": {},
   "outputs": [],
   "source": [
    "df=df.drop(\"Unnamed: 0\",axis=1)"
   ]
  },
  {
   "cell_type": "code",
   "execution_count": 11,
   "id": "274e3dcc",
   "metadata": {},
   "outputs": [
    {
     "data": {
      "text/html": [
       "<div>\n",
       "<style scoped>\n",
       "    .dataframe tbody tr th:only-of-type {\n",
       "        vertical-align: middle;\n",
       "    }\n",
       "\n",
       "    .dataframe tbody tr th {\n",
       "        vertical-align: top;\n",
       "    }\n",
       "\n",
       "    .dataframe thead th {\n",
       "        text-align: right;\n",
       "    }\n",
       "</style>\n",
       "<table border=\"1\" class=\"dataframe\">\n",
       "  <thead>\n",
       "    <tr style=\"text-align: right;\">\n",
       "      <th></th>\n",
       "      <th>TV</th>\n",
       "      <th>radio</th>\n",
       "      <th>newspaper</th>\n",
       "      <th>sales</th>\n",
       "    </tr>\n",
       "  </thead>\n",
       "  <tbody>\n",
       "    <tr>\n",
       "      <th>0</th>\n",
       "      <td>230.1</td>\n",
       "      <td>37.8</td>\n",
       "      <td>69.2</td>\n",
       "      <td>22.1</td>\n",
       "    </tr>\n",
       "    <tr>\n",
       "      <th>1</th>\n",
       "      <td>44.5</td>\n",
       "      <td>39.3</td>\n",
       "      <td>45.1</td>\n",
       "      <td>10.4</td>\n",
       "    </tr>\n",
       "    <tr>\n",
       "      <th>2</th>\n",
       "      <td>17.2</td>\n",
       "      <td>45.9</td>\n",
       "      <td>69.3</td>\n",
       "      <td>9.3</td>\n",
       "    </tr>\n",
       "    <tr>\n",
       "      <th>3</th>\n",
       "      <td>151.5</td>\n",
       "      <td>41.3</td>\n",
       "      <td>58.5</td>\n",
       "      <td>18.5</td>\n",
       "    </tr>\n",
       "    <tr>\n",
       "      <th>4</th>\n",
       "      <td>180.8</td>\n",
       "      <td>10.8</td>\n",
       "      <td>58.4</td>\n",
       "      <td>12.9</td>\n",
       "    </tr>\n",
       "    <tr>\n",
       "      <th>...</th>\n",
       "      <td>...</td>\n",
       "      <td>...</td>\n",
       "      <td>...</td>\n",
       "      <td>...</td>\n",
       "    </tr>\n",
       "    <tr>\n",
       "      <th>195</th>\n",
       "      <td>38.2</td>\n",
       "      <td>3.7</td>\n",
       "      <td>13.8</td>\n",
       "      <td>7.6</td>\n",
       "    </tr>\n",
       "    <tr>\n",
       "      <th>196</th>\n",
       "      <td>94.2</td>\n",
       "      <td>4.9</td>\n",
       "      <td>8.1</td>\n",
       "      <td>9.7</td>\n",
       "    </tr>\n",
       "    <tr>\n",
       "      <th>197</th>\n",
       "      <td>177.0</td>\n",
       "      <td>9.3</td>\n",
       "      <td>6.4</td>\n",
       "      <td>12.8</td>\n",
       "    </tr>\n",
       "    <tr>\n",
       "      <th>198</th>\n",
       "      <td>283.6</td>\n",
       "      <td>42.0</td>\n",
       "      <td>66.2</td>\n",
       "      <td>25.5</td>\n",
       "    </tr>\n",
       "    <tr>\n",
       "      <th>199</th>\n",
       "      <td>232.1</td>\n",
       "      <td>8.6</td>\n",
       "      <td>8.7</td>\n",
       "      <td>13.4</td>\n",
       "    </tr>\n",
       "  </tbody>\n",
       "</table>\n",
       "<p>200 rows × 4 columns</p>\n",
       "</div>"
      ],
      "text/plain": [
       "        TV  radio  newspaper  sales\n",
       "0    230.1   37.8       69.2   22.1\n",
       "1     44.5   39.3       45.1   10.4\n",
       "2     17.2   45.9       69.3    9.3\n",
       "3    151.5   41.3       58.5   18.5\n",
       "4    180.8   10.8       58.4   12.9\n",
       "..     ...    ...        ...    ...\n",
       "195   38.2    3.7       13.8    7.6\n",
       "196   94.2    4.9        8.1    9.7\n",
       "197  177.0    9.3        6.4   12.8\n",
       "198  283.6   42.0       66.2   25.5\n",
       "199  232.1    8.6        8.7   13.4\n",
       "\n",
       "[200 rows x 4 columns]"
      ]
     },
     "execution_count": 11,
     "metadata": {},
     "output_type": "execute_result"
    }
   ],
   "source": [
    "df"
   ]
  },
  {
   "cell_type": "markdown",
   "id": "03bc5a40",
   "metadata": {},
   "source": [
    "we have droped the Unnamed column :0"
   ]
  },
  {
   "cell_type": "markdown",
   "id": "c00857e3",
   "metadata": {},
   "source": [
    "# Data Visualization"
   ]
  },
  {
   "cell_type": "markdown",
   "id": "1a04adc2",
   "metadata": {},
   "source": [
    "# Univariate Analysis"
   ]
  },
  {
   "cell_type": "code",
   "execution_count": 82,
   "id": "c283e3ac",
   "metadata": {},
   "outputs": [
    {
     "data": {
      "text/plain": [
       "Text(0.5, 0, 'TV')"
      ]
     },
     "execution_count": 82,
     "metadata": {},
     "output_type": "execute_result"
    },
    {
     "data": {
      "image/png": "[encoded data removed]",
      "text/plain": [
       "<Figure size 1008x504 with 1 Axes>"
      ]
     },
     "metadata": {
      "needs_background": "light"
     },
     "output_type": "display_data"
    }
   ],
   "source": [
    "plt.figure(figsize=(14,7))\n",
    "sns.boxplot(df['TV'])\n",
    "plt.title(\"TV\")\n",
    "plt.xlabel('TV')"
   ]
  },
  {
   "cell_type": "code",
   "execution_count": 79,
   "id": "50425441",
   "metadata": {},
   "outputs": [
    {
     "data": {
      "text/plain": [
       "Text(0.5, 0, 'radio')"
      ]
     },
     "execution_count": 79,
     "metadata": {},
     "output_type": "execute_result"
    },
    {
     "data": {
      "image/png": "[encoded data removed]",
      "text/plain": [
       "<Figure size 1008x504 with 1 Axes>"
      ]
     },
     "metadata": {
      "needs_background": "light"
     },
     "output_type": "display_data"
    }
   ],
   "source": [
    "plt.figure(figsize=(14,7))\n",
    "sns.boxplot(df['radio'])\n",
    "plt.title(\"radio\")\n",
    "plt.xlabel('radio')"
   ]
  },
  {
   "cell_type": "code",
   "execution_count": 80,
   "id": "2347006d",
   "metadata": {},
   "outputs": [
    {
     "data": {
      "text/plain": [
       "Text(0.5, 0, 'newspaper')"
      ]
     },
     "execution_count": 80,
     "metadata": {},
     "output_type": "execute_result"
    },
    {
     "data": {
      "image/png": "[encoded data removed]",
      "text/plain": [
       "<Figure size 1008x504 with 1 Axes>"
      ]
     },
     "metadata": {
      "needs_background": "light"
     },
     "output_type": "display_data"
    }
   ],
   "source": [
    "plt.figure(figsize=(14,7))\n",
    "sns.boxplot(df['newspaper'])\n",
    "plt.title(\"newspaper\")\n",
    "plt.xlabel('newspaper')"
   ]
  },
  {
   "cell_type": "markdown",
   "id": "0477ef16",
   "metadata": {},
   "source": [
    "From the above boxplots we can observe that \"TV\" and \"radio\" are plotted and clearly, newspaper may contain data points out side of the quartiles,this may be an outliers present in newspaper column"
   ]
  },
  {
   "cell_type": "markdown",
   "id": "c8b8e160",
   "metadata": {},
   "source": [
    "# Bivariate Analysis"
   ]
  },
  {
   "cell_type": "code",
   "execution_count": 12,
   "id": "d30f64b9",
   "metadata": {},
   "outputs": [
    {
     "data": {
      "image/png": "[encoded data removed]",
      "text/plain": [
       "<Figure size 1008x504 with 1 Axes>"
      ]
     },
     "metadata": {
      "needs_background": "light"
     },
     "output_type": "display_data"
    }
   ],
   "source": [
    "plt.figure(figsize=(14,7))\n",
    "sns.scatterplot(x='sales',y='TV',data=df)\n",
    "plt.title(\" TV vs Sales\")\n",
    "plt.xlabel('sales')\n",
    "plt.ylabel('TV')\n",
    "plt.show()"
   ]
  },
  {
   "cell_type": "markdown",
   "id": "fb62cf99",
   "metadata": {},
   "source": [
    "AS advertising in Tv makes the sales incresing"
   ]
  },
  {
   "cell_type": "code",
   "execution_count": 13,
   "id": "5f67ed8f",
   "metadata": {},
   "outputs": [
    {
     "data": {
      "image/png": "[encoded data removed]",
      "text/plain": [
       "<Figure size 1008x504 with 1 Axes>"
      ]
     },
     "metadata": {
      "needs_background": "light"
     },
     "output_type": "display_data"
    }
   ],
   "source": [
    "plt.figure(figsize=(14,7))\n",
    "\n",
    "sns.scatterplot(x='sales',y='radio',data=df)\n",
    "\n",
    "plt.title(\" radio vs Sales\")\n",
    "plt.xlabel('sales')\n",
    "plt.ylabel('radio')\n",
    "plt.show()"
   ]
  },
  {
   "cell_type": "code",
   "execution_count": 14,
   "id": "cf93e618",
   "metadata": {},
   "outputs": [
    {
     "data": {
      "image/png": "[encoded data removed]",
      "text/plain": [
       "<Figure size 1008x504 with 1 Axes>"
      ]
     },
     "metadata": {
      "needs_background": "light"
     },
     "output_type": "display_data"
    }
   ],
   "source": [
    "plt.figure(figsize=(14,7))\n",
    "\n",
    "sns.scatterplot(x='sales',y='newspaper',data=df)\n",
    "\n",
    "plt.title(\" newspaper vs Sales\")\n",
    "plt.xlabel('sales')\n",
    "plt.ylabel('newspaper')\n",
    "plt.show()"
   ]
  },
  {
   "cell_type": "markdown",
   "id": "0fcca917",
   "metadata": {},
   "source": [
    "From the above scatter plot we can observe that \"TV\" and \"Radio \" are linearly related to sales, as newspaper channel is not that much related to sales "
   ]
  },
  {
   "cell_type": "markdown",
   "id": "46c35acb",
   "metadata": {},
   "source": [
    "# LinePlot"
   ]
  },
  {
   "cell_type": "code",
   "execution_count": 15,
   "id": "d6460c94",
   "metadata": {},
   "outputs": [
    {
     "data": {
      "text/plain": [
       "<AxesSubplot:xlabel='sales', ylabel='TV'>"
      ]
     },
     "execution_count": 15,
     "metadata": {},
     "output_type": "execute_result"
    },
    {
     "data": {
      "image/png": "[encoded data removed]",
      "text/plain": [
       "<Figure size 432x288 with 1 Axes>"
      ]
     },
     "metadata": {
      "needs_background": "light"
     },
     "output_type": "display_data"
    }
   ],
   "source": [
    "sns.lineplot(x='sales',y='TV',data=df)"
   ]
  },
  {
   "cell_type": "code",
   "execution_count": 16,
   "id": "f8889439",
   "metadata": {},
   "outputs": [
    {
     "data": {
      "text/plain": [
       "<AxesSubplot:xlabel='sales', ylabel='radio'>"
      ]
     },
     "execution_count": 16,
     "metadata": {},
     "output_type": "execute_result"
    },
    {
     "data": {
      "image/png": "[encoded data removed]",
      "text/plain": [
       "<Figure size 432x288 with 1 Axes>"
      ]
     },
     "metadata": {
      "needs_background": "light"
     },
     "output_type": "display_data"
    }
   ],
   "source": [
    "sns.lineplot(x='sales',y='radio',data=df)"
   ]
  },
  {
   "cell_type": "code",
   "execution_count": 17,
   "id": "6ed96e5c",
   "metadata": {},
   "outputs": [
    {
     "data": {
      "text/plain": [
       "<AxesSubplot:xlabel='sales', ylabel='newspaper'>"
      ]
     },
     "execution_count": 17,
     "metadata": {},
     "output_type": "execute_result"
    },
    {
     "data": {
      "image/png": "[encoded data removed]",
      "text/plain": [
       "<Figure size 432x288 with 1 Axes>"
      ]
     },
     "metadata": {
      "needs_background": "light"
     },
     "output_type": "display_data"
    }
   ],
   "source": [
    "sns.lineplot(x='sales',y='newspaper',data=df)"
   ]
  },
  {
   "cell_type": "markdown",
   "id": "dac5d87e",
   "metadata": {},
   "source": [
    "From the above lineplot as the 'TV','Radio' promotions are increasing sales is also increasing,but throgh newspaper advertisements is not showing the increment in sales."
   ]
  },
  {
   "cell_type": "markdown",
   "id": "d80e9336",
   "metadata": {},
   "source": [
    "# Correlation"
   ]
  },
  {
   "cell_type": "code",
   "execution_count": 18,
   "id": "844f392d",
   "metadata": {},
   "outputs": [
    {
     "data": {
      "text/html": [
       "<div>\n",
       "<style scoped>\n",
       "    .dataframe tbody tr th:only-of-type {\n",
       "        vertical-align: middle;\n",
       "    }\n",
       "\n",
       "    .dataframe tbody tr th {\n",
       "        vertical-align: top;\n",
       "    }\n",
       "\n",
       "    .dataframe thead th {\n",
       "        text-align: right;\n",
       "    }\n",
       "</style>\n",
       "<table border=\"1\" class=\"dataframe\">\n",
       "  <thead>\n",
       "    <tr style=\"text-align: right;\">\n",
       "      <th></th>\n",
       "      <th>TV</th>\n",
       "      <th>radio</th>\n",
       "      <th>newspaper</th>\n",
       "      <th>sales</th>\n",
       "    </tr>\n",
       "  </thead>\n",
       "  <tbody>\n",
       "    <tr>\n",
       "      <th>TV</th>\n",
       "      <td>1.000000</td>\n",
       "      <td>0.054809</td>\n",
       "      <td>0.056648</td>\n",
       "      <td>0.782224</td>\n",
       "    </tr>\n",
       "    <tr>\n",
       "      <th>radio</th>\n",
       "      <td>0.054809</td>\n",
       "      <td>1.000000</td>\n",
       "      <td>0.354104</td>\n",
       "      <td>0.576223</td>\n",
       "    </tr>\n",
       "    <tr>\n",
       "      <th>newspaper</th>\n",
       "      <td>0.056648</td>\n",
       "      <td>0.354104</td>\n",
       "      <td>1.000000</td>\n",
       "      <td>0.228299</td>\n",
       "    </tr>\n",
       "    <tr>\n",
       "      <th>sales</th>\n",
       "      <td>0.782224</td>\n",
       "      <td>0.576223</td>\n",
       "      <td>0.228299</td>\n",
       "      <td>1.000000</td>\n",
       "    </tr>\n",
       "  </tbody>\n",
       "</table>\n",
       "</div>"
      ],
      "text/plain": [
       "                 TV     radio  newspaper     sales\n",
       "TV         1.000000  0.054809   0.056648  0.782224\n",
       "radio      0.054809  1.000000   0.354104  0.576223\n",
       "newspaper  0.056648  0.354104   1.000000  0.228299\n",
       "sales      0.782224  0.576223   0.228299  1.000000"
      ]
     },
     "execution_count": 18,
     "metadata": {},
     "output_type": "execute_result"
    }
   ],
   "source": [
    "df.corr()"
   ]
  },
  {
   "cell_type": "code",
   "execution_count": 19,
   "id": "95b03008",
   "metadata": {},
   "outputs": [
    {
     "data": {
      "text/plain": [
       "<AxesSubplot:>"
      ]
     },
     "execution_count": 19,
     "metadata": {},
     "output_type": "execute_result"
    },
    {
     "data": {
      "image/png": "[encoded data removed]",
      "text/plain": [
       "<Figure size 1008x504 with 2 Axes>"
      ]
     },
     "metadata": {
      "needs_background": "light"
     },
     "output_type": "display_data"
    }
   ],
   "source": [
    "plt.figure(figsize=(14,7))\n",
    "sns.heatmap(df.corr(),annot=True,linewidth=0.5,fmt='.2f')"
   ]
  },
  {
   "cell_type": "code",
   "execution_count": 20,
   "id": "3b22a728",
   "metadata": {},
   "outputs": [
    {
     "data": {
      "text/plain": [
       "newspaper    0.228299\n",
       "radio        0.576223\n",
       "TV           0.782224\n",
       "sales        1.000000\n",
       "Name: sales, dtype: float64"
      ]
     },
     "execution_count": 20,
     "metadata": {},
     "output_type": "execute_result"
    }
   ],
   "source": [
    "df.corr().sales.sort_values()"
   ]
  },
  {
   "cell_type": "markdown",
   "id": "5760291d",
   "metadata": {},
   "source": [
    "from the above heat map we can observethat there is no negative correlation between independent variables and dependent.\n",
    "\"TV\" is highly correlated with sales"
   ]
  },
  {
   "cell_type": "markdown",
   "id": "0453cf7d",
   "metadata": {},
   "source": [
    "# Outliers checking"
   ]
  },
  {
   "cell_type": "code",
   "execution_count": 21,
   "id": "603011ef",
   "metadata": {},
   "outputs": [
    {
     "data": {
      "text/plain": [
       "TV              AxesSubplot(0.125,0.125;0.168478x0.755)\n",
       "radio        AxesSubplot(0.327174,0.125;0.168478x0.755)\n",
       "newspaper    AxesSubplot(0.529348,0.125;0.168478x0.755)\n",
       "sales        AxesSubplot(0.731522,0.125;0.168478x0.755)\n",
       "dtype: object"
      ]
     },
     "execution_count": 21,
     "metadata": {},
     "output_type": "execute_result"
    },
    {
     "data": {
      "image/png": "[encoded data removed]",
      "text/plain": [
       "<Figure size 720x576 with 4 Axes>"
      ]
     },
     "metadata": {
      "needs_background": "light"
     },
     "output_type": "display_data"
    }
   ],
   "source": [
    "df.plot(kind=\"box\",subplots=True,layout=(1,4),figsize=(10,8))"
   ]
  },
  {
   "cell_type": "markdown",
   "id": "359d718a",
   "metadata": {},
   "source": [
    "from the above boxplot we observe that there is some outliers present in the newspaper column"
   ]
  },
  {
   "cell_type": "markdown",
   "id": "9a423a9d",
   "metadata": {},
   "source": [
    "\n",
    "# Skewness"
   ]
  },
  {
   "cell_type": "code",
   "execution_count": 22,
   "id": "5d7c30e6",
   "metadata": {},
   "outputs": [
    {
     "data": {
      "text/plain": [
       "<AxesSubplot:xlabel='TV', ylabel='Density'>"
      ]
     },
     "execution_count": 22,
     "metadata": {},
     "output_type": "execute_result"
    },
    {
     "data": {
      "image/png": "[encoded data removed]",
      "text/plain": [
       "<Figure size 432x288 with 1 Axes>"
      ]
     },
     "metadata": {
      "needs_background": "light"
     },
     "output_type": "display_data"
    }
   ],
   "source": [
    "sns.distplot(df['TV'])"
   ]
  },
  {
   "cell_type": "code",
   "execution_count": 23,
   "id": "476989b4",
   "metadata": {},
   "outputs": [
    {
     "data": {
      "text/plain": [
       "<AxesSubplot:xlabel='radio', ylabel='Density'>"
      ]
     },
     "execution_count": 23,
     "metadata": {},
     "output_type": "execute_result"
    },
    {
     "data": {
      "image/png": "[encoded data removed]",
      "text/plain": [
       "<Figure size 432x288 with 1 Axes>"
      ]
     },
     "metadata": {
      "needs_background": "light"
     },
     "output_type": "display_data"
    }
   ],
   "source": [
    "sns.distplot(df['radio'])"
   ]
  },
  {
   "cell_type": "code",
   "execution_count": 24,
   "id": "0224f10a",
   "metadata": {},
   "outputs": [
    {
     "data": {
      "text/plain": [
       "<AxesSubplot:xlabel='newspaper', ylabel='Density'>"
      ]
     },
     "execution_count": 24,
     "metadata": {},
     "output_type": "execute_result"
    },
    {
     "data": {
      "image/png": "[encoded data removed]",
      "text/plain": [
       "<Figure size 432x288 with 1 Axes>"
      ]
     },
     "metadata": {
      "needs_background": "light"
     },
     "output_type": "display_data"
    }
   ],
   "source": [
    "sns.distplot(df['newspaper'])"
   ]
  },
  {
   "cell_type": "markdown",
   "id": "e7764949",
   "metadata": {},
   "source": [
    "from the above distribution plots \"TV\" and \"Radio\" are having the bell shaped curve and the newspaper is right skewed\n",
    "the threshold for skewness is +/- 0.5"
   ]
  },
  {
   "cell_type": "code",
   "execution_count": 25,
   "id": "8ecdfcbc",
   "metadata": {},
   "outputs": [
    {
     "data": {
      "text/plain": [
       "TV          -0.069853\n",
       "radio        0.094175\n",
       "newspaper    0.894720\n",
       "sales        0.407571\n",
       "dtype: float64"
      ]
     },
     "execution_count": 25,
     "metadata": {},
     "output_type": "execute_result"
    }
   ],
   "source": [
    "df.skew()"
   ]
  },
  {
   "cell_type": "markdown",
   "id": "4ff63263",
   "metadata": {},
   "source": [
    "the threshold for skewness is +/-0.5.The \"TV\" and \"Radio\"are under the threshold value the newspaper is not"
   ]
  },
  {
   "cell_type": "markdown",
   "id": "447572b3",
   "metadata": {},
   "source": [
    "# DataPreprocessing"
   ]
  },
  {
   "cell_type": "code",
   "execution_count": 26,
   "id": "1a3ccf62",
   "metadata": {},
   "outputs": [
    {
     "data": {
      "text/plain": [
       "array([[9.69852266e-01, 9.81522472e-01, 1.77894547e+00, 1.55205313e+00],\n",
       "       [1.19737623e+00, 1.08280781e+00, 6.69578760e-01, 6.96046111e-01],\n",
       "       [1.51615499e+00, 1.52846331e+00, 1.78354865e+00, 9.07405869e-01],\n",
       "       [5.20496822e-02, 1.21785493e+00, 1.28640506e+00, 8.60330287e-01],\n",
       "       [3.94182198e-01, 8.41613655e-01, 1.28180188e+00, 2.15683025e-01],\n",
       "       [1.61540845e+00, 1.73103399e+00, 2.04592999e+00, 1.31091086e+00],\n",
       "       [1.04557682e+00, 6.43904671e-01, 3.24708413e-01, 4.27042783e-01],\n",
       "       [3.13436589e-01, 2.47406325e-01, 8.72486994e-01, 1.58039455e-01],\n",
       "       [1.61657614e+00, 1.42906863e+00, 1.36042422e+00, 1.77205942e+00],\n",
       "       [6.16042873e-01, 1.39530685e+00, 4.30581584e-01, 6.57617064e-01],\n",
       "       [9.45155670e-01, 1.17923146e+00, 2.92486143e-01, 1.04190753e+00],\n",
       "       [7.90028350e-01, 4.96973404e-02, 1.22232878e+00, 6.48970529e-01],\n",
       "       [1.43908760e+00, 7.99208859e-01, 1.62704048e+00, 9.26620392e-01],\n",
       "       [5.78501712e-01, 1.05768905e+00, 1.07502697e+00, 8.30547775e-01],\n",
       "       [6.66253447e-01, 6.50657027e-01, 7.11007392e-01, 9.56402904e-01],\n",
       "       [5.64664612e-01, 1.65000572e+00, 1.02862691e+00, 1.60969670e+00],\n",
       "       [9.25304978e-01, 9.00494200e-01, 3.84117072e+00, 2.92541119e-01],\n",
       "       [1.56887609e+00, 1.10306488e+00, 1.16211917e+00, 1.99398717e+00],\n",
       "       [9.08957349e-01, 1.86635121e-01, 5.64073843e-01, 5.23115400e-01],\n",
       "       [3.00679600e-03, 4.29449843e-02, 5.27248393e-01, 1.10963873e-01],\n",
       "       [8.33232798e-01, 2.99534513e-01, 1.05164281e+00, 7.64257669e-01],\n",
       "       [1.05509347e+00, 1.22649795e+00, 3.24708413e-01, 2.92541119e-01],\n",
       "       [1.56286250e+00, 4.97243498e-01, 8.76721921e-01, 1.61834324e+00],\n",
       "       [9.48833887e-01, 4.29719938e-01, 2.00422516e-01, 2.83894584e-01],\n",
       "       [9.89527805e-01, 7.20071247e-01, 5.64073843e-01, 8.30547775e-01],\n",
       "       [1.35285385e+00, 1.33453565e+00, 5.08835667e-01, 3.88613736e-01],\n",
       "       [4.83714657e-02, 4.07572210e-01, 8.26455181e-01, 1.87821967e-01],\n",
       "       [1.08662104e+00, 4.43224650e-01, 3.52327501e-01, 3.60752677e-01],\n",
       "       [1.18820988e+00, 2.59020377e-01, 3.52327501e-01, 9.37188380e-01],\n",
       "       [8.92609721e-01, 4.90491142e-01, 4.71641962e-01, 6.76831588e-01],\n",
       "       [1.70316018e+00, 3.40048650e-01, 5.82118314e-01, 1.41755147e+00],\n",
       "       [3.98677796e-01, 3.95958157e-01, 3.70371972e-01, 4.07828260e-01],\n",
       "       [5.82004775e-01, 1.46958277e+00, 2.55016247e-02, 8.49762299e-01],\n",
       "       [1.38438142e+00, 2.20396901e-01, 1.39264649e+00, 6.48970529e-01],\n",
       "       [5.99520091e-01, 1.47633512e+00, 1.06582061e+00, 8.68976822e-01],\n",
       "       [1.67747105e+00, 1.29402151e+00, 1.01518562e+00, 2.34897549e-01],\n",
       "       [1.39956136e+00, 1.38666383e+00, 1.17629696e+00, 2.18613240e+00],\n",
       "       [8.44734522e-01, 1.76479577e+00, 6.97197848e-01, 1.30178396e-01],\n",
       "       [1.21372386e+00, 2.32010953e-01, 2.09260624e-01, 7.53689682e-01],\n",
       "       [9.45330823e-01, 9.74770116e-01, 6.65620024e-02, 1.43676599e+00],\n",
       "       [6.47570443e-01, 6.50927121e-02, 4.81492770e-02, 4.95254341e-01],\n",
       "       [3.49810063e-01, 6.84418807e-01, 3.74975153e-01, 5.91326959e-01],\n",
       "       [1.71133400e+00, 2.99534513e-01, 1.32359877e+00, 1.28304980e+00],\n",
       "       [6.98948705e-01, 1.00367020e+00, 1.91216154e-01, 2.15683025e-01],\n",
       "       [1.42390765e+00, 1.64487393e-01, 5.86721496e-01, 1.06112206e+00],\n",
       "       [3.27623995e-01, 5.15880000e-02, 4.35460956e-02, 1.68607443e-01],\n",
       "       [6.69581357e-01, 9.02384859e-01, 2.36879713e-01, 6.57617064e-01],\n",
       "       [1.08428567e+00, 1.23135965e+00, 5.54867481e-01, 1.76341289e+00],\n",
       "       [9.35989321e-01, 5.03995854e-01, 8.90531465e-01, 1.49392920e-01],\n",
       "       [9.35814168e-01, 7.80842451e-01, 2.87514708e-01, 8.30547775e-01],\n",
       "       [6.16042873e-01, 1.36154507e+00, 1.86244718e-01, 5.03900877e-01],\n",
       "       [5.44638766e-01, 9.22641928e-01, 1.24074150e+00, 6.38402541e-01],\n",
       "       [8.09879042e-01, 1.24486436e+00, 4.16403786e-01, 1.64812575e+00],\n",
       "       [4.15200577e-01, 1.54872038e+00, 1.29561142e+00, 1.37912242e+00],\n",
       "       [1.35051848e+00, 3.73810430e-01, 6.74550196e-01, 1.18697718e+00],\n",
       "       [6.05533683e-01, 1.76479577e+00, 1.35545278e+00, 1.85948550e+00],\n",
       "       [1.63175608e+00, 3.26543937e-01, 4.99261050e-01, 1.63755776e+00],\n",
       "       [1.26606546e-01, 2.74415749e-01, 6.42327927e-01, 1.58039455e-01],\n",
       "       [7.44488528e-01, 1.77830048e+00, 3.28943340e-01, 1.87870003e+00],\n",
       "       [7.43320840e-01, 4.21076922e-01, 9.78360166e-01, 8.41115763e-01],\n",
       "       [1.09228433e+00, 1.43582099e+00, 4.21375221e-01, 1.13798015e+00],\n",
       "       [1.33417085e+00, 1.31238792e+00, 1.11148417e+00, 1.95555812e+00],\n",
       "       [1.07727954e+00, 5.24252922e-01, 1.49787521e-01, 3.22323631e-01],\n",
       "       [5.17781948e-01, 4.27829278e-01, 1.01978880e+00, 4.32326777e-03],\n",
       "       [1.86158622e-01, 1.31914027e+00, 7.61366196e-02, 7.64257669e-01],\n",
       "       [9.11292725e-01, 9.42898996e-01, 1.36502740e+00, 9.07405869e-01],\n",
       "       [1.34917564e+00, 9.02114765e-02, 1.30518604e+00, 8.68976822e-01],\n",
       "       [9.04082253e-02, 5.91776482e-01, 9.36931533e-01, 1.19610408e-01],\n",
       "       [1.05509347e+00, 2.86029801e-01, 9.00106083e-01, 9.37188380e-01],\n",
       "       [8.14549794e-01, 1.39341619e+00, 1.54390703e-01, 1.59048218e+00],\n",
       "       [6.07869059e-01, 4.95352838e-01, 3.74975153e-01, 8.21901240e-01],\n",
       "       [4.34876116e-01, 6.05281194e-01, 5.27524584e-02, 3.11755643e-01],\n",
       "       [1.40405696e+00, 6.57409383e-01, 5.18042030e-01, 1.00347849e+00],\n",
       "       [2.06009314e-01, 1.18598381e+00, 3.43397329e-02, 5.80758971e-01],\n",
       "       [7.74848409e-01, 9.02114765e-02, 8.03439274e-01, 5.72112435e-01],\n",
       "       [1.51965805e+00, 1.37991148e+00, 2.70878810e+00, 1.02269301e+00],\n",
       "       [1.39588315e+00, 1.46283041e+00, 4.53597491e-01, 1.36855443e+00],\n",
       "       [3.09933525e-01, 3.53553362e-01, 7.52804279e-01, 3.41057791e-02],\n",
       "       [1.65394214e+00, 4.48086346e-01, 9.73756984e-01, 1.67598681e+00],\n",
       "       [3.62479475e-01, 1.05093669e+00, 3.43121138e-01, 5.80758971e-01],\n",
       "       [8.24883830e-01, 2.32010953e-01, 3.79946589e-01, 4.27042783e-01],\n",
       "       [1.08311798e+00, 1.29402151e+00, 2.92117889e-01, 3.30970166e-01],\n",
       "       [8.37728396e-01, 2.00139833e-01, 8.95779092e-02, 5.23115400e-01],\n",
       "       [9.18298852e-01, 1.43393033e+00, 2.32276531e-01, 8.11813615e-02],\n",
       "       [7.76016097e-01, 1.33264499e+00, 1.49419267e-01, 1.47519504e+00],\n",
       "       [5.38975481e-01, 3.28434597e-01, 1.61783412e+00, 2.26251013e-01],\n",
       "       [8.26051518e-01, 2.86029801e-01, 6.69947015e-01, 3.88613736e-01],\n",
       "       [4.24366926e-01, 1.17058844e+00, 1.50275459e+00, 3.79967201e-01],\n",
       "       [6.85928986e-01, 1.50982681e-01, 1.97227908e+00, 2.15683025e-01],\n",
       "       [4.34876116e-01, 1.65675807e+00, 9.59579186e-01, 5.14468865e-01],\n",
       "       [1.48792614e-01, 1.24000266e+00, 9.78360166e-01, 5.42329924e-01],\n",
       "       [1.38303858e+00, 1.46958277e+00, 1.12593816e-01, 1.29169634e+00],\n",
       "       [8.25058983e-01, 6.91171163e-01, 1.30942097e+00, 1.03326100e+00],\n",
       "       [1.21273132e+00, 8.93741844e-01, 1.92164409e+00, 1.57126765e+00],\n",
       "       [4.62900623e-01, 6.25538262e-01, 9.04709264e-01, 4.84686354e-01],\n",
       "       [1.89836839e-01, 5.62876398e-01, 1.02862691e+00, 5.52897912e-01],\n",
       "       [5.90353742e-01, 1.33453565e+00, 1.13486833e+00, 4.46257307e-01],\n",
       "       [4.42057396e-01, 1.52873340e-01, 3.93756133e-01, 2.83894584e-01],\n",
       "       [1.66579418e+00, 1.28537849e+00, 9.50372823e-01, 2.18613240e+00],\n",
       "       [1.38283424e-01, 1.24486436e+00, 7.06404211e-01, 6.10541482e-01],\n",
       "       [8.79940308e-01, 1.28051680e+00, 8.85928284e-01, 4.46257307e-01],\n",
       "       [1.74402926e+00, 8.80237132e-01, 3.23815396e+00, 1.87870003e+00],\n",
       "       [1.55486384e+00, 8.88880147e-01, 4.21375221e-01, 1.49392920e-01],\n",
       "       [4.77088029e-01, 4.09462869e-01, 5.82486569e-01, 1.30178396e-01],\n",
       "       [1.06443498e+00, 7.45190011e-01, 1.16248742e+00, 1.28304980e+00],\n",
       "       [1.06755854e-01, 1.56222509e+00, 1.30942097e+00, 9.94831951e-01],\n",
       "       [1.42507534e+00, 8.28108943e-01, 3.93111688e-02, 1.31091086e+00],\n",
       "       [6.61407543e-01, 1.55061104e+00, 3.38517957e-01, 1.02269301e+00],\n",
       "       [1.56403019e+00, 1.54385868e+00, 2.28041604e-01, 1.67598681e+00],\n",
       "       [1.26527727e+00, 2.45515665e-01, 1.15328106e+00, 1.11011909e+00],\n",
       "       [9.19641692e-01, 1.01717491e+00, 1.19434143e+00, 1.19610408e-01],\n",
       "       [1.10530405e+00, 9.95027184e-01, 3.38517957e-01, 1.49440956e+00],\n",
       "       [3.34630122e-01, 5.31005278e-01, 1.29597968e+00, 1.48912557e-02],\n",
       "       [7.30476274e-01, 1.79882765e-01, 9.13915627e-01, 3.60752677e-01],\n",
       "       [8.03865450e-01, 1.58923451e+00, 1.81641536e-01, 1.10963873e-01],\n",
       "       [8.40063771e-01, 7.92456503e-01, 1.01942054e+00, 2.73326596e-01],\n",
       "       [9.15759131e-02, 6.05281194e-01, 2.28041604e-01, 3.50184689e-01],\n",
       "       [8.24883830e-01, 1.51684926e+00, 7.25185191e-01, 8.88191346e-01],\n",
       "       [2.49213762e-01, 9.20751268e-01, 2.23926360e+00, 3.60752677e-01],\n",
       "       [1.49046586e+00, 4.90491142e-01, 3.79946589e-01, 1.42619800e+00],\n",
       "       [6.70544700e-02, 2.38763309e-01, 7.20213755e-01, 2.83894584e-01],\n",
       "       [1.49747198e+00, 1.05606848e-01, 9.13547372e-01, 1.34933991e+00],\n",
       "       [8.98623313e-01, 1.40881156e+00, 6.88359740e-01, 4.65471830e-01],\n",
       "       [2.79573643e-01, 7.65447079e-01, 8.35661544e-01, 2.26251013e-01],\n",
       "       [9.62846140e-01, 6.10142891e-01, 2.00910454e+00, 1.09090457e+00],\n",
       "       [6.98773552e-01, 7.74090095e-01, 2.14232060e-01, 6.57617064e-01],\n",
       "       [1.62591764e+00, 1.05579839e+00, 9.22753735e-01, 1.42619800e+00],\n",
       "       [7.80511695e-01, 1.57086811e+00, 9.82963347e-01, 1.00347849e+00],\n",
       "       [8.55418865e-01, 1.73778635e+00, 1.25915423e+00, 2.05163074e+00],\n",
       "       [1.02105537e+00, 7.60585383e-01, 5.77515133e-01, 8.30547775e-01],\n",
       "       [1.70882347e+00, 1.10306488e+00, 1.00597925e+00, 2.38692417e+00],\n",
       "       [1.37971067e+00, 1.37504978e+00, 5.72911952e-01, 2.54112072e-01],\n",
       "       [1.61891151e+00, 2.65772733e-01, 1.30978922e+00, 1.59912871e+00],\n",
       "       [8.49580427e-01, 6.91171163e-01, 6.69578760e-01, 1.07169004e+00],\n",
       "       [1.28612050e+00, 1.03554132e+00, 1.61323094e+00, 6.19188018e-01],\n",
       "       [1.15300409e+00, 1.60273923e+00, 1.01518562e+00, 4.65471830e-01],\n",
       "       [1.41806922e+00, 1.06255074e+00, 9.78360166e-01, 8.68976822e-01],\n",
       "       [1.47896413e+00, 3.80562786e-01, 1.34164324e+00, 1.30226433e+00],\n",
       "       [1.21489154e+00, 1.77992105e-01, 4.62803854e-01, 8.49762299e-01],\n",
       "       [4.42057396e-01, 1.39341619e+00, 1.32820195e+00, 1.28304980e+00],\n",
       "       [8.59914463e-01, 4.22967582e-01, 8.12645637e-01, 5.99973494e-01],\n",
       "       [5.44813920e-01, 8.19465927e-01, 2.07354907e+00, 9.94831951e-01],\n",
       "       [8.57754241e-01, 6.70914095e-01, 3.38149702e-01, 1.16776266e+00],\n",
       "       [4.95595880e-01, 1.18598381e+00, 1.77038355e-01, 6.96046111e-01],\n",
       "       [5.93681653e-01, 5.71519414e-01, 3.84181516e-01, 5.03900877e-01],\n",
       "       [7.87313476e-02, 1.44257334e+00, 9.92169710e-01, 7.15260635e-01],\n",
       "       [1.08662104e+00, 1.07794612e+00, 1.00597925e+00, 1.58039455e-01],\n",
       "       [1.12281936e+00, 1.73778635e+00, 6.32753309e-01, 2.18613240e+00],\n",
       "       [1.27327593e+00, 1.15033137e+00, 8.58677450e-01, 5.99973494e-01],\n",
       "       [1.19504085e+00, 1.71239749e-01, 4.58200672e-01, 7.53689682e-01],\n",
       "       [1.56070228e+00, 6.32290618e-01, 2.96721070e-01, 3.99181724e-01],\n",
       "       [3.04095087e-01, 1.00367020e+00, 8.35293289e-01, 4.65471830e-01],\n",
       "       [5.90353742e-01, 2.43084817e-03, 7.52804279e-01, 4.95254341e-01],\n",
       "       [2.83251860e-01, 1.10981724e+00, 3.28943340e-01, 9.56402904e-01],\n",
       "       [4.75920341e-01, 1.46120984e-01, 9.69153803e-01, 3.03109107e-01],\n",
       "       [1.66912209e+00, 7.87594807e-01, 1.14407469e+00, 2.07949180e+00],\n",
       "       [6.20538471e-01, 1.36640677e+00, 9.18150553e-01, 2.45465537e-01],\n",
       "       [3.21989902e-02, 1.48308748e+00, 2.87882962e-01, 7.53689682e-01],\n",
       "       [1.58037782e+00, 9.20751268e-01, 6.74181942e-01, 1.29169634e+00],\n",
       "       [1.79152496e-01, 3.28434597e-01, 1.86244718e-01, 2.15683025e-01],\n",
       "       [2.97264113e-01, 3.48691665e-01, 6.72064478e-03, 7.25348259e-02],\n",
       "       [7.16288868e-01, 8.46475352e-01, 8.62912377e-01, 1.38824932e-01],\n",
       "       [4.82926468e-01, 3.48691665e-01, 2.28041604e-01, 1.68607443e-01],\n",
       "       [1.92172214e-01, 9.13998912e-01, 1.06582061e+00, 7.64257669e-01],\n",
       "       [3.48467222e-01, 5.78271770e-01, 1.15788424e+00, 4.07828260e-01],\n",
       "       [1.02123053e+00, 1.34128800e+00, 2.49704176e+00, 4.07828260e-01],\n",
       "       [1.50798117e+00, 9.68017760e-01, 4.12168859e-01, 1.15719467e+00],\n",
       "       [6.97781017e-01, 1.21974559e+00, 5.13438849e-01, 3.50184689e-01],\n",
       "       [7.98202165e-01, 2.26879163e-02, 1.24497643e+00, 5.91326959e-01],\n",
       "       [1.60273904e+00, 8.55118367e-01, 1.11185242e+00, 1.87821967e-01],\n",
       "       [1.13315340e+00, 7.87594807e-01, 5.59470662e-01, 1.08033658e+00],\n",
       "       [2.03849092e-01, 1.59625696e-01, 7.75451931e-01, 9.17493494e-02],\n",
       "       [1.48813048e+00, 2.13644545e-01, 6.23915201e-01, 1.23405277e+00],\n",
       "       [2.49388915e-01, 1.09145083e+00, 8.17248818e-01, 4.46257307e-01],\n",
       "       [8.79940308e-01, 1.34128800e+00, 8.03439274e-01, 4.84686354e-01],\n",
       "       [1.51633014e+00, 1.73103399e+00, 5.17673775e-01, 2.49356478e+00],\n",
       "       [1.18353913e+00, 4.68343414e-01, 4.72010216e-01, 1.18697718e+00],\n",
       "       [2.70407294e-01, 1.04418434e+00, 2.13863806e-01, 4.46257307e-01],\n",
       "       [1.51399477e+00, 1.41556392e+00, 3.15502050e-01, 4.27042783e-01],\n",
       "       [2.16693657e-01, 8.95632503e-01, 5.96296113e-01, 2.73326596e-01],\n",
       "       [1.11601758e-01, 1.39530685e+00, 1.02439198e+00, 6.76831588e-01],\n",
       "       [8.34400486e-01, 1.20624088e+00, 1.45184340e-01, 3.50184689e-01],\n",
       "       [1.06075676e+00, 1.18598381e+00, 3.93111688e-02, 1.02269301e+00],\n",
       "       [1.64127273e+00, 1.33264499e+00, 1.89862818e+00, 2.33984859e+00],\n",
       "       [1.24659427e+00, 1.32616272e-01, 2.55016247e-02, 6.87399576e-01],\n",
       "       [6.76762637e-01, 1.47444446e+00, 5.04232486e-01, 1.64812575e+00],\n",
       "       [8.80728498e-02, 1.42906863e+00, 1.82009791e-01, 7.15260635e-01],\n",
       "       [5.14454038e-01, 3.67058074e-01, 5.68677025e-01, 6.29756005e-01],\n",
       "       [1.62258973e+00, 6.32290618e-01, 1.23613832e+00, 3.60752677e-01],\n",
       "       [1.49863967e+00, 7.53833027e-01, 3.29311594e-01, 1.40698348e+00],\n",
       "       [1.25576062e+00, 1.20435022e+00, 1.13947151e+00, 6.19188018e-01],\n",
       "       [8.35393020e-01, 8.41613655e-01, 1.13026515e+00, 7.92118728e-01],\n",
       "       [1.51615499e+00, 1.29402151e+00, 4.81492770e-02, 1.56069967e+00],\n",
       "       [2.30705910e-01, 1.26512143e+00, 1.24074150e+00, 1.07169004e+00],\n",
       "       [3.10313024e-02, 8.32970639e-01, 1.13026515e+00, 6.29756005e-01],\n",
       "       [1.27094056e+00, 1.32103093e+00, 7.71217005e-01, 1.23405277e+00],\n",
       "       [6.17035408e-01, 1.24000266e+00, 1.03359834e+00, 8.30547775e-01],\n",
       "       [3.49810063e-01, 9.42898996e-01, 1.11185242e+00, 2.34897549e-01],\n",
       "       [1.59456522e+00, 1.26512143e+00, 1.64085003e+00, 2.20534693e+00],\n",
       "       [9.93206022e-01, 9.90165488e-01, 1.00597925e+00, 1.19610408e-01]])"
      ]
     },
     "execution_count": 26,
     "metadata": {},
     "output_type": "execute_result"
    }
   ],
   "source": [
    "from scipy.stats import zscore\n",
    "z=np.abs(zscore(df))\n",
    "z"
   ]
  },
  {
   "cell_type": "code",
   "execution_count": 27,
   "id": "6409efb2",
   "metadata": {},
   "outputs": [
    {
     "data": {
      "text/html": [
       "<div>\n",
       "<style scoped>\n",
       "    .dataframe tbody tr th:only-of-type {\n",
       "        vertical-align: middle;\n",
       "    }\n",
       "\n",
       "    .dataframe tbody tr th {\n",
       "        vertical-align: top;\n",
       "    }\n",
       "\n",
       "    .dataframe thead th {\n",
       "        text-align: right;\n",
       "    }\n",
       "</style>\n",
       "<table border=\"1\" class=\"dataframe\">\n",
       "  <thead>\n",
       "    <tr style=\"text-align: right;\">\n",
       "      <th></th>\n",
       "      <th>TV</th>\n",
       "      <th>radio</th>\n",
       "      <th>newspaper</th>\n",
       "      <th>sales</th>\n",
       "    </tr>\n",
       "  </thead>\n",
       "  <tbody>\n",
       "    <tr>\n",
       "      <th>0</th>\n",
       "      <td>230.1</td>\n",
       "      <td>37.8</td>\n",
       "      <td>69.2</td>\n",
       "      <td>22.1</td>\n",
       "    </tr>\n",
       "    <tr>\n",
       "      <th>1</th>\n",
       "      <td>44.5</td>\n",
       "      <td>39.3</td>\n",
       "      <td>45.1</td>\n",
       "      <td>10.4</td>\n",
       "    </tr>\n",
       "    <tr>\n",
       "      <th>2</th>\n",
       "      <td>17.2</td>\n",
       "      <td>45.9</td>\n",
       "      <td>69.3</td>\n",
       "      <td>9.3</td>\n",
       "    </tr>\n",
       "    <tr>\n",
       "      <th>3</th>\n",
       "      <td>151.5</td>\n",
       "      <td>41.3</td>\n",
       "      <td>58.5</td>\n",
       "      <td>18.5</td>\n",
       "    </tr>\n",
       "    <tr>\n",
       "      <th>4</th>\n",
       "      <td>180.8</td>\n",
       "      <td>10.8</td>\n",
       "      <td>58.4</td>\n",
       "      <td>12.9</td>\n",
       "    </tr>\n",
       "    <tr>\n",
       "      <th>...</th>\n",
       "      <td>...</td>\n",
       "      <td>...</td>\n",
       "      <td>...</td>\n",
       "      <td>...</td>\n",
       "    </tr>\n",
       "    <tr>\n",
       "      <th>195</th>\n",
       "      <td>38.2</td>\n",
       "      <td>3.7</td>\n",
       "      <td>13.8</td>\n",
       "      <td>7.6</td>\n",
       "    </tr>\n",
       "    <tr>\n",
       "      <th>196</th>\n",
       "      <td>94.2</td>\n",
       "      <td>4.9</td>\n",
       "      <td>8.1</td>\n",
       "      <td>9.7</td>\n",
       "    </tr>\n",
       "    <tr>\n",
       "      <th>197</th>\n",
       "      <td>177.0</td>\n",
       "      <td>9.3</td>\n",
       "      <td>6.4</td>\n",
       "      <td>12.8</td>\n",
       "    </tr>\n",
       "    <tr>\n",
       "      <th>198</th>\n",
       "      <td>283.6</td>\n",
       "      <td>42.0</td>\n",
       "      <td>66.2</td>\n",
       "      <td>25.5</td>\n",
       "    </tr>\n",
       "    <tr>\n",
       "      <th>199</th>\n",
       "      <td>232.1</td>\n",
       "      <td>8.6</td>\n",
       "      <td>8.7</td>\n",
       "      <td>13.4</td>\n",
       "    </tr>\n",
       "  </tbody>\n",
       "</table>\n",
       "<p>198 rows × 4 columns</p>\n",
       "</div>"
      ],
      "text/plain": [
       "        TV  radio  newspaper  sales\n",
       "0    230.1   37.8       69.2   22.1\n",
       "1     44.5   39.3       45.1   10.4\n",
       "2     17.2   45.9       69.3    9.3\n",
       "3    151.5   41.3       58.5   18.5\n",
       "4    180.8   10.8       58.4   12.9\n",
       "..     ...    ...        ...    ...\n",
       "195   38.2    3.7       13.8    7.6\n",
       "196   94.2    4.9        8.1    9.7\n",
       "197  177.0    9.3        6.4   12.8\n",
       "198  283.6   42.0       66.2   25.5\n",
       "199  232.1    8.6        8.7   13.4\n",
       "\n",
       "[198 rows x 4 columns]"
      ]
     },
     "execution_count": 27,
     "metadata": {},
     "output_type": "execute_result"
    }
   ],
   "source": [
    "#removing outliers\n",
    "df_new=df[(z<3).all(axis=1)]\n",
    "df_new"
   ]
  },
  {
   "cell_type": "code",
   "execution_count": 28,
   "id": "664861aa",
   "metadata": {},
   "outputs": [
    {
     "data": {
      "text/plain": [
       "(200, 4)"
      ]
     },
     "execution_count": 28,
     "metadata": {},
     "output_type": "execute_result"
    }
   ],
   "source": [
    "df.shape"
   ]
  },
  {
   "cell_type": "code",
   "execution_count": 29,
   "id": "30179a8d",
   "metadata": {},
   "outputs": [
    {
     "data": {
      "text/plain": [
       "(198, 4)"
      ]
     },
     "execution_count": 29,
     "metadata": {},
     "output_type": "execute_result"
    }
   ],
   "source": [
    "df_new.shape"
   ]
  },
  {
   "cell_type": "markdown",
   "id": "6199f1fb",
   "metadata": {},
   "source": [
    "so total dropped rows=2"
   ]
  },
  {
   "cell_type": "markdown",
   "id": "f8ee9720",
   "metadata": {},
   "source": [
    "# percentage data loss"
   ]
  },
  {
   "cell_type": "code",
   "execution_count": 30,
   "id": "090939c7",
   "metadata": {},
   "outputs": [
    {
     "name": "stdout",
     "output_type": "stream",
     "text": [
      "1.0 %\n"
     ]
    }
   ],
   "source": [
    "loss_percent=(200-198)/200*100\n",
    "print(loss_percent,'%')"
   ]
  },
  {
   "cell_type": "markdown",
   "id": "f1423cfe",
   "metadata": {},
   "source": [
    "1% of data loss is acceptable\n"
   ]
  },
  {
   "cell_type": "markdown",
   "id": "6ba0ce83",
   "metadata": {},
   "source": [
    "# splitting the data into Features and Target"
   ]
  },
  {
   "cell_type": "code",
   "execution_count": 31,
   "id": "576325ea",
   "metadata": {},
   "outputs": [],
   "source": [
    "x=df_new.iloc[:,:-1]\n",
    "y=df_new.iloc[:,-1]"
   ]
  },
  {
   "cell_type": "code",
   "execution_count": 32,
   "id": "cd9e1f07",
   "metadata": {},
   "outputs": [
    {
     "data": {
      "text/plain": [
       "TV          -0.082332\n",
       "radio        0.114842\n",
       "newspaper    0.650112\n",
       "dtype: float64"
      ]
     },
     "execution_count": 32,
     "metadata": {},
     "output_type": "execute_result"
    }
   ],
   "source": [
    "x.skew()"
   ]
  },
  {
   "cell_type": "markdown",
   "id": "898c3633",
   "metadata": {},
   "source": [
    "newspaper is having the above the threshold value +/-0.5 so we remove the skewness present in the data"
   ]
  },
  {
   "cell_type": "markdown",
   "id": "8f0903cc",
   "metadata": {},
   "source": [
    "# Transforming data to remove skewness weuse boxcox method"
   ]
  },
  {
   "cell_type": "code",
   "execution_count": 33,
   "id": "1df2c0d1",
   "metadata": {},
   "outputs": [],
   "source": [
    "from scipy.stats import boxcox\n",
    "x['newspaper']=boxcox(x['newspaper'],0.5)"
   ]
  },
  {
   "cell_type": "code",
   "execution_count": 34,
   "id": "7090e783",
   "metadata": {},
   "outputs": [
    {
     "data": {
      "text/plain": [
       "TV          -0.082332\n",
       "radio        0.114842\n",
       "newspaper   -0.040649\n",
       "dtype: float64"
      ]
     },
     "execution_count": 34,
     "metadata": {},
     "output_type": "execute_result"
    }
   ],
   "source": [
    "x.skew()"
   ]
  },
  {
   "cell_type": "markdown",
   "id": "6be00392",
   "metadata": {},
   "source": [
    "now the newspaper value is under the threshold value"
   ]
  },
  {
   "cell_type": "code",
   "execution_count": 35,
   "id": "8646f8f4",
   "metadata": {},
   "outputs": [
    {
     "data": {
      "text/plain": [
       "0      14.637307\n",
       "1      11.431307\n",
       "2      14.649324\n",
       "3      13.297059\n",
       "4      13.283979\n",
       "         ...    \n",
       "195     5.429670\n",
       "196     3.692100\n",
       "197     3.059644\n",
       "198    14.272676\n",
       "199     3.899152\n",
       "Name: newspaper, Length: 198, dtype: float64"
      ]
     },
     "execution_count": 35,
     "metadata": {},
     "output_type": "execute_result"
    }
   ],
   "source": [
    "x.newspaper"
   ]
  },
  {
   "cell_type": "code",
   "execution_count": 36,
   "id": "05a1aaa5",
   "metadata": {},
   "outputs": [
    {
     "data": {
      "text/plain": [
       "<AxesSubplot:xlabel='newspaper', ylabel='Density'>"
      ]
     },
     "execution_count": 36,
     "metadata": {},
     "output_type": "execute_result"
    },
    {
     "data": {
      "image/png": "[encoded data removed]",
      "text/plain": [
       "<Figure size 432x288 with 1 Axes>"
      ]
     },
     "metadata": {
      "needs_background": "light"
     },
     "output_type": "display_data"
    }
   ],
   "source": [
    "sns.distplot(x['newspaper'])"
   ]
  },
  {
   "cell_type": "markdown",
   "id": "012fca4c",
   "metadata": {},
   "source": [
    "now the curve is bell shaped i.e newspaper is normally distributed"
   ]
  },
  {
   "cell_type": "markdown",
   "id": "6ffa2405",
   "metadata": {},
   "source": [
    "# scaling the independent variables to get all the columns in standard scaler"
   ]
  },
  {
   "cell_type": "code",
   "execution_count": 37,
   "id": "0849c5e8",
   "metadata": {},
   "outputs": [
    {
     "data": {
      "text/plain": [
       "array([[ 9.78697339e-01,  9.89521352e-01,  1.63669060e+00],\n",
       "       [-1.19901165e+00,  1.09070498e+00,  8.24807889e-01],\n",
       "       [-1.51933199e+00,  1.53591293e+00,  1.63973373e+00],\n",
       "       [ 5.64563564e-02,  1.22561648e+00,  1.29728802e+00],\n",
       "       [ 4.00243389e-01, -8.31783915e-01,  1.29397566e+00],\n",
       "       [-1.61906543e+00,  1.73828018e+00,  1.80970327e+00],\n",
       "       [-1.04647815e+00,  6.52242599e-01, -1.21277595e-01],\n",
       "       [-3.10797368e-01, -2.38173309e-01, -8.51517342e-01],\n",
       "       [-1.62023876e+00, -1.41864895e+00, -2.07003868e+00],\n",
       "       [ 6.23176960e-01, -1.38492107e+00, -2.44520695e-01],\n",
       "       [-9.45571378e-01, -1.16906267e+00, -8.49785485e-02],\n",
       "       [ 7.98003813e-01,  5.86319933e-02, -1.56356175e+00],\n",
       "       [-1.44189191e+00,  8.07390825e-01,  1.53500409e+00],\n",
       "       [-5.77144318e-01, -1.04764232e+00, -1.21749539e+00],\n",
       "       [ 6.73630347e-01,  6.58988174e-01,  8.58578063e-01],\n",
       "       [ 5.71550238e-01,  1.65733328e+00,  1.10721196e+00],\n",
       "       [ 1.58061798e+00,  1.11094170e+00,  1.20683655e+00],\n",
       "       [-9.09198006e-01, -1.77463134e-01, -4.09883309e-01],\n",
       "       [ 7.17630394e-03,  5.18864183e-02, -3.63031787e-01],\n",
       "       [ 8.41417193e-01,  3.08218271e-01,  1.12457994e+00],\n",
       "       [ 1.06435076e+00, -1.21628169e+00, -1.21277595e-01],\n",
       "       [-1.56626537e+00, -4.87759587e-01,  9.90463015e-01],\n",
       "       [ 9.57577316e-01, -4.20303836e-01,  1.59339442e-02],\n",
       "       [-9.90158092e-01, -7.10363564e-01, -4.09883309e-01],\n",
       "       [ 1.36355108e+00, -1.32421089e+00, -3.39974042e-01],\n",
       "       [-4.44504177e-02,  4.16147472e-01, -7.78700851e-01],\n",
       "       [ 1.09603080e+00, -4.33794986e-01, -1.52823719e-01],\n",
       "       [ 1.19811091e+00,  2.67744820e-01, -1.52823719e-01],\n",
       "       [-8.92771321e-01, -4.81014012e-01,  6.58599590e-01],\n",
       "       [ 1.71555146e+00,  3.48691721e-01,  7.52390467e-01],\n",
       "       [-3.96450793e-01, -3.86575961e-01,  5.70169760e-01],\n",
       "       [-5.80664322e-01, -1.45912240e+00,  1.97572788e-01],\n",
       "       [ 1.39523112e+00, -2.11191009e-01, -2.29910677e+00],\n",
       "       [-5.98264341e-01, -1.46586797e+00, -1.19874940e+00],\n",
       "       [ 1.68973810e+00, -1.28373744e+00, -1.09989430e+00],\n",
       "       [ 1.41048447e+00,  1.39425586e+00, -1.44399876e+00],\n",
       "       [-8.44664603e-01,  1.77200806e+00,  8.47358347e-01],\n",
       "       [-1.21543833e+00,  2.40762520e-01,  4.24119778e-01],\n",
       "       [ 9.54057313e-01,  9.82775777e-01,  2.88550568e-01],\n",
       "       [ 6.54856994e-01, -5.60427827e-02,  2.70587593e-01],\n",
       "       [ 3.55656675e-01,  6.92716049e-01,  5.74243141e-01],\n",
       "       [ 1.72376480e+00,  3.08218271e-01, -1.89700550e+00],\n",
       "       [ 7.06483716e-01, -9.93677716e-01,  2.58099783e-02],\n",
       "       [-1.42663856e+00,  1.73306769e-01,  7.56241141e-01],\n",
       "       [ 3.33363318e-01, -4.25516326e-02,  2.66079113e-01],\n",
       "       [-6.68664416e-01, -8.92494090e-01,  4.49657561e-01],\n",
       "       [ 1.09368413e+00,  1.23910763e+00, -3.98075961e-01],\n",
       "       [ 9.44670636e-01, -4.94505162e-01,  1.00123399e+00],\n",
       "       [-9.36184701e-01, -7.71073739e-01,  4.95925574e-01],\n",
       "       [ 6.23176960e-01, -1.35119319e+00,  4.02671073e-01],\n",
       "       [-5.43117616e-01, -9.12730816e-01, -1.61554320e+00],\n",
       "       [ 8.17950501e-01,  1.25259878e+00,  6.10669308e-01],\n",
       "       [ 4.21363412e-01,  1.55614966e+00,  1.30390426e+00],\n",
       "       [ 1.36120441e+00,  3.82419596e-01, -5.56948772e-01],\n",
       "       [ 6.12616949e-01,  1.77200806e+00,  1.34663783e+00],\n",
       "       [-1.63549211e+00,  3.35200571e-01,  6.82300384e-01],\n",
       "       [-1.23063835e-01, -2.65155610e-01, -5.12971709e-01],\n",
       "       [ 7.52243764e-01,  1.78549921e+00,  5.33269242e-01],\n",
       "       [ 7.51070430e-01,  4.29638622e-01, -1.03196856e+00],\n",
       "       [-1.09341154e+00, -1.42539452e+00, -2.33546540e-01],\n",
       "       [ 1.34477773e+00,  1.32005453e+00,  1.16935983e+00],\n",
       "       [ 1.08664412e+00, -5.14741887e-01,  6.97960611e-02],\n",
       "       [-5.16130920e-01,  4.36384197e-01, -1.10860601e+00],\n",
       "       [-1.82903899e-01,  1.32680011e+00,  1.46239552e-01],\n",
       "       [-9.11544675e-01, -9.32967541e-01, -2.09602940e+00],\n",
       "       [-1.35154514e+00,  9.91054437e-02, -1.82528892e+00],\n",
       "       [-8.66904627e-02, -5.82197638e-01, -9.58958009e-01],\n",
       "       [ 1.06435076e+00,  2.94727121e-01, -8.96721665e-01],\n",
       "       [ 8.22643839e-01,  1.40100143e+00,  6.49448899e-02],\n",
       "       [ 6.14963618e-01,  5.03839947e-01,  5.74243141e-01],\n",
       "       [-4.32824165e-01, -5.95688788e-01,  2.75088945e-01],\n",
       "       [-1.40669187e+00,  6.65733749e-01, -3.51473046e-01],\n",
       "       [-2.02850586e-01, -1.17580824e+00,  2.57040634e-01],\n",
       "       [ 7.82750463e-01,  9.91054437e-02, -7.43376950e-01],\n",
       "       [-1.52285199e+00,  1.38751028e+00,  2.21230345e+00],\n",
       "       [-1.39847853e+00, -1.45237682e+00, -2.72184721e-01],\n",
       "       [-3.07277364e-01,  3.62182871e-01, -6.67964297e-01],\n",
       "       [-1.65778547e+00,  4.56620922e-01, -1.02368674e+00],\n",
       "       [-3.60077421e-01, -1.04089674e+00, -1.42262920e-01],\n",
       "       [-8.24717916e-01,  2.40762520e-01, -1.84785890e-01],\n",
       "       [ 1.09251079e+00, -1.28373744e+00,  5.00097255e-01],\n",
       "       [-8.37624596e-01, -1.90954284e-01,  3.10847139e-01],\n",
       "       [-9.18584682e-01,  1.44147488e+00,  4.45416251e-01],\n",
       "       [ 7.83923798e-01,  1.34029126e+00,  3.68028190e-01],\n",
       "       [ 5.45736878e-01, -3.19120210e-01,  1.52876032e+00],\n",
       "       [-8.25891250e-01,  2.94727121e-01, -5.50607887e-01],\n",
       "       [-4.22264154e-01,  1.17839745e+00,  1.44989635e+00],\n",
       "       [-6.85091100e-01,  1.59815619e-01,  1.76266471e+00],\n",
       "       [-4.32824165e-01,  1.66407886e+00,  1.05460963e+00],\n",
       "       [-1.45357192e-01, -1.22977284e+00, -1.03196856e+00],\n",
       "       [-1.38557185e+00, -1.45912240e+00,  3.32972847e-01],\n",
       "       [ 8.33203850e-01,  6.99461624e-01,  1.31380751e+00],\n",
       "       [ 1.22275093e+00,  9.01828876e-01,  1.73002768e+00],\n",
       "       [-4.60984195e-01, -6.15925513e-01, -9.04374525e-01],\n",
       "       [ 1.94909837e-01,  5.71295698e-01,  1.10721196e+00],\n",
       "       [ 5.97363599e-01, -1.32421089e+00, -1.34628742e+00],\n",
       "       [ 4.48350107e-01, -1.43735259e-01, -2.00928232e-01],\n",
       "       [ 1.67800475e+00,  1.29307223e+00,  1.04753830e+00],\n",
       "       [-1.34797181e-01,  1.25259878e+00,  8.54842234e-01],\n",
       "       [ 8.88350576e-01, -1.27024629e+00,  9.97647269e-01],\n",
       "       [ 1.56653796e+00, -8.79002940e-01, -2.33546540e-01],\n",
       "       [ 4.83550145e-01, -4.00067111e-01, -4.33693178e-01],\n",
       "       [ 1.07373744e+00,  7.53426225e-01, -1.41051815e+00],\n",
       "       [-1.03117147e-01,  1.56964081e+00,  1.31380751e+00],\n",
       "       [-1.42781189e+00, -8.18292765e-01,  1.83667495e-01],\n",
       "       [-6.60451074e-01, -1.54006930e+00, -1.36999665e-01],\n",
       "       [-1.56743871e+00, -1.53332372e+00, -1.39225166e-02],\n",
       "       [ 1.27555099e+00,  2.54253670e-01, -1.38872192e+00],\n",
       "       [ 9.28243952e-01, -1.00716887e+00,  1.23049329e+00],\n",
       "       [ 1.11480415e+00,  1.00301250e+00, -1.36999665e-01],\n",
       "       [ 3.40403326e-01, -5.21487462e-01, -1.79188492e+00],\n",
       "       [ 7.38163749e-01, -1.70717559e-01, -9.19786292e-01],\n",
       "       [-8.03597893e-01,  1.59662311e+00,  3.98362775e-01],\n",
       "       [-8.39971265e-01,  8.00645250e-01,  1.10024180e+00],\n",
       "       [-8.78637973e-02, -5.95688788e-01, -1.39225166e-02],\n",
       "       [-8.24717916e-01, -1.50634142e+00, -6.28059954e-01],\n",
       "       [-2.46263966e-01,  9.28811176e-01,  1.93084453e+00],\n",
       "       [-1.49351863e+00, -4.81014012e-01, -1.84785890e-01],\n",
       "       [-6.32237711e-02,  2.47508095e-01,  8.66037558e-01],\n",
       "       [-1.50055864e+00, -9.65162331e-02,  1.01911391e+00],\n",
       "       [ 9.07123929e-01, -1.39841222e+00, -5.76092017e-01],\n",
       "       [-2.76770665e-01,  7.73662950e-01, -7.93026297e-01],\n",
       "       [ 9.71657331e-01,  6.18514724e-01,  1.78624739e+00],\n",
       "       [-6.97997781e-01, -7.64328164e-01,  1.04894337e-03],\n",
       "       [-1.62962544e+00,  1.06372268e+00,  1.02624103e+00],\n",
       "       [-7.80131201e-01, -1.56030602e+00, -1.04029502e+00],\n",
       "       [ 8.63710550e-01,  1.74502576e+00, -1.67050213e+00],\n",
       "       [-1.02183813e+00, -7.50837014e-01,  7.48535335e-01],\n",
       "       [-1.71293220e+00,  1.11094170e+00, -1.08262329e+00],\n",
       "       [ 1.39053778e+00, -1.36468434e+00,  7.44675727e-01],\n",
       "       [-1.62258543e+00,  2.74490395e-01, -1.84256081e+00],\n",
       "       [ 8.57843877e-01,  6.99461624e-01,  8.24807889e-01],\n",
       "       [-1.28818508e+00,  1.04348595e+00,  1.52563488e+00],\n",
       "       [-1.15442493e+00,  1.61011426e+00, -1.09989430e+00],\n",
       "       [-1.42077188e+00,  1.07046825e+00, -1.03196856e+00],\n",
       "       [ 1.49027122e+00,  3.89165171e-01,  1.33681765e+00],\n",
       "       [-1.21661167e+00,  1.86797920e-01, -2.83343774e-01],\n",
       "       [ 4.48350107e-01,  1.40100143e+00, -1.91615048e+00],\n",
       "       [-8.59917953e-01, -4.13558261e-01, -7.57424197e-01],\n",
       "       [ 5.51603551e-01,  8.27627550e-01,  1.82721320e+00],\n",
       "       [ 8.66057219e-01,  6.79224899e-01,  5.41507097e-01],\n",
       "       [-4.93837563e-01, -1.17580824e+00,  3.94048228e-01],\n",
       "       [-5.92397668e-01, -5.61960912e-01,  5.82374145e-01],\n",
       "       [-7.49571169e-02, -1.43214010e+00, -1.05708482e+00],\n",
       "       [ 1.09603080e+00, -1.06787904e+00, -1.08262329e+00],\n",
       "       [ 1.13240417e+00,  1.74502576e+00,  7.94505962e-01],\n",
       "       [-1.27527840e+00,  1.15816073e+00, -8.29353714e-01],\n",
       "       [-1.19666498e+00,  1.80052344e-01, -2.77757477e-01],\n",
       "       [ 1.57240464e+00, -6.22671088e-01,  5.04263286e-01],\n",
       "       [-3.01410691e-01, -9.93677716e-01,  9.57953165e-01],\n",
       "       [ 5.97363599e-01,  1.14129679e-02, -6.67964297e-01],\n",
       "       [ 2.88776604e-01,  1.11768728e+00,  5.33269242e-01],\n",
       "       [ 4.82376810e-01, -1.36989683e-01, -1.01544887e+00],\n",
       "       [-1.67303882e+00, -7.77819314e-01, -1.36731851e+00],\n",
       "       [-6.19384363e-01,  1.37401913e+00,  1.02267923e+00],\n",
       "       [ 3.65096685e-02, -1.47261355e+00, -7.98360517e-02],\n",
       "       [-1.58386539e+00,  9.28811176e-01,  8.28576670e-01],\n",
       "       [-1.75863891e-01, -3.19120210e-01,  4.02671073e-01],\n",
       "       [ 3.02856619e-01, -3.39356935e-01,  2.29750531e-01],\n",
       "       [-7.15597799e-01,  8.54609851e-01,  9.79659420e-01],\n",
       "       [ 4.89416818e-01, -3.39356935e-01, -1.39225166e-02],\n",
       "       [ 1.97256506e-01,  9.22065601e-01, -1.19874940e+00],\n",
       "       [-3.45997406e-01, -5.68706487e-01, -1.39956958e+00],\n",
       "       [ 1.03032406e+00, -1.33095647e+00,  2.08747422e+00],\n",
       "       [-1.51111865e+00,  9.76030202e-01, -2.22623548e-01],\n",
       "       [ 7.05310381e-01, -1.20953612e+00, -3.45716135e-01],\n",
       "       [ 8.06217155e-01,  3.16496931e-02,  1.26737403e+00],\n",
       "       [ 1.61464468e+00, -8.45275065e-01, -1.29521906e+00],\n",
       "       [-1.13447825e+00, -7.77819314e-01, -4.03971613e-01],\n",
       "       [ 2.08989852e-01, -1.50480834e-01,  9.10459436e-01],\n",
       "       [-1.49117196e+00, -2.04445434e-01, -4.88257728e-01],\n",
       "       [ 2.54749901e-01, -1.08137019e+00, -7.64488656e-01],\n",
       "       [ 8.88350576e-01, -1.33095647e+00, -7.43376950e-01],\n",
       "       [ 1.52781792e+00,  1.73828018e+00,  6.98005613e-01],\n",
       "       [ 1.19341757e+00,  4.76857647e-01, -2.94557396e-01],\n",
       "       [ 2.75869923e-01, -1.03415117e+00,  4.28391148e-01],\n",
       "       [ 1.52547125e+00, -1.40515780e+00, -1.10851909e-01],\n",
       "       [ 2.21896533e-01, -8.85748515e-01, -4.51725665e-01],\n",
       "       [ 1.16296420e-01, -1.38492107e+00, -1.11736972e+00],\n",
       "       [ 8.42590527e-01, -1.19604497e+00,  7.46383555e-02],\n",
       "       [-1.06173150e+00, -1.17580824e+00,  1.83667495e-01],\n",
       "       [ 1.65336472e+00,  1.34029126e+00,  1.71511062e+00],\n",
       "       [ 1.25677764e+00, -1.23498533e-01,  1.97572788e-01],\n",
       "       [ 6.84190358e-01,  1.48194833e+00, -3.34246653e-01],\n",
       "       [-8.43437935e-02, -1.41864895e+00,  3.56486734e-02],\n",
       "       [ 5.21096851e-01,  3.75674021e-01, -4.15811178e-01],\n",
       "       [ 1.63459137e+00, -6.22671088e-01, -1.60228778e+00],\n",
       "       [-1.50173197e+00, -7.44091439e-01, -1.26507075e-01],\n",
       "       [-1.25767838e+00,  1.21212533e+00, -1.35675764e+00],\n",
       "       [-8.35277927e-01, -8.31783915e-01, -1.33590556e+00],\n",
       "       [-1.51933199e+00, -1.28373744e+00,  2.70587593e-01],\n",
       "       [ 2.35976548e-01,  1.27283550e+00, -1.61554320e+00],\n",
       "       [ 3.53363339e-02,  8.41118701e-01, -1.33590556e+00],\n",
       "       [-1.27293173e+00, -1.31071974e+00, -6.95037318e-01],\n",
       "       [-6.15864360e-01, -1.22977284e+00, -1.13505699e+00],\n",
       "       [ 3.55656675e-01, -9.32967541e-01, -1.29521906e+00],\n",
       "       [ 1.60643134e+00,  1.27283550e+00,  1.54435201e+00],\n",
       "       [ 1.00216403e+00, -9.80186566e-01, -1.08262329e+00]])"
      ]
     },
     "execution_count": 37,
     "metadata": {},
     "output_type": "execute_result"
    }
   ],
   "source": [
    "from sklearn.preprocessing import StandardScaler\n",
    "sc=StandardScaler()\n",
    "x1=sc.fit_transform(x)\n",
    "x1"
   ]
  },
  {
   "cell_type": "markdown",
   "id": "c5949738",
   "metadata": {},
   "source": [
    "here we have scaled all the features into the same scale"
   ]
  },
  {
   "cell_type": "markdown",
   "id": "c1b7e3aa",
   "metadata": {},
   "source": [
    "reassigning the columns"
   ]
  },
  {
   "cell_type": "code",
   "execution_count": 38,
   "id": "5067fa01",
   "metadata": {},
   "outputs": [
    {
     "data": {
      "text/plain": [
       "Index(['TV', 'radio', 'newspaper'], dtype='object')"
      ]
     },
     "execution_count": 38,
     "metadata": {},
     "output_type": "execute_result"
    }
   ],
   "source": [
    "x.columns"
   ]
  },
  {
   "cell_type": "code",
   "execution_count": 39,
   "id": "9e27a223",
   "metadata": {},
   "outputs": [
    {
     "data": {
      "text/html": [
       "<div>\n",
       "<style scoped>\n",
       "    .dataframe tbody tr th:only-of-type {\n",
       "        vertical-align: middle;\n",
       "    }\n",
       "\n",
       "    .dataframe tbody tr th {\n",
       "        vertical-align: top;\n",
       "    }\n",
       "\n",
       "    .dataframe thead th {\n",
       "        text-align: right;\n",
       "    }\n",
       "</style>\n",
       "<table border=\"1\" class=\"dataframe\">\n",
       "  <thead>\n",
       "    <tr style=\"text-align: right;\">\n",
       "      <th></th>\n",
       "      <th>TV</th>\n",
       "      <th>radio</th>\n",
       "      <th>newspaper</th>\n",
       "    </tr>\n",
       "  </thead>\n",
       "  <tbody>\n",
       "    <tr>\n",
       "      <th>0</th>\n",
       "      <td>0.978697</td>\n",
       "      <td>0.989521</td>\n",
       "      <td>1.636691</td>\n",
       "    </tr>\n",
       "    <tr>\n",
       "      <th>1</th>\n",
       "      <td>-1.199012</td>\n",
       "      <td>1.090705</td>\n",
       "      <td>0.824808</td>\n",
       "    </tr>\n",
       "    <tr>\n",
       "      <th>2</th>\n",
       "      <td>-1.519332</td>\n",
       "      <td>1.535913</td>\n",
       "      <td>1.639734</td>\n",
       "    </tr>\n",
       "    <tr>\n",
       "      <th>3</th>\n",
       "      <td>0.056456</td>\n",
       "      <td>1.225616</td>\n",
       "      <td>1.297288</td>\n",
       "    </tr>\n",
       "    <tr>\n",
       "      <th>4</th>\n",
       "      <td>0.400243</td>\n",
       "      <td>-0.831784</td>\n",
       "      <td>1.293976</td>\n",
       "    </tr>\n",
       "    <tr>\n",
       "      <th>...</th>\n",
       "      <td>...</td>\n",
       "      <td>...</td>\n",
       "      <td>...</td>\n",
       "    </tr>\n",
       "    <tr>\n",
       "      <th>193</th>\n",
       "      <td>-1.272932</td>\n",
       "      <td>-1.310720</td>\n",
       "      <td>-0.695037</td>\n",
       "    </tr>\n",
       "    <tr>\n",
       "      <th>194</th>\n",
       "      <td>-0.615864</td>\n",
       "      <td>-1.229773</td>\n",
       "      <td>-1.135057</td>\n",
       "    </tr>\n",
       "    <tr>\n",
       "      <th>195</th>\n",
       "      <td>0.355657</td>\n",
       "      <td>-0.932968</td>\n",
       "      <td>-1.295219</td>\n",
       "    </tr>\n",
       "    <tr>\n",
       "      <th>196</th>\n",
       "      <td>1.606431</td>\n",
       "      <td>1.272836</td>\n",
       "      <td>1.544352</td>\n",
       "    </tr>\n",
       "    <tr>\n",
       "      <th>197</th>\n",
       "      <td>1.002164</td>\n",
       "      <td>-0.980187</td>\n",
       "      <td>-1.082623</td>\n",
       "    </tr>\n",
       "  </tbody>\n",
       "</table>\n",
       "<p>198 rows × 3 columns</p>\n",
       "</div>"
      ],
      "text/plain": [
       "           TV     radio  newspaper\n",
       "0    0.978697  0.989521   1.636691\n",
       "1   -1.199012  1.090705   0.824808\n",
       "2   -1.519332  1.535913   1.639734\n",
       "3    0.056456  1.225616   1.297288\n",
       "4    0.400243 -0.831784   1.293976\n",
       "..        ...       ...        ...\n",
       "193 -1.272932 -1.310720  -0.695037\n",
       "194 -0.615864 -1.229773  -1.135057\n",
       "195  0.355657 -0.932968  -1.295219\n",
       "196  1.606431  1.272836   1.544352\n",
       "197  1.002164 -0.980187  -1.082623\n",
       "\n",
       "[198 rows x 3 columns]"
      ]
     },
     "execution_count": 39,
     "metadata": {},
     "output_type": "execute_result"
    }
   ],
   "source": [
    "x=pd.DataFrame(x1,columns=x.columns)\n",
    "x"
   ]
  },
  {
   "cell_type": "markdown",
   "id": "3c56f036",
   "metadata": {},
   "source": [
    "# checking VIF"
   ]
  },
  {
   "cell_type": "code",
   "execution_count": 40,
   "id": "73b93624",
   "metadata": {},
   "outputs": [
    {
     "data": {
      "text/html": [
       "<div>\n",
       "<style scoped>\n",
       "    .dataframe tbody tr th:only-of-type {\n",
       "        vertical-align: middle;\n",
       "    }\n",
       "\n",
       "    .dataframe tbody tr th {\n",
       "        vertical-align: top;\n",
       "    }\n",
       "\n",
       "    .dataframe thead th {\n",
       "        text-align: right;\n",
       "    }\n",
       "</style>\n",
       "<table border=\"1\" class=\"dataframe\">\n",
       "  <thead>\n",
       "    <tr style=\"text-align: right;\">\n",
       "      <th></th>\n",
       "      <th>vif</th>\n",
       "      <th>features</th>\n",
       "    </tr>\n",
       "  </thead>\n",
       "  <tbody>\n",
       "    <tr>\n",
       "      <th>0</th>\n",
       "      <td>1.003318</td>\n",
       "      <td>0</td>\n",
       "    </tr>\n",
       "    <tr>\n",
       "      <th>1</th>\n",
       "      <td>1.102134</td>\n",
       "      <td>1</td>\n",
       "    </tr>\n",
       "    <tr>\n",
       "      <th>2</th>\n",
       "      <td>1.100842</td>\n",
       "      <td>2</td>\n",
       "    </tr>\n",
       "  </tbody>\n",
       "</table>\n",
       "</div>"
      ],
      "text/plain": [
       "        vif  features\n",
       "0  1.003318         0\n",
       "1  1.102134         1\n",
       "2  1.100842         2"
      ]
     },
     "execution_count": 40,
     "metadata": {},
     "output_type": "execute_result"
    }
   ],
   "source": [
    "from statsmodels.stats.outliers_influence import variance_inflation_factor\n",
    "vif=pd.DataFrame()\n",
    "vif[\"vif\"]=[variance_inflation_factor(x1,i) for i in range(x1.shape[1])]\n",
    "vif['features']=pd.DataFrame(x1).columns\n",
    "vif"
   ]
  },
  {
   "cell_type": "markdown",
   "id": "fff8f3aa",
   "metadata": {},
   "source": [
    "as all the values of vif are <5 so, we can accept all the columns"
   ]
  },
  {
   "cell_type": "code",
   "execution_count": null,
   "id": "24f2861f",
   "metadata": {},
   "outputs": [],
   "source": []
  },
  {
   "cell_type": "code",
   "execution_count": null,
   "id": "c4aaeacf",
   "metadata": {},
   "outputs": [],
   "source": []
  },
  {
   "cell_type": "markdown",
   "id": "2cb8907c",
   "metadata": {},
   "source": [
    "# Model Building"
   ]
  },
  {
   "cell_type": "markdown",
   "id": "c5bb5ab4",
   "metadata": {},
   "source": [
    "since our target varible is a continuous variable so we use Linear Regression model"
   ]
  },
  {
   "cell_type": "code",
   "execution_count": 41,
   "id": "5b5729c7",
   "metadata": {},
   "outputs": [],
   "source": [
    "from sklearn.model_selection import train_test_split\n",
    "from sklearn.linear_model import LinearRegression\n",
    "lr=LinearRegression()\n",
    "from sklearn.metrics import accuracy_score"
   ]
  },
  {
   "cell_type": "markdown",
   "id": "6a108843",
   "metadata": {},
   "source": [
    "# splitting the DataFrame"
   ]
  },
  {
   "cell_type": "code",
   "execution_count": 42,
   "id": "7020d3a2",
   "metadata": {},
   "outputs": [
    {
     "name": "stdout",
     "output_type": "stream",
     "text": [
      "At random state 1, the training accuracy is :0.8945018460466634\n",
      "At random state 1, the testing accuracy is:0.8915808201402338\n",
      "/n\n",
      "At random state 2, the training accuracy is :0.9104895320853252\n",
      "At random state 2, the testing accuracy is:0.8385093780102322\n",
      "/n\n",
      "At random state 3, the training accuracy is :0.8945008732306111\n",
      "At random state 3, the testing accuracy is:0.8977495614063602\n",
      "/n\n",
      "At random state 4, the training accuracy is :0.8980063011610756\n",
      "At random state 4, the testing accuracy is:0.8726744168845624\n",
      "/n\n",
      "At random state 5, the training accuracy is :0.8993019881675024\n",
      "At random state 5, the testing accuracy is:0.8622409600064913\n",
      "/n\n",
      "At random state 6, the training accuracy is :0.8991574664390982\n",
      "At random state 6, the testing accuracy is:0.8766949131606819\n",
      "/n\n",
      "At random state 7, the training accuracy is :0.8909446091016879\n",
      "At random state 7, the testing accuracy is:0.9063807263429217\n",
      "/n\n",
      "At random state 8, the training accuracy is :0.9023892159093364\n",
      "At random state 8, the testing accuracy is:0.8653415977754737\n",
      "/n\n",
      "At random state 9, the training accuracy is :0.8894121458179546\n",
      "At random state 9, the testing accuracy is:0.915192496293018\n",
      "/n\n",
      "At random state 10, the training accuracy is :0.9234817137067555\n",
      "At random state 10, the testing accuracy is:0.7845167673812316\n",
      "/n\n",
      "At random state 11, the training accuracy is :0.8847579028807493\n",
      "At random state 11, the testing accuracy is:0.9259845612237144\n",
      "/n\n",
      "At random state 12, the training accuracy is :0.8931848342049384\n",
      "At random state 12, the testing accuracy is:0.9003144586779664\n",
      "/n\n",
      "At random state 13, the training accuracy is :0.9072955780343295\n",
      "At random state 13, the testing accuracy is:0.8382064807676584\n",
      "/n\n",
      "At random state 14, the training accuracy is :0.8855713645648354\n",
      "At random state 14, the testing accuracy is:0.9139620728175997\n",
      "/n\n",
      "At random state 15, the training accuracy is :0.8912146118345223\n",
      "At random state 15, the testing accuracy is:0.9079583268637839\n",
      "/n\n",
      "At random state 16, the training accuracy is :0.8902875167485287\n",
      "At random state 16, the testing accuracy is:0.9096736262327478\n",
      "/n\n",
      "At random state 17, the training accuracy is :0.8886354795189352\n",
      "At random state 17, the testing accuracy is:0.9172247053570081\n",
      "/n\n",
      "At random state 18, the training accuracy is :0.910617752658842\n",
      "At random state 18, the testing accuracy is:0.8353660876793956\n",
      "/n\n",
      "At random state 19, the training accuracy is :0.8951754779937969\n",
      "At random state 19, the testing accuracy is:0.8783473492701435\n",
      "/n\n",
      "At random state 20, the training accuracy is :0.8863601802303691\n",
      "At random state 20, the testing accuracy is:0.9130903566365755\n",
      "/n\n",
      "At random state 21, the training accuracy is :0.884474753346419\n",
      "At random state 21, the testing accuracy is:0.9280981225653249\n",
      "/n\n",
      "At random state 22, the training accuracy is :0.8861759776656968\n",
      "At random state 22, the testing accuracy is:0.9278015581594276\n",
      "/n\n",
      "At random state 23, the training accuracy is :0.8848527733114713\n",
      "At random state 23, the testing accuracy is:0.9292418223308446\n",
      "/n\n",
      "At random state 24, the training accuracy is :0.8807167144986324\n",
      "At random state 24, the testing accuracy is:0.9470588911088108\n",
      "/n\n",
      "At random state 25, the training accuracy is :0.8828726818254515\n",
      "At random state 25, the testing accuracy is:0.9374877000743008\n",
      "/n\n",
      "At random state 26, the training accuracy is :0.9048386945259568\n",
      "At random state 26, the testing accuracy is:0.8200205806125271\n",
      "/n\n",
      "At random state 27, the training accuracy is :0.9093877544856234\n",
      "At random state 27, the testing accuracy is:0.8220038227699801\n",
      "/n\n",
      "At random state 28, the training accuracy is :0.9149923897944576\n",
      "At random state 28, the testing accuracy is:0.8246571372339889\n",
      "/n\n",
      "At random state 29, the training accuracy is :0.9079850559017626\n",
      "At random state 29, the testing accuracy is:0.8428721919021801\n",
      "/n\n",
      "At random state 30, the training accuracy is :0.9124839582885386\n",
      "At random state 30, the testing accuracy is:0.8252542820487997\n",
      "/n\n",
      "At random state 31, the training accuracy is :0.8807813164903344\n",
      "At random state 31, the testing accuracy is:0.9322410961977345\n",
      "/n\n",
      "At random state 32, the training accuracy is :0.8878745837425007\n",
      "At random state 32, the testing accuracy is:0.9175537182776695\n",
      "/n\n",
      "At random state 33, the training accuracy is :0.8879882989708496\n",
      "At random state 33, the testing accuracy is:0.9168810654061036\n",
      "/n\n",
      "At random state 34, the training accuracy is :0.8963326815087105\n",
      "At random state 34, the testing accuracy is:0.8827613135562807\n",
      "/n\n",
      "At random state 35, the training accuracy is :0.890330086541364\n",
      "At random state 35, the testing accuracy is:0.9152274156114041\n",
      "/n\n",
      "At random state 36, the training accuracy is :0.8896047763344989\n",
      "At random state 36, the testing accuracy is:0.9128607101892308\n",
      "/n\n",
      "At random state 37, the training accuracy is :0.8928000346196905\n",
      "At random state 37, the testing accuracy is:0.9088278324221779\n",
      "/n\n",
      "At random state 38, the training accuracy is :0.8897992521999325\n",
      "At random state 38, the testing accuracy is:0.9171487919237081\n",
      "/n\n",
      "At random state 39, the training accuracy is :0.9036070955828279\n",
      "At random state 39, the testing accuracy is:0.8557691443734091\n",
      "/n\n",
      "At random state 40, the training accuracy is :0.8938831948100019\n",
      "At random state 40, the testing accuracy is:0.8932663650180768\n",
      "/n\n",
      "At random state 41, the training accuracy is :0.8988787589416551\n",
      "At random state 41, the testing accuracy is:0.8664155228386853\n",
      "/n\n",
      "At random state 42, the training accuracy is :0.8939442665762621\n",
      "At random state 42, the testing accuracy is:0.8973506561453755\n",
      "/n\n",
      "At random state 43, the training accuracy is :0.9001636599429672\n",
      "At random state 43, the testing accuracy is:0.8753517136188681\n",
      "/n\n",
      "At random state 44, the training accuracy is :0.9029550404208073\n",
      "At random state 44, the testing accuracy is:0.8129261407044059\n",
      "/n\n",
      "At random state 45, the training accuracy is :0.8977442277455933\n",
      "At random state 45, the testing accuracy is:0.8752250488622103\n",
      "/n\n",
      "At random state 46, the training accuracy is :0.8990385584067329\n",
      "At random state 46, the testing accuracy is:0.8747213040260013\n",
      "/n\n",
      "At random state 47, the training accuracy is :0.8948665010955633\n",
      "At random state 47, the testing accuracy is:0.8922417237310005\n",
      "/n\n",
      "At random state 48, the training accuracy is :0.9015776846896191\n",
      "At random state 48, the testing accuracy is:0.86800865282321\n",
      "/n\n",
      "At random state 49, the training accuracy is :0.9105423653107543\n",
      "At random state 49, the testing accuracy is:0.8350653342955413\n",
      "/n\n",
      "At random state 50, the training accuracy is :0.9009852860973523\n",
      "At random state 50, the testing accuracy is:0.8423100031908728\n",
      "/n\n",
      "At random state 51, the training accuracy is :0.8931532403468286\n",
      "At random state 51, the testing accuracy is:0.8957875198770016\n",
      "/n\n",
      "At random state 52, the training accuracy is :0.8947509459615383\n",
      "At random state 52, the testing accuracy is:0.8925915186724517\n",
      "/n\n",
      "At random state 53, the training accuracy is :0.904874673000394\n",
      "At random state 53, the testing accuracy is:0.8523547724792293\n",
      "/n\n",
      "At random state 54, the training accuracy is :0.898221004570017\n",
      "At random state 54, the testing accuracy is:0.8776353009952889\n",
      "/n\n",
      "At random state 55, the training accuracy is :0.89319645419356\n",
      "At random state 55, the testing accuracy is:0.8987976261667096\n",
      "/n\n",
      "At random state 56, the training accuracy is :0.9060692378798125\n",
      "At random state 56, the testing accuracy is:0.8449970932688171\n",
      "/n\n",
      "At random state 57, the training accuracy is :0.9029895636543817\n",
      "At random state 57, the testing accuracy is:0.8659209846255536\n",
      "/n\n",
      "At random state 58, the training accuracy is :0.8814905568092585\n",
      "At random state 58, the testing accuracy is:0.9301081927084237\n",
      "/n\n",
      "At random state 59, the training accuracy is :0.8874616860462764\n",
      "At random state 59, the testing accuracy is:0.9177103290707421\n",
      "/n\n",
      "At random state 60, the training accuracy is :0.8983883112872219\n",
      "At random state 60, the testing accuracy is:0.8827022031179699\n",
      "/n\n",
      "At random state 61, the training accuracy is :0.9043643738374806\n",
      "At random state 61, the testing accuracy is:0.8544776294432311\n",
      "/n\n",
      "At random state 62, the training accuracy is :0.900641456423033\n",
      "At random state 62, the testing accuracy is:0.8570993690354571\n",
      "/n\n",
      "At random state 63, the training accuracy is :0.8940434059974829\n",
      "At random state 63, the testing accuracy is:0.8964376150854272\n",
      "/n\n",
      "At random state 64, the training accuracy is :0.886133112177135\n",
      "At random state 64, the testing accuracy is:0.926508500814428\n",
      "/n\n",
      "At random state 65, the training accuracy is :0.8978432738005422\n",
      "At random state 65, the testing accuracy is:0.8828637466180442\n",
      "/n\n",
      "At random state 66, the training accuracy is :0.9001082700395925\n",
      "At random state 66, the testing accuracy is:0.876330270283092\n",
      "/n\n"
     ]
    },
    {
     "name": "stdout",
     "output_type": "stream",
     "text": [
      "At random state 67, the training accuracy is :0.8915025477235988\n",
      "At random state 67, the testing accuracy is:0.9058168794622785\n",
      "/n\n",
      "At random state 68, the training accuracy is :0.9028493757450913\n",
      "At random state 68, the testing accuracy is:0.8641483684931222\n",
      "/n\n",
      "At random state 69, the training accuracy is :0.8915063040754967\n",
      "At random state 69, the testing accuracy is:0.9060630749933307\n",
      "/n\n",
      "At random state 70, the training accuracy is :0.8834039435694677\n",
      "At random state 70, the testing accuracy is:0.9232879755887871\n",
      "/n\n",
      "At random state 71, the training accuracy is :0.9093852989222346\n",
      "At random state 71, the testing accuracy is:0.8075682042626336\n",
      "/n\n",
      "At random state 72, the training accuracy is :0.887909641380888\n",
      "At random state 72, the testing accuracy is:0.9204939440753833\n",
      "/n\n",
      "At random state 73, the training accuracy is :0.8960910447264088\n",
      "At random state 73, the testing accuracy is:0.8848284915077834\n",
      "/n\n",
      "At random state 74, the training accuracy is :0.8738718540420292\n",
      "At random state 74, the testing accuracy is:0.9302643275474215\n",
      "/n\n",
      "At random state 75, the training accuracy is :0.8953946547741162\n",
      "At random state 75, the testing accuracy is:0.8756530010156298\n",
      "/n\n",
      "At random state 76, the training accuracy is :0.9038753805919302\n",
      "At random state 76, the testing accuracy is:0.8517080643619265\n",
      "/n\n",
      "At random state 77, the training accuracy is :0.8889513987941758\n",
      "At random state 77, the testing accuracy is:0.9168452679704561\n",
      "/n\n",
      "At random state 78, the training accuracy is :0.9135381248514395\n",
      "At random state 78, the testing accuracy is:0.7899873713177685\n",
      "/n\n",
      "At random state 79, the training accuracy is :0.8920179616099255\n",
      "At random state 79, the testing accuracy is:0.9004279725235953\n",
      "/n\n",
      "At random state 80, the training accuracy is :0.892726634902634\n",
      "At random state 80, the testing accuracy is:0.9035040850720207\n",
      "/n\n",
      "At random state 81, the training accuracy is :0.8877972939748031\n",
      "At random state 81, the testing accuracy is:0.9199819618982278\n",
      "/n\n",
      "At random state 82, the training accuracy is :0.9088225935331654\n",
      "At random state 82, the testing accuracy is:0.840722645720096\n",
      "/n\n",
      "At random state 83, the training accuracy is :0.9004411052929163\n",
      "At random state 83, the testing accuracy is:0.8790442238369577\n",
      "/n\n",
      "At random state 84, the training accuracy is :0.8837031763075623\n",
      "At random state 84, the testing accuracy is:0.9284526387270741\n",
      "/n\n",
      "At random state 85, the training accuracy is :0.913142456288272\n",
      "At random state 85, the testing accuracy is:0.7700764934265758\n",
      "/n\n",
      "At random state 86, the training accuracy is :0.8924092314996968\n",
      "At random state 86, the testing accuracy is:0.9056257429769184\n",
      "/n\n",
      "At random state 87, the training accuracy is :0.9138331281311072\n",
      "At random state 87, the testing accuracy is:0.8105298937240415\n",
      "/n\n",
      "At random state 88, the training accuracy is :0.8973336703431843\n",
      "At random state 88, the testing accuracy is:0.883601280770308\n",
      "/n\n",
      "At random state 89, the training accuracy is :0.9032240895674261\n",
      "At random state 89, the testing accuracy is:0.845760786461486\n",
      "/n\n",
      "At random state 90, the training accuracy is :0.8793112686032555\n",
      "At random state 90, the testing accuracy is:0.9468304700964035\n",
      "/n\n",
      "At random state 91, the training accuracy is :0.8927178994151133\n",
      "At random state 91, the testing accuracy is:0.8977596185481715\n",
      "/n\n",
      "At random state 92, the training accuracy is :0.8937657169365189\n",
      "At random state 92, the testing accuracy is:0.8934151292076533\n",
      "/n\n",
      "At random state 93, the training accuracy is :0.9081892173335392\n",
      "At random state 93, the testing accuracy is:0.8443176859670056\n",
      "/n\n",
      "At random state 94, the training accuracy is :0.9033986835736001\n",
      "At random state 94, the testing accuracy is:0.8683982189350958\n",
      "/n\n",
      "At random state 95, the training accuracy is :0.9081649716354206\n",
      "At random state 95, the testing accuracy is:0.8477779307074432\n",
      "/n\n",
      "At random state 96, the training accuracy is :0.9027836209567596\n",
      "At random state 96, the testing accuracy is:0.85390947283825\n",
      "/n\n",
      "At random state 97, the training accuracy is :0.8943279301950892\n",
      "At random state 97, the testing accuracy is:0.8974093864265152\n",
      "/n\n",
      "At random state 98, the training accuracy is :0.9084859758312095\n",
      "At random state 98, the testing accuracy is:0.8406615841001427\n",
      "/n\n",
      "At random state 99, the training accuracy is :0.8832335445293644\n",
      "At random state 99, the testing accuracy is:0.9298618955109363\n",
      "/n\n",
      "At random state 100, the training accuracy is :0.9041687172057868\n",
      "At random state 100, the testing accuracy is:0.8574423769722794\n",
      "/n\n",
      "At random state 101, the training accuracy is :0.8965073760158644\n",
      "At random state 101, the testing accuracy is:0.8889516019749997\n",
      "/n\n",
      "At random state 102, the training accuracy is :0.8895832573739337\n",
      "At random state 102, the testing accuracy is:0.9083873197519572\n",
      "/n\n",
      "At random state 103, the training accuracy is :0.9060064135392742\n",
      "At random state 103, the testing accuracy is:0.8472694373387699\n",
      "/n\n",
      "At random state 104, the training accuracy is :0.9161387688254968\n",
      "At random state 104, the testing accuracy is:0.7998174657776739\n",
      "/n\n",
      "At random state 105, the training accuracy is :0.8953269266125661\n",
      "At random state 105, the testing accuracy is:0.888285837537998\n",
      "/n\n",
      "At random state 106, the training accuracy is :0.8912816661003771\n",
      "At random state 106, the testing accuracy is:0.9082629495058362\n",
      "/n\n",
      "At random state 107, the training accuracy is :0.8935526482203064\n",
      "At random state 107, the testing accuracy is:0.8980736011281478\n",
      "/n\n",
      "At random state 108, the training accuracy is :0.8977040262462815\n",
      "At random state 108, the testing accuracy is:0.8782872875402506\n",
      "/n\n",
      "At random state 109, the training accuracy is :0.8983885392542739\n",
      "At random state 109, the testing accuracy is:0.8796618839623552\n",
      "/n\n",
      "At random state 110, the training accuracy is :0.8913862984633973\n",
      "At random state 110, the testing accuracy is:0.9080216101643795\n",
      "/n\n",
      "At random state 111, the training accuracy is :0.9044879915848897\n",
      "At random state 111, the testing accuracy is:0.8587530485568948\n",
      "/n\n",
      "At random state 112, the training accuracy is :0.8907566719626353\n",
      "At random state 112, the testing accuracy is:0.8958563020615763\n",
      "/n\n",
      "At random state 113, the training accuracy is :0.9145956218493138\n",
      "At random state 113, the testing accuracy is:0.8040614822325981\n",
      "/n\n",
      "At random state 114, the training accuracy is :0.8834643325644406\n",
      "At random state 114, the testing accuracy is:0.9341368246409611\n",
      "/n\n",
      "At random state 115, the training accuracy is :0.8847555174614551\n",
      "At random state 115, the testing accuracy is:0.9364065107007098\n",
      "/n\n",
      "At random state 116, the training accuracy is :0.8999289091355094\n",
      "At random state 116, the testing accuracy is:0.8718185736934255\n",
      "/n\n",
      "At random state 117, the training accuracy is :0.8886409851446068\n",
      "At random state 117, the testing accuracy is:0.9267595622549349\n",
      "/n\n",
      "At random state 118, the training accuracy is :0.8908568973358426\n",
      "At random state 118, the testing accuracy is:0.9136710968444595\n",
      "/n\n",
      "At random state 119, the training accuracy is :0.8883647000866062\n",
      "At random state 119, the testing accuracy is:0.909791642337903\n",
      "/n\n",
      "At random state 120, the training accuracy is :0.9021883080003518\n",
      "At random state 120, the testing accuracy is:0.8570006325854646\n",
      "/n\n",
      "At random state 121, the training accuracy is :0.911883932429748\n",
      "At random state 121, the testing accuracy is:0.7964368691067258\n",
      "/n\n",
      "At random state 122, the training accuracy is :0.8978412725039211\n",
      "At random state 122, the testing accuracy is:0.8797778850723125\n",
      "/n\n",
      "At random state 123, the training accuracy is :0.9120032123343706\n",
      "At random state 123, the testing accuracy is:0.7932254397301202\n",
      "/n\n",
      "At random state 124, the training accuracy is :0.8972221035283424\n",
      "At random state 124, the testing accuracy is:0.8880110916693195\n",
      "/n\n",
      "At random state 125, the training accuracy is :0.8993777231974107\n",
      "At random state 125, the testing accuracy is:0.8631435894632402\n",
      "/n\n",
      "At random state 126, the training accuracy is :0.9128435028014764\n",
      "At random state 126, the testing accuracy is:0.8129478338895874\n",
      "/n\n",
      "At random state 127, the training accuracy is :0.8966919081828019\n",
      "At random state 127, the testing accuracy is:0.8687123447707688\n",
      "/n\n",
      "At random state 128, the training accuracy is :0.9029668286538463\n",
      "At random state 128, the testing accuracy is:0.8658118239054695\n",
      "/n\n",
      "At random state 129, the training accuracy is :0.8962165960176487\n",
      "At random state 129, the testing accuracy is:0.8859416076210249\n",
      "/n\n",
      "At random state 130, the training accuracy is :0.8936219639157396\n",
      "At random state 130, the testing accuracy is:0.8999685595688561\n",
      "/n\n",
      "At random state 131, the training accuracy is :0.8980010867186685\n",
      "At random state 131, the testing accuracy is:0.8774102455407731\n",
      "/n\n",
      "At random state 132, the training accuracy is :0.898379030238191\n",
      "At random state 132, the testing accuracy is:0.8807177215135806\n",
      "/n\n",
      "At random state 133, the training accuracy is :0.9048205245988455\n",
      "At random state 133, the testing accuracy is:0.8515846991419863\n",
      "/n\n",
      "At random state 134, the training accuracy is :0.889475345127914\n",
      "At random state 134, the testing accuracy is:0.9106655558747354\n",
      "/n\n",
      "At random state 135, the training accuracy is :0.88793989076443\n",
      "At random state 135, the testing accuracy is:0.9117791140714301\n",
      "/n\n",
      "At random state 136, the training accuracy is :0.8956083633520714\n",
      "At random state 136, the testing accuracy is:0.8855474871010667\n",
      "/n\n"
     ]
    },
    {
     "name": "stdout",
     "output_type": "stream",
     "text": [
      "At random state 137, the training accuracy is :0.8925528987999098\n",
      "At random state 137, the testing accuracy is:0.8993116316534863\n",
      "/n\n",
      "At random state 138, the training accuracy is :0.8933316360669241\n",
      "At random state 138, the testing accuracy is:0.897254247359604\n",
      "/n\n",
      "At random state 139, the training accuracy is :0.8830587486799992\n",
      "At random state 139, the testing accuracy is:0.928437228928628\n",
      "/n\n",
      "At random state 140, the training accuracy is :0.8935117053119223\n",
      "At random state 140, the testing accuracy is:0.8928243201644215\n",
      "/n\n",
      "At random state 141, the training accuracy is :0.8912566288374524\n",
      "At random state 141, the testing accuracy is:0.9075742936903438\n",
      "/n\n",
      "At random state 142, the training accuracy is :0.88476779389825\n",
      "At random state 142, the testing accuracy is:0.9329289006306919\n",
      "/n\n",
      "At random state 143, the training accuracy is :0.8892981650229662\n",
      "At random state 143, the testing accuracy is:0.9198245805265703\n",
      "/n\n",
      "At random state 144, the training accuracy is :0.9019958251188313\n",
      "At random state 144, the testing accuracy is:0.8458733877724209\n",
      "/n\n",
      "At random state 145, the training accuracy is :0.8934530939047403\n",
      "At random state 145, the testing accuracy is:0.8962592271946778\n",
      "/n\n",
      "At random state 146, the training accuracy is :0.8932031178679151\n",
      "At random state 146, the testing accuracy is:0.9045075182395992\n",
      "/n\n",
      "At random state 147, the training accuracy is :0.8976197536530611\n",
      "At random state 147, the testing accuracy is:0.8746528508317931\n",
      "/n\n",
      "At random state 148, the training accuracy is :0.9109268930701864\n",
      "At random state 148, the testing accuracy is:0.826937380543177\n",
      "/n\n",
      "At random state 149, the training accuracy is :0.9001201992556246\n",
      "At random state 149, the testing accuracy is:0.8637235416889157\n",
      "/n\n",
      "At random state 150, the training accuracy is :0.8876139605064619\n",
      "At random state 150, the testing accuracy is:0.9274591457031653\n",
      "/n\n",
      "At random state 151, the training accuracy is :0.8935150063606518\n",
      "At random state 151, the testing accuracy is:0.8986479561125265\n",
      "/n\n",
      "At random state 152, the training accuracy is :0.8933001967317689\n",
      "At random state 152, the testing accuracy is:0.9018378208147098\n",
      "/n\n",
      "At random state 153, the training accuracy is :0.9183301420924326\n",
      "At random state 153, the testing accuracy is:0.8129469092140419\n",
      "/n\n",
      "At random state 154, the training accuracy is :0.894233596407633\n",
      "At random state 154, the testing accuracy is:0.8948398517479556\n",
      "/n\n",
      "At random state 155, the training accuracy is :0.8948403804568049\n",
      "At random state 155, the testing accuracy is:0.8914076480345066\n",
      "/n\n",
      "At random state 156, the training accuracy is :0.888206142226503\n",
      "At random state 156, the testing accuracy is:0.9169403654018602\n",
      "/n\n",
      "At random state 157, the training accuracy is :0.8915150236875147\n",
      "At random state 157, the testing accuracy is:0.9094139998343588\n",
      "/n\n",
      "At random state 158, the training accuracy is :0.875328461817168\n",
      "At random state 158, the testing accuracy is:0.9373155492344774\n",
      "/n\n",
      "At random state 159, the training accuracy is :0.8934004118425296\n",
      "At random state 159, the testing accuracy is:0.9007064833290117\n",
      "/n\n",
      "At random state 160, the training accuracy is :0.8854822975102734\n",
      "At random state 160, the testing accuracy is:0.9193587208884589\n",
      "/n\n",
      "At random state 161, the training accuracy is :0.8935916899073061\n",
      "At random state 161, the testing accuracy is:0.9015447597324788\n",
      "/n\n",
      "At random state 162, the training accuracy is :0.9000595575987547\n",
      "At random state 162, the testing accuracy is:0.8745478917787504\n",
      "/n\n",
      "At random state 163, the training accuracy is :0.9021726999098529\n",
      "At random state 163, the testing accuracy is:0.8343130712777754\n",
      "/n\n",
      "At random state 164, the training accuracy is :0.8877556353439834\n",
      "At random state 164, the testing accuracy is:0.916281858507354\n",
      "/n\n",
      "At random state 165, the training accuracy is :0.8981790050112463\n",
      "At random state 165, the testing accuracy is:0.8795610317533615\n",
      "/n\n",
      "At random state 166, the training accuracy is :0.8877090991294215\n",
      "At random state 166, the testing accuracy is:0.9240048545711654\n",
      "/n\n",
      "At random state 167, the training accuracy is :0.9075187882695537\n",
      "At random state 167, the testing accuracy is:0.8507766644581171\n",
      "/n\n",
      "At random state 168, the training accuracy is :0.8964343893550094\n",
      "At random state 168, the testing accuracy is:0.884104103261409\n",
      "/n\n",
      "At random state 169, the training accuracy is :0.8932053687940178\n",
      "At random state 169, the testing accuracy is:0.9004745173828754\n",
      "/n\n",
      "At random state 170, the training accuracy is :0.9086536092916795\n",
      "At random state 170, the testing accuracy is:0.8548425007473824\n",
      "/n\n",
      "At random state 171, the training accuracy is :0.8901916399555645\n",
      "At random state 171, the testing accuracy is:0.9186729492450701\n",
      "/n\n",
      "At random state 172, the training accuracy is :0.9157282770136841\n",
      "At random state 172, the testing accuracy is:0.7723056412402034\n",
      "/n\n",
      "At random state 173, the training accuracy is :0.9030041435921854\n",
      "At random state 173, the testing accuracy is:0.8653948474616734\n",
      "/n\n",
      "At random state 174, the training accuracy is :0.8906049679407497\n",
      "At random state 174, the testing accuracy is:0.9178588473102794\n",
      "/n\n",
      "At random state 175, the training accuracy is :0.8982420689762853\n",
      "At random state 175, the testing accuracy is:0.8810276142227013\n",
      "/n\n",
      "At random state 176, the training accuracy is :0.8854027501436421\n",
      "At random state 176, the testing accuracy is:0.9296310498236737\n",
      "/n\n",
      "At random state 177, the training accuracy is :0.8992386938623457\n",
      "At random state 177, the testing accuracy is:0.8707740029446358\n",
      "/n\n",
      "At random state 178, the training accuracy is :0.9180366643564145\n",
      "At random state 178, the testing accuracy is:0.78513097561991\n",
      "/n\n",
      "At random state 179, the training accuracy is :0.901055308375685\n",
      "At random state 179, the testing accuracy is:0.8551043082897289\n",
      "/n\n",
      "At random state 180, the training accuracy is :0.890926663186124\n",
      "At random state 180, the testing accuracy is:0.9093301243499996\n",
      "/n\n",
      "At random state 181, the training accuracy is :0.8991852763733922\n",
      "At random state 181, the testing accuracy is:0.8577898365789028\n",
      "/n\n",
      "At random state 182, the training accuracy is :0.8779587363161591\n",
      "At random state 182, the testing accuracy is:0.9400105628261335\n",
      "/n\n",
      "At random state 183, the training accuracy is :0.9030973110571391\n",
      "At random state 183, the testing accuracy is:0.8643260840353398\n",
      "/n\n",
      "At random state 184, the training accuracy is :0.8981877416646378\n",
      "At random state 184, the testing accuracy is:0.8727187302970514\n",
      "/n\n",
      "At random state 185, the training accuracy is :0.8939168218246816\n",
      "At random state 185, the testing accuracy is:0.8988876215432379\n",
      "/n\n",
      "At random state 186, the training accuracy is :0.8935882223859047\n",
      "At random state 186, the testing accuracy is:0.8988275748226299\n",
      "/n\n",
      "At random state 187, the training accuracy is :0.8851708934466431\n",
      "At random state 187, the testing accuracy is:0.9184471633776826\n",
      "/n\n",
      "At random state 188, the training accuracy is :0.8876927921526457\n",
      "At random state 188, the testing accuracy is:0.9197684536464902\n",
      "/n\n",
      "At random state 189, the training accuracy is :0.8920994241185314\n",
      "At random state 189, the testing accuracy is:0.8903656519484899\n",
      "/n\n",
      "At random state 190, the training accuracy is :0.8956216017632428\n",
      "At random state 190, the testing accuracy is:0.8929189526974003\n",
      "/n\n",
      "At random state 191, the training accuracy is :0.9011588501907557\n",
      "At random state 191, the testing accuracy is:0.8456106588889745\n",
      "/n\n",
      "At random state 192, the training accuracy is :0.8873422976179267\n",
      "At random state 192, the testing accuracy is:0.9189204146291657\n",
      "/n\n",
      "At random state 193, the training accuracy is :0.8934847703927482\n",
      "At random state 193, the testing accuracy is:0.8970824566485079\n",
      "/n\n",
      "At random state 194, the training accuracy is :0.8884575008545278\n",
      "At random state 194, the testing accuracy is:0.9147644362191086\n",
      "/n\n",
      "At random state 195, the training accuracy is :0.9036646182989132\n",
      "At random state 195, the testing accuracy is:0.8611846030332402\n",
      "/n\n",
      "At random state 196, the training accuracy is :0.900157140647744\n",
      "At random state 196, the testing accuracy is:0.8701863354359656\n",
      "/n\n",
      "At random state 197, the training accuracy is :0.8955738685329723\n",
      "At random state 197, the testing accuracy is:0.8808846391433633\n",
      "/n\n",
      "At random state 198, the training accuracy is :0.8967559866119226\n",
      "At random state 198, the testing accuracy is:0.8805097625013165\n",
      "/n\n",
      "At random state 199, the training accuracy is :0.8983698235805316\n",
      "At random state 199, the testing accuracy is:0.8812186688899938\n",
      "/n\n"
     ]
    }
   ],
   "source": [
    "from sklearn.metrics import mean_squared_error,mean_absolute_error,r2_score\n",
    "for i in range(1,200):\n",
    "    x_train,x_test,y_train,y_test=train_test_split(x,y,test_size=0.20,random_state=i)\n",
    "    lr.fit(x_train,y_train)\n",
    "    pred_train=lr.predict(x_train)\n",
    "    pred_test=lr.predict(x_test)\n",
    "    print(f\"At random state {i}, the training accuracy is :{r2_score(y_train,pred_train)}\")\n",
    "    print(f\"At random state {i}, the testing accuracy is:{r2_score(y_test,pred_test)}\")\n",
    "    print(\"/n\")\n",
    "    \n",
    "                                                              "
   ]
  },
  {
   "cell_type": "markdown",
   "id": "42b4aadc",
   "metadata": {},
   "source": [
    "At random state 63 both training and testing acuuracy score is same89.4.so we take randomstate as 63"
   ]
  },
  {
   "cell_type": "code",
   "execution_count": 43,
   "id": "15f73bf6",
   "metadata": {},
   "outputs": [],
   "source": [
    "x_train,x_test,y_train,y_test=train_test_split(x,y,test_size=0.20,random_state=63)"
   ]
  },
  {
   "cell_type": "code",
   "execution_count": 44,
   "id": "5c7d5e55",
   "metadata": {},
   "outputs": [
    {
     "data": {
      "text/html": [
       "<style>#sk-container-id-1 {color: black;background-color: white;}#sk-container-id-1 pre{padding: 0;}#sk-container-id-1 div.sk-toggleable {background-color: white;}#sk-container-id-1 label.sk-toggleable__label {cursor: pointer;display: block;width: 100%;margin-bottom: 0;padding: 0.3em;box-sizing: border-box;text-align: center;}#sk-container-id-1 label.sk-toggleable__label-arrow:before {content: \"▸\";float: left;margin-right: 0.25em;color: #696969;}#sk-container-id-1 label.sk-toggleable__label-arrow:hover:before {color: black;}#sk-container-id-1 div.sk-estimator:hover label.sk-toggleable__label-arrow:before {color: black;}#sk-container-id-1 div.sk-toggleable__content {max-height: 0;max-width: 0;overflow: hidden;text-align: left;background-color: #f0f8ff;}#sk-container-id-1 div.sk-toggleable__content pre {margin: 0.2em;color: black;border-radius: 0.25em;background-color: #f0f8ff;}#sk-container-id-1 input.sk-toggleable__control:checked~div.sk-toggleable__content {max-height: 200px;max-width: 100%;overflow: auto;}#sk-container-id-1 input.sk-toggleable__control:checked~label.sk-toggleable__label-arrow:before {content: \"▾\";}#sk-container-id-1 div.sk-estimator input.sk-toggleable__control:checked~label.sk-toggleable__label {background-color: #d4ebff;}#sk-container-id-1 div.sk-label input.sk-toggleable__control:checked~label.sk-toggleable__label {background-color: #d4ebff;}#sk-container-id-1 input.sk-hidden--visually {border: 0;clip: rect(1px 1px 1px 1px);clip: rect(1px, 1px, 1px, 1px);height: 1px;margin: -1px;overflow: hidden;padding: 0;position: absolute;width: 1px;}#sk-container-id-1 div.sk-estimator {font-family: monospace;background-color: #f0f8ff;border: 1px dotted black;border-radius: 0.25em;box-sizing: border-box;margin-bottom: 0.5em;}#sk-container-id-1 div.sk-estimator:hover {background-color: #d4ebff;}#sk-container-id-1 div.sk-parallel-item::after {content: \"\";width: 100%;border-bottom: 1px solid gray;flex-grow: 1;}#sk-container-id-1 div.sk-label:hover label.sk-toggleable__label {background-color: #d4ebff;}#sk-container-id-1 div.sk-serial::before {content: \"\";position: absolute;border-left: 1px solid gray;box-sizing: border-box;top: 0;bottom: 0;left: 50%;z-index: 0;}#sk-container-id-1 div.sk-serial {display: flex;flex-direction: column;align-items: center;background-color: white;padding-right: 0.2em;padding-left: 0.2em;position: relative;}#sk-container-id-1 div.sk-item {position: relative;z-index: 1;}#sk-container-id-1 div.sk-parallel {display: flex;align-items: stretch;justify-content: center;background-color: white;position: relative;}#sk-container-id-1 div.sk-item::before, #sk-container-id-1 div.sk-parallel-item::before {content: \"\";position: absolute;border-left: 1px solid gray;box-sizing: border-box;top: 0;bottom: 0;left: 50%;z-index: -1;}#sk-container-id-1 div.sk-parallel-item {display: flex;flex-direction: column;z-index: 1;position: relative;background-color: white;}#sk-container-id-1 div.sk-parallel-item:first-child::after {align-self: flex-end;width: 50%;}#sk-container-id-1 div.sk-parallel-item:last-child::after {align-self: flex-start;width: 50%;}#sk-container-id-1 div.sk-parallel-item:only-child::after {width: 0;}#sk-container-id-1 div.sk-dashed-wrapped {border: 1px dashed gray;margin: 0 0.4em 0.5em 0.4em;box-sizing: border-box;padding-bottom: 0.4em;background-color: white;}#sk-container-id-1 div.sk-label label {font-family: monospace;font-weight: bold;display: inline-block;line-height: 1.2em;}#sk-container-id-1 div.sk-label-container {text-align: center;}#sk-container-id-1 div.sk-container {/* jupyter's `normalize.less` sets `[hidden] { display: none; }` but bootstrap.min.css set `[hidden] { display: none !important; }` so we also need the `!important` here to be able to override the default hidden behavior on the sphinx rendered scikit-learn.org. See: https://github.com/scikit-learn/scikit-learn/issues/21755 */display: inline-block !important;position: relative;}#sk-container-id-1 div.sk-text-repr-fallback {display: none;}</style><div id=\"sk-container-id-1\" class=\"sk-top-container\"><div class=\"sk-text-repr-fallback\"><pre>LinearRegression()</pre><b>In a Jupyter environment, please rerun this cell to show the HTML representation or trust the notebook. <br />On GitHub, the HTML representation is unable to render, please try loading this page with nbviewer.org.</b></div><div class=\"sk-container\" hidden><div class=\"sk-item\"><div class=\"sk-estimator sk-toggleable\"><input class=\"sk-toggleable__control sk-hidden--visually\" id=\"sk-estimator-id-1\" type=\"checkbox\" checked><label for=\"sk-estimator-id-1\" class=\"sk-toggleable__label sk-toggleable__label-arrow\">LinearRegression</label><div class=\"sk-toggleable__content\"><pre>LinearRegression()</pre></div></div></div></div></div>"
      ],
      "text/plain": [
       "LinearRegression()"
      ]
     },
     "execution_count": 44,
     "metadata": {},
     "output_type": "execute_result"
    }
   ],
   "source": [
    "lr.fit(x_train,y_train)"
   ]
  },
  {
   "cell_type": "code",
   "execution_count": 45,
   "id": "f98d9b16",
   "metadata": {},
   "outputs": [],
   "source": [
    "pred_test=lr.predict(x_test)"
   ]
  },
  {
   "cell_type": "code",
   "execution_count": 46,
   "id": "f6e82ae6",
   "metadata": {},
   "outputs": [
    {
     "data": {
      "text/plain": [
       "0.8964376150854272"
      ]
     },
     "execution_count": 46,
     "metadata": {},
     "output_type": "execute_result"
    }
   ],
   "source": [
    "r2_score(y_test,pred_test)"
   ]
  },
  {
   "cell_type": "markdown",
   "id": "700dbf2b",
   "metadata": {},
   "source": [
    "we will draw the linear regression line to see the best fit line "
   ]
  },
  {
   "cell_type": "code",
   "execution_count": 47,
   "id": "aebc70e9",
   "metadata": {},
   "outputs": [
    {
     "data": {
      "image/png": "[encoded data removed]",
      "text/plain": [
       "<Figure size 1008x504 with 1 Axes>"
      ]
     },
     "metadata": {
      "needs_background": "light"
     },
     "output_type": "display_data"
    }
   ],
   "source": [
    "plt.figure(figsize=(14,7))\n",
    "plt.scatter(x=y_test,y=pred_test,color='r')\n",
    "plt.plot(y_test,y_test,color='b')\n",
    "plt.xlabel(\"Actual sales\",fontsize=20)\n",
    "plt.ylabel(\"predicted sales\",fontsize=20)\n",
    "plt.title(\"Linear Regression\",fontsize=20)\n",
    "plt.show()"
   ]
  },
  {
   "cell_type": "markdown",
   "id": "74e2695e",
   "metadata": {},
   "source": [
    "the best fit line is covering almost all points"
   ]
  },
  {
   "cell_type": "code",
   "execution_count": 48,
   "id": "a71cd744",
   "metadata": {},
   "outputs": [],
   "source": [
    "from sklearn.linear_model import LinearRegression,Lasso,Ridge,ElasticNet\n",
    "from sklearn.svm import SVR\n",
    "from sklearn.tree import DecisionTreeRegressor\n",
    "from sklearn.ensemble import RandomForestRegressor\n",
    "from sklearn.neighbors import KNeighborsRegressor\n",
    "from sklearn.linear_model import SGDRegressor\n",
    "from sklearn.ensemble import GradientBoostingRegressor\n",
    "from sklearn.ensemble import AdaBoostRegressor\n"
   ]
  },
  {
   "cell_type": "code",
   "execution_count": 49,
   "id": "caaa5e85",
   "metadata": {},
   "outputs": [],
   "source": [
    "\n",
    "from sklearn.model_selection import cross_val_score\n",
    "from sklearn.model_selection import GridSearchCV"
   ]
  },
  {
   "cell_type": "code",
   "execution_count": 57,
   "id": "f3e68385",
   "metadata": {},
   "outputs": [],
   "source": [
    "def regressor(model,x,y):\n",
    "    x_train,x_test,y_train,y_test=train_test_split(x,y,test_size=0.20,random_state=63)\n",
    "    \n",
    "    model.fit(x_train,y_train)\n",
    "    \n",
    "    pred=model.predict(x_test)\n",
    "    \n",
    "    print(\"Mean squared Error is:\",mean_squared_error(y_test,pred))\n",
    "    \n",
    "    print(\"r2_score is:\",r2_score(y_test,pred))\n",
    "    \n",
    "    print(\"cross_validation_score is:\",cross_val_score(model,x,y,cv=5).mean())"
   ]
  },
  {
   "cell_type": "markdown",
   "id": "2088cb06",
   "metadata": {},
   "source": [
    "# LinearRegression"
   ]
  },
  {
   "cell_type": "code",
   "execution_count": 58,
   "id": "e9ca6246",
   "metadata": {},
   "outputs": [
    {
     "name": "stdout",
     "output_type": "stream",
     "text": [
      "Mean squared Error is: 2.555142294539894\n",
      "r2_score is: 0.8964376150854272\n",
      "cross_validation_score is: 0.8857406146589943\n"
     ]
    }
   ],
   "source": [
    "model=LinearRegression()\n",
    "regressor(model,x,y)"
   ]
  },
  {
   "cell_type": "markdown",
   "id": "fbddb9c4",
   "metadata": {},
   "source": [
    "# L1--LassoRegression"
   ]
  },
  {
   "cell_type": "code",
   "execution_count": 59,
   "id": "3dda6da0",
   "metadata": {},
   "outputs": [
    {
     "name": "stdout",
     "output_type": "stream",
     "text": [
      "Mean squared Error is: 2.5544531090530516\n",
      "r2_score is: 0.8964655484388135\n",
      "cross_validation_score is: 0.8857667900282387\n"
     ]
    }
   ],
   "source": [
    "model=Lasso(alpha=0.001)\n",
    "regressor(model,x,y)"
   ]
  },
  {
   "cell_type": "markdown",
   "id": "48d6fad1",
   "metadata": {},
   "source": [
    "# L2--Ridge Regression"
   ]
  },
  {
   "cell_type": "code",
   "execution_count": 60,
   "id": "8b4397db",
   "metadata": {},
   "outputs": [
    {
     "name": "stdout",
     "output_type": "stream",
     "text": [
      "Mean squared Error is: 2.5551409252833266\n",
      "r2_score is: 0.8964376705827182\n",
      "cross_validation_score is: 0.8857406269434074\n"
     ]
    }
   ],
   "source": [
    "model=Ridge(alpha=0.0001)\n",
    "regressor(model,x,y)"
   ]
  },
  {
   "cell_type": "markdown",
   "id": "05d29198",
   "metadata": {},
   "source": [
    "# ElasticNetRegression"
   ]
  },
  {
   "cell_type": "code",
   "execution_count": 61,
   "id": "40562d14",
   "metadata": {},
   "outputs": [
    {
     "name": "stdout",
     "output_type": "stream",
     "text": [
      "Mean squared Error is: 2.5549992824256313\n",
      "r2_score is: 0.8964434115045371\n",
      "cross_validation_score is: 0.8857428827689781\n"
     ]
    }
   ],
   "source": [
    "model=ElasticNet(alpha=0.0001)\n",
    "regressor(model,x,y)"
   ]
  },
  {
   "cell_type": "markdown",
   "id": "e702c404",
   "metadata": {},
   "source": [
    "# Support Vector Regressor"
   ]
  },
  {
   "cell_type": "code",
   "execution_count": 62,
   "id": "978551cd",
   "metadata": {},
   "outputs": [
    {
     "name": "stdout",
     "output_type": "stream",
     "text": [
      "Mean squared Error is: 0.7271641953259081\n",
      "r2_score is: 0.9705273328795185\n",
      "cross_validation_score is: 0.9041170072126675\n"
     ]
    }
   ],
   "source": [
    "model=SVR(kernel='rbf')\n",
    "regressor(model,x,y)"
   ]
  },
  {
   "cell_type": "code",
   "execution_count": 63,
   "id": "140b7d1c",
   "metadata": {},
   "outputs": [
    {
     "name": "stdout",
     "output_type": "stream",
     "text": [
      "Mean squared Error is: 5.315553512492517\n",
      "r2_score is: 0.7845554824593879\n",
      "cross_validation_score is: 0.7801024162630352\n"
     ]
    }
   ],
   "source": [
    "model=SVR(kernel='poly')\n",
    "regressor(model,x,y)"
   ]
  },
  {
   "cell_type": "code",
   "execution_count": 64,
   "id": "4f0b2882",
   "metadata": {},
   "outputs": [
    {
     "name": "stdout",
     "output_type": "stream",
     "text": [
      "Mean squared Error is: 2.1751229663968976\n",
      "r2_score is: 0.9118401654718467\n",
      "cross_validation_score is: 0.8763382119898759\n"
     ]
    }
   ],
   "source": [
    "model=SVR(kernel='linear')\n",
    "regressor(model,x,y)"
   ]
  },
  {
   "cell_type": "markdown",
   "id": "ea3396d0",
   "metadata": {},
   "source": [
    "# DecissionTreeRegressor"
   ]
  },
  {
   "cell_type": "code",
   "execution_count": 65,
   "id": "221c6299",
   "metadata": {},
   "outputs": [
    {
     "name": "stdout",
     "output_type": "stream",
     "text": [
      "Mean squared Error is: 1.1795000000000004\n",
      "r2_score is: 0.9521937258571602\n",
      "cross_validation_score is: 0.952249810286108\n"
     ]
    }
   ],
   "source": [
    "model=DecisionTreeRegressor(random_state=63)\n",
    "regressor(model,x,y)"
   ]
  },
  {
   "cell_type": "markdown",
   "id": "83025e58",
   "metadata": {},
   "source": [
    "# RandomForestRegressor"
   ]
  },
  {
   "cell_type": "code",
   "execution_count": 66,
   "id": "f142740e",
   "metadata": {},
   "outputs": [
    {
     "name": "stdout",
     "output_type": "stream",
     "text": [
      "Mean squared Error is: 0.3901785999999998\n",
      "r2_score is: 0.9841856845135486\n",
      "cross_validation_score is: 0.9748573752874258\n"
     ]
    }
   ],
   "source": [
    "model=RandomForestRegressor()\n",
    "regressor(model,x,y)"
   ]
  },
  {
   "cell_type": "markdown",
   "id": "dd1c6175",
   "metadata": {},
   "source": [
    "# KNN"
   ]
  },
  {
   "cell_type": "code",
   "execution_count": 67,
   "id": "e5433ba8",
   "metadata": {},
   "outputs": [
    {
     "name": "stdout",
     "output_type": "stream",
     "text": [
      "Mean squared Error is: 0.9426699999999997\n",
      "r2_score is: 0.9617926744839078\n",
      "cross_validation_score is: 0.9358043941034188\n"
     ]
    }
   ],
   "source": [
    "model=KNeighborsRegressor()\n",
    "regressor(model,x,y)"
   ]
  },
  {
   "cell_type": "markdown",
   "id": "7ef80f81",
   "metadata": {},
   "source": [
    "# SGDRegressor"
   ]
  },
  {
   "cell_type": "code",
   "execution_count": 68,
   "id": "6ece5430",
   "metadata": {},
   "outputs": [
    {
     "name": "stdout",
     "output_type": "stream",
     "text": [
      "Mean squared Error is: 2.5697282718578887\n",
      "r2_score is: 0.8958464313378177\n",
      "cross_validation_score is: 0.886376098524458\n"
     ]
    }
   ],
   "source": [
    "model=SGDRegressor()\n",
    "regressor(model,x,y)"
   ]
  },
  {
   "cell_type": "markdown",
   "id": "c9e73606",
   "metadata": {},
   "source": [
    "# GradientBoostRegressor"
   ]
  },
  {
   "cell_type": "code",
   "execution_count": 69,
   "id": "87622744",
   "metadata": {},
   "outputs": [
    {
     "name": "stdout",
     "output_type": "stream",
     "text": [
      "Mean squared Error is: 0.40787023543508905\n",
      "r2_score is: 0.9834686254430568\n",
      "cross_validation_score is: 0.9781486150221698\n"
     ]
    }
   ],
   "source": [
    "model=GradientBoostingRegressor()\n",
    "regressor(model,x,y)"
   ]
  },
  {
   "cell_type": "markdown",
   "id": "84855a33",
   "metadata": {},
   "source": [
    "# AdaBoostRegressor"
   ]
  },
  {
   "cell_type": "code",
   "execution_count": 70,
   "id": "dc06c60a",
   "metadata": {},
   "outputs": [
    {
     "name": "stdout",
     "output_type": "stream",
     "text": [
      "Mean squared Error is: 1.0468363496966284\n",
      "r2_score is: 0.9575707117284555\n",
      "cross_validation_score is: 0.9536421380063007\n"
     ]
    }
   ],
   "source": [
    "model=AdaBoostRegressor()\n",
    "regressor(model,x,y)"
   ]
  },
  {
   "cell_type": "markdown",
   "id": "0fe73892",
   "metadata": {},
   "source": [
    "# HyperParameterTuning"
   ]
  },
  {
   "cell_type": "code",
   "execution_count": null,
   "id": "23fd3f7e",
   "metadata": {},
   "outputs": [],
   "source": []
  },
  {
   "cell_type": "code",
   "execution_count": 71,
   "id": "f3cefa38",
   "metadata": {},
   "outputs": [
    {
     "name": "stdout",
     "output_type": "stream",
     "text": [
      "{'criterion': 'mae', 'max_features': 'auto'}\n"
     ]
    }
   ],
   "source": [
    "from sklearn.model_selection import GridSearchCV\n",
    "from sklearn.ensemble import RandomForestRegressor\n",
    "params={'criterion':['mse','mae'],\n",
    "        'max_features':['auto','sqrt','log2']}\n",
    "rf=RandomForestRegressor()\n",
    "clf=GridSearchCV(rf,params)\n",
    "clf.fit(x,y)\n",
    "print(clf.best_params_)\n"
   ]
  },
  {
   "cell_type": "code",
   "execution_count": 72,
   "id": "ecffcaff",
   "metadata": {},
   "outputs": [
    {
     "name": "stdout",
     "output_type": "stream",
     "text": [
      "r2_score 99.75984977197533\n",
      "cross val score: 97.57554783197916\n"
     ]
    }
   ],
   "source": [
    "rf=RandomForestRegressor(criterion='mse',max_features='auto')\n",
    "rf.fit(x,y)\n",
    "rf.score(x_train,y_train)\n",
    "pred_decision=rf.predict(x_test)\n",
    "\n",
    "rfs=r2_score(y_test,pred_decision)\n",
    "print('r2_score',rfs*100)\n",
    "rfscore=cross_val_score(rf,x,y,cv=5)\n",
    "rfc=rfscore.mean()\n",
    "print('cross val score:',rfc*100)"
   ]
  },
  {
   "cell_type": "markdown",
   "id": "c2a0869f",
   "metadata": {},
   "source": [
    "# we are getting model accuracy score as 99.768 and cross_val score as 97.6616.so, the model is performing well"
   ]
  },
  {
   "cell_type": "markdown",
   "id": "6915e05d",
   "metadata": {},
   "source": [
    "# saving the model"
   ]
  },
  {
   "cell_type": "code",
   "execution_count": 74,
   "id": "b8e51be9",
   "metadata": {},
   "outputs": [],
   "source": [
    "import pickle\n",
    "filename='Advertising_saleschannel_prediction.pkl'\n",
    "pickle.dump(rfc,open(filename,'wb'))"
   ]
  },
  {
   "cell_type": "code",
   "execution_count": null,
   "id": "83371a96",
   "metadata": {},
   "outputs": [],
   "source": []
  }
 ],
 "metadata": {
  "kernelspec": {
   "display_name": "Python 3",
   "language": "python",
   "name": "python3"
  },
  "language_info": {
   "codemirror_mode": {
    "name": "ipython",
    "version": 3
   },
   "file_extension": ".py",
   "mimetype": "text/x-python",
   "name": "python",
   "nbconvert_exporter": "python",
   "pygments_lexer": "ipython3",
   "version": "3.8.8"
  }
 },
 "nbformat": 4,
 "nbformat_minor": 5
}
